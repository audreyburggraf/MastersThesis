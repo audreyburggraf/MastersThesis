{
 "cells": [
  {
   "cell_type": "markdown",
   "id": "f10e3696",
   "metadata": {},
   "source": [
    "# Introduction"
   ]
  },
  {
   "cell_type": "code",
   "execution_count": 1,
   "id": "0dbdb1cd",
   "metadata": {},
   "outputs": [
    {
     "name": "stdout",
     "output_type": "stream",
     "text": [
      "/Users/audreyburggraf\n"
     ]
    }
   ],
   "source": [
    "cd"
   ]
  },
  {
   "cell_type": "markdown",
   "id": "7b638a39",
   "metadata": {},
   "source": [
    "In this file I am reading in a FITS image of Perseus and I want to plot it in RA and Dec coordinates"
   ]
  },
  {
   "cell_type": "markdown",
   "id": "781b2ed0",
   "metadata": {},
   "source": [
    "## Notes:\n",
    "- Open the image in a FITS viewer such as sao ds9 or carta (naro?)\n",
    "- Object is 300 pc away"
   ]
  },
  {
   "cell_type": "markdown",
   "id": "13e2fdb9",
   "metadata": {},
   "source": [
    "## Importing necessary packages"
   ]
  },
  {
   "cell_type": "code",
   "execution_count": null,
   "id": "5f9fa6a5",
   "metadata": {},
   "outputs": [],
   "source": [
    "import numpy as np\n",
    "\n",
    "# Set up matplotlib\n",
    "import matplotlib.pyplot as plt\n",
    "%matplotlib inline\n",
    "from matplotlib.patches import Circle\n",
    "from matplotlib.colors import LogNorm\n",
    "from mpl_toolkits.axes_grid1 import make_axes_locatable \n",
    "from matplotlib.ticker import MultipleLocator\n",
    "\n",
    "from astropy.coordinates import SkyCoord\n",
    "from astropy.coordinates import Angle\n",
    "import astropy.units as u\n",
    "from astropy.wcs import WCS\n",
    "from astropy.io import fits\n",
    "from astropy.table import Table\n",
    "\n",
    "import seaborn as sns\n",
    "\n",
    "import random\n",
    "\n",
    "import pandas as pd"
   ]
  },
  {
   "cell_type": "markdown",
   "id": "de9a428d",
   "metadata": {},
   "source": [
    "## Plotting preferences"
   ]
  },
  {
   "cell_type": "code",
   "execution_count": null,
   "id": "2388f50c",
   "metadata": {},
   "outputs": [],
   "source": [
    "# Font sizes\n",
    "title_fs = 25\n",
    "axis_label_fs = 20\n",
    "axis_num_fs = 20\n",
    "legend_title_fs = 20\n",
    "legend_text_fs = 15\n",
    "cbar_fs = 20\n",
    "text_fs = 28"
   ]
  },
  {
   "cell_type": "markdown",
   "id": "dc9651ea",
   "metadata": {},
   "source": [
    "# Read in the file and extract the header "
   ]
  },
  {
   "cell_type": "code",
   "execution_count": null,
   "id": "962634d7",
   "metadata": {},
   "outputs": [],
   "source": [
    "file = 'perseus+WholeMap_herschelONLY+updatedCCs_beta2_mu2_8_columnDensityMap+grid.fits'"
   ]
  },
  {
   "cell_type": "code",
   "execution_count": null,
   "id": "b52a328f",
   "metadata": {},
   "outputs": [],
   "source": [
    "hdu_list = fits.open(file, memmap=True)"
   ]
  },
  {
   "cell_type": "code",
   "execution_count": null,
   "id": "eab05dbc",
   "metadata": {
    "scrolled": false
   },
   "outputs": [],
   "source": [
    "header = hdu_list[0].header"
   ]
  },
  {
   "cell_type": "markdown",
   "id": "eace7c34",
   "metadata": {},
   "source": [
    "| Keyword   | Value                       | Description                                                |\n",
    "|-----------|-----------------------------|------------------------------------------------------------|\n",
    "| SIMPLE    | T                           | Indicates that the image conforms to the FITS standard.   |\n",
    "| BITPIX    | -32                         | Specifies the number of bits per data value; negative indicates a floating-point format. |\n",
    "| NAXIS     | 2                           | Number of axes in the data array (2 for 2D images).       |\n",
    "| NAXIS1    | 1748                        | Size of the first axis (number of pixels in the X direction). |\n",
    "| NAXIS2    | 1383                        | Size of the second axis (number of pixels in the Y direction). |\n",
    "| EXTEND    | T                           | Indicates that the file may contain extensions beyond the primary HDU. |\n",
    "| BSCALE    | 1.00000                    | A scaling factor for the data values (multiplicative).    |\n",
    "| BZERO     | 0.00000                    | An offset added to the data values (additive).             |\n",
    "| BLANK     | -1                          | Value used to indicate a blank or missing pixel in the data. |\n",
    "| BUNIT     | 'cm^-2'                    | Units of the data values; in this case, column density in cm⁻². |\n",
    "| DATE-OBS  | '2000-01-01T12:00:00.0'    | Date and time of the observation in ISO format.           |\n",
    "| TELESCOP  | 'Herschel'                 | Name of the telescope that acquired the data.              |\n",
    "| CRPIX1    | 873.500                    | Reference pixel location for the first axis (X-axis) in the data array. |\n",
    "| CDELT1    | -3.88889000000E-03         | Pixel size in degrees per pixel for the first axis (X-axis). Negative indicates a decreasing coordinate. |\n",
    "| CRVAL1    | 53.6923498931              | Coordinate value at the reference pixel for the first axis (X-axis) in degrees. |\n",
    "| CTYPE1    | 'RA---TAN'                 | Coordinate type for the first axis (Right Ascension in tangent plane). |\n",
    "| CRPIX2    | 691.000                     | Reference pixel location for the second axis (Y-axis) in the data array. |\n",
    "| CDELT2    | 3.88889000000E-03          | Pixel size in degrees per pixel for the second axis (Y-axis). |\n",
    "| CRVAL2    | 31.4028495962              | Coordinate value at the reference pixel for the second axis (Y-axis) in degrees. |\n",
    "| CTYPE2    | 'DEC--TAN'                 | Coordinate type for the second axis (Declination in tangent plane). |\n",
    "| CELLSCAL  | 'CONSTANT'                 | Indicates that the cell scale is constant across the image. |\n",
    "| BMAJ      | 1.00833317265E-02          | Major axis of the beam in degrees.                         |\n",
    "| BMIN      | 1.00833317265E-02          | Minor axis of the beam in degrees.                         |\n",
    "| EPOCH     | 2.00000000000E+03          | Reference epoch for the coordinates (usually in Julian years). |\n"
   ]
  },
  {
   "cell_type": "code",
   "execution_count": null,
   "id": "f83fa8cd",
   "metadata": {},
   "outputs": [],
   "source": [
    "data = hdu_list[0].data"
   ]
  },
  {
   "cell_type": "code",
   "execution_count": null,
   "id": "5592f74b",
   "metadata": {},
   "outputs": [],
   "source": [
    "# column_density_data=hdu_list[0].data\n",
    "# column_density_data.size"
   ]
  },
  {
   "cell_type": "code",
   "execution_count": null,
   "id": "47802d2d",
   "metadata": {},
   "outputs": [],
   "source": [
    "# Get the dimensions of the image\n",
    "image_height, image_width = data.shape"
   ]
  },
  {
   "cell_type": "code",
   "execution_count": null,
   "id": "a8522829",
   "metadata": {},
   "outputs": [],
   "source": [
    "distance_pc = 300 # pc"
   ]
  },
  {
   "cell_type": "markdown",
   "id": "19541786",
   "metadata": {},
   "source": [
    "# Axes (pixels and degrees)"
   ]
  },
  {
   "cell_type": "markdown",
   "id": "b189dcd2",
   "metadata": {},
   "source": [
    "## Pixel Size (in degrees)"
   ]
  },
  {
   "cell_type": "markdown",
   "id": "7c3ab886",
   "metadata": {},
   "source": [
    "### Pixel size in degrees"
   ]
  },
  {
   "cell_type": "markdown",
   "id": "1dc40bab",
   "metadata": {},
   "source": [
    "From the header:\n",
    "\n",
    "| Keyword |            Value            | Description                                                              |\n",
    "|---------|----------------------------|--------------------------------------------------------------------------|\n",
    "| CDELT1  |  -3.88889000000E-03        | Pixel size in degrees per pixel for the first axis (X-axis). Negative indicates a decreasing coordinate. |\n",
    "| CDELT2  |   3.88889000000E-03        | Pixel size in degrees per pixel for the second axis (Y-axis).           |\n"
   ]
  },
  {
   "cell_type": "code",
   "execution_count": null,
   "id": "4c36470c",
   "metadata": {},
   "outputs": [],
   "source": [
    "# Extract pixel size from the header (in degrees per pixel)\n",
    "pixel_size_x_deg = abs(header.get('CDELT1'))  # degrees per pixel (for X-axis)\n",
    "pixel_size_y_deg = abs(header.get('CDELT2'))  # degrees per pixel (for Y-axis)\n",
    "\n",
    "print(f\"Pixel Size X: {pixel_size_x_deg} degrees/pixel\")\n",
    "print(f\"Pixel Size Y: {pixel_size_y_deg} degrees/pixel\")"
   ]
  },
  {
   "cell_type": "markdown",
   "id": "9e06dd67",
   "metadata": {},
   "source": [
    "## Reference point (in pixels and degrees)"
   ]
  },
  {
   "cell_type": "markdown",
   "id": "08bb93cc",
   "metadata": {},
   "source": [
    "### Reference point in pixels"
   ]
  },
  {
   "cell_type": "markdown",
   "id": "4c2f978c",
   "metadata": {},
   "source": [
    "From the header:\n",
    "\n",
    "| Keyword | Value   | Description                                                        |\n",
    "|---------|---------|--------------------------------------------------------------------|\n",
    "| CRPIX1  | 873.500 | Reference pixel location for the first axis (X-axis) in the data array. |\n",
    "| CRPIX2  | 691.000 | Reference pixel location for the second axis (Y-axis) in the data array. |"
   ]
  },
  {
   "cell_type": "code",
   "execution_count": null,
   "id": "37c410c6",
   "metadata": {},
   "outputs": [],
   "source": [
    "# Reference point location in pixels\n",
    "ref_pixel_x_pix = header.get('CRPIX1')  # Reference point for X-axis\n",
    "ref_pixel_y_pix = header.get('CRPIX2')  # Reference point for Y-axis"
   ]
  },
  {
   "cell_type": "markdown",
   "id": "2ade80ff",
   "metadata": {},
   "source": [
    "### Reference point in degrees"
   ]
  },
  {
   "cell_type": "markdown",
   "id": "65c72a94",
   "metadata": {},
   "source": [
    "From the header:\n",
    "\n",
    "| Keyword | Value            | Description                                                        |\n",
    "|---------|------------------|--------------------------------------------------------------------|\n",
    "| CRVAL1  | 53.6923498931    | Coordinate value at the reference pixel for the first axis (X-axis) in degrees. |\n",
    "| CRVAL2  | 31.4028495962    | Coordinate value at the reference pixel for the second axis (Y-axis)\n"
   ]
  },
  {
   "cell_type": "code",
   "execution_count": null,
   "id": "56ae66c8",
   "metadata": {},
   "outputs": [],
   "source": [
    "# Reference point location in degrees\n",
    "ref_pixel_x_deg = header.get('CRVAL1')  # Reference point for X-axis in degrees\n",
    "ref_pixel_y_deg = header.get('CRVAL2')  # Reference point for Y-axis in degrees"
   ]
  },
  {
   "cell_type": "markdown",
   "id": "3e67c2f0",
   "metadata": {},
   "source": [
    "## Number of pixels along the axes"
   ]
  },
  {
   "cell_type": "markdown",
   "id": "a7b3383a",
   "metadata": {},
   "source": [
    "From the header:\n",
    "\n",
    "| Keyword | Value | Description                                                   |\n",
    "|---------|-------|---------------------------------------------------------------|\n",
    "| NAXIS1  | 1748  | Size of the first axis (number of pixels in the X direction). |\n",
    "| NAXIS2  | 1383  | Size of the second axis (number of pixels in the Y direction). |\n"
   ]
  },
  {
   "cell_type": "code",
   "execution_count": null,
   "id": "f0934344",
   "metadata": {},
   "outputs": [],
   "source": [
    "naxis1 = header.get('NAXIS1')  # Number of pixels along X-axis\n",
    "naxis2 = header.get('NAXIS2')  # Number of pixels along Y-axis\n",
    "\n",
    "print(f\"NAXIS1 (Number of pixels along X-axis): {naxis1}\")\n",
    "print(f\"NAXIS2 (Number of pixels along Y-axis): {naxis2}\")"
   ]
  },
  {
   "cell_type": "markdown",
   "id": "03e01542",
   "metadata": {},
   "source": [
    "## Convert Pixels to Degrees:"
   ]
  },
  {
   "cell_type": "markdown",
   "id": "97c144c4",
   "metadata": {},
   "source": [
    "\n",
    "\n",
    "\n",
    "\n",
    "$$ \n",
    "x_{\\text{deg}} = \\text{CRVAL1} + (x_{\\text{pixel}} - \\text{CRPIX1}) \\times \\text{Pixel Size in X} \n",
    "$$\n",
    "$$ \n",
    "y_{\\text{deg}} = \\text{CRVAL2} + (y_{\\text{pixel}} - \\text{CRPIX2}) \\times \\text{Pixel Size in Y} \n",
    "$$\n"
   ]
  },
  {
   "cell_type": "markdown",
   "id": "7a64fa21",
   "metadata": {},
   "source": [
    "THIIS EXPLANATION WAS WRITTEN BY CHAT GPT:\n",
    "\n",
    "\n",
    "\n",
    "To convert pixel coordinates to sky coordinates in degrees, we use the following steps based on the World Coordinate System (WCS) parameters.\n",
    "\n",
    "1. **Offset Calculation**:\n",
    "   - For any pixel `(x_pixel, y_pixel)`, calculate the difference from the reference pixel `(CRPIX1, CRPIX2)`:\n",
    "     $$\n",
    "     x_{\\text{offset}} = x_{\\text{pixel}} - \\text{CRPIX1}\n",
    "     $$\n",
    "     $$\n",
    "     y_{\\text{offset}} = y_{\\text{pixel}} - \\text{CRPIX2}\n",
    "     $$\n",
    "   - This gives the offset in pixels from the reference point.\n",
    "\n",
    "2. **Scaling by Pixel Size**:\n",
    "   - Multiply these offsets by the angular size of each pixel (in degrees) to convert from pixel units to sky coordinates.\n",
    "   - Pixel sizes are typically given by the `CDELT1` and `CDELT2` keywords in the FITS header:\n",
    "     $$\n",
    "     x_{\\text{deg}} = x_{\\text{offset}} \\times \\text{Pixel Size in X (CDELT1)}\n",
    "     $$\n",
    "     $$\n",
    "     y_{\\text{deg}} = y_{\\text{offset}} \\times \\text{Pixel Size in Y (CDELT2)}\n",
    "     $$\n",
    "\n",
    "3. **Adding the Reference Coordinates**:\n",
    "   - Finally, add the reference sky coordinates (`CRVAL1` and `CRVAL2`) to the scaled offsets. This step gives the absolute sky coordinates in degrees:\n",
    "     $$\n",
    "     x_{\\text{sky}} = \\text{CRVAL1} + x_{\\text{deg}}\n",
    "     $$\n",
    "     $$\n",
    "     y_{\\text{sky}} = \\text{CRVAL2} + y_{\\text{deg}}\n",
    "     $$\n",
    "\n",
    "Using this process, you can calculate the Right Ascension and Declination (or other sky coordinates) for any pixel location in the image, based on the WCS parameters.\n"
   ]
  },
  {
   "cell_type": "code",
   "execution_count": null,
   "id": "74c3fb10",
   "metadata": {},
   "outputs": [],
   "source": [
    "# # Create coordinate arrays\n",
    "# x_pix = np.arange(1, naxis1 + 1)  # Pixel indices for X-axis (1 to NAXIS1)\n",
    "# y_pix = np.arange(1, naxis2 + 1)  # Pixel indices for Y-axis (1 to NAXIS2)\n",
    "\n",
    "# # Convert pixel coordinates to degrees using the reference pixel values\n",
    "# x_deg = ref_pixel_x_deg + (x_pix - ref_pixel_x_pix) * pixel_size_x_deg\n",
    "# y_deg = ref_pixel_y_deg + (y_pix - ref_pixel_y_pix) * pixel_size_y_deg\n",
    "\n",
    "# # Create a meshgrid if you need 2D coordinates\n",
    "# X_deg, Y_deg = np.meshgrid(x_deg, y_deg)"
   ]
  },
  {
   "cell_type": "markdown",
   "id": "ec75cb7d",
   "metadata": {},
   "source": [
    "## Minimum and maxiumum values of the plot"
   ]
  },
  {
   "cell_type": "markdown",
   "id": "148b3759",
   "metadata": {},
   "source": [
    "### Minimum and maxiumum values of the plot in pixels"
   ]
  },
  {
   "cell_type": "markdown",
   "id": "f1be88ff",
   "metadata": {},
   "source": [
    "Remember:\n",
    "\n",
    "| Keyword | Value | Description                                                   |\n",
    "|---------|-------|---------------------------------------------------------------|\n",
    "| NAXIS1  | 1748  | Size of the first axis (number of pixels in the X direction). |\n",
    "| NAXIS2  | 1383  | Size of the second axis (number of pixels in the Y direction). |"
   ]
  },
  {
   "cell_type": "code",
   "execution_count": null,
   "id": "8dbe4d9b",
   "metadata": {},
   "outputs": [],
   "source": [
    "xmin_pix = 0\n",
    "xmax_pix = naxis1\n",
    "\n",
    "ymin_pix = 0 \n",
    "ymax_pix = naxis2\n",
    "\n",
    "# Print the values\n",
    "print(f\"Minimum X coordinate in pixels: {xmin_pix} pixels\")\n",
    "print(f\"Maximum X coordinate in pixels: {xmax_pix} pixels\")\n",
    "print(f\"Minimum Y coordinate in pixels: {ymin_pix} pixels\")\n",
    "print(f\"Maximum Y coordinate in pixels: {ymax_pix} pixels\")\n",
    "\n",
    "print(' ')\n",
    "\n",
    "# Calculate the extent based on the minimum and maximum coordinates in pixels\n",
    "extent_pix = [xmax_pix, xmin_pix, ymax_pix, ymin_pix]\n",
    "\n",
    "# Print the extent\n",
    "print(f\"Extent in pixels: {extent_pix}\")"
   ]
  },
  {
   "cell_type": "markdown",
   "id": "82296cf1",
   "metadata": {},
   "source": [
    "### Minimum and maximum values of the plot in degrees"
   ]
  },
  {
   "cell_type": "code",
   "execution_count": null,
   "id": "a30a1292",
   "metadata": {},
   "outputs": [],
   "source": [
    "# # Calculate the minimum and maximum values for the x and y coordinates in degrees\n",
    "# xmin_deg = X_deg.min()\n",
    "# xmax_deg = X_deg.max()\n",
    "\n",
    "# ymin_deg = Y_deg.min()\n",
    "# ymax_deg = Y_deg.max()"
   ]
  },
  {
   "cell_type": "code",
   "execution_count": null,
   "id": "865c7f3b",
   "metadata": {},
   "outputs": [],
   "source": [
    "xmin_deg = ref_pixel_x_deg + (xmin_pix - ref_pixel_x_pix) * pixel_size_x_deg\n",
    "xmax_deg = ref_pixel_x_deg + (xmax_pix - ref_pixel_x_pix) * pixel_size_x_deg\n",
    "\n",
    "ymin_deg = ref_pixel_y_deg + (ymin_pix - ref_pixel_y_pix) * pixel_size_y_deg\n",
    "ymax_deg = ref_pixel_y_deg + (ymax_pix - ref_pixel_y_pix) * pixel_size_y_deg"
   ]
  },
  {
   "cell_type": "code",
   "execution_count": null,
   "id": "e801a2f8",
   "metadata": {},
   "outputs": [],
   "source": [
    "# Print the values\n",
    "print(f\"Minimum X coordinate in degrees: {xmin_deg} degrees\")\n",
    "print(f\"Maximum X coordinate in degrees: {xmax_deg} degrees\")\n",
    "print(f\"Minimum Y coordinate in degrees: {ymin_deg} degrees\")\n",
    "print(f\"Maximum Y coordinate in degrees: {ymax_deg} degrees\")\n",
    "\n",
    "print(' ')\n",
    "\n",
    "# Calculate the extent based on the minimum and maximum coordinates in degrees\n",
    "extent_deg = [xmax_deg, xmin_deg, ymax_deg, ymin_deg]\n",
    "\n",
    "# Print the extent\n",
    "print(f\"Extent in degrees: {extent_deg}\")"
   ]
  },
  {
   "cell_type": "markdown",
   "id": "a58c10c1",
   "metadata": {},
   "source": [
    "# Beam size "
   ]
  },
  {
   "cell_type": "markdown",
   "id": "d81d85df",
   "metadata": {},
   "source": [
    "From the header:\n",
    "\n",
    "\n",
    "| Keyword | Value           | Description                               |\n",
    "|---------|------------------|-------------------------------------------|\n",
    "| BMAJ    | 1.00833317265E-02 | Major axis of the beam in degrees.        |\n",
    "| BMIN    | 1.00833317265E-02 | Minor axis of the beam in degrees.        |\n",
    "\n",
    "- The minor and major are the same size so it is a circle"
   ]
  },
  {
   "cell_type": "markdown",
   "id": "9491152b",
   "metadata": {},
   "source": [
    "## Beam size in degrees"
   ]
  },
  {
   "cell_type": "code",
   "execution_count": null,
   "id": "de0ef3c7",
   "metadata": {},
   "outputs": [],
   "source": [
    "# Extract the beam major and minor axes in degrees from the header\n",
    "beam_major_deg = header.get('BMAJ')  # in degrees\n",
    "beam_minor_deg = header.get('BMIN')  # in degrees\n",
    "beam_radius_deg = beam_minor_deg/2 \n",
    "\n",
    "print(f\"Beam Major Axis (BMAJ): {beam_major_deg} degrees\")\n",
    "print(f\"Beam Minor Axis (BMIN): {beam_minor_deg} degrees\")\n",
    "print(f\"Beam Radius           : {beam_radius_deg} degrees\")"
   ]
  },
  {
   "cell_type": "markdown",
   "id": "ffad2425",
   "metadata": {},
   "source": [
    "## Beam size in pixels"
   ]
  },
  {
   "cell_type": "code",
   "execution_count": null,
   "id": "31f0d102",
   "metadata": {},
   "outputs": [],
   "source": [
    "# Convert beam size from degrees to pixels\n",
    "beam_major_pix = beam_major_deg / pixel_size_x_deg  # beam major axis in pixels\n",
    "beam_minor_pix = beam_minor_deg / pixel_size_y_deg  # beam minor axis in pixels\n",
    "beam_radius_pix = beam_major_pix             # beam radius in pixels (choose major or minor)\n",
    "\n",
    "print(f\"Beam Major Axis (BMAJ) in Pixels: {beam_major_pix} pixels\")\n",
    "print(f\"Beam Minor Axis (BMIN) in Pixels: {beam_minor_pix} pixels\")\n",
    "print(f\"Beam Radius            in Pixels: {beam_radius_pix} pixels\")"
   ]
  },
  {
   "cell_type": "code",
   "execution_count": null,
   "id": "768ab7fc",
   "metadata": {},
   "outputs": [],
   "source": [
    "# # Extract the beam major and minor axes\n",
    "# beam_major_deg = header.get('BMAJ')  # in degrees\n",
    "# beam_minor_deg = header.get('BMIN')  # in degrees\n",
    "\n",
    "# print(f\"Beam Major Axis (BMAJ): {beam_major_deg} degrees\")\n",
    "# print(f\"Beam Minor Axis (BMIN): {beam_minor_deg} degrees\")\n",
    "\n",
    "# # Extract the beam major and minor axes\n",
    "# beam_major = header.get('BMAJ') * u.deg  # in degrees\n",
    "# beam_minor = header.get('BMIN') * u.deg  # in degrees\n",
    "\n",
    "# # Convert to arcseconds\n",
    "# beam_major_arcsec = beam_major.to(u.arcsec)  # Convert to arcseconds\n",
    "# beam_minor_arcsec = beam_minor.to(u.arcsec)  # Convert to arcseconds\n",
    "\n",
    "# print(f\"Beam Major Axis: {beam_major_arcsec:.2f}\")\n",
    "# print(f\"Beam Minor Axis: {beam_minor_arcsec:.2f}\")"
   ]
  },
  {
   "cell_type": "markdown",
   "id": "c04d71c3",
   "metadata": {},
   "source": [
    "# Reference Length"
   ]
  },
  {
   "cell_type": "markdown",
   "id": "322f0e89",
   "metadata": {},
   "source": [
    "- Perseus is 20,626,500 AU wide or 100 pc \n",
    "- For now I'll start with 1000 AU\n",
    "- In the lecture notes they use 4 pc as their length"
   ]
  },
  {
   "cell_type": "code",
   "execution_count": null,
   "id": "169269b6",
   "metadata": {},
   "outputs": [],
   "source": [
    "# length_AU = 1000\n",
    "# length_pc = length_AU * u.au.to(u.pc)        # Convert AU to parsecs (this returns a float)\n",
    "\n",
    "# # length_pc = 4\n",
    "# # length_AU = length_pc * u.pc.to(u.au)  \n",
    "\n",
    "# # Calculations\n",
    "# length_deg = length_pc/distance_pc * (180 / np.pi)         # Convert parsecs to degrees using the conversion factor\n",
    "# length_pix = length_deg / pixel_size_x_deg     # Convert degrees to pixels\n",
    "\n",
    "\n",
    "# # Output\n",
    "# print('The length in AU is      :', length_AU)\n",
    "# print('The length in pc is      :', length_pc)\n",
    "# print('The length in degrees is :', length_deg)\n",
    "# print('The length in pixels is  :', length_pix)"
   ]
  },
  {
   "cell_type": "code",
   "execution_count": null,
   "id": "2d81057b",
   "metadata": {},
   "outputs": [],
   "source": [
    "length_pc = 4       # Convert AU to parsecs (this returns a float)\n",
    " \n",
    "\n",
    "# Calculations\n",
    "length_deg = length_pc/distance_pc * (180 / np.pi)         # Convert parsecs to degrees using the conversion factor\n",
    "length_pix = length_deg / pixel_size_x_deg     # Convert degrees to pixels\n",
    "\n",
    "# Output\n",
    "# print('The length in AU is      :', length_AU)\n",
    "print('The length in pc is      :', length_pc)\n",
    "print('The length in degrees is :', length_deg)\n",
    "print('The length in pixels is  :', length_pix)"
   ]
  },
  {
   "cell_type": "markdown",
   "id": "11c5e378",
   "metadata": {},
   "source": [
    "# Vectors"
   ]
  },
  {
   "cell_type": "code",
   "execution_count": null,
   "id": "1753e13d",
   "metadata": {},
   "outputs": [],
   "source": [
    "# Vector Angles\n",
    "vector_angles_deg = [0, 45, 90, 135]\n",
    "\n",
    "converted_angles_deg = [90 + angle for angle in vector_angles_deg]\n",
    "\n",
    "converted_angles_rad = np.radians(converted_angles_deg)\n",
    "     \n",
    "# Create a DataFrame\n",
    "df = pd.DataFrame({\n",
    "    'Angle (deg)': vector_angles_deg,\n",
    "    'Converted Angle (deg)': converted_angles_deg,\n",
    "    'Converted Angle (radians)': converted_angles_rad\n",
    "})\n",
    "\n",
    "# Display the DataFrame\n",
    "df\n"
   ]
  },
  {
   "cell_type": "code",
   "execution_count": null,
   "id": "707015f0",
   "metadata": {},
   "outputs": [],
   "source": [
    "vector_length_pix = [100, 50, 200, 150]\n",
    "\n",
    "vector_length_deg = 100 * pixel_size_x_deg"
   ]
  },
  {
   "cell_type": "code",
   "execution_count": null,
   "id": "d815e326",
   "metadata": {},
   "outputs": [],
   "source": [
    "vector_x_loc_pix = [1350, 375, 960, 400]   # Pixel locations in x\n",
    "vector_y_loc_pix = [600, 800, 600, 1200]   # Pixel locations in y"
   ]
  },
  {
   "cell_type": "code",
   "execution_count": null,
   "id": "c17d9db2",
   "metadata": {},
   "outputs": [],
   "source": [
    "# Vector colors\n",
    "vector_colours_red = sns.color_palette(\"Greens\", 4)"
   ]
  },
  {
   "cell_type": "markdown",
   "id": "ed90067b",
   "metadata": {},
   "source": [
    "# Colour Bar and Contours"
   ]
  },
  {
   "cell_type": "code",
   "execution_count": null,
   "id": "58e71c70",
   "metadata": {},
   "outputs": [],
   "source": [
    "vmin=0.5e21\n",
    "vmax=2.0e23"
   ]
  },
  {
   "cell_type": "code",
   "execution_count": null,
   "id": "8bf7fda5",
   "metadata": {},
   "outputs": [],
   "source": [
    "num_contour = 5\n",
    "contour_levels = np.logspace(np.log10(vmin*3), np.log10(vmax), num_contour)"
   ]
  },
  {
   "cell_type": "code",
   "execution_count": null,
   "id": "34037903",
   "metadata": {},
   "outputs": [],
   "source": [
    "contour_colours_grey = sns.color_palette('PiYG_r', num_contour)\n",
    "contour_colours_green = sns.color_palette('PiYG_r', num_contour)"
   ]
  },
  {
   "cell_type": "markdown",
   "id": "ce02ad58",
   "metadata": {},
   "source": [
    "# Plots"
   ]
  },
  {
   "cell_type": "markdown",
   "id": "43a4f090",
   "metadata": {},
   "source": [
    "## Plot in pixels"
   ]
  },
  {
   "cell_type": "code",
   "execution_count": null,
   "id": "42c3c518",
   "metadata": {},
   "outputs": [],
   "source": [
    "extent_pix"
   ]
  },
  {
   "cell_type": "code",
   "execution_count": null,
   "id": "d6e1595e",
   "metadata": {},
   "outputs": [],
   "source": [
    "sns.color_palette(\"Greys_r\", as_cmap=True)"
   ]
  },
  {
   "cell_type": "code",
   "execution_count": null,
   "id": "956ade6b",
   "metadata": {},
   "outputs": [],
   "source": [
    "vector_colours_grey= sns.color_palette(\"spring\", 4)\n",
    "vector_colours_grey"
   ]
  },
  {
   "cell_type": "code",
   "execution_count": null,
   "id": "3f2a0796",
   "metadata": {},
   "outputs": [],
   "source": [
    "# contour_colours_blue = sns.color_palette('wista', num_contour)\n",
    "contour_colours_grey = sns.color_palette(\"cool\", 5)\n",
    "contour_colours_grey"
   ]
  },
  {
   "cell_type": "code",
   "execution_count": null,
   "id": "691d1d5d",
   "metadata": {},
   "outputs": [],
   "source": [
    "data.shape"
   ]
  },
  {
   "cell_type": "code",
   "execution_count": null,
   "id": "53e89e75",
   "metadata": {
    "code_folding": [],
    "scrolled": false
   },
   "outputs": [],
   "source": [
    "# Create figure and axis\n",
    "# ------------------------------------------------------------------------------------\n",
    "fig, ax = plt.subplots(figsize=(14, 12))\n",
    "# ------------------------------------------------------------------------------------\n",
    "\n",
    "\n",
    "\n",
    "\n",
    "# Add data\n",
    "# ------------------------------------------------------------------------------------\n",
    "im = ax.imshow(data, \n",
    "               cmap='Greys_r', \n",
    "               vmin=vmin, vmax=vmax, \n",
    "               norm=LogNorm())\n",
    "# ------------------------------------------------------------------------------------\n",
    "\n",
    "\n",
    "\n",
    "\n",
    "# Colorbar\n",
    "# ------------------------------------------------------------------------------------\n",
    "cbar = plt.colorbar(im, ax = ax)\n",
    "\n",
    "cbar.set_label(r'Column Density (cm$^{-2}$)', fontsize=cbar_fs)\n",
    "\n",
    "# Adjust axis labels and ticks for the colorbar\n",
    "cbar.ax.tick_params(labelsize=axis_num_fs, which='major', length=7, direction=\"in\")\n",
    "cbar.ax.tick_params(which='minor', length=4, direction=\"in\")\n",
    "# ------------------------------------------------------------------------------------\n",
    "\n",
    "\n",
    "\n",
    "\n",
    "# Add title, axis and color bar labels \n",
    "# ------------------------------------------------------------------------------------\n",
    "ax.set_title('Column Density Map of Persues', fontsize=title_fs, fontweight='bold')\n",
    "ax.set_xlabel('RA (pixels)', fontsize=axis_label_fs)\n",
    "ax.set_ylabel('Dec (pixels)', fontsize=axis_label_fs)\n",
    "# ------------------------------------------------------------------------------------\n",
    "\n",
    "\n",
    "\n",
    "\n",
    "# Adjust ticks and numbers for plot and color bar\n",
    "# ----------------------------------------------------------------------------------------\n",
    "# Set major ticks inward with customized length and label size\n",
    "ax.tick_params(axis=\"both\", which=\"major\", length=7, labelsize=axis_num_fs)\n",
    "\n",
    "# Set minor ticks inward with only the allowed length property\n",
    "ax.tick_params(axis=\"both\", which=\"minor\", length=4)\n",
    "\n",
    "# Set both major and minor ticks to point inward\n",
    "ax.tick_params(axis=\"both\", direction=\"in\")\n",
    "# ------------------------------------------------------------------------------------\n",
    "\n",
    "\n",
    "\n",
    "\n",
    "# Create and add the circular beam to the plot\n",
    "# ----------------------------------------------------------------------------------------\n",
    "beam_circle = Circle(\n",
    "    (50, 50),                      # Position in axes coordinates (near bottom-right)\n",
    "    radius=beam_radius_pix,       # Radius in data units; adjust if too large/small\n",
    "    edgecolor='black',                 # Edge color\n",
    "    facecolor='blue',                  # Fill color\n",
    "    alpha=1,                           # Transparency\n",
    ")\n",
    "\n",
    "# Add the beam to the plot\n",
    "ax.add_patch(beam_circle)\n",
    "\n",
    "# Add text for the beam size \n",
    "ax.text(0.05, 0.06, \n",
    "        r'$\\longleftarrow$ Beam Size', \n",
    "        fontsize=text_fs, \n",
    "        ha='left', va='top', \n",
    "        transform=ax.transAxes)\n",
    "# ------------------------------------------------------------------------------------\n",
    "\n",
    "\n",
    "\n",
    "\n",
    "\n",
    "# Add line and text for 4 pc \n",
    "# ------------------------------------------------------------------------------------------\n",
    "# Plot the line in axes coordinates\n",
    "ax.plot([620, 620 + length_pix], \n",
    "        [350, 350],\n",
    "        color='black', \n",
    "        linewidth=3)\n",
    "\n",
    "# Add the text label centered below the line\n",
    "x_start = 0.03\n",
    "y_pos = 0.24\n",
    "ax.text(x_start + length_deg / 2, y_pos,  # Midpoint of the line\n",
    "        f'{length_pc} pc', \n",
    "        fontsize=text_fs, \n",
    "        ha='center', \n",
    "        va='top', \n",
    "        transform=ax.transAxes)\n",
    "# ------------------------------------------------------------------------------------\n",
    "\n",
    "\n",
    "\n",
    "# Contours \n",
    "# ------------------------------------------------------------------------------------------\n",
    "# Overlay the contours on the existing image\n",
    "contours = ax.contour(data, \n",
    "                      levels=contour_levels,  # Use all levels at once\n",
    "                      colors=contour_colours_grey,  # Apply the color palette to all levels\n",
    "                      alpha = 0.5,\n",
    "                      linewidths=3)  # Line thickness\n",
    "\n",
    "# Prepare contour labels for the legend\n",
    "contour_labels = [f'{level:.1e}' for level in contour_levels]\n",
    "\n",
    "# Display the legend with the contour levels and corresponding colors\n",
    "contour_legend = plt.legend(contours.collections, \n",
    "                          contour_labels, \n",
    "                          title='Contour Line Values', \n",
    "                          title_fontsize=legend_title_fs, \n",
    "                          fontsize=legend_text_fs, \n",
    "                          loc='best', \n",
    "                          ncol=3,\n",
    "                          bbox_to_anchor=(0.55, -0.1)) \n",
    "# ------------------------------------------------------------------------------------------\n",
    "\n",
    "\n",
    "\n",
    "# Add Vectors\n",
    "# ------------------------------------------------------------------------------------------\n",
    "for i in range(len(converted_angles_rad)):\n",
    "    \n",
    "    # Calculate the displacement (dx, dy) based on the angle and length\n",
    "    dx = vector_length_pix[i] * np.cos(converted_angles_rad[i])\n",
    "    dy = vector_length_pix[i] * np.sin(converted_angles_rad[i])\n",
    "    \n",
    "    # Plot the line representing the vector (from the x, y location to the new location)\n",
    "    ax.plot([vector_x_loc_pix[i], vector_x_loc_pix[i] + dx], \n",
    "            [vector_y_loc_pix[i], vector_y_loc_pix[i] + dy], \n",
    "            color='black', lw=10)\n",
    "\n",
    "    # Plot the colored vector line on top\n",
    "    line = ax.plot([vector_x_loc_pix[i], vector_x_loc_pix[i] + dx], \n",
    "                   [vector_y_loc_pix[i], vector_y_loc_pix[i] + dy], \n",
    "                   color=vector_colours_grey[i], \n",
    "                   lw=5, \n",
    "                   label=f'{vector_angles_deg[i]}$^\\circ$')  # Colored vector line with label\n",
    "\n",
    "\n",
    "# Display the legend with the vector labels\n",
    "ax.legend(title='Vector Angles', \n",
    "          title_fontsize=legend_title_fs,  # Corrected title font size\n",
    "          fontsize=legend_text_fs,  # Font size for the labels\n",
    "          loc='best',  # Automatically choose the best location\n",
    "          ncol=2,  # Number of columns in the legend\n",
    "          bbox_to_anchor=(0.95, -0.1))\n",
    "\n",
    "# Add the contour legend back on\n",
    "ax.add_artist(contour_legend)\n",
    "#-----------------------------------------------------------------------------\n",
    "\n",
    "\n",
    "\n",
    "\n",
    "# Flip the axes\n",
    "# ------------------------------------------------------------------------------------------\n",
    "# ax.invert_xaxis()\n",
    "ax.invert_yaxis()\n",
    "# ------------------------------------------------------------------------------------------\n",
    "\n",
    "\n",
    "\n",
    "\n",
    "# Set x and y limits using ax.set_xlim() and ax.set_ylim()\n",
    "# ------------------------------------------------------------------------------------------\n",
    "ax.set_xlim(0, 1650)\n",
    "# ax.set_ylim(0, 400)\n",
    "# ------------------------------------------------------------------------------------------\n",
    "\n",
    "\n",
    "\n",
    "# Tight layout and show the plot\n",
    "# ------------------------------------------------------------------------------------------\n",
    "plt.tight_layout()\n",
    "plt.show()\n",
    "# ------------------------------------------------------------------------------------------"
   ]
  },
  {
   "cell_type": "markdown",
   "id": "2979d136",
   "metadata": {},
   "source": [
    "## Plot in degrees"
   ]
  },
  {
   "cell_type": "code",
   "execution_count": null,
   "id": "36e4739a",
   "metadata": {
    "code_folding": []
   },
   "outputs": [],
   "source": [
    "# Create figure and axis\n",
    "# ------------------------------------------------------------------------------------\n",
    "fig, ax = plt.subplots(figsize=(14, 12))\n",
    "# ------------------------------------------------------------------------------------\n",
    "\n",
    "\n",
    "\n",
    "\n",
    "# Plot data\n",
    "# ------------------------------------------------------------------------------------\n",
    "im = ax.imshow(data, \n",
    "               cmap='hot', \n",
    "               vmin=vmin, vmax=vmax, \n",
    "               norm=LogNorm(),\n",
    "               extent = extent_deg)\n",
    "# ------------------------------------------------------------------------------------\n",
    "\n",
    "\n",
    "# Colorbar\n",
    "# ------------------------------------------------------------------------------------\n",
    "cbar = plt.colorbar(im, ax = ax)\n",
    "\n",
    "cbar.set_label(r'Column Density (cm$^{-2}$)', fontsize=cbar_fs)\n",
    "\n",
    "# Adjust axis labels and ticks for the colorbar\n",
    "cbar.ax.tick_params(labelsize=axis_num_fs, which='major', length=7, direction=\"in\")\n",
    "cbar.ax.tick_params(which='minor', length=4, direction=\"in\")\n",
    "# ------------------------------------------------------------------------------------\n",
    "\n",
    "\n",
    "\n",
    "\n",
    "# Add title, axis and color bar labels \n",
    "# ------------------------------------------------------------------------------------\n",
    "ax.set_title('Column Density Map of Persues', fontsize=title_fs, fontweight='bold')\n",
    "ax.set_xlabel('RA (J2000)', fontsize=axis_label_fs)\n",
    "ax.set_ylabel('Dec (J2000)', fontsize=axis_label_fs)\n",
    "# ------------------------------------------------------------------------------------\n",
    "\n",
    "\n",
    "\n",
    "\n",
    "# Adjust ticks and numbers for plot and color bar\n",
    "# ----------------------------------------------------------------------------------------\n",
    "# Set major ticks inward with customized length and label size\n",
    "ax.tick_params(axis=\"both\", which=\"major\", length=7, labelsize=axis_num_fs)\n",
    "\n",
    "# Set minor ticks inward with only the allowed length property\n",
    "ax.tick_params(axis=\"both\", which=\"minor\", length=4)\n",
    "\n",
    "# Set both major and minor ticks to point inward\n",
    "ax.tick_params(axis=\"both\", direction=\"in\")\n",
    "# ------------------------------------------------------------------------------------\n",
    "\n",
    "\n",
    "\n",
    "\n",
    "\n",
    "# Create and add the circular beam to the plot\n",
    "# ----------------------------------------------------------------------------------------\n",
    "beam_circle = Circle(\n",
    "    (56.5, 29), # Position in degrees\n",
    "    radius= beam_radius_deg,  # Radius\n",
    "    edgecolor='black',  # Edge color\n",
    "    facecolor='blue',   # Fill color\n",
    "    alpha=1,            # Transparency\n",
    ")\n",
    "\n",
    "# Add the beam to the plot\n",
    "ax.add_patch(beam_circle)\n",
    "\n",
    "# Add text for the beam size \n",
    "ax.text(56.4, 29.1, \n",
    "        r'$\\longleftarrow$ Beam Size', \n",
    "        fontsize=text_fs, \n",
    "        ha='left', va='top')\n",
    "# ------------------------------------------------------------------------------------\n",
    "\n",
    "\n",
    "\n",
    "\n",
    "\n",
    "\n",
    "\n",
    "# Add line and text for X AU\n",
    "# ------------------------------------------------------------------------------------------\n",
    "x_start_deg = 54\n",
    "y_pos_deg = 30\n",
    "\n",
    "ax.plot([x_start_deg, x_start_deg + length_deg], \n",
    "        [y_pos_deg, y_pos_deg], \n",
    "        color='black', \n",
    "        linewidth=3)\n",
    "\n",
    "ax.text(x_start_deg + length_deg / 2, y_pos_deg - 0.1 , \n",
    "        f'{length_pc} pc', \n",
    "        fontsize=text_fs, \n",
    "        ha='center', \n",
    "        va='top')\n",
    "# ------------------------------------------------------------------------------------\n",
    "\n",
    "\n",
    "\n",
    "\n",
    "\n",
    "# Add degree symbol to the axis ticks\n",
    "# ------------------------------------------------------------------------------------------\n",
    "# Update X-axis tick labels to include degree symbol\n",
    "x_ticks = ax.get_xticks()  # Get the current x ticks\n",
    "ax.set_xticklabels([f'{int(tick)}°' for tick in x_ticks])  # Set new tick labels with degree symbol\n",
    "\n",
    "# Update Y-axis tick labels to include degree symbol\n",
    "y_ticks = ax.get_yticks()  # Get the current y ticks\n",
    "ax.set_yticklabels([f'{int(tick)}°' for tick in y_ticks])  # Set new tick labels with degree symbol\n",
    "# ------------------------------------------------------------------------------------------\n",
    "\n",
    "\n",
    "\n",
    "\n",
    "# Flip the axes\n",
    "# ------------------------------------------------------------------------------------------\n",
    "# ax.invert_xaxis()\n",
    "ax.invert_yaxis()\n",
    "# ------------------------------------------------------------------------------------------\n",
    "\n",
    "\n",
    "\n",
    "\n",
    "\n",
    "# Tight layout and show the plot\n",
    "# ------------------------------------------------------------------------------------------\n",
    "plt.tight_layout()\n",
    "plt.show()\n",
    "# ------------------------------------------------------------------------------------------"
   ]
  },
  {
   "cell_type": "markdown",
   "id": "9ba46304",
   "metadata": {},
   "source": [
    "## Plot in RA/Dec"
   ]
  },
  {
   "cell_type": "code",
   "execution_count": null,
   "id": "337a3b3d",
   "metadata": {},
   "outputs": [],
   "source": [
    "wcs = WCS(header)"
   ]
  },
  {
   "cell_type": "code",
   "execution_count": null,
   "id": "7b5e1cfb",
   "metadata": {},
   "outputs": [],
   "source": [
    "sns.color_palette(\"Blues_r\", as_cmap=True)"
   ]
  },
  {
   "cell_type": "code",
   "execution_count": null,
   "id": "fdce7786",
   "metadata": {},
   "outputs": [],
   "source": [
    "vector_colours_blue = sns.color_palette('bright', 5)\n",
    "vector_colours_blue"
   ]
  },
  {
   "cell_type": "code",
   "execution_count": null,
   "id": "326b7198",
   "metadata": {},
   "outputs": [],
   "source": [
    "contour_colours_blue = sns.color_palette('autumn_r', num_contour)\n",
    "contour_colours_blue "
   ]
  },
  {
   "cell_type": "code",
   "execution_count": null,
   "id": "3ee12089",
   "metadata": {
    "code_folding": [],
    "scrolled": false
   },
   "outputs": [],
   "source": [
    "# Define plot size\n",
    "# ------------------------------------------------------------------------------------\n",
    "fig, ax = plt.subplots(figsize=(14, 12),subplot_kw={'projection': wcs})\n",
    "# ------------------------------------------------------------------------------------\n",
    "\n",
    "\n",
    "\n",
    "\n",
    "# Plot data\n",
    "# ------------------------------------------------------------------------------------\n",
    "im = ax.imshow(data, \n",
    "               cmap= 'Blues_r', \n",
    "               vmin=vmin, vmax=vmax, \n",
    "               norm=LogNorm())\n",
    "# ------------------------------------------------------------------------------------\n",
    "\n",
    "\n",
    "\n",
    "\n",
    "# Colorbar\n",
    "# ------------------------------------------------------------------------------------\n",
    "cbar = plt.colorbar(im,\n",
    "                    ax = ax,\n",
    "                   fraction=0.047*image_width/ image_height)\n",
    "\n",
    "cbar.set_label(r'Column Density (cm$^{-2}$)', fontsize=cbar_fs)\n",
    "\n",
    "# Adjust axis labels and ticks for the colorbar\n",
    "cbar.ax.tick_params(labelsize=axis_num_fs, which='major', length=7, direction=\"in\")\n",
    "cbar.ax.tick_params(which='minor', length=4, direction=\"in\")\n",
    "# ------------------------------------------------------------------------------------\n",
    "\n",
    "\n",
    "\n",
    "\n",
    "# Add title, axis and color bar labels \n",
    "# ------------------------------------------------------------------------------------\n",
    "ax.set_title('Column Density Map of Persues', fontsize=title_fs, fontweight='bold')\n",
    "ax.set_xlabel('RA (J2000)', fontsize=axis_label_fs)\n",
    "ax.set_ylabel('Dec (J2000)', fontsize=axis_label_fs)\n",
    "# ------------------------------------------------------------------------------------\n",
    "\n",
    "\n",
    "\n",
    "\n",
    "# Create and add the circular beam to the plot\n",
    "# ----------------------------------------------------------------------------------------\n",
    "beam_circle = Circle(\n",
    "    (50, 50),                      # Position in axes coordinates (near bottom-right)\n",
    "    radius=beam_radius_pix,       # Radius in data units; adjust if too large/small\n",
    "    edgecolor='black',                 # Edge color\n",
    "    facecolor='blue',                  # Fill color\n",
    "    alpha=1,                           # Transparency\n",
    ")\n",
    "\n",
    "# Add the beam to the plot\n",
    "ax.add_patch(beam_circle)\n",
    "\n",
    "# Add text for the beam size \n",
    "ax.text(0.05, 0.06, \n",
    "        r'$\\longleftarrow$ Beam Size', \n",
    "        fontsize=text_fs, \n",
    "        ha='left', va='top', \n",
    "        transform=ax.transAxes)\n",
    "# ------------------------------------------------------------------------------------\n",
    "\n",
    "\n",
    "\n",
    "\n",
    "# Add line and text for 4 pc \n",
    "# ------------------------------------------------------------------------------------------\n",
    "# Plot the line in axes coordinates\n",
    "ax.plot([620, 620 + length_pix], \n",
    "        [350, 350],\n",
    "        color='black', \n",
    "        linewidth=3)\n",
    "\n",
    "# Add the text label centered below the line\n",
    "x_start = 0.058\n",
    "y_pos = 0.24\n",
    "ax.text(x_start + length_deg / 2, y_pos,  # Midpoint of the line\n",
    "        f'{length_pc} pc', \n",
    "        fontsize=text_fs, \n",
    "        ha='center', \n",
    "        va='top', \n",
    "        transform=ax.transAxes)\n",
    "# ------------------------------------------------------------------------------------\n",
    "\n",
    "\n",
    "\n",
    "\n",
    "# Contours \n",
    "# ------------------------------------------------------------------------------------------\n",
    "# Overlay the contours on the existing image\n",
    "contours = ax.contour(data, \n",
    "                      levels=contour_levels,  # Use all levels at once\n",
    "                      colors=contour_colours_blue,  # Apply the color palette to all levels\n",
    "                      alpha = 0.8,\n",
    "                      linewidths=3)  # Line thickness\n",
    "\n",
    "# Prepare contour labels for the legend\n",
    "contour_labels = [f'{level:.1e}' for level in contour_levels]\n",
    "\n",
    "# Display the legend with the contour levels and corresponding colors\n",
    "contour_legend = plt.legend(contours.collections, \n",
    "                          contour_labels, \n",
    "                          title='Contour Line Values', \n",
    "                          title_fontsize=legend_title_fs, \n",
    "                          fontsize=legend_text_fs, \n",
    "                          loc='best', \n",
    "                          ncol=3,\n",
    "                          bbox_to_anchor=(0.55, -0.1)) \n",
    "# ------------------------------------------------------------------------------------------\n",
    "\n",
    "\n",
    "\n",
    "\n",
    "# Add Vectors\n",
    "# ------------------------------------------------------------------------------------------\n",
    "for i in range(len(converted_angles_rad)):\n",
    "    \n",
    "    # Calculate the displacement (dx, dy) based on the angle and length\n",
    "    dx = vector_length_pix[i] * np.cos(converted_angles_rad[i])\n",
    "    dy = vector_length_pix[i] * np.sin(converted_angles_rad[i])\n",
    "    \n",
    "    # Plot the line representing the vector (from the x, y location to the new location)\n",
    "    ax.plot([vector_x_loc_pix[i], vector_x_loc_pix[i] + dx], \n",
    "            [vector_y_loc_pix[i], vector_y_loc_pix[i] + dy], \n",
    "            color='black', lw=10)\n",
    "\n",
    "    # Plot the colored vector line on top\n",
    "    line = ax.plot([vector_x_loc_pix[i], vector_x_loc_pix[i] + dx], \n",
    "                   [vector_y_loc_pix[i], vector_y_loc_pix[i] + dy], \n",
    "                   color=vector_colours_blue[i+1], \n",
    "                   lw=5, \n",
    "                   label=f'{vector_angles_deg[i]}$^\\circ$')  # Colored vector line with label\n",
    "\n",
    "\n",
    "# Display the legend with the vector labels\n",
    "vector_legend = ax.legend(title='Vector Angles', \n",
    "                          title_fontsize=legend_title_fs, \n",
    "                          fontsize=legend_text_fs,  \n",
    "                          loc='best', \n",
    "                          ncol=2,  \n",
    "                          bbox_to_anchor=(0.85, -0.1))\n",
    "\n",
    "# Add the contour legend back on\n",
    "ax.add_artist(contour_legend)\n",
    "#-----------------------------------------------------------------------------\n",
    "\n",
    "\n",
    "\n",
    "\n",
    "# Flip the axes if needed\n",
    "# ------------------------------------------------------------------------------------------\n",
    "# ax.invert_xaxis()\n",
    "# ax.invert_yaxis()\n",
    "# ------------------------------------------------------------------------------------------\n",
    "\n",
    "\n",
    "\n",
    "\n",
    "# Set x and y limits using ax.set_xlim() and ax.set_ylim()\n",
    "# ------------------------------------------------------------------------------------------\n",
    "ax.set_xlim(0, 1650)\n",
    "# ax.set_ylim(0, 400)\n",
    "# ------------------------------------------------------------------------------------------\n",
    "\n",
    "\n",
    "\n",
    "\n",
    "# Format RA and Dec axes in hh:mm:ss and dd:mm:ss\n",
    "# ----------------------------------------------------------------------------------------\n",
    "ax.coords[0].set_major_formatter('hh:mm:ss')  # RA\n",
    "# ax.coords[1].set_major_formatter('dd:mm:ss')  # Dec\n",
    "# ----------------------------------------------------------------------------------------\n",
    "\n",
    "\n",
    "\n",
    "\n",
    "# Adjust ticks and numbers for bottom and left axes\n",
    "# ----------------------------------------------------------------------------------------\n",
    "# Configure major ticks for x and y axes\n",
    "ax.tick_params(axis=\"x\", which=\"major\", direction=\"in\", bottom=True, top=False, length=7, labelsize=axis_num_fs)\n",
    "ax.tick_params(axis=\"y\", which=\"major\", direction=\"in\", left=True, right=False, length=7, labelsize=axis_num_fs)\n",
    "# ------------------------------------------------------------------------------------\n",
    "\n",
    "\n",
    "\n",
    "\n",
    "# Tight layout and show the plot\n",
    "# ------------------------------------------------------------------------------------------\n",
    "plt.tight_layout()\n",
    "plt.show()\n",
    "# ------------------------------------------------------------------------------------------"
   ]
  },
  {
   "cell_type": "markdown",
   "id": "968bb132",
   "metadata": {},
   "source": [
    "## Things to Change About the Plot\n",
    "\n",
    "- Color bar \n",
    "    - Make it only as tall as the plot"
   ]
  },
  {
   "cell_type": "code",
   "execution_count": null,
   "id": "82ee71f1",
   "metadata": {},
   "outputs": [],
   "source": []
  }
 ],
 "metadata": {
  "kernelspec": {
   "display_name": "Python 3 (ipykernel)",
   "language": "python",
   "name": "python3"
  },
  "language_info": {
   "codemirror_mode": {
    "name": "ipython",
    "version": 3
   },
   "file_extension": ".py",
   "mimetype": "text/x-python",
   "name": "python",
   "nbconvert_exporter": "python",
   "pygments_lexer": "ipython3",
   "version": "3.9.7"
  },
  "varInspector": {
   "cols": {
    "lenName": 16,
    "lenType": 16,
    "lenVar": 40
   },
   "kernels_config": {
    "python": {
     "delete_cmd_postfix": "",
     "delete_cmd_prefix": "del ",
     "library": "var_list.py",
     "varRefreshCmd": "print(var_dic_list())"
    },
    "r": {
     "delete_cmd_postfix": ") ",
     "delete_cmd_prefix": "rm(",
     "library": "var_list.r",
     "varRefreshCmd": "cat(var_dic_list()) "
    }
   },
   "types_to_exclude": [
    "module",
    "function",
    "builtin_function_or_method",
    "instance",
    "_Feature"
   ],
   "window_display": false
  }
 },
 "nbformat": 4,
 "nbformat_minor": 5
}
