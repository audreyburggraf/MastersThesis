{
 "cells": [
  {
   "cell_type": "code",
   "execution_count": 1,
   "id": "e3b4aa7d",
   "metadata": {},
   "outputs": [
    {
     "name": "stdout",
     "output_type": "stream",
     "text": [
      "perseus+WholeMap_herschelONLY+updatedCCs_beta2_mu2_8_columnDensityMap+grid.fits: Last modified 2024-10-29 16:02:50.709497\n",
      ".DS_Store: Last modified 2024-11-19 19:34:46.198730\n",
      "Fits_for_Audrey.py: Last modified 2024-11-05 13:46:33.458873\n",
      "Untitled.ipynb: Last modified 2024-11-19 19:29:40.277682\n",
      "PERSEUS_FITS_TO_WCS_with_help.ipynb: Last modified 2024-11-07 10:41:25.205704\n",
      "PERSEUS_FITS_TO_WCS.ipynb: Last modified 2024-11-04 15:02:29.103285\n",
      "perseus_FITS_Tutorial.ipynb: Last modified 2024-11-19 19:34:10.457777\n"
     ]
    }
   ],
   "source": [
    "import os\n",
    "from datetime import datetime\n",
    "\n",
    "# List all files in the current directory with their modification times\n",
    "for file in os.listdir():\n",
    "    if os.path.isfile(file):\n",
    "        mod_time = os.path.getmtime(file)\n",
    "        print(f\"{file}: Last modified {datetime.fromtimestamp(mod_time)}\")\n"
   ]
  },
  {
   "cell_type": "code",
   "execution_count": 2,
   "id": "a11faef8",
   "metadata": {},
   "outputs": [
    {
     "name": "stdout",
     "output_type": "stream",
     "text": [
      "total 23096\r\n",
      "drwxr-xr-x  10 audreyburggraf  staff      320 19 Nov 19:34 \u001b[34m.\u001b[m\u001b[m/\r\n",
      "drwxr-xr-x   7 audreyburggraf  staff      224 19 Nov 19:29 \u001b[34m..\u001b[m\u001b[m/\r\n",
      "-rw-r--r--@  1 audreyburggraf  staff     6148 19 Nov 19:34 .DS_Store\r\n",
      "drwxr-xr-x   6 audreyburggraf  staff      192 19 Nov 19:27 \u001b[34m.ipynb_checkpoints\u001b[m\u001b[m/\r\n",
      "-rw-r--r--   1 audreyburggraf  staff     2594  5 Nov 13:46 Fits_for_Audrey.py\r\n",
      "-rw-r--r--   1 audreyburggraf  staff   451118  4 Nov 15:02 PERSEUS_FITS_TO_WCS.ipynb\r\n",
      "-rw-r--r--@  1 audreyburggraf  staff   316953  7 Nov 10:41 PERSEUS_FITS_TO_WCS_with_help.ipynb\r\n",
      "-rw-r--r--   1 audreyburggraf  staff     2298 19 Nov 19:29 Untitled.ipynb\r\n",
      "-rw-r--r--   1 audreyburggraf  staff  9682560 29 Oct 16:02 perseus+WholeMap_herschelONLY+updatedCCs_beta2_mu2_8_columnDensityMap+grid.fits\r\n",
      "-rw-r--r--@  1 audreyburggraf  staff  1350552 19 Nov 19:34 perseus_FITS_Tutorial.ipynb\r\n"
     ]
    }
   ],
   "source": [
    "ls -la\n"
   ]
  },
  {
   "cell_type": "code",
   "execution_count": 3,
   "id": "b143d120",
   "metadata": {},
   "outputs": [
    {
     "name": "stdout",
     "output_type": "stream",
     "text": [
      "File exists: True\n"
     ]
    }
   ],
   "source": [
    "import os\n",
    "\n",
    "file_name = \"perseus_FITS_Tutorial.ipynb\"\n",
    "print(f\"File exists: {os.path.exists(file_name)}\")\n"
   ]
  },
  {
   "cell_type": "code",
   "execution_count": null,
   "id": "09145c97",
   "metadata": {},
   "outputs": [],
   "source": []
  }
 ],
 "metadata": {
  "kernelspec": {
   "display_name": "Python 3 (ipykernel)",
   "language": "python",
   "name": "python3"
  },
  "language_info": {
   "codemirror_mode": {
    "name": "ipython",
    "version": 3
   },
   "file_extension": ".py",
   "mimetype": "text/x-python",
   "name": "python",
   "nbconvert_exporter": "python",
   "pygments_lexer": "ipython3",
   "version": "3.9.7"
  },
  "varInspector": {
   "cols": {
    "lenName": 16,
    "lenType": 16,
    "lenVar": 40
   },
   "kernels_config": {
    "python": {
     "delete_cmd_postfix": "",
     "delete_cmd_prefix": "del ",
     "library": "var_list.py",
     "varRefreshCmd": "print(var_dic_list())"
    },
    "r": {
     "delete_cmd_postfix": ") ",
     "delete_cmd_prefix": "rm(",
     "library": "var_list.r",
     "varRefreshCmd": "cat(var_dic_list()) "
    }
   },
   "types_to_exclude": [
    "module",
    "function",
    "builtin_function_or_method",
    "instance",
    "_Feature"
   ],
   "window_display": false
  }
 },
 "nbformat": 4,
 "nbformat_minor": 5
}
