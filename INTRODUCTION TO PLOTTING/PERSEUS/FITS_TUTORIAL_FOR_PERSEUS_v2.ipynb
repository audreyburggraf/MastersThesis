{
 "cells": [
  {
   "cell_type": "markdown",
   "id": "bc27e3c0",
   "metadata": {},
   "source": [
    "In this file I am reading in a FITS image of Perseus and I want to plot it in RA and Dec coordinates"
   ]
  },
  {
   "cell_type": "markdown",
   "id": "8f028f03",
   "metadata": {},
   "source": [
    "## Notes:\n",
    "- Open the image in a FITS viewer such as sao ds9 or carta (naro?)\n",
    "- Object is 300 pc away"
   ]
  },
  {
   "cell_type": "markdown",
   "id": "66a42675",
   "metadata": {},
   "source": [
    "# Introduction"
   ]
  },
  {
   "cell_type": "markdown",
   "id": "0de20ac4",
   "metadata": {},
   "source": [
    "## Importing necessary packages"
   ]
  },
  {
   "cell_type": "code",
   "execution_count": 1,
   "id": "5479d9f8",
   "metadata": {},
   "outputs": [],
   "source": [
    "import numpy as np\n",
    "\n",
    "# Set up matplotlib\n",
    "import matplotlib.pyplot as plt\n",
    "%matplotlib inline\n",
    "from matplotlib.patches import Circle\n",
    "from matplotlib.colors import LogNorm\n",
    "from mpl_toolkits.axes_grid1 import make_axes_locatable \n",
    "from matplotlib.ticker import MultipleLocator\n",
    "\n",
    "from astropy.coordinates import SkyCoord\n",
    "from astropy.coordinates import Angle\n",
    "import astropy.units as u\n",
    "from astropy.wcs import WCS\n",
    "from astropy.io import fits\n",
    "from astropy.table import Table\n",
    "\n",
    "import seaborn as sns\n",
    "\n",
    "import random\n",
    "\n",
    "import pandas as pd"
   ]
  },
  {
   "cell_type": "markdown",
   "id": "8c577ec2",
   "metadata": {},
   "source": [
    "## Plotting preferences"
   ]
  },
  {
   "cell_type": "code",
   "execution_count": 2,
   "id": "63821dd4",
   "metadata": {},
   "outputs": [],
   "source": [
    "# Font sizes\n",
    "title_fs = 25\n",
    "axis_label_fs = 20\n",
    "axis_num_fs = 20\n",
    "legend_title_fs = 20\n",
    "legend_text_fs = 15\n",
    "cbar_fs = 20\n",
    "text_fs = 28"
   ]
  },
  {
   "cell_type": "markdown",
   "id": "37521bd5",
   "metadata": {},
   "source": [
    "# Read in the file and extract the header "
   ]
  },
  {
   "cell_type": "code",
   "execution_count": 3,
   "id": "4b57e4f4",
   "metadata": {},
   "outputs": [],
   "source": [
    "file = 'perseus+WholeMap_herschelONLY+updatedCCs_beta2_mu2_8_columnDensityMap+grid.fits'"
   ]
  },
  {
   "cell_type": "code",
   "execution_count": 4,
   "id": "7cdfbb7a",
   "metadata": {},
   "outputs": [
    {
     "name": "stderr",
     "output_type": "stream",
     "text": [
      "WARNING: VerifyWarning: Invalid 'BLANK' keyword in header.  The 'BLANK' keyword is only applicable to integer data, and will be ignored in this HDU. [astropy.io.fits.hdu.image]\n"
     ]
    }
   ],
   "source": [
    "hdu_list = fits.open(file, memmap=True)"
   ]
  },
  {
   "cell_type": "code",
   "execution_count": 5,
   "id": "6b87bb1b",
   "metadata": {},
   "outputs": [],
   "source": [
    "header = hdu_list[0].header"
   ]
  },
  {
   "cell_type": "markdown",
   "id": "f59388af",
   "metadata": {},
   "source": [
    "| Keyword   | Value                       | Description                                                |\n",
    "|-----------|-----------------------------|------------------------------------------------------------|\n",
    "| SIMPLE    | T                           | Indicates that the image conforms to the FITS standard.   |\n",
    "| BITPIX    | -32                         | Specifies the number of bits per data value; negative indicates a floating-point format. |\n",
    "| NAXIS     | 2                           | Number of axes in the data array (2 for 2D images).       |\n",
    "| NAXIS1    | 1748                        | Size of the first axis (number of pixels in the X direction). |\n",
    "| NAXIS2    | 1383                        | Size of the second axis (number of pixels in the Y direction). |\n",
    "| EXTEND    | T                           | Indicates that the file may contain extensions beyond the primary HDU. |\n",
    "| BSCALE    | 1.00000                    | A scaling factor for the data values (multiplicative).    |\n",
    "| BZERO     | 0.00000                    | An offset added to the data values (additive).             |\n",
    "| BLANK     | -1                          | Value used to indicate a blank or missing pixel in the data. |\n",
    "| BUNIT     | 'cm^-2'                    | Units of the data values; in this case, column density in cm⁻². |\n",
    "| DATE-OBS  | '2000-01-01T12:00:00.0'    | Date and time of the observation in ISO format.           |\n",
    "| TELESCOP  | 'Herschel'                 | Name of the telescope that acquired the data.              |\n",
    "| CRPIX1    | 873.500                    | Reference pixel location for the first axis (X-axis) in the data array. |\n",
    "| CDELT1    | -3.88889000000E-03         | Pixel size in degrees per pixel for the first axis (X-axis). Negative indicates a decreasing coordinate. |\n",
    "| CRVAL1    | 53.6923498931              | Coordinate value at the reference pixel for the first axis (X-axis) in degrees. |\n",
    "| CTYPE1    | 'RA---TAN'                 | Coordinate type for the first axis (Right Ascension in tangent plane). |\n",
    "| CRPIX2    | 691.000                     | Reference pixel location for the second axis (Y-axis) in the data array. |\n",
    "| CDELT2    | 3.88889000000E-03          | Pixel size in degrees per pixel for the second axis (Y-axis). |\n",
    "| CRVAL2    | 31.4028495962              | Coordinate value at the reference pixel for the second axis (Y-axis) in degrees. |\n",
    "| CTYPE2    | 'DEC--TAN'                 | Coordinate type for the second axis (Declination in tangent plane). |\n",
    "| CELLSCAL  | 'CONSTANT'                 | Indicates that the cell scale is constant across the image. |\n",
    "| BMAJ      | 1.00833317265E-02          | Major axis of the beam in degrees.                         |\n",
    "| BMIN      | 1.00833317265E-02          | Minor axis of the beam in degrees.                         |\n",
    "| EPOCH     | 2.00000000000E+03          | Reference epoch for the coordinates (usually in Julian years). |\n"
   ]
  },
  {
   "cell_type": "code",
   "execution_count": 6,
   "id": "741c910a",
   "metadata": {},
   "outputs": [],
   "source": [
    "data = hdu_list[0].data"
   ]
  },
  {
   "cell_type": "code",
   "execution_count": 7,
   "id": "f92f4aaf",
   "metadata": {},
   "outputs": [],
   "source": [
    "# column_density_data=hdu_list[0].data\n",
    "# column_density_data.size"
   ]
  },
  {
   "cell_type": "code",
   "execution_count": 8,
   "id": "6fed9020",
   "metadata": {},
   "outputs": [],
   "source": [
    "# Get the dimensions of the image\n",
    "image_height, image_width = data.shape"
   ]
  },
  {
   "cell_type": "code",
   "execution_count": 9,
   "id": "ded2400a",
   "metadata": {},
   "outputs": [],
   "source": [
    "distance_pc = 300 # pc"
   ]
  },
  {
   "cell_type": "markdown",
   "id": "5eebef1d",
   "metadata": {},
   "source": [
    "# Axes (pixels and degrees)"
   ]
  },
  {
   "cell_type": "code",
   "execution_count": null,
   "id": "f4a0412d",
   "metadata": {},
   "outputs": [],
   "source": []
  },
  {
   "cell_type": "code",
   "execution_count": null,
   "id": "e2d95d1d",
   "metadata": {},
   "outputs": [],
   "source": []
  },
  {
   "cell_type": "code",
   "execution_count": null,
   "id": "c9cbc759",
   "metadata": {},
   "outputs": [],
   "source": []
  },
  {
   "cell_type": "code",
   "execution_count": null,
   "id": "42c2cc88",
   "metadata": {},
   "outputs": [],
   "source": []
  },
  {
   "cell_type": "code",
   "execution_count": null,
   "id": "e68831c2",
   "metadata": {},
   "outputs": [],
   "source": []
  },
  {
   "cell_type": "code",
   "execution_count": null,
   "id": "cfdfa957",
   "metadata": {},
   "outputs": [],
   "source": []
  },
  {
   "cell_type": "code",
   "execution_count": null,
   "id": "eb2e353e",
   "metadata": {},
   "outputs": [],
   "source": []
  },
  {
   "cell_type": "code",
   "execution_count": null,
   "id": "90bcf771",
   "metadata": {},
   "outputs": [],
   "source": []
  }
 ],
 "metadata": {
  "kernelspec": {
   "display_name": "Python 3 (ipykernel)",
   "language": "python",
   "name": "python3"
  },
  "language_info": {
   "codemirror_mode": {
    "name": "ipython",
    "version": 3
   },
   "file_extension": ".py",
   "mimetype": "text/x-python",
   "name": "python",
   "nbconvert_exporter": "python",
   "pygments_lexer": "ipython3",
   "version": "3.9.7"
  },
  "varInspector": {
   "cols": {
    "lenName": 16,
    "lenType": 16,
    "lenVar": 40
   },
   "kernels_config": {
    "python": {
     "delete_cmd_postfix": "",
     "delete_cmd_prefix": "del ",
     "library": "var_list.py",
     "varRefreshCmd": "print(var_dic_list())"
    },
    "r": {
     "delete_cmd_postfix": ") ",
     "delete_cmd_prefix": "rm(",
     "library": "var_list.r",
     "varRefreshCmd": "cat(var_dic_list()) "
    }
   },
   "types_to_exclude": [
    "module",
    "function",
    "builtin_function_or_method",
    "instance",
    "_Feature"
   ],
   "window_display": false
  }
 },
 "nbformat": 4,
 "nbformat_minor": 5
}
