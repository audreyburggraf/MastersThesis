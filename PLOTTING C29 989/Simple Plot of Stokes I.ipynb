{
 "cells": [
  {
   "cell_type": "markdown",
   "id": "3e724503",
   "metadata": {},
   "source": [
    "# Everything Else"
   ]
  },
  {
   "cell_type": "code",
   "execution_count": null,
   "id": "6b7cf779",
   "metadata": {},
   "outputs": [],
   "source": []
  },
  {
   "cell_type": "code",
   "execution_count": 1,
   "id": "b56d6bac",
   "metadata": {},
   "outputs": [],
   "source": [
    "import numpy as np\n",
    "\n",
    "# matplotlib\n",
    "import matplotlib.pyplot as plt\n",
    "# %matplotlib inline\n",
    "from matplotlib.patches import Ellipse\n",
    "import matplotlib.colors as mcolors\n",
    "from matplotlib.colors import LogNorm\n",
    "from matplotlib.colors import LinearSegmentedColormap\n",
    "from matplotlib.colors import BoundaryNorm, ListedColormap\n",
    "# from mpl_toolkits.axes_grid1 import make_axes_locatable \n",
    "# from matplotlib.ticker import MultipleLocator\n",
    "\n",
    "# astropy\n",
    "from astropy.io import fits\n",
    "from astropy.coordinates import SkyCoord\n",
    "# from astropy.coordinates import Angle\n",
    "import astropy.units as u\n",
    "from astropy.wcs import WCS\n",
    "# from astropy.table import Table\n",
    "\n",
    "import seaborn as sns\n",
    "\n",
    "# import random\n",
    "\n",
    "# import pandas as pd\n",
    "\n",
    "# Functions\n",
    "from FITS_Image_Functions import *\n",
    "from C29_functions import *"
   ]
  },
  {
   "cell_type": "code",
   "execution_count": 2,
   "id": "f3ad4196",
   "metadata": {},
   "outputs": [],
   "source": [
    "# Font sizes\n",
    "title_fs = 25\n",
    "axis_label_fs = 20\n",
    "axis_num_fs = 20\n",
    "legend_title_fs = 20\n",
    "legend_text_fs = 15\n",
    "cbar_fs = 20\n",
    "text_fs = 28"
   ]
  },
  {
   "cell_type": "code",
   "execution_count": 4,
   "id": "d67b7fa1",
   "metadata": {},
   "outputs": [],
   "source": [
    "distance_pc = 132"
   ]
  },
  {
   "cell_type": "code",
   "execution_count": 5,
   "id": "c860ccf5",
   "metadata": {},
   "outputs": [],
   "source": [
    "folder_path = \"/Users/audreyburggraf/Desktop/QUEEN'S/THESIS RESEARCH/PLOTTING C29 989/FITS FILES/\""
   ]
  },
  {
   "cell_type": "code",
   "execution_count": 6,
   "id": "8b57a0dd",
   "metadata": {},
   "outputs": [],
   "source": [
    "# Define the path to the Stokes I FITS file\n",
    "StokesI_file = folder_path + \"c2d_989_StokesI_233GHz.fits\"\n",
    "\n",
    "# Open the FITS file and create an HDU (Header/Data Unit) list\n",
    "StokesI_hdu_list = fits.open(StokesI_file, memmap=True)\n",
    "\n",
    "# Extract the header \n",
    "StokesI_header = StokesI_hdu_list[0].header\n",
    "\n",
    "# Extract the data \n",
    "StokesI_data = StokesI_hdu_list[0].data"
   ]
  },
  {
   "cell_type": "code",
   "execution_count": 7,
   "id": "65712d7f",
   "metadata": {},
   "outputs": [],
   "source": [
    "StokesI_wcs = WCS(naxis=2)\n",
    "\n",
    "StokesI_wcs.wcs.ctype=[StokesI_header['CTYPE1'],StokesI_header['CTYPE2']]\n",
    "StokesI_wcs.wcs.crpix=[StokesI_header['CRPIX1'],StokesI_header['CRPIX2']]\n",
    "StokesI_wcs.wcs.crval=[StokesI_header['CRVAL1'],StokesI_header['CRVAL2']]\n",
    "StokesI_wcs.wcs.cdelt=[StokesI_header['CDELT1'],StokesI_header['CDELT2']]"
   ]
  },
  {
   "cell_type": "code",
   "execution_count": 8,
   "id": "0bb965e5",
   "metadata": {},
   "outputs": [],
   "source": [
    "StokesI_data_2d = StokesI_data[0,0,:,:]"
   ]
  },
  {
   "cell_type": "code",
   "execution_count": 9,
   "id": "5515f475",
   "metadata": {},
   "outputs": [],
   "source": [
    "StokesI_data_2d_mJy = StokesI_data_2d * 1000"
   ]
  },
  {
   "cell_type": "code",
   "execution_count": 18,
   "id": "379537f0",
   "metadata": {},
   "outputs": [
    {
     "name": "stdout",
     "output_type": "stream",
     "text": [
      "vmin_nonan: -1.82\n",
      "vmax_nonan: 90.76\n"
     ]
    }
   ],
   "source": [
    "vmin_nonan = np.nanmin(StokesI_data_2d_mJy)\n",
    "vmax_nonan = np.nanmax(StokesI_data_2d_mJy)\n",
    "\n",
    "print(f\"vmin_nonan: {vmin_nonan:.2f}\")\n",
    "print(f\"vmax_nonan: {vmax_nonan:.2f}\")"
   ]
  },
  {
   "cell_type": "code",
   "execution_count": 55,
   "id": "5db190cb",
   "metadata": {},
   "outputs": [
    {
     "name": "stdout",
     "output_type": "stream",
     "text": [
      "vmin_custom: -0.20\n",
      "vmax_custom: 89.85\n"
     ]
    }
   ],
   "source": [
    "vmin_custom = -0.2\n",
    "vmax_custom = 89.85\n",
    "\n",
    "print(f\"vmin_custom: {vmin_custom:.2f}\")\n",
    "print(f\"vmax_custom: {vmax_custom:.2f}\")"
   ]
  },
  {
   "cell_type": "code",
   "execution_count": 56,
   "id": "e784b6b8",
   "metadata": {},
   "outputs": [
    {
     "name": "stdout",
     "output_type": "stream",
     "text": [
      "vmin: -0.20\n",
      "vmax: 89.85\n"
     ]
    }
   ],
   "source": [
    "# vmin = vmin_nonan\n",
    "# vmax = vmax_nonan\n",
    "\n",
    "\n",
    "vmin = vmin_custom\n",
    "vmax = vmax_custom\n",
    "\n",
    "print(f\"vmin: {vmin:.2f}\")\n",
    "print(f\"vmax: {vmax:.2f}\")"
   ]
  },
  {
   "cell_type": "markdown",
   "id": "6319eae8",
   "metadata": {},
   "source": [
    "## Stretch Function"
   ]
  },
  {
   "cell_type": "code",
   "execution_count": 57,
   "id": "89ba4da6",
   "metadata": {},
   "outputs": [],
   "source": [
    "def log_stretch(data, base=100, vmin=None, vmax=None):\n",
    "    \"\"\"\n",
    "    Apply a logarithmic stretch to data with a specified base.\n",
    "\n",
    "    Parameters:\n",
    "    data (numpy.ndarray): The input data array.\n",
    "    base (float): The base of the logarithm. Default is 100.\n",
    "    vmin (float): Minimum value for stretching. If None, data minimum is used.\n",
    "    vmax (float): Maximum value for stretching. If None, data maximum is used.\n",
    "\n",
    "    Returns:\n",
    "    numpy.ndarray: The transformed data with log stretch applied.\n",
    "    \"\"\"\n",
    "    # Set default vmin and vmax if not specified\n",
    "    if vmin is None:\n",
    "        vmin = np.nanmin(data)\n",
    "    if vmax is None:\n",
    "        vmax = np.nanmax(data)\n",
    "    \n",
    "    # Normalize the data between 0 and 1\n",
    "    normalized_data = (data - vmin) / (vmax - vmin)\n",
    "    \n",
    "    # Apply the log stretch using log base 100\n",
    "    log_stretched_data = np.log(normalized_data * (base - 1) + 1) / np.log(base)\n",
    "    \n",
    "    return log_stretched_data"
   ]
  },
  {
   "cell_type": "code",
   "execution_count": 58,
   "id": "b5d0ca69",
   "metadata": {},
   "outputs": [],
   "source": [
    "def recover_original_value(stretched_value, vmin, vmax, base=100):\n",
    "    \"\"\"\n",
    "    Recover the original value from a log-stretched value.\n",
    "\n",
    "    Parameters:\n",
    "    stretched_value (float): The value from the log-stretched data (between 0 and 1).\n",
    "    vmin (float): The minimum value of the original data.\n",
    "    vmax (float): The maximum value of the original data.\n",
    "    base (float): The base of the logarithm used for stretching. Default is 100.\n",
    "\n",
    "    Returns:\n",
    "    float: The corresponding original value before the stretch.\n",
    "    \"\"\"\n",
    "    # Reverse the log stretch to get the normalized value\n",
    "    normalized_data = (base**stretched_value - 1) / (base - 1)\n",
    "    \n",
    "    # Map the normalized value back to the original value range\n",
    "    original_value = vmin + normalized_data * (vmax - vmin)\n",
    "    \n",
    "    return original_value\n"
   ]
  },
  {
   "cell_type": "markdown",
   "id": "ea236d25",
   "metadata": {},
   "source": [
    "# Plot"
   ]
  },
  {
   "cell_type": "code",
   "execution_count": 60,
   "id": "3c426f49",
   "metadata": {},
   "outputs": [],
   "source": [
    "data_clipped = np.clip(StokesI_data_2d_mJy, vmin, vmax)"
   ]
  },
  {
   "cell_type": "code",
   "execution_count": 61,
   "id": "3bbff820",
   "metadata": {},
   "outputs": [],
   "source": [
    "# Apply the log stretch (base 100) to the data\n",
    "StokesI_data_stretched = log_stretch(data_clipped, base=100, vmin = vmin, vmax = vmax)"
   ]
  },
  {
   "cell_type": "code",
   "execution_count": 62,
   "id": "80268ce2",
   "metadata": {},
   "outputs": [
    {
     "data": {
      "text/plain": [
       "array([-0.2       ,  1.17520579,  4.62956655, 13.30652848, 35.10207142,\n",
       "       89.85      ])"
      ]
     },
     "execution_count": 62,
     "metadata": {},
     "output_type": "execute_result"
    }
   ],
   "source": [
    "cbar_ticks = np.array([0, 0.2, 0.4, 0.6, 0.8, 1])\n",
    "\n",
    "# Get original values for the color bar ticks\n",
    "original_values = recover_original_value(cbar_ticks, vmin, vmax)\n",
    "original_values"
   ]
  },
  {
   "cell_type": "code",
   "execution_count": 99,
   "id": "a6cffe43",
   "metadata": {},
   "outputs": [
    {
     "data": {
      "image/png": "[encoded data removed]",
      "text/html": [
       "<div style=\"vertical-align: middle;\"><strong>SoftColorMap</strong> </div><div class=\"cmap\"><img alt=\"SoftColorMap colormap\" title=\"SoftColorMap\" style=\"border: 1px solid #555;\" src=\"data:image/png;base64,iVBORw0KGgoAAAANSUhEUgAAAgAAAABACAYAAABsv8+/AAAAG3RFWHRUaXRsZQBTb2Z0Q29sb3JNYXAgY29sb3JtYXD2we0sAAAAIXRFWHREZXNjcmlwdGlvbgBTb2Z0Q29sb3JNYXAgY29sb3JtYXB0WAepAAAAMHRFWHRBdXRob3IATWF0cGxvdGxpYiB2My40LjMsIGh0dHBzOi8vbWF0cGxvdGxpYi5vcmcJXfPTAAAAMnRFWHRTb2Z0d2FyZQBNYXRwbG90bGliIHYzLjQuMywgaHR0cHM6Ly9tYXRwbG90bGliLm9yZyf7bPQAAAI2SURBVHic7dbLbuowFIbRbd7/let9BqQQEnNp1TP615KQG8cXRCffmHN2d1dVVW3Ddew3z1V12vfJOb/dtzhnMdenu8byuZ++r6oah/PG0/f3det7nt77Ys3+7v7vY/9832/u2n3q8NzjPF+L9+/3jsd7Xu07/Nyn7zgWc7d9o+qy3T2ua2vsni/3+dt4+WzNcl897q/DGas7Pl/TVTWr63ucVdXVYz4+17yvG6v5uTtr3n612/vDu/7+eyzuXs6v7j7ct33n+6cPz+f58fTdce8ne9bz6/Xv91yq6lK9GFdz13Es1p7nPj/vfM7rPWN1bneNWTW+x9k1tn/Xw1xt46ztfd/H/drTObvzTnPb2vqjc2ZXfVXV127sw/PT8ZM1h7XzD886jn39fwIAYQQAAAQSAAAQSAAAQCABAACBBAAABBIAABBIAABAIAEAAIEEAAAEEgAAEEgAAEAgAQAAgQQAAAQSAAAQSAAAQCABAACBBAAABBIAABBIAABAIAEAAIEEAAAEEgAAEEgAAEAgAQAAgQQAAAQSAAAQSAAAQCABAACBBAAABBIAABBIAABAIAEAAIEEAAAEEgAAEEgAAEAgAQAAgQQAAAQSAAAQSAAAQCABAACBBAAABBIAABBIAABAIAEAAIEEAAAEEgAAEEgAAEAgAQAAgQQAAAQSAAAQSAAAQCABAACBBAAABBIAABBIAABAIAEAAIEEAAAEEgAAEEgAAEAgAQAAgQQAAAQSAAAQ6B8mqgq1jbch0AAAAABJRU5ErkJggg==\"></div><div style=\"vertical-align: middle; max-width: 514px; display: flex; justify-content: space-between;\"><div style=\"float: left;\"><div title=\"#fefefeff\" style=\"display: inline-block; width: 1em; height: 1em; margin: 0; vertical-align: middle; border: 1px solid #555; background-color: #fefefeff;\"></div> under</div><div style=\"margin: 0 auto; display: inline-block;\">bad <div title=\"#00000000\" style=\"display: inline-block; width: 1em; height: 1em; margin: 0; vertical-align: middle; border: 1px solid #555; background-color: #00000000;\"></div></div><div style=\"float: right;\">over <div title=\"#ff1900ff\" style=\"display: inline-block; width: 1em; height: 1em; margin: 0; vertical-align: middle; border: 1px solid #555; background-color: #ff1900ff;\"></div></div>"
      ],
      "text/plain": [
       "<matplotlib.colors.LinearSegmentedColormap at 0x7ff539d794f0>"
      ]
     },
     "execution_count": 99,
     "metadata": {},
     "output_type": "execute_result"
    }
   ],
   "source": [
    "# Hex codes for the colors\n",
    "hex_colors = [\n",
    "    \"#fefefe\",  # White\n",
    "    \"#fde5f3\",  # Light Pink\n",
    "    \"#f8ccff\",  # Light Purple\n",
    "    \"#c5b3fd\",  # Soft Purple\n",
    "    \"#9cbaff\",  # Light Blue\n",
    "    \"#80f7ff\",  # Pastel Cyan\n",
    "    \"#66ffaa\",  # Lime Green\n",
    "    \"#6aff4e\",  # Bright Green\n",
    "    \"#ccff32\",  # Lime Yellow\n",
    "    \"#ffaf1b\",  # Soft Orange\n",
    "    \"#ff1900\",  # Red\n",
    "]\n",
    "\n",
    "# Convert hex codes to RGB values (normalized to 0-1)\n",
    "rgb_colors = [\n",
    "    tuple(int(color[i:i+2], 16) / 255 for i in (1, 3, 5)) for color in hex_colors\n",
    "]\n",
    "\n",
    "# Create the colormap using the pastel colors and divide it into 1000 steps\n",
    "soft_colormap = LinearSegmentedColormap.from_list(\"SoftColorMap\", rgb_colors, N=1000)\n",
    "soft_colormap"
   ]
  },
  {
   "cell_type": "code",
   "execution_count": 109,
   "id": "73bb0ee7",
   "metadata": {},
   "outputs": [
    {
     "data": {
      "image/png": "[encoded data removed]",
      "text/html": [
       "<div style=\"vertical-align: middle;\"><strong>SoftColorMapV2</strong> </div><div class=\"cmap\"><img alt=\"SoftColorMapV2 colormap\" title=\"SoftColorMapV2\" style=\"border: 1px solid #555;\" src=\"data:image/png;base64,iVBORw0KGgoAAAANSUhEUgAAAgAAAABACAYAAABsv8+/AAAAHXRFWHRUaXRsZQBTb2Z0Q29sb3JNYXBWMiBjb2xvcm1hcAe0aeoAAAAjdEVYdERlc2NyaXB0aW9uAFNvZnRDb2xvck1hcFYyIGNvbG9ybWFwAZ+MGwAAADB0RVh0QXV0aG9yAE1hdHBsb3RsaWIgdjMuNC4zLCBodHRwczovL21hdHBsb3RsaWIub3JnCV3z0wAAADJ0RVh0U29mdHdhcmUATWF0cGxvdGxpYiB2My40LjMsIGh0dHBzOi8vbWF0cGxvdGxpYi5vcmcn+2z0AAACY0lEQVR4nO3Wy3KjMBAF0Jbn//84oWdhggUj8prlPacqJdFqCRtcqTu2bevqrqqq2oeqfs17WjhqR+MntemMeb0Xe+Z7TbVe1FZ99+OY7jemtXH0jFP9vu++fvnqd2t7vad79eWs+fF/nPXxVedH2pex+qZ213uq9/m6qrbF3u1mz7a4x90ZXff9x1mn+lifebt3nF5PjenxjukVzuPN+nLPUe+qx/P66Hm8enrUsV6X6+/2z+v/jNezf7K+Ore6en+CPZ5vqaur5nl19dh79jf57N33jqm+7+3XG60e2379vfH3Pe+f7Hn/YX19XtVWY/+uo7rG8eub5//f83yVfRpHdT0u43f77vr/7Gsf47P22dq59hxXtfPao19nPPo67p+nL73Lcb02tq56r+ffcr7/o7jOv9z3mo/rGcvzF/UvP8fNGW99XvsY3xa1X/Q/CgCIIwAAQCABAAACCQAAEEgAAIBAAgAABBIAACCQAAAAgQQAAAgkAABAIAEAAAIJAAAQSAAAgEACAAAEEgAAIJAAAACBBAAACCQAAEAgAQAAAgkAABBIAACAQAIAAAQSAAAgkAAAAIEEAAAIJAAAQCABAAACCQAAEEgAAIBAAgAABBIAACCQAAAAgQQAAAgkAABAIAEAAAIJAAAQSAAAgEACAAAEEgAAIJAAAACBBAAACCQAAEAgAQAAAgkAABBIAACAQAIAAAQSAAAgkAAAAIEEAAAIJAAAQCABAAACCQAAEEgAAIBAAgAABBIAACCQAAAAgQQAAAgkAABAIAEAAAIJAAAQSAAAgEACAAAEEgAAINBfVoQNtRRmfzMAAAAASUVORK5CYII=\"></div><div style=\"vertical-align: middle; max-width: 514px; display: flex; justify-content: space-between;\"><div style=\"float: left;\"><div title=\"#fefefeff\" style=\"display: inline-block; width: 1em; height: 1em; margin: 0; vertical-align: middle; border: 1px solid #555; background-color: #fefefeff;\"></div> under</div><div style=\"margin: 0 auto; display: inline-block;\">bad <div title=\"#00000000\" style=\"display: inline-block; width: 1em; height: 1em; margin: 0; vertical-align: middle; border: 1px solid #555; background-color: #00000000;\"></div></div><div style=\"float: right;\">over <div title=\"#ff1900ff\" style=\"display: inline-block; width: 1em; height: 1em; margin: 0; vertical-align: middle; border: 1px solid #555; background-color: #ff1900ff;\"></div></div>"
      ],
      "text/plain": [
       "<matplotlib.colors.LinearSegmentedColormap at 0x7ff518fa7ee0>"
      ]
     },
     "execution_count": 109,
     "metadata": {},
     "output_type": "execute_result"
    }
   ],
   "source": [
    "# Hex codes for the colors\n",
    "hex_colors = [\n",
    "    \"#fefefe\",  # White\n",
    "    \"#fff4f8\",  # Very Light Pink\n",
    "    \"#fde5f3\",  # Light Pink\n",
    "    \"#ffd8fb\",  # Light Lavender\n",
    "    \"#f8ccff\",  # Light Purple\n",
    "    \"#e3bfff\",  # Light Lilac\n",
    "    \"#c5b3fd\",  # Soft Purple\n",
    "    \"#a8aaff\",  # Soft Blue\n",
    "    \"#9cbaff\",  # Light Blue\n",
    "    \"#8ddafe\",  # Sky Blue\n",
    "    \"#80f7ff\",  # Pastel Cyan\n",
    "    \"#74fedd\",  # Light Turquoise\n",
    "    \"#66ffaa\",  # Lime Green\n",
    "    \"#59fe73\",  # Light Green\n",
    "    \"#6aff4e\",  # Bright Green\n",
    "    \"#8efe41\",  # Lime Yellow\n",
    "    \"#ccff32\",  # Bright Lime Yellow\n",
    "    \"#fef324\",  # Soft Yellow\n",
    "    \"#ffaf1b\",  # Soft Orange\n",
    "    \"#ff6a0f\",  # Bright Orange\n",
    "    \"#ff1900\",  # Red\n",
    "]\n",
    "\n",
    "# Convert hex codes to RGB values (normalized to 0-1)\n",
    "rgb_colors = [\n",
    "    tuple(int(color[i:i+2], 16) / 255 for i in (1, 3, 5)) for color in hex_colors\n",
    "]\n",
    "\n",
    "# Create the colormap using the pastel colors and divide it into 1000 steps\n",
    "soft_colormap_v2 = LinearSegmentedColormap.from_list(\"SoftColorMapV2\", rgb_colors, N=100000)\n",
    "soft_colormap_v2"
   ]
  },
  {
   "cell_type": "code",
   "execution_count": 110,
   "id": "d525108a",
   "metadata": {},
   "outputs": [],
   "source": [
    "cmap = soft_colormap_v2\n",
    "alpha = 1"
   ]
  },
  {
   "cell_type": "code",
   "execution_count": 111,
   "id": "65f97eec",
   "metadata": {},
   "outputs": [
    {
     "data": {
      "image/png": "[encoded data removed]",
      "text/plain": [
       "<Figure size 1008x864 with 2 Axes>"
      ]
     },
     "metadata": {
      "needs_background": "light"
     },
     "output_type": "display_data"
    }
   ],
   "source": [
    "# Create a figure with the WCS projection\n",
    "fig, ax = plt.subplots(figsize=(14, 12), subplot_kw={'projection': StokesI_wcs})\n",
    "\n",
    "\n",
    "# Add data (log stretched)\n",
    "im = ax.imshow(StokesI_data_stretched, cmap=cmap, alpha = alpha)\n",
    "\n",
    "# Colorbar\n",
    "cbar = plt.colorbar(im, ax=ax)\n",
    "cbar.set_label(r'Stokes I (mJy/beam)', fontsize=cbar_fs)\n",
    "cbar.ax.tick_params(labelsize=axis_num_fs, which='major', length=7, direction=\"in\")\n",
    "cbar.ax.tick_params(which='minor', length=4, direction=\"in\")\n",
    "\n",
    "# Update colorbar ticks and labels\n",
    "cbar.set_ticks(cbar_ticks)  # Set tick locations in stretched space\n",
    "cbar.set_ticklabels([f\"{val:.2f}\" for val in original_values])\n",
    "\n",
    "# Add title and axis labels\n",
    "ax.set_xlabel('Right Ascension', fontsize=axis_label_fs)\n",
    "ax.set_ylabel('Declination', fontsize=axis_label_fs)\n",
    "\n",
    "# Set x and y limits\n",
    "centre_x = 857\n",
    "centre_y = 828\n",
    "half_num_pixels = 55\n",
    "xmin = centre_x - half_num_pixels\n",
    "xmax = centre_x + half_num_pixels\n",
    "ymin = centre_y - half_num_pixels\n",
    "ymax = centre_y + half_num_pixels\n",
    "ax.set_xlim(xmin, xmax)\n",
    "ax.set_ylim(ymin, ymax)\n",
    "\n",
    "\n",
    "# Adjust ticks and numbers\n",
    "ax.minorticks_on()\n",
    "ax.tick_params(axis=\"x\", which=\"major\", direction=\"in\", bottom=True, top=False, length=7, labelsize=axis_num_fs)\n",
    "ax.tick_params(axis=\"y\", which=\"major\", direction=\"in\", left=True, right=False, length=7, labelsize=axis_num_fs)\n",
    "\n",
    "# Show the plot\n",
    "plt.show()"
   ]
  },
  {
   "cell_type": "code",
   "execution_count": null,
   "id": "728646a3",
   "metadata": {},
   "outputs": [],
   "source": []
  }
 ],
 "metadata": {
  "kernelspec": {
   "display_name": "Python 3 (ipykernel)",
   "language": "python",
   "name": "python3"
  },
  "language_info": {
   "codemirror_mode": {
    "name": "ipython",
    "version": 3
   },
   "file_extension": ".py",
   "mimetype": "text/x-python",
   "name": "python",
   "nbconvert_exporter": "python",
   "pygments_lexer": "ipython3",
   "version": "3.9.7"
  },
  "varInspector": {
   "cols": {
    "lenName": 16,
    "lenType": 16,
    "lenVar": 40
   },
   "kernels_config": {
    "python": {
     "delete_cmd_postfix": "",
     "delete_cmd_prefix": "del ",
     "library": "var_list.py",
     "varRefreshCmd": "print(var_dic_list())"
    },
    "r": {
     "delete_cmd_postfix": ") ",
     "delete_cmd_prefix": "rm(",
     "library": "var_list.r",
     "varRefreshCmd": "cat(var_dic_list()) "
    }
   },
   "types_to_exclude": [
    "module",
    "function",
    "builtin_function_or_method",
    "instance",
    "_Feature"
   ],
   "window_display": false
  }
 },
 "nbformat": 4,
 "nbformat_minor": 5
}
