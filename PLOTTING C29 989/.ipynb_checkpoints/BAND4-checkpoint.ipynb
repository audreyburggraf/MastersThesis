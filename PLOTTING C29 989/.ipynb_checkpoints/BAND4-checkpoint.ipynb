{
 "cells": [
  {
   "cell_type": "code",
   "execution_count": 1,
   "id": "55f71cde",
   "metadata": {},
   "outputs": [],
   "source": [
    "import sys\n",
    "import numpy as np\n",
    "import matplotlib.patches as patches\n",
    "from collections import defaultdict\n",
    "import pandas as pd"
   ]
  },
  {
   "cell_type": "code",
   "execution_count": 2,
   "id": "958df6dd",
   "metadata": {},
   "outputs": [],
   "source": [
    "%run constants.py"
   ]
  },
  {
   "cell_type": "code",
   "execution_count": null,
   "id": "c37b2e3c",
   "metadata": {},
   "outputs": [],
   "source": [
    "%run \"/Users/audreyburggraf/Desktop/QUEEN'S/THESIS RESEARCH/PLOTTING C29 989/FUNCTIONS/load_functions\""
   ]
  },
  {
   "cell_type": "code",
   "execution_count": null,
   "id": "10450e28",
   "metadata": {},
   "outputs": [],
   "source": [
    "%run \"/Users/audreyburggraf/Desktop/QUEEN'S/THESIS RESEARCH/PLOTTING C29 989/FITS FILES/BAND4/load_band4_data.py\""
   ]
  },
  {
   "cell_type": "code",
   "execution_count": null,
   "id": "e7aefe9b",
   "metadata": {},
   "outputs": [],
   "source": [
    "%run \"/Users/audreyburggraf/Desktop/QUEEN'S/THESIS RESEARCH/PLOTTING C29 989/CARTA FILES/BAND4/load_carta_data_band4.py\""
   ]
  },
  {
   "cell_type": "code",
   "execution_count": null,
   "id": "7fe509e5",
   "metadata": {},
   "outputs": [],
   "source": [
    "# Call the function\n",
    "results = generate_polarization_vectors_band4(ny, nx,\n",
    "                                              RA_centre_pix, Dec_centre_pix,\n",
    "                                              minor_angle_rad_sky_band4,\n",
    "                                              StokesI_mJy,\n",
    "                                              POLI_mJy, POLI_err_mJy,\n",
    "                                              PA_rad, PA_err_deg)\n"
   ]
  },
  {
   "cell_type": "code",
   "execution_count": null,
   "id": "f36bf69d",
   "metadata": {},
   "outputs": [],
   "source": [
    "# Accessing the actual vector data and angles\n",
    "vector_data_actual_cartesian = results['vector_data_actual_cartesian']\n",
    "vector_angle_actual_sky = results['vector_angle_actual_sky']\n",
    "\n",
    "# Accessing the vector data for 100 Uniform grid\n",
    "vector_data_100Uniform_cartesian = results['vector_data_100Uniform_cartesian']\n",
    "vector_angle_100Uniform_sky = results['vector_angle_100Uniform_sky']\n",
    "\n",
    "# Accessing the Stokes Q and U grids for 100 Uniform grid\n",
    "StokesQ_grid_100Uniform = results['StokesQ_grid_100Uniform']\n",
    "StokesU_grid_100Uniform = results['StokesU_grid_100Uniform']\n",
    "\n",
    "# Accessing the vector data for 100 Azimuthal grid\n",
    "vector_data_100Azimuthal_cartesian = results['vector_data_100Azimuthal_cartesian']\n",
    "vector_angle_100Azimuthal_sky = results['vector_angle_100Azimuthal_sky']\n",
    "\n",
    "# Accessing the Stokes Q and U grids for 100 Azimuthal grid\n",
    "StokesQ_grid_100Azimuthal = results['StokesQ_grid_100Azimuthal']\n",
    "StokesU_grid_100Azimuthal = results['StokesU_grid_100Azimuthal']"
   ]
  },
  {
   "cell_type": "markdown",
   "id": "c2708202",
   "metadata": {},
   "source": [
    "## Constants from Band 6"
   ]
  },
  {
   "cell_type": "markdown",
   "id": "1718eca7",
   "metadata": {},
   "source": [
    "# Plotting Stokes I and Polarization Intensity"
   ]
  },
  {
   "cell_type": "code",
   "execution_count": null,
   "id": "9c352a3f",
   "metadata": {},
   "outputs": [],
   "source": [
    "fig, ax = create_stokes_i_base_plot(StokesI_wcs, StokesI_stretched_mJy, soft_colormap_v2, \n",
    "                                    normalized_cbar_ticks, StokesI_unstretched_cbar_ticks, \n",
    "                                    xmin, xmax, ymin, ymax, reference_length_pix, reference_length_AU,\n",
    "                                    BMAJ_pix, BMIN_pix, BPA_deg_cartesian, \n",
    "                                    max_length_pix, reference_fraction)"
   ]
  },
  {
   "cell_type": "markdown",
   "id": "44a8978c",
   "metadata": {},
   "source": [
    "## Make Polarization Intensity Plot"
   ]
  },
  {
   "cell_type": "code",
   "execution_count": null,
   "id": "2a9a0a7f",
   "metadata": {},
   "outputs": [],
   "source": [
    "fig, ax = create_base_plot(StokesI_wcs, \n",
    "                           POLI_mJy, 'Polarized Intensity (mJy/beam)',\n",
    "                           soft_colormap_v2, \n",
    "                           xmin, xmax, ymin, ymax, reference_length_pix, reference_length_AU,\n",
    "                           BMAJ_pix, BMIN_pix, BPA_deg_cartesian, \n",
    "                           max_length_pix, reference_fraction)"
   ]
  },
  {
   "cell_type": "markdown",
   "id": "331872be",
   "metadata": {},
   "source": [
    "## Add vectors to both plots"
   ]
  },
  {
   "cell_type": "code",
   "execution_count": null,
   "id": "6b72962e",
   "metadata": {},
   "outputs": [],
   "source": [
    "fig, ax = create_stokes_i_plus_one_base_plot(StokesI_wcs, StokesI_stretched, \n",
    "                                             normalized_cbar_ticks, StokesI_unstretched_cbar_ticks, \n",
    "                                             POLI_mJy, 'Polarized Intensity (mJy/beam)',\n",
    "                                             soft_colormap_v2, \n",
    "                                             xmin, xmax, ymin, ymax, reference_length_pix, reference_length_AU,\n",
    "                                             BMAJ_pix, BMIN_pix, BPA_deg_cartesian, \n",
    "                                             max_length_pix, reference_fraction)\n",
    "\n",
    "for row in vector_data_actual_cartesian:\n",
    "    ax[0].plot([row[0], row[1]], [row[2], row[3]], color='black')\n",
    "    \n",
    "    \n",
    "for row in vector_data_actual_cartesian:\n",
    "    ax[1].plot([row[0], row[1]], [row[2], row[3]], color='black')"
   ]
  },
  {
   "cell_type": "markdown",
   "id": "5887c4f6",
   "metadata": {},
   "source": [
    "# Slices Along Major and Minor Axes"
   ]
  },
  {
   "cell_type": "code",
   "execution_count": null,
   "id": "d8d3b255",
   "metadata": {},
   "outputs": [],
   "source": [
    "major_data_StokesI, major_offset_arcsec_StokesI, minor_data_StokesI, minor_offset_arcsec_StokesI = run_slices(StokesI_mJy, \n",
    "                                                                                                              StokesI_header,\n",
    "                                                                                                              StokesI_wcs,\n",
    "                                                                                                              len(carta_major_data_mJy_StokesI),\n",
    "                                                                                                              xmin, xmax, ymin, ymax,\n",
    "                                                                                                              6)"
   ]
  },
  {
   "cell_type": "code",
   "execution_count": null,
   "id": "796ebd6a",
   "metadata": {},
   "outputs": [],
   "source": [
    "major_data_POLI, major_offset_arcsec_POLI, minor_data_POLI, minor_offset_arcsec_POLI = run_slices(POLI_mJy, \n",
    "                                                                                                  StokesI_header,\n",
    "                                                                                                  StokesI_wcs, \n",
    "                                                                                                  len(carta_major_data_mJy_POLI),\n",
    "                                                                                                  xmin, xmax, ymin, ymax, \n",
    "                                                                                                  6)"
   ]
  },
  {
   "cell_type": "code",
   "execution_count": null,
   "id": "7410def7",
   "metadata": {},
   "outputs": [],
   "source": [
    "ax = plot_slices_along_axes(\n",
    "    major_data_StokesI,\n",
    "    minor_data_StokesI,\n",
    "    carta_major_data_mJy_StokesI,\n",
    "    carta_minor_data_mJy_StokesI,\n",
    "    major_offset_arcsec_StokesI,\n",
    "    minor_offset_arcsec_StokesI,\n",
    "    carta_major_offset_StokesI,\n",
    "    carta_minor_offset_StokesI,\n",
    "    y_label=\"Stokes I (mJy/beam)\",\n",
    "    type_of_plot=\"Line\",  # or \"Scatter\",\n",
    "    cb_friendly = False,\n",
    "    vline = False\n",
    ")\n"
   ]
  },
  {
   "cell_type": "code",
   "execution_count": null,
   "id": "53bdf032",
   "metadata": {
    "code_folding": []
   },
   "outputs": [],
   "source": [
    "ax = plot_slices_along_axes(\n",
    "    major_data_POLI,\n",
    "    minor_data_POLI,\n",
    "    carta_major_data_mJy_POLI,\n",
    "    carta_minor_data_mJy_POLI,\n",
    "    major_offset_arcsec_POLI,\n",
    "    minor_offset_arcsec_POLI,\n",
    "    carta_major_offset_POLI,\n",
    "    carta_minor_offset_POLI,\n",
    "    y_label=\"Polarized Intensity (mJy/beam)\",\n",
    "    type_of_plot=\"Line\",  # or \"Scatter\"\n",
    "    cb_friendly = False,\n",
    "    vline = True\n",
    ")"
   ]
  },
  {
   "cell_type": "markdown",
   "id": "c2fec8ba",
   "metadata": {},
   "source": [
    "# Ratio Models"
   ]
  },
  {
   "cell_type": "code",
   "execution_count": null,
   "id": "0aa4c307",
   "metadata": {},
   "outputs": [],
   "source": [
    "vector_data_plotting_grid, vector_data_list_100U_to_100A, testing_vector_angles = ratio_model_band4(StokesQ_grid_100Uniform, StokesU_grid_100Uniform,\n",
    "                                                                                           StokesQ_grid_100Azimuthal, StokesU_grid_100Azimuthal,\n",
    "                                                                                           ny, nx,\n",
    "                                                                                           step, vector_length_pix_const,\n",
    "                                                                                           POLI_mJy, POLI_err_mJy, \n",
    "                                                                                           PA_err_deg)"
   ]
  },
  {
   "cell_type": "code",
   "execution_count": null,
   "id": "a19b58cc",
   "metadata": {
    "scrolled": false
   },
   "outputs": [],
   "source": [
    "# Define the figure and subplots\n",
    "nrows, ncols = 6, 2\n",
    "fig, axes = plt.subplots(nrows, ncols, figsize=(20, 38), constrained_layout=True, \n",
    "                         subplot_kw={'projection': StokesI_wcs},\n",
    "                         gridspec_kw={'wspace': -1})\n",
    "\n",
    "\n",
    "# Loop through subplots\n",
    "for i, ax in enumerate(axes.flat):\n",
    "    if i >= len(ratio_grid_plot_titles):\n",
    "        ax.axis(\"off\")  # Hide empty subplots if there is extra space\n",
    "        continue\n",
    "    \n",
    "    # Create blank grid\n",
    "    row, col = divmod(i, ncols)\n",
    "    create_blank_grid(row, col, ax, \n",
    "                      POLI_mJy, 'Polarized Intensity (mJy/beam)', 0.5, \n",
    "                      StokesI_wcs, soft_colormap_v2, \n",
    "                      xmin, xmax, ymin, ymax, reference_length_pix, reference_length_AU,\n",
    "                      BMAJ_pix, BMIN_pix, BPA_deg_cartesian, \n",
    "                      max_length_pix, reference_fraction)\n",
    "    \n",
    "    ax.set_title(ratio_grid_plot_titles[i], fontsize=20)\n",
    "    \n",
    "    # Add vector plots\n",
    "    for row in vector_data_plotting_grid[i]:\n",
    "        ax.plot([row[0], row[1]], [row[2], row[3]], color='black', lw = 3, label = 'Model')\n",
    "        \n",
    "    # Plot vector data on the first subplot (axes[0, 0])\n",
    "    for row in vector_data_actual_cartesian:\n",
    "        ax.plot([row[0], row[1]], [row[2], row[3]], color='red', lw = 3, label = 'Real')\n",
    "    \n",
    "    # Set axis labels and ticks\n",
    "    if col == 0:\n",
    "        ax.set_ylabel('Dec', fontsize=axis_label_fs)\n",
    "        ax.tick_params(axis=\"y\", which=\"both\", left=True, labelleft=True)\n",
    "    else:\n",
    "        ax.tick_params(axis=\"y\", which=\"both\", left=True, labelleft=False)\n",
    "\n",
    "    if row == nrows - 1:\n",
    "        ax.set_xlabel('RA', fontsize=axis_label_fs)\n",
    "        ax.tick_params(axis=\"x\", which=\"both\", bottom=True, labelbottom=True)\n",
    "    else:\n",
    "        ax.tick_params(axis=\"x\", which=\"both\", bottom=True, labelbottom=False)\n",
    "        \n",
    "        \n",
    "    # ax.text(xmin + 5, ymax - 5, f\"{i}\", fontsize=16, color='blue', ha='left', va='top')\n",
    "\n",
    "    \n",
    "    ax.set_xlim(xmin, xmax)\n",
    "    ax.set_ylim(ymin, ymax)\n",
    "    ax.minorticks_on()\n",
    "    ax.tick_params(axis=\"x\", which=\"major\", direction=\"in\", bottom=True, top=True, length=7, labelsize=axis_num_fs - 10)\n",
    "    ax.tick_params(axis=\"y\", which=\"major\", direction=\"in\", left=True, right=True, length=7, labelsize=axis_num_fs)\n",
    "\n",
    "plt.show()"
   ]
  },
  {
   "cell_type": "markdown",
   "id": "e828933d",
   "metadata": {},
   "source": [
    "## Find the best one"
   ]
  },
  {
   "cell_type": "code",
   "execution_count": null,
   "id": "b7f6fddf",
   "metadata": {},
   "outputs": [],
   "source": [
    "min_index = find_best_fit_ratio_model(vector_angle_actual_sky, testing_vector_angles)"
   ]
  },
  {
   "cell_type": "code",
   "execution_count": null,
   "id": "11fc4797",
   "metadata": {},
   "outputs": [],
   "source": [
    "#*** not plotting rght one\n",
    "fig, ax = create_base_plot(StokesI_wcs, POLI_mJy, 'Polarized Intensity (mJy/beam)' , \n",
    "                           soft_colormap_no_red, \n",
    "                           xmin, xmax, ymin, ymax, reference_length_pix, reference_length_AU,\n",
    "                           BMAJ_pix, BMIN_pix, BPA_deg_cartesian, \n",
    "                           max_length_pix, reference_fraction)\n",
    "\n",
    "# Add vector plots\n",
    "for row in vector_data_list_100U_to_100A[min_index]:\n",
    "    ax.plot([row[0], row[1]], [row[2], row[3]], color='black', lw = 5, label = 'Best Model')\n",
    "\n",
    "# Plot vector data on the first subplot (axes[0, 0])\n",
    "for row in vector_data_actual_cartesian:\n",
    "    ax.plot([row[0], row[1]], [row[2], row[3]], color='red', lw = 5, label = 'Real')"
   ]
  },
  {
   "cell_type": "markdown",
   "id": "951d17b2",
   "metadata": {},
   "source": [
    "# Gaussian Model"
   ]
  },
  {
   "cell_type": "code",
   "execution_count": null,
   "id": "f5a223bc",
   "metadata": {},
   "outputs": [],
   "source": [
    "theta_rad = major_angle_rad_cartesian_band4\n",
    "# theta_rad = minor_angle_rad_cartesian"
   ]
  },
  {
   "cell_type": "code",
   "execution_count": null,
   "id": "2f6aaaa3",
   "metadata": {},
   "outputs": [],
   "source": [
    "phi_values = [2, 3, 4, 5, 6, 7]\n",
    "\n",
    "chi_values = []\n",
    "vector_angles = []\n",
    "all_values = []"
   ]
  },
  {
   "cell_type": "code",
   "execution_count": null,
   "id": "bd0a913b",
   "metadata": {},
   "outputs": [],
   "source": [
    "BMAJ_pix_values =  np.array([10, 20, 30, 40, 50]) # + np.array(BMAJ_pix, dtype=int)\n",
    "BMIN_pix_values =  np.array([10, 20, 30, 40, 50]) # + np.array(BMIN_pix, dtype=int)\n",
    "\n",
    "# Print results\n",
    "print(f'The BMAJ pix values we will test are: {BMAJ_pix_values}')\n",
    "print(f'The BMIN pix values we will test are: {BMIN_pix_values}')"
   ]
  },
  {
   "cell_type": "code",
   "execution_count": null,
   "id": "0c93060b",
   "metadata": {},
   "outputs": [],
   "source": [
    "# Dictionary to store results\n",
    "results = {}\n",
    "\n",
    "results_test = []\n",
    "gaussian_save = []\n",
    "\n",
    "for phi_val in phi_values: \n",
    "    for BMAJ_pix_val in BMAJ_pix_values:\n",
    "        for BMIN_pix_val in BMIN_pix_values:\n",
    "            \n",
    "            # Run the gaussian model function\n",
    "            # --------------------------------------------------------------------------------------------------------------------------------------------\n",
    "            GaussianUniformRatios, GaussianAzimuthalRatios, _, _ = gaussian_2d_flat_topped_tilted_model(nx, ny, \n",
    "                                                                                                        theta_rad, phi_val, \n",
    "                                                                                                        BMIN_pix_val, BMAJ_pix_val, \n",
    "                                                                                                        RA_centre_pix, Dec_centre_pix)\n",
    "            # --------------------------------------------------------------------------------------------------------------------------------------------\n",
    "            \n",
    "            \n",
    "\n",
    "\n",
    "            # Recovere the Q, U and vector angle\n",
    "            # --------------------------------------------------------------------------------------------------------------------------------------------\n",
    "            _, _, _, vectors_data, vectors_angle = mix_StokesQU_and_generate_vectors_band4(GaussianUniformRatios, GaussianAzimuthalRatios, \n",
    "                                                                                     StokesQ_grid_100Uniform, \n",
    "                                                                                     StokesU_grid_100Uniform,\n",
    "                                                                                     StokesQ_grid_100Azimuthal, \n",
    "                                                                                     StokesU_grid_100Azimuthal,\n",
    "                                                                                     ny, nx, \n",
    "                                                                                     POLI_mJy, POLI_err_mJy, \n",
    "                                                                                     PA_err_deg)\n",
    "            # ------------------------------------------------------------------------------------------------------------------------------------------------------------------------------------------------------------------\n",
    "            # Create a key for the dictionary based on the values\n",
    "            value_str = f\"{int(phi_val)}_{int(BMAJ_pix_val)}_{int(BMIN_pix_val)}\"  \n",
    "    \n",
    "            # Save the results in the dictionary\n",
    "            results[f\"vectors_data_{value_str}\"] = vectors_data\n",
    "            \n",
    "            all_values.append((phi_val, BMAJ_pix_val, BMIN_pix_val))\n",
    "            # ------------------------------------------------------------------------------------------------------------------------------------------------------------------------------------------------------------------\n",
    "           \n",
    "    \n",
    "    \n",
    "            # Calculate and append chi squared \n",
    "            # --------------------------------------------------------------\n",
    "            observed = vectors_angle\n",
    "            expected = vector_angle_actual_sky\n",
    "\n",
    "            chi_squared = calculate_chi_squared_v2(observed, expected)\n",
    "        \n",
    "            chi_values.append(chi_squared)\n",
    "            \n",
    "            \n",
    "            results_test.append((phi_val, BMAJ_pix_val, BMIN_pix_val, chi_squared))\n",
    "            gaussian_save.append(GaussianUniformRatios)\n",
    "            # --------------------------------------------------------------"
   ]
  },
  {
   "cell_type": "code",
   "execution_count": null,
   "id": "7ec05e81",
   "metadata": {},
   "outputs": [],
   "source": [
    "# Find the index of the minimum chi-squared value\n",
    "min_index = chi_values.index(min(chi_values))\n",
    "\n",
    "best_phi, best_BMAJ, best_BMIN = all_values[min_index]"
   ]
  },
  {
   "cell_type": "code",
   "execution_count": null,
   "id": "d50382dc",
   "metadata": {},
   "outputs": [],
   "source": [
    "# Print the results\n",
    "print(f'The lowest chi-squared value is for phi = {best_phi:.2f}, BMAJ = {best_BMAJ:.2f}, and BMIN = {best_BMIN:.2f}: χ² = {chi_values[min_index]:.3f}')"
   ]
  },
  {
   "cell_type": "code",
   "execution_count": null,
   "id": "fee38de8",
   "metadata": {},
   "outputs": [],
   "source": [
    "# Access the best vector data from the dictionary\n",
    "best_key = f\"vectors_data_{int(best_phi)}_{int(best_BMAJ)}_{int(best_BMIN)}\"\n",
    "vector_data_gaussian_best = results[best_key]"
   ]
  },
  {
   "cell_type": "code",
   "execution_count": null,
   "id": "e2e964cf",
   "metadata": {},
   "outputs": [],
   "source": [
    "fig, ax = create_base_plot(StokesI_wcs, \n",
    "                           PPOLI_mJy, 'Polarized Intensity (mJy/beam)', \n",
    "                           soft_colormap_no_red, \n",
    "                           xmin, xmax, ymin, ymax, reference_length_pix, reference_length_AU,\n",
    "                           BMAJ_pix, BMIN_pix, BPA_deg_cartesian, \n",
    "                           max_length_pix, reference_fraction)\n",
    "\n",
    "first_real = True\n",
    "for row in vector_data_actual_cartesian:\n",
    "    ax.plot([row[0], row[1]], [row[2], row[3]], color='black', lw=5, \n",
    "            label='Real' if first_real else None)\n",
    "    first_real = False\n",
    "    \n",
    "    \n",
    "# Add vector plots, ensuring the label appears only once\n",
    "first_best_model = True\n",
    "for row in vector_data_gaussian_best:\n",
    "    ax.plot([row[0], row[1]], [row[2], row[3]], color='red', lw=5, \n",
    "            label='Best Gaussian Model' if first_best_model else None)\n",
    "    first_best_model = False\n",
    "\n",
    "ax.legend(fontsize = legend_text_fs)"
   ]
  },
  {
   "cell_type": "code",
   "execution_count": null,
   "id": "3ca2f11b",
   "metadata": {},
   "outputs": [],
   "source": [
    "print(f'We have {len(all_values)} different options/runs to choose from')"
   ]
  },
  {
   "cell_type": "code",
   "execution_count": null,
   "id": "29413793",
   "metadata": {},
   "outputs": [],
   "source": [
    "custom_indices = [1, 20]\n",
    "custom_params = [all_values[i] for i in custom_indices]\n",
    "gaussian_data = [gaussian_save[i] for i in custom_indices]"
   ]
  },
  {
   "cell_type": "code",
   "execution_count": null,
   "id": "b2343dfe",
   "metadata": {},
   "outputs": [],
   "source": [
    "# Optional: print info for logging\n",
    "for idx, (phi, BMAJ, BMIN) in zip(custom_indices, custom_params):\n",
    "    print(f'For custom index {idx}: phi = {phi:.2f}, BMAJ = {BMAJ:.2f}, BMIN = {BMIN:.2f}')"
   ]
  },
  {
   "cell_type": "code",
   "execution_count": null,
   "id": "ba4c181f",
   "metadata": {},
   "outputs": [],
   "source": [
    "# Convert results into structured 2D arrays\n",
    "phi_list, BMAJ_list, BMIN_list, chi_list = zip(*results_test)  # Unpack into separate lists\n",
    "\n",
    "# Reshape into 2D grids (len(a_values) rows, len(b_values) columns)\n",
    "# Reshape into 3D grids\n",
    "phi_grid = np.array(phi_list).reshape(len(phi_values),   len(BMAJ_pix_values), len(BMIN_pix_values))\n",
    "BMAJ_grid = np.array(BMAJ_list).reshape(len(phi_values), len(BMAJ_pix_values), len(BMIN_pix_values))\n",
    "BMIN_grid = np.array(BMIN_list).reshape(len(phi_values), len(BMAJ_pix_values), len(BMIN_pix_values))\n",
    "CHI_grid = np.array(chi_list).reshape(len(phi_values),   len(BMAJ_pix_values), len(BMIN_pix_values))"
   ]
  },
  {
   "cell_type": "code",
   "execution_count": null,
   "id": "2a1bb22f",
   "metadata": {},
   "outputs": [],
   "source": [
    "# Organize data\n",
    "phi_dict = defaultdict(list)\n",
    "bmaj_dict = defaultdict(list)\n",
    "bmin_dict = defaultdict(list)\n",
    "\n",
    "for phi, BMAJ, BMIN, chi in results_test:\n",
    "    phi_dict[phi].append(chi)\n",
    "    bmaj_dict[BMAJ].append(chi)\n",
    "    bmin_dict[BMIN].append(chi)\n",
    "\n",
    "# Compute averages\n",
    "phi_avg = {phi: np.mean(chi_values) for phi, chi_values in phi_dict.items()}\n",
    "bmaj_avg = {BMAJ: np.mean(chi_values) for BMAJ, chi_values in bmaj_dict.items()}\n",
    "bmin_avg = {BMIN: np.mean(chi_values) for BMIN, chi_values in bmin_dict.items()}"
   ]
  },
  {
   "cell_type": "code",
   "execution_count": null,
   "id": "dd5a76ce",
   "metadata": {},
   "outputs": [],
   "source": [
    "# Create figure\n",
    "fig, axes = plt.subplots(1, 3, figsize=(18, 5))\n",
    "\n",
    "# Plot phi vs chi^2\n",
    "axes[0].plot(list(phi_avg.keys()), list(phi_avg.values()), marker='o', linestyle='-', color = 'blue', lw = 4, ms = 15)\n",
    "axes[0].set_xlabel(r'$\\phi$', fontsize = axis_label_fs)\n",
    "axes[0].set_ylabel(r'$\\chi^2$', fontsize = axis_label_fs)\n",
    "axes[0].set_title(r'$\\phi$ vs $\\chi^2$', fontsize = title_fs)\n",
    "\n",
    "# Plot BMAJ vs chi^2\n",
    "axes[1].plot(list(bmaj_avg.keys()), list(bmaj_avg.values()), marker='o', linestyle='-', color = 'red', lw = 4, ms = 15)\n",
    "axes[1].set_xlabel('BMAJ', fontsize = axis_label_fs)\n",
    "axes[1].set_ylabel(r'$\\chi^2$', fontsize = axis_label_fs)\n",
    "axes[1].set_title(r'BMAJ vs $\\chi^2$', fontsize = title_fs)\n",
    "\n",
    "# Plot BMIN vs chi^2\n",
    "axes[2].plot(list(bmin_avg.keys()), list(bmin_avg.values()), marker='o', linestyle='-', color = 'forestgreen', lw = 4, ms = 15)\n",
    "axes[2].set_xlabel('BMIN', fontsize = axis_label_fs)\n",
    "axes[2].set_ylabel(r'$\\chi^2$', fontsize = axis_label_fs)\n",
    "axes[2].set_title(r'BMIN vs $\\chi^2$', fontsize = title_fs)\n",
    "\n",
    "plt.tight_layout()\n",
    "plt.show()\n"
   ]
  },
  {
   "cell_type": "code",
   "execution_count": null,
   "id": "f6cb2f84",
   "metadata": {},
   "outputs": [],
   "source": [
    "# Plotting the result\n",
    "fig, ax = plt.subplots(3, 2, figsize=(20, 18))\n",
    " \n",
    "\n",
    "# Loop over the first `num_plots` values of phi\n",
    "for i, phi_fixed_index in enumerate(range(len(phi_values))):  \n",
    "\n",
    "    BMAJ = BMAJ_grid[phi_fixed_index, :, :]  # Slice at fixed phi\n",
    "    BMIN = BMIN_grid[phi_fixed_index, :, :]\n",
    "    chi = CHI_grid[phi_fixed_index, :, :]\n",
    "    \n",
    "    row = i // 2  # Row index (0 or 1)\n",
    "    col = i % 2   # Column index (0 or 1)\n",
    "    \n",
    "    # Create the contour plot\n",
    "    contour = ax[row, col].contourf(BMAJ, BMIN, chi, 50, cmap=soft_colormap_v2)\n",
    "    \n",
    "    # Add colorbar\n",
    "    cbar = fig.colorbar(contour, ax=ax[row, col], orientation='vertical')\n",
    "    cbar.set_label(r'$\\chi^2$', fontsize=cbar_fs)\n",
    "    cbar.ax.tick_params(labelsize=axis_num_fs, which='major', length=7, direction=\"in\")\n",
    "    cbar.ax.tick_params(which='minor', length=4, direction=\"in\")\n",
    "    \n",
    "    # Set title with actual c-value\n",
    "    ax[row, col].set_title(rf'$\\phi$ = {phi_values[phi_fixed_index]}', fontsize=title_fs)  \n",
    "\n",
    "    # Labels\n",
    "    ax[row, col].set_xlabel('BMAJ', fontsize=axis_label_fs)\n",
    "    ax[row, col].set_ylabel('BMIN', fontsize=axis_label_fs)\n",
    "\n",
    "    # Ticks\n",
    "    ax[row, col].minorticks_on()\n",
    "    ax[row, col].tick_params(axis=\"x\", which=\"major\", direction=\"in\", bottom=True, top=True, length=7, labelsize=axis_num_fs)\n",
    "    ax[row, col].tick_params(axis=\"y\", which=\"major\", direction=\"in\", left=True, right=True, length=7, labelsize=axis_num_fs)\n",
    "\n",
    "plt.tight_layout()\n",
    "plt.show()\n"
   ]
  },
  {
   "cell_type": "code",
   "execution_count": null,
   "id": "a24b3aee",
   "metadata": {},
   "outputs": [],
   "source": [
    "# Plotting the result\n",
    "fig, ax = plt.subplots(3, 2, figsize=(20, 18))\n",
    " \n",
    "\n",
    "# Loop over the first `num_plots` values of phi\n",
    "for i, BMIN_fixed_index in enumerate(range(len(BMIN_pix_values))):  \n",
    "\n",
    "    phi = phi_grid[:, :, BMIN_fixed_index]\n",
    "    BMAJ = BMAJ_grid[:, :, BMIN_fixed_index]  \n",
    "    chi = CHI_grid[:, :, BMIN_fixed_index]\n",
    "    \n",
    "    row = i // 2  # Row index (0 or 1)\n",
    "    col = i % 2   # Column index (0 or 1)\n",
    "    \n",
    "    # Create the contour plot\n",
    "    contour = ax[row, col].contourf(BMAJ, phi, chi, 50, cmap=soft_colormap_v2)\n",
    "    \n",
    "    # Add colorbar\n",
    "    cbar = fig.colorbar(contour, ax=ax[row, col], orientation='vertical')\n",
    "    cbar.set_label(r'$\\chi^2$', fontsize=cbar_fs)\n",
    "    cbar.ax.tick_params(labelsize=axis_num_fs, which='major', length=7, direction=\"in\")\n",
    "    cbar.ax.tick_params(which='minor', length=4, direction=\"in\")\n",
    "    \n",
    "    # Set title with actual c-value\n",
    "    ax[row, col].set_title(rf'BMIN = {BMIN_pix_values[BMIN_fixed_index]}', fontsize=title_fs)  \n",
    "\n",
    "    # Labels\n",
    "    ax[row, col].set_xlabel('BMAJ', fontsize=axis_label_fs)\n",
    "    ax[row, col].set_ylabel(r'$\\phi$', fontsize=axis_label_fs)\n",
    "\n",
    "    # Ticks\n",
    "    ax[row, col].minorticks_on()\n",
    "    ax[row, col].tick_params(axis=\"x\", which=\"major\", direction=\"in\", bottom=True, top=True, length=7, labelsize=axis_num_fs)\n",
    "    ax[row, col].tick_params(axis=\"y\", which=\"major\", direction=\"in\", left=True, right=True, length=7, labelsize=axis_num_fs)\n",
    "\n",
    "plt.tight_layout()\n",
    "plt.show()\n"
   ]
  },
  {
   "cell_type": "code",
   "execution_count": null,
   "id": "3e9fdfe5",
   "metadata": {},
   "outputs": [],
   "source": [
    "# Plotting the result\n",
    "fig, ax = plt.subplots(3, 2, figsize=(20, 18))\n",
    " \n",
    "\n",
    "# Loop over the first `num_plots` values of phi\n",
    "for i, BMAJ_fixed_index in enumerate(range(len(BMAJ_pix_values))):  \n",
    "\n",
    "    phi = phi_grid[:, BMAJ_fixed_index, :]\n",
    "    BMIN = BMIN_grid[:, BMAJ_fixed_index, :]  \n",
    "    chi = CHI_grid[:, BMAJ_fixed_index, :]\n",
    "    \n",
    "    row = i // 2  # Row index (0 or 1)\n",
    "    col = i % 2   # Column index (0 or 1)\n",
    "    \n",
    "    # Create the contour plot\n",
    "    contour = ax[row, col].contourf(BMIN, phi, chi, 50, cmap= soft_colormap_v2)\n",
    "    \n",
    "    # Add colorbar\n",
    "    cbar = fig.colorbar(contour, ax=ax[row, col], orientation='vertical')\n",
    "    cbar.set_label(r'$\\chi^2$', fontsize=cbar_fs)\n",
    "    cbar.ax.tick_params(labelsize=axis_num_fs, which='major', length=7, direction=\"in\")\n",
    "    cbar.ax.tick_params(which='minor', length=4, direction=\"in\")\n",
    "    \n",
    "    # Set title with actual c-value\n",
    "    ax[row, col].set_title(rf'BMAJ = {BMAJ_pix_values[BMAJ_fixed_index]}', fontsize=title_fs)  \n",
    "\n",
    "    # Labels\n",
    "    ax[row, col].set_xlabel('BMIN', fontsize=axis_label_fs)\n",
    "    ax[row, col].set_ylabel(r'$\\phi$', fontsize=axis_label_fs)\n",
    "\n",
    "    # Ticks\n",
    "    ax[row, col].minorticks_on()\n",
    "    ax[row, col].tick_params(axis=\"x\", which=\"major\", direction=\"in\", bottom=True, top=True, length=7, labelsize=axis_num_fs)\n",
    "    ax[row, col].tick_params(axis=\"y\", which=\"major\", direction=\"in\", left=True, right=True, length=7, labelsize=axis_num_fs)\n",
    "\n",
    "plt.tight_layout()\n",
    "plt.show()\n"
   ]
  },
  {
   "cell_type": "code",
   "execution_count": null,
   "id": "54f490cd",
   "metadata": {},
   "outputs": [],
   "source": []
  }
 ],
 "metadata": {
  "kernelspec": {
   "display_name": "Python 3 (ipykernel)",
   "language": "python",
   "name": "python3"
  },
  "language_info": {
   "codemirror_mode": {
    "name": "ipython",
    "version": 3
   },
   "file_extension": ".py",
   "mimetype": "text/x-python",
   "name": "python",
   "nbconvert_exporter": "python",
   "pygments_lexer": "ipython3",
   "version": "3.9.7"
  },
  "varInspector": {
   "cols": {
    "lenName": 16,
    "lenType": 16,
    "lenVar": 40
   },
   "kernels_config": {
    "python": {
     "delete_cmd_postfix": "",
     "delete_cmd_prefix": "del ",
     "library": "var_list.py",
     "varRefreshCmd": "print(var_dic_list())"
    },
    "r": {
     "delete_cmd_postfix": ") ",
     "delete_cmd_prefix": "rm(",
     "library": "var_list.r",
     "varRefreshCmd": "cat(var_dic_list()) "
    }
   },
   "types_to_exclude": [
    "module",
    "function",
    "builtin_function_or_method",
    "instance",
    "_Feature"
   ],
   "window_display": false
  }
 },
 "nbformat": 4,
 "nbformat_minor": 5
}
