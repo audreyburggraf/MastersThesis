{
 "cells": [
  {
   "cell_type": "markdown",
   "id": "7324c143",
   "metadata": {},
   "source": [
    "Things I need to change/check:\n",
    "\n",
    "in $\\texttt{constants.py}$:\n",
    "- line 66: centre_str_band7 = 'J163135.656-240130.089'  \n",
    "- line 110: PA_deg_sky_band7 = 139.5 \n",
    "- line 121: StokesI_err_mJy_band7 = np.mean([0.0646, 0.0580, 0.0636, 0.056])\n",
    "- line 122: StokesQ_err_mJy_band7 = np.mean([0.0317, 0.0311, 0.0398, 0.034]) # These values are from CASA \n",
    "- line 123: StokesU_err_mJy_band7 = np.mean([0.0247, 0.0249, 0.0255, 0.024]) # These values are from CASA \n",
    "- line 134: step_band7 = 7\n",
    "\n",
    "\n",
    "in $\\texttt{load_band7_data.py}$:\n",
    "- line 68: StokesQ_err_mJy = np.full((ny, nx), constants.StokesQ_err_mJy_band7)\n",
    "- line 80: StokesU_err_mJy = np.full((ny, nx), constants.StokesQ_err_mJy_band7)\n",
    "- line 121: POLI_mJy = POLI_calc\n",
    "- line 122: PA_rad = PA_calc_rad\n",
    "- line 131: vector_len_pix_band7 = vector_len_pix_band4"
   ]
  },
  {
   "cell_type": "code",
   "execution_count": 1,
   "id": "299a79df",
   "metadata": {},
   "outputs": [],
   "source": [
    "%run constants.py"
   ]
  },
  {
   "cell_type": "code",
   "execution_count": 2,
   "id": "958df6dd",
   "metadata": {},
   "outputs": [],
   "source": [
    "%run constants.py"
   ]
  },
  {
   "cell_type": "code",
   "execution_count": 3,
   "id": "c37b2e3c",
   "metadata": {},
   "outputs": [],
   "source": [
    "%run \"/Users/audreyburggraf/Desktop/QUEEN'S/THESIS RESEARCH/PLOTTING C29 989/FUNCTIONS/load_functions\""
   ]
  },
  {
   "cell_type": "code",
   "execution_count": 4,
   "id": "10450e28",
   "metadata": {
    "scrolled": false
   },
   "outputs": [
    {
     "ename": "IndexError",
     "evalue": "too many indices for array: array is 3-dimensional, but 4 were indexed",
     "output_type": "error",
     "traceback": [
      "\u001b[0;31m---------------------------------------------------------------------------\u001b[0m",
      "\u001b[0;31mIndexError\u001b[0m                                Traceback (most recent call last)",
      "\u001b[0;32m~/Desktop/QUEEN'S/THESIS RESEARCH/PLOTTING C29 989/FITS FILES/BAND7/load_band7_data.py\u001b[0m in \u001b[0;36m<module>\u001b[0;34m\u001b[0m\n\u001b[1;32m     40\u001b[0m \u001b[0;31m# Stokes I\u001b[0m\u001b[0;34m\u001b[0m\u001b[0;34m\u001b[0m\u001b[0m\n\u001b[1;32m     41\u001b[0m \u001b[0;31m# -------------------------------------------------------------------------------------------------------\u001b[0m\u001b[0;34m\u001b[0m\u001b[0;34m\u001b[0m\u001b[0m\n\u001b[0;32m---> 42\u001b[0;31m \u001b[0mStokesI_header\u001b[0m\u001b[0;34m,\u001b[0m \u001b[0m_\u001b[0m\u001b[0;34m,\u001b[0m \u001b[0mStokesI_Jy\u001b[0m\u001b[0;34m,\u001b[0m \u001b[0mStokesI_wcs\u001b[0m \u001b[0;34m=\u001b[0m \u001b[0mread_in_file\u001b[0m\u001b[0;34m(\u001b[0m\u001b[0mStokesI_file\u001b[0m\u001b[0;34m)\u001b[0m\u001b[0;34m\u001b[0m\u001b[0;34m\u001b[0m\u001b[0m\n\u001b[0m\u001b[1;32m     43\u001b[0m \u001b[0mStokesI_mJy\u001b[0m \u001b[0;34m=\u001b[0m \u001b[0mconvert_jy_to_mjy\u001b[0m\u001b[0;34m(\u001b[0m\u001b[0mStokesI_Jy\u001b[0m\u001b[0;34m)\u001b[0m\u001b[0;34m\u001b[0m\u001b[0;34m\u001b[0m\u001b[0m\n\u001b[1;32m     44\u001b[0m \u001b[0;34m\u001b[0m\u001b[0m\n",
      "\u001b[0;32m~/Desktop/QUEEN'S/THESIS RESEARCH/PLOTTING C29 989/FUNCTIONS/FITS_Image_Functions.py\u001b[0m in \u001b[0;36mread_in_file\u001b[0;34m(file_name, dimensions)\u001b[0m\n\u001b[1;32m     53\u001b[0m \u001b[0;34m\u001b[0m\u001b[0m\n\u001b[1;32m     54\u001b[0m         \u001b[0;31m# Extract the 2D data slice (first Stokes parameter, first frequency slice)\u001b[0m\u001b[0;34m\u001b[0m\u001b[0;34m\u001b[0m\u001b[0m\n\u001b[0;32m---> 55\u001b[0;31m         \u001b[0mdata_2d\u001b[0m \u001b[0;34m=\u001b[0m \u001b[0mdata_4d\u001b[0m\u001b[0;34m[\u001b[0m\u001b[0;36m0\u001b[0m\u001b[0;34m,\u001b[0m \u001b[0;36m0\u001b[0m\u001b[0;34m,\u001b[0m \u001b[0;34m:\u001b[0m\u001b[0;34m,\u001b[0m \u001b[0;34m:\u001b[0m\u001b[0;34m]\u001b[0m\u001b[0;34m\u001b[0m\u001b[0;34m\u001b[0m\u001b[0m\n\u001b[0m\u001b[1;32m     56\u001b[0m     \u001b[0;32melif\u001b[0m \u001b[0mdimensions\u001b[0m \u001b[0;34m==\u001b[0m \u001b[0;36m2\u001b[0m\u001b[0;34m:\u001b[0m\u001b[0;34m\u001b[0m\u001b[0;34m\u001b[0m\u001b[0m\n\u001b[1;32m     57\u001b[0m         \u001b[0;31m# Directly extract the 2D data array\u001b[0m\u001b[0;34m\u001b[0m\u001b[0;34m\u001b[0m\u001b[0m\n",
      "\u001b[0;31mIndexError\u001b[0m: too many indices for array: array is 3-dimensional, but 4 were indexed"
     ]
    }
   ],
   "source": [
    "%run \"/Users/audreyburggraf/Desktop/QUEEN'S/THESIS RESEARCH/PLOTTING C29 989/FITS FILES/BAND7/load_band7_data.py\""
   ]
  },
  {
   "cell_type": "code",
   "execution_count": 5,
   "id": "e7aefe9b",
   "metadata": {},
   "outputs": [],
   "source": [
    "%run \"/Users/audreyburggraf/Desktop/QUEEN'S/THESIS RESEARCH/PLOTTING C29 989/CARTA FILES/BAND7/load_carta_data_band7.py\""
   ]
  },
  {
   "cell_type": "markdown",
   "id": "e7c3164f",
   "metadata": {},
   "source": [
    "# Find Peak POLI and get POLF"
   ]
  },
  {
   "cell_type": "code",
   "execution_count": 6,
   "id": "17406bfe",
   "metadata": {},
   "outputs": [
    {
     "ename": "NameError",
     "evalue": "name 'POLI_mJy' is not defined",
     "output_type": "error",
     "traceback": [
      "\u001b[0;31m---------------------------------------------------------------------------\u001b[0m",
      "\u001b[0;31mNameError\u001b[0m                                 Traceback (most recent call last)",
      "\u001b[0;32m/var/folders/p9/hcwv87bd7lxfdw1nmx4wt8d00000gn/T/ipykernel_9860/1675789818.py\u001b[0m in \u001b[0;36m<module>\u001b[0;34m\u001b[0m\n\u001b[1;32m      1\u001b[0m \u001b[0;31m# Find index of max POLI_mJy, ignoring NaNs\u001b[0m\u001b[0;34m\u001b[0m\u001b[0;34m\u001b[0m\u001b[0m\n\u001b[0;32m----> 2\u001b[0;31m \u001b[0my_max\u001b[0m\u001b[0;34m,\u001b[0m \u001b[0mx_max\u001b[0m \u001b[0;34m=\u001b[0m \u001b[0mnp\u001b[0m\u001b[0;34m.\u001b[0m\u001b[0munravel_index\u001b[0m\u001b[0;34m(\u001b[0m\u001b[0mnp\u001b[0m\u001b[0;34m.\u001b[0m\u001b[0mnanargmax\u001b[0m\u001b[0;34m(\u001b[0m\u001b[0mPOLI_mJy\u001b[0m\u001b[0;34m)\u001b[0m\u001b[0;34m,\u001b[0m \u001b[0mPOLI_mJy\u001b[0m\u001b[0;34m.\u001b[0m\u001b[0mshape\u001b[0m\u001b[0;34m)\u001b[0m\u001b[0;34m\u001b[0m\u001b[0;34m\u001b[0m\u001b[0m\n\u001b[0m\u001b[1;32m      3\u001b[0m \u001b[0;34m\u001b[0m\u001b[0m\n\u001b[1;32m      4\u001b[0m \u001b[0;31m# Get max POLI_mJy value\u001b[0m\u001b[0;34m\u001b[0m\u001b[0;34m\u001b[0m\u001b[0m\n\u001b[1;32m      5\u001b[0m \u001b[0mmax_POLI\u001b[0m \u001b[0;34m=\u001b[0m \u001b[0mPOLI_mJy\u001b[0m\u001b[0;34m[\u001b[0m\u001b[0my_max\u001b[0m\u001b[0;34m,\u001b[0m \u001b[0mx_max\u001b[0m\u001b[0;34m]\u001b[0m\u001b[0;34m\u001b[0m\u001b[0;34m\u001b[0m\u001b[0m\n",
      "\u001b[0;31mNameError\u001b[0m: name 'POLI_mJy' is not defined"
     ]
    }
   ],
   "source": [
    "# Find index of max POLI_mJy, ignoring NaNs\n",
    "y_max, x_max = np.unravel_index(np.nanargmax(POLI_mJy), POLI_mJy.shape)\n",
    "\n",
    "# Get max POLI_mJy value\n",
    "max_POLI = POLI_mJy[y_max, x_max]\n",
    "\n",
    "# Get corresponding Stokes I value at same position\n",
    "corresponding_I = StokesI_mJy[y_max, x_max]\n",
    "\n",
    "# Compute calculated polarization fraction\n",
    "calc_avg_POLF = max_POLI / corresponding_I \n",
    "\n",
    "# Get map POLF value\n",
    "map_avg_POLF = POLF[y_max, x_max]\n",
    "\n",
    "# Print results\n",
    "print(rf'The maximum POLI value is {max_POLI:.3f}, and it happens at the index ({y_max}, {x_max})')\n",
    "print(rf'At that index, the StokesI value is {corresponding_I:.3f}')\n",
    "print(rf'At that index, the calculated POLF value is {calc_avg_POLF:.4f} or {calc_avg_POLF* 100:.4f}%')\n",
    "print(rf'At that index, the map POLF value is {map_avg_POLF:.4f}')"
   ]
  },
  {
   "cell_type": "code",
   "execution_count": null,
   "id": "01952af0",
   "metadata": {},
   "outputs": [],
   "source": [
    "RA_centre_pix"
   ]
  },
  {
   "cell_type": "code",
   "execution_count": null,
   "id": "28e3adfb",
   "metadata": {},
   "outputs": [],
   "source": [
    "Dec_centre_pix"
   ]
  },
  {
   "cell_type": "markdown",
   "id": "896b9bd9",
   "metadata": {},
   "source": [
    "# Stokes I and Polarized Intensity Plot with Vectors"
   ]
  },
  {
   "cell_type": "code",
   "execution_count": null,
   "id": "6b72962e",
   "metadata": {
    "code_folding": [],
    "scrolled": false
   },
   "outputs": [],
   "source": [
    "fig, ax = create_stokes_i_plus_one_base_plot(StokesI_wcs, StokesI_stretched_mJy, \n",
    "                                             normalized_cbar_ticks, StokesI_unstretched_cbar_ticks, \n",
    "                                             POLI_mJy, 'Polarized Intensity (mJy/beam)',\n",
    "                                             soft_colormap_v2, \n",
    "                                             xmin, xmax, ymin, ymax, reference_length_pix, reference_length_AU,\n",
    "                                             BMAJ_pix, BMIN_pix, BPA_deg_cartesian, \n",
    "                                             max_length_pix, reference_fraction)\n",
    "\n",
    "for row in vector_data_actual_cartesian:\n",
    "    ax[0].plot([row[0], row[1]], [row[2], row[3]], color='black')\n",
    "    \n",
    "    \n",
    "for row in vector_data_actual_cartesian:\n",
    "    ax[1].plot([row[0], row[1]], [row[2], row[3]], color='black')\n",
    "    \n",
    "    \n",
    "    \n",
    "plt.savefig(image_folder_path + \"IRS63_StokesI_POLI_vectors_BAND7.pdf\", \n",
    "            dpi=300, \n",
    "            bbox_inches='tight')    \n",
    " "
   ]
  },
  {
   "cell_type": "code",
   "execution_count": null,
   "id": "9c550c87",
   "metadata": {},
   "outputs": [],
   "source": [
    "fig, ax = create_base_plot(StokesI_wcs, \n",
    "                           POLI_mJy, 'Polarized Intensity (mJy/beam)', \n",
    "                           soft_colormap_no_red, \n",
    "                           xmin, xmax, ymin, ymax, reference_length_pix, reference_length_AU,\n",
    "                           BMAJ_pix, BMIN_pix, BPA_deg_cartesian, \n",
    "                           max_length_pix, reference_fraction,\n",
    "                           cbar_fs = 40,\n",
    "                           axis_label_fs = 40,\n",
    "                           axis_num_fs = 21,\n",
    "                           cbar_orientation = 'horizontal',\n",
    "                           cbar_pad = 0.1,\n",
    "                           cbar_shrink = 0.9,\n",
    "                           fig_size_x = 12,\n",
    "                           fig_size_y = 14,\n",
    "                           text_fs = 40,\n",
    "                           y_label = True, y_num = False,\n",
    "                           x_label = True, x_num = False, \n",
    "                           full_axis_labels = False,\n",
    "                           cbar_num_fs = 40,\n",
    "                           line_y_frac = 0.05)\n",
    "\n",
    "\n",
    "first_real = True\n",
    "for row in vector_data_actual_cartesian:\n",
    "    ax.plot([row[0], row[1]], [row[2], row[3]], color='black', lw=5, \n",
    "            label='Real' if first_real else None)\n",
    "    first_real = False\n",
    "    \n",
    "\n",
    "ax.legend(fontsize = 35,\n",
    "         loc = 'upper left')\n",
    "\n",
    "\n",
    "plt.savefig(slideshow_image_folder_path + \"IRS63_POLI_BAND7_slides.jpeg\", \n",
    "            dpi=300, \n",
    "            bbox_inches='tight')  "
   ]
  },
  {
   "cell_type": "markdown",
   "id": "5887c4f6",
   "metadata": {},
   "source": [
    "# Slices Along Major and Minor Axes"
   ]
  },
  {
   "cell_type": "code",
   "execution_count": null,
   "id": "d8d3b255",
   "metadata": {},
   "outputs": [],
   "source": [
    "major_data_StokesI, major_offset_arcsec_StokesI, minor_data_StokesI, minor_offset_arcsec_StokesI, slices_points = run_slices(StokesI_mJy, \n",
    "                                                                                                                             StokesI_header,\n",
    "                                                                                                                             StokesI_wcs,\n",
    "                                                                                                                             carta_major_data_mJy_StokesI, \n",
    "                                                                                                                             carta_minor_data_mJy_StokesI,\n",
    "                                                                                                                             carta_minor_offset_StokesI,\n",
    "                                                                                                                             carta_major_offset_StokesI,\n",
    "                                                                                                                             band = 7,\n",
    "                                                                                                                             print_statement = False)"
   ]
  },
  {
   "cell_type": "code",
   "execution_count": null,
   "id": "796ebd6a",
   "metadata": {},
   "outputs": [],
   "source": [
    "major_data_POLI, major_offset_arcsec_POLI, minor_data_POLI, minor_offset_arcsec_POLI, _ = run_slices(POLI_mJy, \n",
    "                                                                                                     StokesI_header,\n",
    "                                                                                                     StokesI_wcs, \n",
    "                                                                                                     carta_major_data_mJy_POLI,\n",
    "                                                                                                     carta_minor_data_mJy_POLI,\n",
    "                                                                                                     carta_minor_offset_POLI,\n",
    "                                                                                                     carta_major_offset_POLI,\n",
    "                                                                                                     band = 7,\n",
    "                                                                                                     print_statement = False)"
   ]
  },
  {
   "cell_type": "code",
   "execution_count": null,
   "id": "fd46661f",
   "metadata": {},
   "outputs": [],
   "source": [
    "# major_data_POLF, major_offset_arcsec_POLF, minor_data_POLF, minor_offset_arcsec_POLF, _ = run_slices(POLF, \n",
    "#                                                                                                      StokesI_header,\n",
    "#                                                                                                      StokesI_wcs, \n",
    "#                                                                                                      carta_major_data_POLF,\n",
    "#                                                                                                      carta_minor_data_POLF,\n",
    "#                                                                                                      carta_minor_offset_POLF,\n",
    "#                                                                                                      carta_major_offset_POLF,\n",
    "#                                                                                                      band = 7,\n",
    "#                                                                                                      print_statement = False)"
   ]
  },
  {
   "cell_type": "code",
   "execution_count": null,
   "id": "07708729",
   "metadata": {},
   "outputs": [],
   "source": [
    "data_dict = {\n",
    "    \"StokesI_major\"         : major_data_StokesI,\n",
    "    \"StokesI_offset_major\": major_offset_arcsec_StokesI,\n",
    "    \"StokesI_minor\"         : minor_data_StokesI,\n",
    "    \"StokesI_offset_minor\": minor_offset_arcsec_StokesI\n",
    "}\n",
    "\n",
    "# Convert to DataFrame\n",
    "df = pd.DataFrame(data_dict)\n",
    "\n",
    "# Save to CSV\n",
    "df.to_csv(band7_carta_folder_path + \"IRS63_my_slice_StokesI_BAND7.csv\", index=False)"
   ]
  },
  {
   "cell_type": "code",
   "execution_count": null,
   "id": "01be5271",
   "metadata": {},
   "outputs": [],
   "source": [
    "data_dict = {\n",
    "    \"POLI_major\"         : major_data_POLI,\n",
    "    \"POLI_offset_major\": major_offset_arcsec_POLI,\n",
    "    \"POLI_minor\"         : minor_data_POLI,\n",
    "    \"POLI_offset_minor\": minor_offset_arcsec_POLI\n",
    "}\n",
    "\n",
    "# Convert to DataFrame\n",
    "df = pd.DataFrame(data_dict)\n",
    "\n",
    "# Save to CSV\n",
    "df.to_csv(band7_carta_folder_path + \"IRS63_my_slice_POLI_BAND7.csv\", index=False)"
   ]
  },
  {
   "cell_type": "code",
   "execution_count": null,
   "id": "38fb0d5b",
   "metadata": {},
   "outputs": [],
   "source": [
    "# data_dict = {\n",
    "#     \"POLF_major\"         : major_data_POLF,\n",
    "#     \"POLF_offset_major\"  : major_offset_arcsec_POLF,\n",
    "#     \"POLF_minor\"         : minor_data_POLF,\n",
    "#     \"POLF_offset_minor\"  : minor_offset_arcsec_POLF\n",
    "# }\n",
    "\n",
    "# # Convert to DataFrame\n",
    "# df = pd.DataFrame(data_dict)\n",
    "\n",
    "# # Save to CSV\n",
    "# df.to_csv(band7_carta_folder_path + \"IRS63_my_slice_POLF_BAND7.csv\", index=False)"
   ]
  },
  {
   "cell_type": "code",
   "execution_count": null,
   "id": "61e5367a",
   "metadata": {},
   "outputs": [],
   "source": [
    "# major_x, major_y, minor_x, minor_y = slices_points"
   ]
  },
  {
   "cell_type": "code",
   "execution_count": null,
   "id": "ad4ddaa8",
   "metadata": {},
   "outputs": [],
   "source": [
    "# fig, ax = create_base_plot(StokesI_wcs, POLI_mJy, 'Polarized Intensity (mJy/beam)', soft_colormap_v2, \n",
    "#                            xmin, xmax, ymin, ymax, reference_length_pix, reference_length_AU,\n",
    "#                            BMAJ_pix, BMIN_pix, BPA_deg_cartesian, \n",
    "#                            max_length_pix, reference_fraction)\n",
    "\n",
    "# ax.scatter(major_x, \n",
    "#            major_y, \n",
    "#            label = 'Major Axis Slice',\n",
    "#            color  = 'blue')\n",
    "\n",
    "# ax.scatter(minor_x, \n",
    "#            minor_y, \n",
    "#            label = 'Minor Axis Slice',\n",
    "#            color = 'red')\n",
    "\n",
    "# ax.legend(fontsize = legend_text_fs, loc = 'upper left')"
   ]
  },
  {
   "cell_type": "code",
   "execution_count": null,
   "id": "1d9be4ec",
   "metadata": {},
   "outputs": [],
   "source": [
    "# fig, ax = create_base_plot(StokesI_wcs, \n",
    "#                            POLI_mJy, 'Polarized Intensity (mJy/beam)', \n",
    "#                            soft_colormap_no_red, \n",
    "#                            xmin, xmax, ymin, ymax, reference_length_pix, reference_length_AU,\n",
    "#                            BMAJ_pix, BMIN_pix, BPA_deg_cartesian, \n",
    "#                            max_length_pix, reference_fraction,\n",
    "#                            cbar_fs = 23,\n",
    "#                            axis_label_fs = 25,\n",
    "#                            axis_num_fs = 21,\n",
    "#                            cbar_orientation = 'horizontal',\n",
    "#                            cbar_pad = 0.1,\n",
    "#                            cbar_shrink = 0.9,\n",
    "#                            fig_size_x = 12,\n",
    "#                            fig_size_y = 14)\n",
    "\n",
    "\n",
    "# ax.scatter(major_x, \n",
    "#            major_y, \n",
    "#            label = 'Major',\n",
    "#            color  = 'blue')\n",
    "\n",
    "# ax.scatter(minor_x, \n",
    "#            minor_y, \n",
    "#            label = 'Minor',\n",
    "#            color = 'red')\n",
    "\n",
    "# ax.legend(fontsize = 30, loc = 'upper left')\n",
    "\n",
    "\n",
    "# plt.savefig(slideshow_image_folder_path + \"IRS63_minor_major_slices_BAND7_slides.jpeg\", \n",
    "#             dpi=300, \n",
    "#             bbox_inches='tight')  \n"
   ]
  },
  {
   "cell_type": "code",
   "execution_count": null,
   "id": "7410def7",
   "metadata": {},
   "outputs": [],
   "source": [
    "ax = plot_slices_along_axes(\n",
    "    major_data_StokesI,\n",
    "    minor_data_StokesI,\n",
    "    carta_major_data_mJy_StokesI,\n",
    "    carta_minor_data_mJy_StokesI,\n",
    "    major_offset_arcsec_StokesI,\n",
    "    minor_offset_arcsec_StokesI,\n",
    "    carta_major_offset_StokesI,\n",
    "    carta_minor_offset_StokesI,\n",
    "    BMAJ_deg, BMIN_deg, \n",
    "    y_label=\"Stokes I (mJy/beam)\",\n",
    "    type_of_plot=\"Line\",  # or \"Scatter\",\n",
    "    cb_friendly = False,\n",
    "    vline = True,\n",
    "    fit_slices = True\n",
    ")\n",
    "\n",
    "plt.savefig(image_folder_path + \"IRS63_StokesI_slice_BAND7.pdf\", \n",
    "            dpi=300, \n",
    "            bbox_inches='tight')\n"
   ]
  },
  {
   "cell_type": "code",
   "execution_count": null,
   "id": "53bdf032",
   "metadata": {
    "code_folding": []
   },
   "outputs": [],
   "source": [
    "ax = plot_slices_along_axes(\n",
    "    major_data_POLI,\n",
    "    minor_data_POLI,\n",
    "    carta_major_data_mJy_POLI,\n",
    "    carta_minor_data_mJy_POLI,\n",
    "    major_offset_arcsec_POLI,\n",
    "    minor_offset_arcsec_POLI,\n",
    "    carta_major_offset_POLI,\n",
    "    carta_minor_offset_POLI,\n",
    "    BMAJ_deg, BMIN_deg, \n",
    "    y_label=\"Polarized Intensity (mJy/beam)\",\n",
    "    type_of_plot=\"Line\",  # \"Line\" or \"Scatter\",\n",
    "    cb_friendly = False,\n",
    "    vline = True,\n",
    "    fit_slices = True\n",
    ")\n",
    "\n",
    "plt.savefig(image_folder_path + \"IRS63_POLI_slice_BAND7.pdf\", \n",
    "            dpi=300, \n",
    "            bbox_inches='tight')    \n"
   ]
  },
  {
   "cell_type": "code",
   "execution_count": null,
   "id": "39de8e11",
   "metadata": {},
   "outputs": [],
   "source": [
    "# ax = plot_slices_along_axes(\n",
    "#     major_data_POLF,\n",
    "#     minor_data_POLF,\n",
    "#     carta_major_data_POLF,\n",
    "#     carta_minor_data_POLF,\n",
    "#     major_offset_arcsec_POLF,\n",
    "#     minor_offset_arcsec_POLF,\n",
    "#     carta_major_offset_POLF,\n",
    "#     carta_minor_offset_POLF,\n",
    "#     BMAJ_deg, BMIN_deg, \n",
    "#     y_label=\"Polarized Fraction\",\n",
    "#     type_of_plot=\"Line\",  # \"Line\" or \"Scatter\",\n",
    "#     cb_friendly = False,\n",
    "#     vline = True,\n",
    "#     fit_slices = True\n",
    "# )\n",
    "\n",
    "# plt.savefig(image_folder_path + \"IRS63_POLF_slice_BAND7.pdf\", \n",
    "#             dpi=300, \n",
    "#             bbox_inches='tight') \n"
   ]
  },
  {
   "cell_type": "markdown",
   "id": "d89444ee",
   "metadata": {},
   "source": [
    "# Fitting the slices\n",
    "\n",
    "\n",
    "$I(r) \\propto r^\\alpha$\n",
    "\n",
    "Take log of both sides:\n",
    "$\\log_{10}(I(r))=\\alpha \\log_{10}(r)+C$"
   ]
  },
  {
   "cell_type": "markdown",
   "id": "f4a97afa",
   "metadata": {},
   "source": [
    "We need to comvert the data from mJy/beam to mJy/arcsec$^2$ (or radians will also work).\n",
    "\n",
    "We can calculate the beam area with the equation:\n",
    "$1.113 \\cdot BMAJ \\cdot BMIN$,\n",
    "where $BMAJ$ and $BMIN$"
   ]
  },
  {
   "cell_type": "markdown",
   "id": "c2fec8ba",
   "metadata": {},
   "source": [
    "# Ratio Models"
   ]
  },
  {
   "cell_type": "code",
   "execution_count": null,
   "id": "0aa4c307",
   "metadata": {},
   "outputs": [],
   "source": [
    "vector_data_plotting_grid, vector_data_list_100U_to_100A, testing_vector_angles = ratio_model_band47(StokesQ_grid_100Uniform, StokesU_grid_100Uniform,\n",
    "                                                                                           StokesQ_grid_100Azimuthal, StokesU_grid_100Azimuthal,\n",
    "                                                                                           ny, nx,\n",
    "                                                                                           vector_length_pix_const,\n",
    "                                                                                           POLI_mJy, POLI_err_mJy, \n",
    "                                                                                           PA_err_deg,\n",
    "                                                                                           'band 7'\n",
    "                                                                                           # step = 10,\n",
    "                                                                                           )"
   ]
  },
  {
   "cell_type": "code",
   "execution_count": null,
   "id": "3e80b244",
   "metadata": {
    "scrolled": false
   },
   "outputs": [],
   "source": [
    "ax = plot_ratio_grid(POLI_mJy,\n",
    "                    StokesI_wcs, soft_colormap_v2, \n",
    "                    xmin, xmax, ymin, ymax, reference_length_pix, reference_length_AU,\n",
    "                    BMAJ_pix, BMIN_pix, BPA_deg_cartesian, \n",
    "                    max_length_pix, reference_fraction,\n",
    "                    vector_data_actual_cartesian, vector_data_plotting_grid)"
   ]
  },
  {
   "cell_type": "markdown",
   "id": "e828933d",
   "metadata": {},
   "source": [
    "## Find the best one"
   ]
  },
  {
   "cell_type": "code",
   "execution_count": null,
   "id": "b7f6fddf",
   "metadata": {},
   "outputs": [],
   "source": [
    "min_index = find_best_fit_ratio_model(vector_angle_actual_sky, testing_vector_angles)"
   ]
  },
  {
   "cell_type": "code",
   "execution_count": null,
   "id": "f7e786fe",
   "metadata": {},
   "outputs": [],
   "source": []
  },
  {
   "cell_type": "code",
   "execution_count": null,
   "id": "6fa25b3b",
   "metadata": {},
   "outputs": [],
   "source": [
    "fig, ax = create_base_plot(StokesI_wcs, POLI_mJy, 'Polarized Intensity (mJy/beam)' , \n",
    "                           soft_colormap_no_red, \n",
    "                           xmin, xmax , ymin, ymax, reference_length_pix, reference_length_AU,\n",
    "                           BMAJ_pix, BMIN_pix, BPA_deg_cartesian, \n",
    "                           max_length_pix, reference_fraction)\n",
    "\n",
    "# Add vector plots (Best Model: black)\n",
    "for i, row in enumerate(vector_data_list_100U_to_100A[min_index]):\n",
    "    if i == 0:\n",
    "        ax.plot([row[0], row[1]], [row[2], row[3]], color='black', lw=5, label='Best Model')\n",
    "    else:\n",
    "        ax.plot([row[0], row[1]], [row[2], row[3]], color='black', lw=5)\n",
    "\n",
    "# Plot actual vector data (Real: red)\n",
    "for i, row in enumerate(vector_data_actual_cartesian):\n",
    "    if i == 0:\n",
    "        ax.plot([row[0], row[1]], [row[2], row[3]], color='red', lw=5, label='Real')\n",
    "    else:\n",
    "        ax.plot([row[0], row[1]], [row[2], row[3]], color='red', lw=5)\n",
    "\n",
    "# Show legend\n",
    "ax.legend(fontsize=legend_title_fs, loc = 'best')\n",
    "\n",
    "\n",
    "\n",
    "plt.savefig(image_folder_path + \"IRS63_best_ratio_BAND7.pdf\", \n",
    "            dpi=300, \n",
    "            bbox_inches='tight')   \n"
   ]
  },
  {
   "cell_type": "code",
   "execution_count": null,
   "id": "d9546449",
   "metadata": {},
   "outputs": [],
   "source": [
    "fig, ax = create_base_plot(StokesI_wcs, \n",
    "                           POLI_mJy, 'Polarized Intensity (mJy/beam)', \n",
    "                           soft_colormap_no_red, \n",
    "                           xmin, xmax, ymin, ymax, reference_length_pix, reference_length_AU,\n",
    "                           BMAJ_pix, BMIN_pix, BPA_deg_cartesian, \n",
    "                           max_length_pix, reference_fraction,\n",
    "                           cbar_fs = 40,\n",
    "                           axis_label_fs = 40,\n",
    "                           axis_num_fs = 21,\n",
    "                           cbar_orientation = 'horizontal',\n",
    "                           cbar_pad = 0.1,\n",
    "                           cbar_shrink = 0.9,\n",
    "                           fig_size_x = 12,\n",
    "                           fig_size_y = 14,\n",
    "                           text_fs = 40,\n",
    "                           y_label = True, y_num = False,\n",
    "                           x_label = True, x_num = False, \n",
    "                           full_axis_labels = False,\n",
    "                           cbar_num_fs = 40,\n",
    "                           line_y_frac = 0.05)\n",
    "\n",
    "\n",
    "first_real = True\n",
    "for row in vector_data_actual_cartesian:\n",
    "    ax.plot([row[0], row[1]], [row[2], row[3]], color='black', lw=5, \n",
    "            label='Real' if first_real else None)\n",
    "    first_real = False\n",
    "    \n",
    "    \n",
    "# Add vector plots (Best Model: black)\n",
    "for i, row in enumerate(vector_data_list_100U_to_100A[min_index]):\n",
    "    if i == 0:\n",
    "        ax.plot([row[0], row[1]], [row[2], row[3]], color='red', lw=5, label='Model')\n",
    "    else:\n",
    "        ax.plot([row[0], row[1]], [row[2], row[3]], color='red', lw=5)\n",
    "\n",
    "ax.legend(fontsize = 35,\n",
    "         loc = 'upper left')\n",
    "\n",
    "\n",
    "plt.savefig(slideshow_image_folder_path + \"IRS63_best_ratio_BAND7_slides.jpeg\", \n",
    "            dpi=300, \n",
    "            bbox_inches='tight')  "
   ]
  },
  {
   "cell_type": "markdown",
   "id": "951d17b2",
   "metadata": {},
   "source": [
    "# Gaussian Model "
   ]
  },
  {
   "cell_type": "code",
   "execution_count": null,
   "id": "bd0a913b",
   "metadata": {},
   "outputs": [],
   "source": [
    "phi_values = [2, 3, 4, 5, 6, 7]\n",
    "\n",
    "\n",
    "BMAJ_values_pix =  np.array([10, 20, 30, 40, 50]) # + np.array(BMAJ_pix, dtype=int)\n",
    "BMIN_values_pix =  np.array([10, 20, 30, 40, 50]) # + np.array(BMIN_pix, dtype=int)\n",
    "\n",
    "# Print results\n",
    "print(f'The BMAJ pix values we will test are: {BMAJ_values_pix}')\n",
    "print(f'The BMIN pix values we will test are: {BMIN_values_pix}')"
   ]
  },
  {
   "cell_type": "code",
   "execution_count": null,
   "id": "d88f824e",
   "metadata": {},
   "outputs": [],
   "source": [
    "gaussian_values, gaussian_results, vector_data_gaussian_best, GaussianUniformRatios_best = run_gaussian_model_band47(major_angle_rad_cartesian_band4, phi_values, \n",
    "                                                                                                                     BMAJ_values_pix, BMIN_values_pix, \n",
    "                                                                                                                     RA_centre_pix, Dec_centre_pix, \n",
    "                                                                                                                     StokesQ_grid_100Uniform, StokesU_grid_100Uniform,\n",
    "                                                                                                                     StokesQ_grid_100Azimuthal, StokesU_grid_100Azimuthal,\n",
    "                                                                                                                     vector_angle_actual_sky,\n",
    "                                                                                                                     ny, nx, \n",
    "                                                                                                                     POLI_mJy, POLI_err_mJy, \n",
    "                                                                                                                     PA_err_deg,\n",
    "                                                                                                                     'band 7',\n",
    "                                                                                                                     print_statements = True)"
   ]
  },
  {
   "cell_type": "code",
   "execution_count": null,
   "id": "e2e964cf",
   "metadata": {},
   "outputs": [],
   "source": [
    "fig, ax = create_base_plot(StokesI_wcs, \n",
    "                           POLI_mJy, 'Polarized Intensity (mJy/beam)', \n",
    "                           soft_colormap_no_red, \n",
    "                           xmin, xmax, ymin, ymax, reference_length_pix, reference_length_AU,\n",
    "                           BMAJ_pix, BMIN_pix, BPA_deg_cartesian, \n",
    "                           max_length_pix, reference_fraction)\n",
    "\n",
    "first_real = True\n",
    "for row in vector_data_actual_cartesian:\n",
    "    ax.plot([row[0], row[1]], [row[2], row[3]], color='black', lw=5, \n",
    "            label='Real' if first_real else None)\n",
    "    first_real = False\n",
    "    \n",
    "    \n",
    "# Add vector plots, ensuring the label appears only once\n",
    "first_best_model = True\n",
    "for row in vector_data_gaussian_best:\n",
    "    ax.plot([row[0], row[1]], [row[2], row[3]], color='red', lw=5, \n",
    "            label='Best Gaussian Model' if first_best_model else None)\n",
    "    first_best_model = False\n",
    "\n",
    "ax.legend(fontsize = legend_text_fs,\n",
    "         loc = 'upper left')\n",
    "\n",
    "\n",
    "plt.savefig(image_folder_path + \"IRS63_best_gaussian_BAND7.pdf\", \n",
    "            dpi=300, \n",
    "            bbox_inches='tight')  "
   ]
  },
  {
   "cell_type": "code",
   "execution_count": null,
   "id": "78e5c20f",
   "metadata": {},
   "outputs": [],
   "source": [
    "POLI_mJy.shape"
   ]
  },
  {
   "cell_type": "code",
   "execution_count": null,
   "id": "e1727420",
   "metadata": {},
   "outputs": [],
   "source": [
    "fig, ax = create_base_plot(StokesI_wcs, \n",
    "                           POLI_mJy, 'Polarized Intensity (mJy/beam)', \n",
    "                           soft_colormap_no_red, \n",
    "                           xmin, xmax, ymin, ymax, reference_length_pix, reference_length_AU,\n",
    "                           BMAJ_pix, BMIN_pix, BPA_deg_cartesian, \n",
    "                           max_length_pix, reference_fraction,\n",
    "                           cbar_fs = 23,\n",
    "                           axis_label_fs = 25,\n",
    "                           axis_num_fs = 21,\n",
    "                           cbar_orientation = 'horizontal',\n",
    "                           cbar_pad = 0.1,\n",
    "                           cbar_shrink = 0.9,\n",
    "                           fig_size_x = 12,\n",
    "                           fig_size_y = 14)\n",
    "\n",
    "\n",
    "first_real = True\n",
    "for row in vector_data_actual_cartesian:\n",
    "    ax.plot([row[0], row[1]], [row[2], row[3]], color='black', lw=5, \n",
    "            label='Real' if first_real else None)\n",
    "    first_real = False\n",
    "    \n",
    "    \n",
    "# Add vector plots, ensuring the label appears only once\n",
    "first_best_model = True\n",
    "for row in vector_data_gaussian_best:\n",
    "    ax.plot([row[0], row[1]], [row[2], row[3]], color='red', lw=5, \n",
    "            label='Model' if first_best_model else None)\n",
    "    first_best_model = False\n",
    "\n",
    "ax.legend(fontsize = 25,\n",
    "         loc = 'upper left')\n",
    "\n",
    "\n",
    "plt.savefig(slideshow_image_folder_path + \"IRS63_best_gaussian_BAND7_slides.jpeg\", \n",
    "            dpi=300, \n",
    "            bbox_inches='tight')  "
   ]
  },
  {
   "cell_type": "markdown",
   "id": "8306c2cd",
   "metadata": {},
   "source": [
    "## Average POLF when Scattering"
   ]
  },
  {
   "cell_type": "code",
   "execution_count": null,
   "id": "ad3f9554",
   "metadata": {},
   "outputs": [],
   "source": [
    "POLF_average = get_average_POLF_where_scattered(GaussianUniformRatios_best, POLF, tolerance = 0.03)\n",
    "print(rf'The average POLF where self-scattering is: {POLF_average:.3f}')"
   ]
  },
  {
   "cell_type": "code",
   "execution_count": null,
   "id": "d637e2a5",
   "metadata": {},
   "outputs": [],
   "source": [
    "POLF_average * 100"
   ]
  },
  {
   "cell_type": "markdown",
   "id": "fb128edc",
   "metadata": {},
   "source": [
    "## Analyze Gaussian"
   ]
  },
  {
   "cell_type": "code",
   "execution_count": null,
   "id": "64d23add",
   "metadata": {},
   "outputs": [],
   "source": [
    "analyze_gaussian_averages_vs_chi2(gaussian_values, phi_values, BMAJ_values_pix, BMIN_values_pix)"
   ]
  },
  {
   "cell_type": "code",
   "execution_count": null,
   "id": "4b5aad4b",
   "metadata": {},
   "outputs": [],
   "source": [
    "plot_2d_contours_for_gaussian(gaussian_values, phi_values, BMAJ_values_pix, BMIN_values_pix, 'phi', soft_colormap_v2)"
   ]
  },
  {
   "cell_type": "code",
   "execution_count": null,
   "id": "fbfd1aff",
   "metadata": {},
   "outputs": [],
   "source": [
    "plot_2d_contours_for_gaussian(gaussian_values, phi_values, BMAJ_values_pix, BMIN_values_pix, 'BMIN', soft_colormap_v2)"
   ]
  },
  {
   "cell_type": "code",
   "execution_count": null,
   "id": "6d3a44f9",
   "metadata": {},
   "outputs": [],
   "source": [
    "plot_2d_contours_for_gaussian(gaussian_values, phi_values, BMAJ_values_pix, BMIN_values_pix, 'BMAJ', soft_colormap_v2)"
   ]
  },
  {
   "cell_type": "markdown",
   "id": "79141bd2",
   "metadata": {},
   "source": [
    "##### "
   ]
  }
 ],
 "metadata": {
  "kernelspec": {
   "display_name": "Python 3 (ipykernel)",
   "language": "python",
   "name": "python3"
  },
  "language_info": {
   "codemirror_mode": {
    "name": "ipython",
    "version": 3
   },
   "file_extension": ".py",
   "mimetype": "text/x-python",
   "name": "python",
   "nbconvert_exporter": "python",
   "pygments_lexer": "ipython3",
   "version": "3.9.7"
  },
  "varInspector": {
   "cols": {
    "lenName": 16,
    "lenType": 16,
    "lenVar": 40
   },
   "kernels_config": {
    "python": {
     "delete_cmd_postfix": "",
     "delete_cmd_prefix": "del ",
     "library": "var_list.py",
     "varRefreshCmd": "print(var_dic_list())"
    },
    "r": {
     "delete_cmd_postfix": ") ",
     "delete_cmd_prefix": "rm(",
     "library": "var_list.r",
     "varRefreshCmd": "cat(var_dic_list()) "
    }
   },
   "types_to_exclude": [
    "module",
    "function",
    "builtin_function_or_method",
    "instance",
    "_Feature"
   ],
   "window_display": false
  }
 },
 "nbformat": 4,
 "nbformat_minor": 5
}
