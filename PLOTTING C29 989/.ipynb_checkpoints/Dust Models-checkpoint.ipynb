{
 "cells": [
  {
   "cell_type": "code",
   "execution_count": 1,
   "id": "017100a9",
   "metadata": {},
   "outputs": [],
   "source": [
    "%run constants.py"
   ]
  },
  {
   "cell_type": "code",
   "execution_count": 2,
   "id": "e3181fc4",
   "metadata": {},
   "outputs": [],
   "source": [
    "%run \"/Users/audreyburggraf/Desktop/QUEEN'S/THESIS RESEARCH/PLOTTING C29 989/FUNCTIONS/load_functions\""
   ]
  },
  {
   "cell_type": "markdown",
   "id": "dc0f1c8e",
   "metadata": {},
   "source": [
    "## Band Wavelength and Colours"
   ]
  },
  {
   "cell_type": "code",
   "execution_count": 3,
   "id": "50640667",
   "metadata": {},
   "outputs": [],
   "source": [
    "band1_color = \"#f63fe3\"\n",
    "band3_color = \"#2321f6\"\n",
    "band7_color = \"#086608\"\n",
    "band10_color = \"#fb0d0d\"\n",
    "\n",
    "red = band10_color\n",
    "green = band7_color\n",
    "blue = band3_color\n",
    "pink = band1_color"
   ]
  },
  {
   "cell_type": "code",
   "execution_count": 4,
   "id": "2cc8c45a",
   "metadata": {},
   "outputs": [],
   "source": [
    "lambda_band1_micron  = 7.0  * 1000  # mm to microns\n",
    "lambda_band3_micron  = 3.1  * 1000  # mm to microns\n",
    "lambda_band7_micron  = 0.87 * 1000  # mm to microns\n",
    "lambda_band10_micron = 0.34 * 1000  # mm to microns"
   ]
  },
  {
   "cell_type": "code",
   "execution_count": 5,
   "id": "31e2efbc",
   "metadata": {},
   "outputs": [],
   "source": [
    "density = 3"
   ]
  },
  {
   "cell_type": "markdown",
   "id": "8fd829b3",
   "metadata": {},
   "source": [
    "## Kataoka et al. 2015, Figure 1"
   ]
  },
  {
   "cell_type": "code",
   "execution_count": 6,
   "id": "87f29e1a",
   "metadata": {},
   "outputs": [],
   "source": [
    "lambda_micron = np.logspace(0, 4, 100)"
   ]
  },
  {
   "cell_type": "code",
   "execution_count": 7,
   "id": "7514c29a",
   "metadata": {},
   "outputs": [
    {
     "ename": "TypeError",
     "evalue": "'numpy.float64' object is not iterable",
     "output_type": "error",
     "traceback": [
      "\u001b[0;31m---------------------------------------------------------------------------\u001b[0m",
      "\u001b[0;31mTypeError\u001b[0m                                 Traceback (most recent call last)",
      "\u001b[0;32m/var/folders/p9/hcwv87bd7lxfdw1nmx4wt8d00000gn/T/ipykernel_1453/3137203713.py\u001b[0m in \u001b[0;36m<module>\u001b[0;34m\u001b[0m\n\u001b[0;32m----> 1\u001b[0;31m \u001b[0mkappa_abs_1\u001b[0m\u001b[0;34m,\u001b[0m \u001b[0mkappa_sca_1\u001b[0m \u001b[0;34m=\u001b[0m \u001b[0mcalculate_kappa\u001b[0m\u001b[0;34m(\u001b[0m\u001b[0mlambda_micron\u001b[0m\u001b[0;34m,\u001b[0m \u001b[0;36m1\u001b[0m\u001b[0;34m,\u001b[0m \u001b[0mdensity\u001b[0m\u001b[0;34m,\u001b[0m \u001b[0mfunc_of\u001b[0m \u001b[0;34m=\u001b[0m \u001b[0;34m'wavelength'\u001b[0m\u001b[0;34m)\u001b[0m\u001b[0;34m\u001b[0m\u001b[0;34m\u001b[0m\u001b[0m\n\u001b[0m\u001b[1;32m      2\u001b[0m \u001b[0;34m\u001b[0m\u001b[0m\n\u001b[1;32m      3\u001b[0m \u001b[0mkappa_abs_100\u001b[0m\u001b[0;34m,\u001b[0m \u001b[0mkappa_sca_100\u001b[0m \u001b[0;34m=\u001b[0m \u001b[0mcalculate_kappa\u001b[0m\u001b[0;34m(\u001b[0m\u001b[0mlambda_micron\u001b[0m\u001b[0;34m,\u001b[0m \u001b[0;36m100\u001b[0m\u001b[0;34m,\u001b[0m \u001b[0mdensity\u001b[0m\u001b[0;34m,\u001b[0m \u001b[0mfunc_of\u001b[0m \u001b[0;34m=\u001b[0m \u001b[0;34m'wavelength'\u001b[0m\u001b[0;34m)\u001b[0m\u001b[0;34m\u001b[0m\u001b[0;34m\u001b[0m\u001b[0m\n",
      "\u001b[0;32m~/Desktop/QUEEN'S/THESIS RESEARCH/PLOTTING C29 989/FUNCTIONS/DustModelFunctions.py\u001b[0m in \u001b[0;36mcalculate_kappa\u001b[0;34m(lambda_micron, a_max_micron, density_g_cm3, func_of)\u001b[0m\n\u001b[1;32m    124\u001b[0m             \u001b[0mkappa_sca_sum\u001b[0m \u001b[0;34m=\u001b[0m \u001b[0;36m0.0\u001b[0m\u001b[0;34m\u001b[0m\u001b[0;34m\u001b[0m\u001b[0m\n\u001b[1;32m    125\u001b[0m \u001b[0;34m\u001b[0m\u001b[0m\n\u001b[0;32m--> 126\u001b[0;31m             \u001b[0;32mfor\u001b[0m \u001b[0mweight\u001b[0m \u001b[0;32min\u001b[0m \u001b[0mzip\u001b[0m\u001b[0;34m(\u001b[0m\u001b[0mweights\u001b[0m\u001b[0;34m)\u001b[0m\u001b[0;34m:\u001b[0m\u001b[0;34m\u001b[0m\u001b[0;34m\u001b[0m\u001b[0m\n\u001b[0m\u001b[1;32m    127\u001b[0m                 \u001b[0;31m# Calculate the size parameter\u001b[0m\u001b[0;34m\u001b[0m\u001b[0;34m\u001b[0m\u001b[0m\n\u001b[1;32m    128\u001b[0m                 \u001b[0mx_cm\u001b[0m \u001b[0;34m=\u001b[0m \u001b[0msize_parameter\u001b[0m\u001b[0;34m(\u001b[0m\u001b[0ma_max_micron\u001b[0m\u001b[0;34m,\u001b[0m \u001b[0mlambda_micron\u001b[0m\u001b[0;34m)\u001b[0m\u001b[0;34m\u001b[0m\u001b[0;34m\u001b[0m\u001b[0m\n",
      "\u001b[0;31mTypeError\u001b[0m: 'numpy.float64' object is not iterable"
     ]
    }
   ],
   "source": [
    "kappa_abs_1, kappa_sca_1 = calculate_kappa(lambda_micron, 1, density, func_of = 'wavelength')\n",
    "\n",
    "kappa_abs_100, kappa_sca_100 = calculate_kappa(lambda_micron, 100, density, func_of = 'wavelength')"
   ]
  },
  {
   "cell_type": "code",
   "execution_count": null,
   "id": "66c687a2",
   "metadata": {},
   "outputs": [],
   "source": [
    "# Create a figure with the WCS projection\n",
    "fig, ax = plt.subplots(figsize=(8, 6))\n",
    "\n",
    "ax.plot(lambda_micron,\n",
    "        kappa_abs_1,\n",
    "        color = 'red',\n",
    "        ls = '-',\n",
    "        label = 'a$_{max}$ = 1 $\\mu$m, $\\kappa_{abs}$')\n",
    "\n",
    "ax.plot(lambda_micron,\n",
    "        kappa_sca_1,\n",
    "        color = 'red',\n",
    "        ls = '--',\n",
    "        label = 'a$_{max}$ = 1 $\\mu$m, $\\kappa_{sca}$')\n",
    "\n",
    "ax.plot(lambda_micron,\n",
    "        kappa_abs_100,\n",
    "        color = 'blue',\n",
    "        ls = '-',\n",
    "        label = 'a$_{max}$ = 100 $\\mu$m, $\\kappa_{abs}$')\n",
    "\n",
    "ax.plot(lambda_micron,\n",
    "        kappa_sca_100,\n",
    "        color = 'blue',\n",
    "        ls = '--',\n",
    "        label = 'a$_{max}$ = 100 $\\mu$m, $\\kappa_{sca}$')\n",
    "\n",
    "# Add axis labels\n",
    "ax.set_xlabel('$\\lambda$ [$\\mu$m]', fontsize=axis_label_fs)\n",
    "ax.set_ylabel('$\\kappa_{abs, sca}$ [cm$^2$/g]', fontsize=axis_label_fs)\n",
    "\n",
    "\n",
    "# Adjust ticks\n",
    "ax.minorticks_on()\n",
    "ax.tick_params(axis=\"x\", which=\"major\", direction=\"in\", bottom=True, top=True, length=7, labelsize=axis_num_fs)\n",
    "ax.tick_params(axis=\"y\", which=\"major\", direction=\"in\", left=True, right=True, length=7, labelsize=axis_num_fs)\n",
    "\n",
    "ax.legend(loc = 'upper right',\n",
    "          fontsize = legend_text_fs)\n",
    "\n",
    "# Make axes log if needed\n",
    "ax.set_xscale('log')\n",
    "ax.set_yscale('log')\n",
    "\n",
    "# Set axis limits\n",
    "# ax.setxlim()\n",
    "# ax.set_ylim(10e-4, 10e4)"
   ]
  },
  {
   "cell_type": "markdown",
   "id": "f9fda6dc",
   "metadata": {},
   "source": [
    "## Kataoka et al. 2015, Figure 2"
   ]
  },
  {
   "cell_type": "code",
   "execution_count": null,
   "id": "c756893d",
   "metadata": {},
   "outputs": [],
   "source": [
    "scatt_angles_deg = np.linspace(0, 180, 30)"
   ]
  },
  {
   "cell_type": "code",
   "execution_count": null,
   "id": "a2dea174",
   "metadata": {},
   "outputs": [],
   "source": [
    "# From Kataoka et 1l, 2015 the grain sizes they are showing are 10 micron, 100 micron, 1 mm and 1 cm\n",
    "a_max_values_micron = [10, 100, 1000, 10000]"
   ]
  },
  {
   "cell_type": "code",
   "execution_count": null,
   "id": "7943545a",
   "metadata": {},
   "outputs": [],
   "source": [
    "pol_deg_band3 = []\n",
    "pol_deg_band7 = []\n",
    "\n",
    "\n",
    "for a_max_micron in a_max_values_micron:\n",
    "    pol_deg_band3_i =  calculate_pol_deg(lambda_band3_micron, scatt_angles_deg, a_max_micron)\n",
    "    pol_deg_band7_i =  calculate_pol_deg(lambda_band7_micron, scatt_angles_deg, a_max_micron)\n",
    "    \n",
    "    \n",
    "    # Store the results\n",
    "    pol_deg_band3.append(pol_deg_band3_i)\n",
    "    pol_deg_band7.append(pol_deg_band7_i)"
   ]
  },
  {
   "cell_type": "code",
   "execution_count": null,
   "id": "f23706bd",
   "metadata": {},
   "outputs": [],
   "source": [
    "# Plotting\n",
    "fig, ax = plt.subplots(1, 2, figsize=(18, 6))\n",
    "\n",
    "# Plot on the left\n",
    "ax[0].plot(scatt_angles_deg, pol_deg_band3[0], color = red,   label = '10 $\\mu$m')\n",
    "ax[0].plot(scatt_angles_deg, pol_deg_band3[1], color = green, label = '100 $\\mu$m')\n",
    "ax[0].plot(scatt_angles_deg, pol_deg_band3[2], color = blue,  label = '1 mm')\n",
    "# ax[0].plot(scatt_angles_deg, pol_deg_band3[3], color = pink,  label = '1 cm')\n",
    "\n",
    "\n",
    "# Plot on the right\n",
    "ax[1].plot(scatt_angles_deg, pol_deg_band7[0], color = red,    label = '10 $\\mu$m')\n",
    "ax[1].plot(scatt_angles_deg, pol_deg_band7[1], color = green,  label = '100 $\\mu$m')\n",
    "ax[1].plot(scatt_angles_deg, pol_deg_band7[2], color = blue,   label = '1 mm')\n",
    "# ax[1].plot(scatt_angles_deg, pol_deg_band7[3], color = pink,   label = '1 cm')\n",
    "\n",
    "# Add titles\n",
    "ax[0].set_title('$\\lambda$ = 3.1mm (ALMA Band 3)', fontsize = title_fs)\n",
    "ax[1].set_title('$\\lambda$ = 870 $\\mu$m (ALMA Band 7)', fontsize = title_fs)\n",
    "\n",
    "# Set axis labels \n",
    "ax[0].set_xlabel('scattering angle [degree]', fontsize = axis_label_fs)\n",
    "ax[1].set_xlabel('scattering angle [degree]', fontsize = axis_label_fs)\n",
    "\n",
    "ax[0].set_ylabel('-Z$_{12}/Z_{11}$', fontsize = axis_label_fs)\n",
    "ax[1].set_ylabel('-Z$_{12}/Z_{11}$', fontsize = axis_label_fs)\n",
    "\n",
    "# Adjust ticks\n",
    "for i in range(2):\n",
    "    ax[i].minorticks_on()\n",
    "    ax[i].tick_params(axis=\"x\", which=\"major\", direction=\"in\", bottom=True, top=True, length=7, labelsize=axis_num_fs)\n",
    "    ax[i].tick_params(axis=\"y\", which=\"major\", direction=\"in\", left=True, right=True, length=7, labelsize=axis_num_fs)\n",
    "\n",
    "# Add a legend\n",
    "ax[0].legend(fontsize = legend_text_fs, loc = 'lower left')\n",
    "ax[1].legend(fontsize = legend_text_fs, loc = 'lower left')"
   ]
  },
  {
   "cell_type": "markdown",
   "id": "c40988ac",
   "metadata": {},
   "source": [
    "## Kataoka et al. 2015, Figure 3"
   ]
  },
  {
   "cell_type": "code",
   "execution_count": null,
   "id": "d4b8f104",
   "metadata": {},
   "outputs": [],
   "source": [
    "a_max_array = np.logspace(-3, 0, 100)"
   ]
  },
  {
   "cell_type": "code",
   "execution_count": null,
   "id": "3238a1b0",
   "metadata": {},
   "outputs": [],
   "source": [
    "\n",
    "\n",
    "kappa_abs_band1,  kappa_sca_band1  = calculate_kappa(lambda_band1_micron,  a_max_array, density, func_of = 'grainsize')\n",
    "kappa_abs_band3,  kappa_sca_band3  = calculate_kappa(lambda_band3_micron,  a_max_array, density, func_of = 'grainsize')\n",
    "kappa_abs_band7,  kappa_sca_band7  = calculate_kappa(lambda_band7_micron,  a_max_array, density, func_of = 'grainsize')\n",
    "kappa_abs_band10, kappa_sca_band10 = calculate_kappa(lambda_band10_micron, a_max_array, density, func_of = 'grainsize')"
   ]
  },
  {
   "cell_type": "code",
   "execution_count": null,
   "id": "d13f326c",
   "metadata": {},
   "outputs": [],
   "source": [
    "P_band3 =  np.linspace(0, 1, 100)\n",
    "P_band5 =  np.linspace(0, 1, 100)\n",
    "P_band7 =  np.linspace(0, 1, 100)\n",
    "P_band10 = np.linspace(0, 1, 100)"
   ]
  },
  {
   "cell_type": "code",
   "execution_count": null,
   "id": "4e404e9a",
   "metadata": {},
   "outputs": [],
   "source": [
    "omega_band1  =  calculate_omega(kappa_abs_band1,  kappa_sca_band1)\n",
    "omega_band3  =  calculate_omega(kappa_abs_band3,  kappa_sca_band3)\n",
    "omega_band7  =  calculate_omega(kappa_abs_band7,  kappa_sca_band7)\n",
    "omega_band10 =  calculate_omega(kappa_abs_band10, kappa_sca_band10)"
   ]
  },
  {
   "cell_type": "code",
   "execution_count": null,
   "id": "c373d5b1",
   "metadata": {},
   "outputs": [],
   "source": [
    "# Plotting\n",
    "fig, ax = plt.subplots(1, 2, figsize=(15, 6))  # Wider figure for spacing\n",
    "\n",
    "# Create secondary y-axes\n",
    "ax2_0 = ax[0].twinx()\n",
    "ax2_1 = ax[1].twinx()\n",
    "\n",
    "# Plot on the left\n",
    "line_P3, = ax[0].plot(maximum_grain_size, P_band3, color='red', label='P')\n",
    "line_omega3, = ax2_0.plot(maximum_grain_size, omega_band3, color='green', label=r'$\\omega$')\n",
    "\n",
    "# Plot on the right\n",
    "line_P7, = ax[1].plot(maximum_grain_size, P_band7, color='red', label='P')\n",
    "line_omega7, = ax2_1.plot(maximum_grain_size, omega_band7, color='green', label=r'$\\omega$')\n",
    "\n",
    "# Titles\n",
    "ax[0].set_title(r'$\\lambda$ = 3.1mm (ALMA Band 3)', fontsize=title_fs)\n",
    "ax[1].set_title(r'$\\lambda$ = 870 $\\mu$m (ALMA Band 7)', fontsize=title_fs)\n",
    "\n",
    "# X-axis labels\n",
    "ax[0].set_xlabel('Maximum grain size [cm]', fontsize=axis_label_fs)\n",
    "ax[1].set_xlabel('Maximum grain size [cm]', fontsize=axis_label_fs)\n",
    "\n",
    "# Y-axis labels\n",
    "ax[0].set_ylabel('P', fontsize=axis_label_fs)\n",
    "ax[1].set_ylabel('P', fontsize=axis_label_fs)\n",
    "ax2_0.set_ylabel(r'$\\omega$', fontsize=axis_label_fs)\n",
    "ax2_1.set_ylabel(r'$\\omega$', fontsize=axis_label_fs)\n",
    "\n",
    "# Ticks\n",
    "for a in [ax[0], ax[1], ax2_0, ax2_1]:\n",
    "    a.minorticks_on()\n",
    "    a.tick_params(axis=\"x\", which=\"major\", direction=\"in\", bottom=True, top=True, length=7, labelsize=axis_num_fs)\n",
    "    a.tick_params(axis=\"y\", which=\"major\", direction=\"in\", left=True, right=True, length=7, labelsize=axis_num_fs)\n",
    "\n",
    "# Only lines are colored; axis ticks remain default\n",
    "# (Do NOT color ax2 ticks to green)\n",
    "\n",
    "# Single legend per subplot\n",
    "ax[0].legend(handles = [line_P3, line_omega3], fontsize=legend_text_fs, loc='upper right')\n",
    "ax[1].legend(handles = [line_P7, line_omega7], fontsize=legend_text_fs, loc='upper right')\n",
    "\n",
    "# Add spacing between subplots\n",
    "plt.subplots_adjust(wspace=0.4)"
   ]
  },
  {
   "cell_type": "markdown",
   "id": "e17e374c",
   "metadata": {},
   "source": [
    "## Kataoka et al. 2015, Figure 4"
   ]
  },
  {
   "cell_type": "code",
   "execution_count": null,
   "id": "66cf0d03",
   "metadata": {},
   "outputs": [],
   "source": [
    "P_omega_band10 = P_band10 * omega_band10\n",
    "P_omega_band7  = P_band7  * omega_band7\n",
    "P_omega_band3  = P_band3  * omega_band3\n",
    "P_omega_band1  = P_band1  * omega_band1"
   ]
  },
  {
   "cell_type": "code",
   "execution_count": null,
   "id": "4e2fea6e",
   "metadata": {},
   "outputs": [],
   "source": [
    "# Create a figure with the WCS projection\n",
    "fig, ax = plt.subplots(figsize=(8, 6))\n",
    "\n",
    "ax.plot(maximum_grain_size,\n",
    "        P_omega_band10,\n",
    "        color = band10_color,\n",
    "        ls = '-',\n",
    "        label = '0.34 mm (Band 10)')\n",
    "\n",
    "ax.plot(maximum_grain_size,\n",
    "        P_omega_band7,\n",
    "        color = band7_color,\n",
    "        ls = '-',\n",
    "        label = '0.87 mm (Band 7)')\n",
    "\n",
    "ax.plot(maximum_grain_size,\n",
    "        P_omega_band7,\n",
    "        color = band3_color,\n",
    "        ls = '-',\n",
    "        label = '3.1 mm (Band 3)')\n",
    "\n",
    "ax.plot(maximum_grain_size,\n",
    "        P_omega_band7,\n",
    "        color = band1_color,\n",
    "        ls = '-',\n",
    "        label = '7 mm (Band 1)')\n",
    "\n",
    "# Add axis labels\n",
    "ax.set_xlabel('Maximum grain size [cm]', fontsize=axis_label_fs)\n",
    "ax.set_ylabel('P $\\omega$', fontsize=axis_label_fs)\n",
    "\n",
    "\n",
    "# Adjust ticks\n",
    "ax.minorticks_on()\n",
    "ax.tick_params(axis=\"x\", which=\"major\", direction=\"in\", bottom=True, top=True, length=7, labelsize=axis_num_fs)\n",
    "ax.tick_params(axis=\"y\", which=\"major\", direction=\"in\", left=True, right=True, length=7, labelsize=axis_num_fs)\n",
    "\n",
    "ax.legend(loc = 'upper right',\n",
    "          fontsize = legend_text_fs)"
   ]
  },
  {
   "cell_type": "code",
   "execution_count": null,
   "id": "5909bbba",
   "metadata": {},
   "outputs": [],
   "source": []
  }
 ],
 "metadata": {
  "kernelspec": {
   "display_name": "Python 3 (ipykernel)",
   "language": "python",
   "name": "python3"
  },
  "language_info": {
   "codemirror_mode": {
    "name": "ipython",
    "version": 3
   },
   "file_extension": ".py",
   "mimetype": "text/x-python",
   "name": "python",
   "nbconvert_exporter": "python",
   "pygments_lexer": "ipython3",
   "version": "3.9.7"
  },
  "varInspector": {
   "cols": {
    "lenName": 16,
    "lenType": 16,
    "lenVar": 40
   },
   "kernels_config": {
    "python": {
     "delete_cmd_postfix": "",
     "delete_cmd_prefix": "del ",
     "library": "var_list.py",
     "varRefreshCmd": "print(var_dic_list())"
    },
    "r": {
     "delete_cmd_postfix": ") ",
     "delete_cmd_prefix": "rm(",
     "library": "var_list.r",
     "varRefreshCmd": "cat(var_dic_list()) "
    }
   },
   "types_to_exclude": [
    "module",
    "function",
    "builtin_function_or_method",
    "instance",
    "_Feature"
   ],
   "window_display": false
  }
 },
 "nbformat": 4,
 "nbformat_minor": 5
}
