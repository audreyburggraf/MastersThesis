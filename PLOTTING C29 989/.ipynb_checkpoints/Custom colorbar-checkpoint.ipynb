{
 "cells": [
  {
   "cell_type": "code",
   "execution_count": 1,
   "id": "95e62be2",
   "metadata": {},
   "outputs": [],
   "source": [
    "import numpy as np\n",
    "import matplotlib.pyplot as plt\n",
    "from matplotlib import colors\n",
    "import seaborn as sns"
   ]
  },
  {
   "cell_type": "markdown",
   "id": "416701f7",
   "metadata": {},
   "source": [
    "Log base 100:\n",
    "$$\n",
    "\\log_{100}(x)= \\frac{\\log_{10}(x)}{\\log_{10}(100)}=\\frac{\\log_{10}(x)}{2}\n",
    "$$"
   ]
  },
  {
   "cell_type": "markdown",
   "id": "4e7508ee",
   "metadata": {},
   "source": [
    "Inverse of log base 100:\n",
    "\n",
    "$$\n",
    "y = \\log_{100}(x) \\longrightarrow x = 100^y\n",
    "$$"
   ]
  },
  {
   "cell_type": "code",
   "execution_count": 2,
   "id": "eceb9d6d",
   "metadata": {},
   "outputs": [],
   "source": [
    "number = 10"
   ]
  },
  {
   "cell_type": "code",
   "execution_count": 3,
   "id": "4e022c85",
   "metadata": {},
   "outputs": [
    {
     "data": {
      "text/plain": [
       "0.5"
      ]
     },
     "execution_count": 3,
     "metadata": {},
     "output_type": "execute_result"
    }
   ],
   "source": [
    "log_100_number = np.log10(number) * 1/2\n",
    "log_100_number"
   ]
  },
  {
   "cell_type": "code",
   "execution_count": 4,
   "id": "3a70a811",
   "metadata": {},
   "outputs": [
    {
     "data": {
      "text/plain": [
       "10.0"
      ]
     },
     "execution_count": 4,
     "metadata": {},
     "output_type": "execute_result"
    }
   ],
   "source": [
    "recover_number = 100**log_100_number\n",
    "recover_number"
   ]
  },
  {
   "cell_type": "markdown",
   "id": "f90770c9",
   "metadata": {},
   "source": [
    "### Recover values"
   ]
  },
  {
   "cell_type": "code",
   "execution_count": 5,
   "id": "6d3b91a3",
   "metadata": {},
   "outputs": [],
   "source": [
    "cbar_values = np.array([-0.20, 1.18, 4.63, 13.31, 35.10, 89.85])"
   ]
  },
  {
   "cell_type": "code",
   "execution_count": 6,
   "id": "dfb17138",
   "metadata": {},
   "outputs": [],
   "source": [
    "colors = sns.color_palette(\"hls\", len(cbar_values))\n",
    "ones_array = np.ones_like(cbar_values)"
   ]
  },
  {
   "cell_type": "code",
   "execution_count": 8,
   "id": "edb8538c",
   "metadata": {},
   "outputs": [
    {
     "data": {
      "image/png": "[encoded data removed]",
      "text/plain": [
       "<Figure size 720x432 with 2 Axes>"
      ]
     },
     "metadata": {
      "needs_background": "light"
     },
     "output_type": "display_data"
    }
   ],
   "source": [
    "# Set up the plot with two subplots\n",
    "fig, ax = plt.subplots(2, 1, figsize=(10, 6))\n",
    "\n",
    "# -------------------------\n",
    "# Top plot (Linear scaling)\n",
    "ax[0].scatter(cbar_values, ones_array, c=colors, s=100, label='Linear cbar places', marker='o')\n",
    "ax[0].set_title(\"Linear\")\n",
    "\n",
    "# -------------------------\n",
    "# Plot with log scaling\n",
    "ax[1].scatter(cbar_values, ones_array, c=colors, s=100, label=f'Log Scaling', marker='o')\n",
    "ax[1].set_title(f\"Log Base 10\")\n",
    "\n",
    "ax[1].set_ylabel('Constant Y value')\n",
    "ax[1].set_xscale('log')  # Set the x-axis to logarithmic scale\n",
    "\n",
    "# Show the plot\n",
    "plt.tight_layout()\n",
    "plt.show()\n"
   ]
  },
  {
   "cell_type": "code",
   "execution_count": 9,
   "id": "05b93b44",
   "metadata": {},
   "outputs": [
    {
     "data": {
      "text/plain": [
       "array([3.98107171e-001, 2.29086765e+002, 1.81970086e+009, 4.16869383e+026,\n",
       "       1.58489319e+070, 5.01187234e+179])"
      ]
     },
     "execution_count": 9,
     "metadata": {},
     "output_type": "execute_result"
    }
   ],
   "source": [
    "linear_cbar_places = 100**cbar_values\n",
    "linear_cbar_places "
   ]
  },
  {
   "cell_type": "code",
   "execution_count": 11,
   "id": "6c66949c",
   "metadata": {},
   "outputs": [
    {
     "data": {
      "image/png": "[encoded data removed]",
      "text/plain": [
       "<Figure size 720x432 with 2 Axes>"
      ]
     },
     "metadata": {
      "needs_background": "light"
     },
     "output_type": "display_data"
    }
   ],
   "source": [
    "# Set up the plot with two subplots\n",
    "fig, ax = plt.subplots(2, 1, figsize=(10, 6))\n",
    "\n",
    "# -------------------------\n",
    "# Top plot (Linear scaling)\n",
    "ax[0].scatter(linear_cbar_places , ones_array, c=colors, s=100, label='Linear cbar places', marker='o')\n",
    "ax[0].set_title(\"Linear\")\n",
    "\n",
    "# -------------------------\n",
    "# Plot with log scaling\n",
    "ax[1].scatter(linear_cbar_places , ones_array, c=colors, s=100, label=f'Log Scaling', marker='o')\n",
    "ax[1].set_title(f\"Log Base 10\")\n",
    "\n",
    "ax[1].set_ylabel('Constant Y value')\n",
    "ax[1].set_xscale('log')  # Set the x-axis to logarithmic scale\n",
    "\n",
    "# Show the plot\n",
    "plt.tight_layout()\n",
    "plt.show()"
   ]
  },
  {
   "cell_type": "code",
   "execution_count": null,
   "id": "a46a8bd6",
   "metadata": {},
   "outputs": [],
   "source": []
  }
 ],
 "metadata": {
  "kernelspec": {
   "display_name": "Python 3 (ipykernel)",
   "language": "python",
   "name": "python3"
  },
  "language_info": {
   "codemirror_mode": {
    "name": "ipython",
    "version": 3
   },
   "file_extension": ".py",
   "mimetype": "text/x-python",
   "name": "python",
   "nbconvert_exporter": "python",
   "pygments_lexer": "ipython3",
   "version": "3.9.7"
  },
  "varInspector": {
   "cols": {
    "lenName": 16,
    "lenType": 16,
    "lenVar": 40
   },
   "kernels_config": {
    "python": {
     "delete_cmd_postfix": "",
     "delete_cmd_prefix": "del ",
     "library": "var_list.py",
     "varRefreshCmd": "print(var_dic_list())"
    },
    "r": {
     "delete_cmd_postfix": ") ",
     "delete_cmd_prefix": "rm(",
     "library": "var_list.r",
     "varRefreshCmd": "cat(var_dic_list()) "
    }
   },
   "types_to_exclude": [
    "module",
    "function",
    "builtin_function_or_method",
    "instance",
    "_Feature"
   ],
   "window_display": false
  }
 },
 "nbformat": 4,
 "nbformat_minor": 5
}
