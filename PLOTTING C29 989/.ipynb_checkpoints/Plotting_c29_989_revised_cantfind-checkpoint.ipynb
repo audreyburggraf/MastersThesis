{
 "cells": [
  {
   "cell_type": "markdown",
   "id": "c018713c",
   "metadata": {},
   "source": [
    "In this file I am going to be using the data from [Sadavoy, 2019 paper](https://ui.adsabs.harvard.edu/abs/2019ApJS..245....2S/graphics), eventually recreating Figure 36 for c2d 989/ IRS 63"
   ]
  },
  {
   "cell_type": "markdown",
   "id": "8baa6586",
   "metadata": {},
   "source": [
    "# Introductory Things"
   ]
  },
  {
   "cell_type": "markdown",
   "id": "21adcf81",
   "metadata": {},
   "source": [
    "## Importing Packages"
   ]
  },
  {
   "cell_type": "code",
   "execution_count": 1,
   "id": "05c278c6",
   "metadata": {},
   "outputs": [],
   "source": [
    "import numpy as np\n",
    "\n",
    "# matplotlib\n",
    "import matplotlib.pyplot as plt\n",
    "from matplotlib.patches import Ellipse\n",
    "import matplotlib.colors as mcolors\n",
    "from matplotlib.colors import LogNorm\n",
    "from matplotlib.colors import LinearSegmentedColormap\n",
    "from matplotlib.colors import BoundaryNorm, ListedColormap\n",
    "\n",
    "# astropy\n",
    "from astropy.io import fits\n",
    "from astropy.coordinates import SkyCoord\n",
    "import astropy.units as u\n",
    "from astropy.wcs import WCS\n",
    "\n",
    "import seaborn as sns\n",
    "\n",
    "# Functions\n",
    "from FITS_Image_Functions import *\n",
    "# from C29_functions import *\n",
    "\n",
    "from custom_colormap import soft_colormap_v2"
   ]
  },
  {
   "cell_type": "markdown",
   "id": "8cd0487c",
   "metadata": {},
   "source": [
    "## Plotting Preferences"
   ]
  },
  {
   "cell_type": "code",
   "execution_count": 2,
   "id": "3e3c122e",
   "metadata": {},
   "outputs": [],
   "source": [
    "# Font sizes\n",
    "title_fs = 25\n",
    "axis_label_fs = 20\n",
    "axis_num_fs = 20\n",
    "legend_title_fs = 20\n",
    "legend_text_fs = 15\n",
    "cbar_fs = 20\n",
    "text_fs = 28"
   ]
  },
  {
   "cell_type": "markdown",
   "id": "17793996",
   "metadata": {},
   "source": [
    "## Values"
   ]
  },
  {
   "cell_type": "markdown",
   "id": "8193d699",
   "metadata": {},
   "source": [
    "The distance to IRS 63 is approx 132 pc, found from [this paper](https://iopscience.iop.org/article/10.3847/1538-4357/acf7c1)"
   ]
  },
  {
   "cell_type": "code",
   "execution_count": 4,
   "id": "12ee2aa1",
   "metadata": {},
   "outputs": [],
   "source": [
    "distance_pc = 132"
   ]
  },
  {
   "cell_type": "code",
   "execution_count": 5,
   "id": "5e03376e",
   "metadata": {},
   "outputs": [],
   "source": [
    "normalized_cbar_ticks = np.array([0, 0.2, 0.4, 0.6, 0.8, 1])"
   ]
  },
  {
   "cell_type": "markdown",
   "id": "a65f5b75",
   "metadata": {},
   "source": [
    "# Reading in FITS Files and Extracting Headers"
   ]
  },
  {
   "cell_type": "markdown",
   "id": "8e6de001",
   "metadata": {},
   "source": [
    "## Summary of files"
   ]
  },
  {
   "cell_type": "markdown",
   "id": "10377e79",
   "metadata": {},
   "source": [
    "| File Name                      | Description                                                        |\n",
    "|--------------------------------|--------------------------------------------------------------------|\n",
    "| c2d_989_pbeam_233GHz.fits      | Primary beam pattern for the 233 GHz observation.                 |\n",
    "| c2d_989_POLA_233GHz.fits       | Polarization angle data at 233 GHz.                               |\n",
    "| c2d_989_POLAerr_233GHz.fits    | Uncertainty in the polarization angle data at 233 GHz.            |\n",
    "| c2d_989_POLF_233GHz.fits       | Polarization fraction data at 233 GHz.                            |\n",
    "| c2d_989_POLFerr_233GHz.fits    | Uncertainty in the polarization fraction data at 233 GHz.         |\n",
    "| c2d_989_POLI_233GHz.fits       | Polarized intensity data at 233 GHz.                              |\n",
    "| c2d_989_POLIerr_233GHz.fits    | Uncertainty in the polarized intensity data at 233 GHz.           |\n",
    "| c2d_989_StokesI_233GHz.fits    | Stokes I parameter (total intensity) at 233 GHz.                  |\n",
    "| c2d_989_StokesIerr_233GHz      | Uncertainty in the Stokes I parameter at 233 GHz.                 |\n",
    "| c2d_989_StokesQ_233GHz.fits    | Stokes Q parameter (linear polarization) at 233 GHz.              |\n",
    "| c2d_989_StokesQerr_233GHz.fits | Uncertainty in the Stokes Q parameter at 233 GHz.                 |\n",
    "| c2d_989_StokesU_233GHz.fits    | Stokes U parameter (linear polarization) at 233 GHz.              |\n",
    "| c2d_989_StokesUerr_233GHz.fits | Uncertainty in the Stokes U parameter at 233 GHz.                 |\n",
    "| README                         | Documentation for the data files and their usage.                 |\n"
   ]
  },
  {
   "cell_type": "code",
   "execution_count": 6,
   "id": "fd1f7cb6",
   "metadata": {},
   "outputs": [],
   "source": [
    "folder_path = \"/Users/audreyburggraf/Desktop/QUEEN'S/THESIS RESEARCH/PLOTTING C29 989/FITS FILES/\""
   ]
  },
  {
   "cell_type": "markdown",
   "id": "9ae9b3b9",
   "metadata": {},
   "source": [
    "## Stokes I"
   ]
  },
  {
   "cell_type": "markdown",
   "id": "ae829aab",
   "metadata": {},
   "source": [
    "Creating a 'default' WCS header will look like this:\n",
    "\n",
    "```python\n",
    "# WCS Keywords\n",
    "\n",
    "# Number of WCS axes: 2\n",
    "CTYPE = ['', '']  \n",
    "CRVAL = [0.0, 0.0]  \n",
    "CRPIX = [0.0, 0.0]  \n",
    "PC1_1, PC1_2 = 1.0, 0.0  \n",
    "PC2_1, PC2_2 = 0.0, 1.0  \n",
    "CDELT = [1.0, 1.0]  \n",
    "NAXIS = [0, 0]\n"
   ]
  },
  {
   "cell_type": "code",
   "execution_count": 7,
   "id": "0b24518a",
   "metadata": {},
   "outputs": [],
   "source": [
    "# Define the path to the Stokes I FITS file\n",
    "StokesI_file = folder_path + \"c2d_989_StokesI_233GHz.fits\"\n",
    "\n",
    "StokesI_header, StokesI_data_4d_Jy, StokesI_data_2d_Jy, StokesI_wcs = read_in_file(StokesI_file)\n",
    "\n",
    "StokesI_data_2d_mJy = StokesI_data_2d_Jy * 1000"
   ]
  },
  {
   "cell_type": "markdown",
   "id": "0a1078ba",
   "metadata": {},
   "source": [
    "### Stretch and clip data"
   ]
  },
  {
   "cell_type": "code",
   "execution_count": 8,
   "id": "5d8cc7e3",
   "metadata": {},
   "outputs": [],
   "source": [
    "StokesI_vmin_nonan = np.nanmin(StokesI_data_2d_mJy)\n",
    "StokesI_vmax_nonan = np.nanmax(StokesI_data_2d_mJy)\n",
    "\n",
    "StokesI_vmin_custom = -0.2\n",
    "StokesI_vmax_custom = 89.85\n",
    "\n",
    "StokesI_vmin = StokesI_vmin_custom\n",
    "StokesI_vmax = StokesI_vmax_custom\n",
    "\n",
    "StokesI_clipped = np.clip(StokesI_data_2d_mJy, StokesI_vmin, StokesI_vmax)\n",
    "\n",
    "StokesI_stretched = stretch(StokesI_clipped, base=100, vmin = StokesI_vmin, vmax = StokesI_vmax)"
   ]
  },
  {
   "cell_type": "code",
   "execution_count": 9,
   "id": "dd3b46a6",
   "metadata": {},
   "outputs": [
    {
     "data": {
      "text/plain": [
       "array([-0.2       ,  1.17520579,  4.62956655, 13.30652848, 35.10207142,\n",
       "       89.85      ])"
      ]
     },
     "execution_count": 9,
     "metadata": {},
     "output_type": "execute_result"
    }
   ],
   "source": [
    "# Get original values for the color bar ticks\n",
    "StokesI_unstretched_cbar_ticks = unstretch(normalized_cbar_ticks, StokesI_vmin, StokesI_vmax)\n",
    "StokesI_unstretched_cbar_ticks"
   ]
  },
  {
   "cell_type": "markdown",
   "id": "c3bb8ecd",
   "metadata": {},
   "source": [
    "## Uncertainty in Stokes I"
   ]
  },
  {
   "cell_type": "code",
   "execution_count": 10,
   "id": "79e5e364",
   "metadata": {},
   "outputs": [],
   "source": [
    "# Define the path to the Stokes I FITS file\n",
    "StokesIerr_file = folder_path + \"c2d_989_StokesIerr_233GHz.fits\"\n",
    "\n",
    "StokesIerr_header, _ , StokesIerr_data_2d_Jy, StokesIerr_wcs = read_in_file(StokesIerr_file, dimensions = 2)\n",
    "\n",
    "StokesIerr_data_2d_mJy = StokesIerr_data_2d_Jy * 1000"
   ]
  },
  {
   "cell_type": "markdown",
   "id": "b001501a",
   "metadata": {},
   "source": [
    "## Stokes Q"
   ]
  },
  {
   "cell_type": "code",
   "execution_count": 11,
   "id": "ea233490",
   "metadata": {},
   "outputs": [],
   "source": [
    "# Define the path to the Stokes I FITS file\n",
    "StokesQ_file = folder_path + \"c2d_989_StokesQ_233GHz.fits\"\n",
    "\n",
    "StokesQ_header, StokesQ_data_4d_Jy, StokesQ_data_2d_Jy, StokesQ_wcs = read_in_file(StokesQ_file)\n",
    "\n",
    "StokesQ_data_2d_mJy = StokesQ_data_2d_Jy * 1000"
   ]
  },
  {
   "cell_type": "markdown",
   "id": "f503e502",
   "metadata": {},
   "source": [
    "## Stokes U"
   ]
  },
  {
   "cell_type": "code",
   "execution_count": 12,
   "id": "4e8939e7",
   "metadata": {},
   "outputs": [],
   "source": [
    "# Define the path to the Stokes I FITS file\n",
    "StokesU_file = folder_path + \"c2d_989_StokesU_233GHz.fits\"\n",
    "\n",
    "StokesU_header, StokesU_data_4d_Jy, StokesU_data_2d_Jy, StokesU_wcs = read_in_file(StokesU_file)\n",
    "\n",
    "StokesU_data_2d_mJy = StokesU_data_2d_Jy * 1000"
   ]
  },
  {
   "cell_type": "markdown",
   "id": "7ca25489",
   "metadata": {},
   "source": [
    "## Polarization Angle"
   ]
  },
  {
   "cell_type": "code",
   "execution_count": 13,
   "id": "aa240a9a",
   "metadata": {},
   "outputs": [],
   "source": [
    "# Define the path to the Stokes I FITS file\n",
    "PolarizationAngle_file = folder_path + \"c2d_989_POLA_233GHz.fits\"\n",
    "\n",
    "PolarizationAngle_header, PolarizationAngle_data_4d_deg, PolarizationAngle_data_2d_deg, PolarizationAngle_wcs = read_in_file(PolarizationAngle_file)\n",
    "\n",
    "PolarizationAngle_data_2d_rad = PolarizationAngle_data_2d_deg * (np.pi / 180)"
   ]
  },
  {
   "cell_type": "markdown",
   "id": "d9b8f5bb",
   "metadata": {},
   "source": [
    "## Polarization Fraction"
   ]
  },
  {
   "cell_type": "code",
   "execution_count": 14,
   "id": "b32490f4",
   "metadata": {},
   "outputs": [],
   "source": [
    "# Define the path to the Stokes I FITS file\n",
    "PolarizationFraction_file = folder_path + \"c2d_989_POLF_233GHz.fits\"\n",
    "\n",
    "PolarizationFraction_header, PolarizationFraction_data_4d, PolarizationFraction_data_2d, PolarizationFraction_wcs = read_in_file(PolarizationFraction_file)"
   ]
  },
  {
   "cell_type": "markdown",
   "id": "154e273d",
   "metadata": {},
   "source": [
    "# Calculations"
   ]
  },
  {
   "cell_type": "markdown",
   "id": "bbc0bdd9",
   "metadata": {},
   "source": [
    "## Reference Length"
   ]
  },
  {
   "cell_type": "code",
   "execution_count": 15,
   "id": "015535ab",
   "metadata": {},
   "outputs": [
    {
     "name": "stdout",
     "output_type": "stream",
     "text": [
      "The reference length is:\n",
      "100 AU\n",
      "42.088 pix\n"
     ]
    }
   ],
   "source": [
    "reference_length_AU = 100\n",
    "reference_length_pix = length_in_pixels(reference_length_AU, distance_pc, StokesI_header)\n",
    "\n",
    "print('The reference length is:')\n",
    "print(f'{reference_length_AU} AU')\n",
    "print(f'{reference_length_pix:.3f} pix')"
   ]
  },
  {
   "cell_type": "markdown",
   "id": "6b0cfaff",
   "metadata": {},
   "source": [
    "## Beam Size and Angle"
   ]
  },
  {
   "cell_type": "code",
   "execution_count": 16,
   "id": "33054238",
   "metadata": {},
   "outputs": [
    {
     "name": "stdout",
     "output_type": "stream",
     "text": [
      "The angle in astronomy angles is -68.553 degrees\n",
      "The angle in cartesian angles is 21.447 degrees\n"
     ]
    }
   ],
   "source": [
    "# get_beam_info returns: BMAJ_deg, BMIN_deg, BMAJ_pix, BMIN_pix, BPA_deg, BPA_deg_cartesian\n",
    "# the cartesian angle might not work though!\n",
    "\n",
    "beam_info = get_beam_info(StokesI_header)\n",
    "\n",
    "BMAJ_deg, BMIN_deg, BMAJ_pix, BMIN_pix, BPA_astronomy_deg, BPA_deg_cartesian = beam_info\n",
    "\n",
    "print(f'The angle in astronomy angles is {BPA_astronomy_deg:.3f} degrees')\n",
    "print(f'The angle in cartesian angles is {BPA_deg_cartesian:.3f} degrees')"
   ]
  },
  {
   "cell_type": "code",
   "execution_count": 17,
   "id": "bc748554",
   "metadata": {},
   "outputs": [
    {
     "data": {
      "image/png": "[encoded data removed]",
      "text/plain": [
       "<Figure size 720x720 with 1 Axes>"
      ]
     },
     "metadata": {
      "needs_background": "light"
     },
     "output_type": "display_data"
    }
   ],
   "source": [
    "# Array of easy to visualise angles and the beam angle:\n",
    "astronomy_angles_deg = [0, 45, 90, 180, 270, BPA_astronomy_deg]  \n",
    "\n",
    "# Convert each angle to Cartesian coordinates\n",
    "astronomy_angles_in_cartesian_deg = [astronomy_to_cartesian(angle) for angle in astronomy_angles_deg]\n",
    "\n",
    "# Corresponding labels for the angles\n",
    "names = ['0', '45', '90', '180', '270', 'BPA']  # Including 'BPA' as a label for the last angle\n",
    "\n",
    "# Colors for each line \n",
    "colors = sns.color_palette(\"hls\", len(names)) \n",
    "\n",
    "# Length of the lines (can be adjusted as needed)\n",
    "line_length = 1\n",
    "\n",
    "# Create the plot with a larger size\n",
    "plt.figure(figsize=(10, 10))\n",
    "\n",
    "# Set axis limits to show all four quadrants\n",
    "plt.xlim(-1, 1)\n",
    "plt.ylim(-1, 1)\n",
    "\n",
    "# Plot the black axes at x=0 and y=0\n",
    "plt.axvline(x=0, color='black', linestyle='-', lw=5)\n",
    "plt.axhline(y=0, color='black', linestyle='-', lw=5)\n",
    "\n",
    "# Loop through each angle and plot the corresponding colored line\n",
    "for i, angle_deg in enumerate(astronomy_angles_in_cartesian_deg):\n",
    "    # Convert angle from degrees to radians\n",
    "    angle_rad = np.radians(angle_deg)  # Use the angle in degrees for conversion to radians\n",
    "    \n",
    "    # Calculate the Cartesian coordinates for the line\n",
    "    x = line_length * np.cos(angle_rad)\n",
    "    y = line_length * np.sin(angle_rad)\n",
    "    \n",
    "    # Plot the line from (0,0) to (x, y) using the color from the 'colors' array\n",
    "    plt.plot([0, x], [0, y], color=colors[i], label=names[i], lw=10)\n",
    "\n",
    "# Add grid and legend to the plot\n",
    "plt.grid(True)\n",
    "plt.legend()\n",
    "\n",
    "# Show the plot\n",
    "plt.show()\n"
   ]
  },
  {
   "cell_type": "markdown",
   "id": "6e9864a9",
   "metadata": {},
   "source": [
    "## Calculate Polarization Angle"
   ]
  },
  {
   "cell_type": "markdown",
   "id": "b49f0d0f",
   "metadata": {},
   "source": [
    "$$\n",
    "\\theta = \\frac{1}{2} \\arctan\\left(\\frac{U}{Q}\\right)  \\text{   radians}\n",
    "$$\n",
    "\n",
    "I got this equation from [this paper](https://www.sciencedirect.com/science/article/pii/S0022407314003744#:~:text=The%20angle%20of%20polarization%20%CF%87,with%20the%20angle%20of%20polarization.)\n",
    "- this angle is measured using the cartesian coordinates so we do not need to convert it to plot it"
   ]
  },
  {
   "cell_type": "code",
   "execution_count": 18,
   "id": "80063056",
   "metadata": {},
   "outputs": [],
   "source": [
    "calculated_polarization_angle_rad = 0.5 * np.arctan2(StokesU_data_2d_Jy, StokesQ_data_2d_Jy)"
   ]
  },
  {
   "cell_type": "markdown",
   "id": "e66479a9",
   "metadata": {},
   "source": [
    "## Calculate Polarized Fraction"
   ]
  },
  {
   "cell_type": "markdown",
   "id": "524d6430",
   "metadata": {},
   "source": [
    "$$\n",
    "P = \\frac{P_I}{I} = \\frac{\\sqrt{Q^2+U^2}}{I}\n",
    "$$\n",
    "\n",
    "Note: I am not worrying about debias yet"
   ]
  },
  {
   "cell_type": "code",
   "execution_count": 28,
   "id": "4828a8cc",
   "metadata": {},
   "outputs": [],
   "source": [
    "calc_polarized_frac = np.sqrt(StokesQ_data_2d_mJy**2 + StokesU_data_2d_mJy**2) / StokesI_data_2d_mJy"
   ]
  },
  {
   "cell_type": "code",
   "execution_count": 29,
   "id": "167f6ae6",
   "metadata": {},
   "outputs": [],
   "source": [
    "# print(f\"The calculated data ranges from {np.nanmin(clac_polarized_frac):.3f} to {np.nanmax(clac_polarized_frac):.3f}\")\n",
    "# print(f\"The provided data ranges from {np.nanmin(PolarizationFraction_data_2d_mJy):.3f} to {np.nanmax(PolarizationFraction_data_2d_mJy):.3f}\")"
   ]
  },
  {
   "cell_type": "code",
   "execution_count": 30,
   "id": "5b23a68d",
   "metadata": {},
   "outputs": [],
   "source": [
    "# # Make sure my calculated data and the actual data are similar\n",
    "\n",
    "# # Create the figure and axes\n",
    "# fig, ax = plt.subplots(1, 2, figsize=(12, 6))  # 1 row, 2 columns\n",
    "\n",
    "# # Plot \"calculated_Polarized_frac\" on the left\n",
    "# im1 = ax[0].imshow(calc_polarized_frac, cmap='viridis')\n",
    "# ax[0].set_title('Calculated Polarized Fraction')\n",
    "# fig.colorbar(im1, ax=ax[0], orientation='vertical')  # Add a colorbar\n",
    "\n",
    "# # Plot \"polarized_frac\" on the right\n",
    "# im2 = ax[1].imshow(PolarizationFraction_data_2d_mJy, cmap='viridis')\n",
    "# ax[1].set_title('Polarized Fraction')\n",
    "# fig.colorbar(im2, ax=ax[1], orientation='vertical')  # Add a colorbar\n",
    "\n",
    "# # Adjust layout and show the plot\n",
    "# plt.tight_layout()\n",
    "# plt.show()"
   ]
  },
  {
   "cell_type": "markdown",
   "id": "f717a731",
   "metadata": {},
   "source": [
    "# Plotting Stokes I"
   ]
  },
  {
   "cell_type": "markdown",
   "id": "2ec8eb0c",
   "metadata": {},
   "source": [
    "### Plot Size"
   ]
  },
  {
   "cell_type": "code",
   "execution_count": 23,
   "id": "9577b304",
   "metadata": {},
   "outputs": [
    {
     "name": "stdout",
     "output_type": "stream",
     "text": [
      "StokesI_min_RA_pix: 924, StokesI_min_Dec_pix: 756\n",
      "StokesI_max_RA_pix: 787, StokesI_max_Dec_pix: 895\n"
     ]
    }
   ],
   "source": [
    "# Find the pixel value of the minimum and maximum value based on its sky position\n",
    "StokesI_min_str = 'J163135.57-240131.20'\n",
    "StokesI_max_str = 'J163135.75-240128.70'\n",
    "\n",
    "\n",
    "StokesI_RA_min_pix, StokesI_Dec_min_pix = string_to_pixel(StokesI_min_str, StokesI_wcs)\n",
    "StokesI_RA_max_pix, StokesI_Dec_max_pix = string_to_pixel(StokesI_max_str, StokesI_wcs)\n",
    "\n",
    "print(f'StokesI_min_RA_pix: {StokesI_RA_min_pix}, StokesI_min_Dec_pix: {StokesI_Dec_min_pix}')\n",
    "print(f'StokesI_max_RA_pix: {StokesI_RA_max_pix}, StokesI_max_Dec_pix: {StokesI_Dec_max_pix}')"
   ]
  },
  {
   "cell_type": "code",
   "execution_count": 24,
   "id": "0251d1b1",
   "metadata": {},
   "outputs": [
    {
     "data": {
      "image/png": "[encoded data removed]",
      "text/plain": [
       "<Figure size 1008x864 with 2 Axes>"
      ]
     },
     "metadata": {
      "needs_background": "light"
     },
     "output_type": "display_data"
    }
   ],
   "source": [
    "StokesI_plotting_data = StokesI_stretched\n",
    "\n",
    "# Create a figure with the WCS projection\n",
    "# ------------------------------------------------------------------------------------\n",
    "fig, ax = plt.subplots(figsize=(14, 12), subplot_kw={'projection': StokesI_wcs})\n",
    "# ------------------------------------------------------------------------------------\n",
    "\n",
    "\n",
    "# Add data\n",
    "# ------------------------------------------------------------------------------------\n",
    "im = ax.imshow(StokesI_plotting_data, \n",
    "               cmap=soft_colormap_v2) \n",
    "# ------------------------------------------------------------------------------------\n",
    "\n",
    "\n",
    "# Colorbar\n",
    "# ------------------------------------------------------------------------------------\n",
    "cbar = plt.colorbar(im, ax=ax)\n",
    "\n",
    "cbar.set_label(r'Stokes I (mJy/beam)', fontsize=cbar_fs)\n",
    "\n",
    "cbar.ax.tick_params(labelsize=axis_num_fs, which='major', length=7, direction=\"in\")\n",
    "cbar.ax.tick_params(which='minor', length=4, direction=\"in\")\n",
    "\n",
    "# Update colorbar ticks and labels\n",
    "cbar.set_ticks(normalized_cbar_ticks)  # Set tick locations in stretched space\n",
    "cbar.set_ticklabels([f\"{val:.2f}\" for val in StokesI_unstretched_cbar_ticks])\n",
    "# ------------------------------------------------------------------------------------\n",
    "\n",
    "\n",
    "# Add title and axis labels\n",
    "# ------------------------------------------------------------------------------------\n",
    "# ax.set_title('Title', fontsize=title_fs, fontweight='bold')\n",
    "ax.set_xlabel('Right Ascension', fontsize=axis_label_fs)\n",
    "ax.set_ylabel('Declination', fontsize=axis_label_fs)\n",
    "# ------------------------------------------------------------------------------------\n",
    "\n",
    "\n",
    "# Flip the axes if needed\n",
    "# ------------------------------------------------------------------------------------------\n",
    "# ax.invert_xaxis()\n",
    "# ax.invert_yaxis()\n",
    "# ------------------------------------------------------------------------------------------\n",
    "\n",
    "\n",
    "# Set x and y limits using ax.set_xlim() and ax.set_ylim()\n",
    "# ------------------------------------------------------------------------------------------\n",
    "xmin = StokesI_RA_max_pix\n",
    "xmax = StokesI_RA_min_pix\n",
    "\n",
    "ymin = StokesI_Dec_min_pix\n",
    "ymax = StokesI_Dec_max_pix\n",
    "\n",
    "ax.set_xlim(xmin, xmax)\n",
    "ax.set_ylim(ymin, ymax)\n",
    "# ------------------------------------------------------------------------------------------\n",
    "\n",
    "\n",
    "# Add line and text for 100 AU \n",
    "# ------------------------------------------------------------------------------------------\n",
    "# Plot the line in axes coordinates\n",
    "line_x_pos = xmax - 0.05 * (xmax - xmin) # 5% in from the right\n",
    "line_y_pos = ymax - 0.1  * (ymax - ymin) # 10% down from the top\n",
    "\n",
    "ax.plot([(line_x_pos - reference_length_pix), (line_x_pos)], \n",
    "        [line_y_pos, line_y_pos],\n",
    "        color='black', \n",
    "        linewidth=3)\n",
    "\n",
    "# Add the text label centered below the line\n",
    "ax.text((line_x_pos - reference_length_pix/2), \n",
    "        (line_y_pos - 2), \n",
    "        f'{reference_length_AU} AU', \n",
    "        fontsize=text_fs, \n",
    "        ha='center', \n",
    "        va='top') \n",
    "# ------------------------------------------------------------------------------------\n",
    "\n",
    "\n",
    "# Create and add the circular beam to the plot\n",
    "# ----------------------------------------------------------------------------------------\n",
    "beam_x_pos = xmin - 0.1 * (xmin - xmax) # 10% in from the left\n",
    "beam_y_pos = ymin - 0.1 * (ymin - ymax) # 10% up from the bottom\n",
    "\n",
    "beam = Ellipse(\n",
    "    (beam_x_pos, beam_y_pos),                      \n",
    "    width = BMAJ_pix, \n",
    "    height = BMIN_pix,   \n",
    "    angle = BPA_deg_cartesian,\n",
    "    edgecolor='black',                 # Edge color\n",
    "    facecolor='none',                  # Fill color\n",
    "    alpha=1,\n",
    "    lw = 2)                           # Transparency\n",
    "\n",
    "# Add the beam to the plot\n",
    "ax.add_patch(beam)\n",
    "# ------------------------------------------------------------------------------------\n",
    "\n",
    "\n",
    "\n",
    "# Vectors\n",
    "# ------------------------------------------------------------------------------------\n",
    "# Set parameters\n",
    "step = 7  # Plot vectors every step-th pixel\n",
    "max_length_pix = 400  # Maximum length of the vector in pixels for 100% polarization\n",
    "reference_fraction = 0.03  # Reference polarization fraction (e.g., 3%)\n",
    "nx, ny = StokesI_data_2d_mJy.shape\n",
    "# ------------------------------------------------------------------------------------\n",
    "# Loop over values in x and y\n",
    "for x in range(0, nx, step):\n",
    "    for y in range(0, ny, step):\n",
    "        # Check if the condition (StokesI / StokesIerr > 3) is met\n",
    "        if (StokesI_data_2d_mJy[y, x] / StokesIerr_data_2d_mJy[y, x] > 3 and \n",
    "            StokesI_data_2d_mJy[y, x] > 4):    \n",
    "            # Get the polarization angle at this pixel\n",
    "            angle_rad = calculated_polarization_angle_rad[y, x] + np.pi / 2\n",
    "            \n",
    "            # Get the polarization fraction at this pixel\n",
    "            polarization_fraction = calc_polarized_frac[y, x]  # Add your data source\n",
    "            \n",
    "            # Scale vector length by polarization fraction\n",
    "            vector_length_pix = max_length_pix * polarization_fraction\n",
    "            \n",
    "            # Compute the vector components\n",
    "            dx = vector_length_pix * np.cos(angle_rad)\n",
    "            dy = vector_length_pix * np.sin(angle_rad)\n",
    "            \n",
    "            # Plot the vector\n",
    "            ax.plot([x - dx / 2, x + dx / 2], [y - dy / 2, y + dy / 2], color='black')\n",
    "# ------------------------------------------------------------------------------------\n",
    "\n",
    "\n",
    "\n",
    "# Draw the reference vector line\n",
    "# ------------------------------------------------------------------------------------\n",
    "vector_x_pos = xmax - 0.05 * (xmax - xmin)  # 5% in from the right\n",
    "vector_y_pos = ymin - 0.1 * (ymin - ymax)  # 10% up from the bottom\n",
    "\n",
    "ax.plot([(vector_x_pos - max_length_pix * reference_fraction), vector_x_pos], \n",
    "        [vector_y_pos, vector_y_pos],\n",
    "        color='black', \n",
    "        linewidth=3)\n",
    "\n",
    "# Add the text label centered below the line\n",
    "ax.text(vector_x_pos - max_length_pix * reference_fraction / 2,  # Midpoint of the line\n",
    "        vector_y_pos - 2,  # Adjusted position below the line\n",
    "        f'{reference_fraction * 100:.0f}%',  # Format the fraction as a percentage\n",
    "        fontsize=text_fs, \n",
    "        ha='center', \n",
    "        va='top')\n",
    "# ------------------------------------------------------------------------------------\n",
    "\n",
    "\n",
    "# Adjust ticks and numbers for bottom and left axes\n",
    "# ------------------------------------------------------------------------------------\n",
    "ax.minorticks_on()\n",
    "\n",
    "ax.tick_params(axis=\"x\", which=\"major\", direction=\"in\", bottom=True, top=False, length=7, labelsize=axis_num_fs)\n",
    "ax.tick_params(axis=\"y\", which=\"major\", direction=\"in\", left=True, right=False, length=7, labelsize=axis_num_fs)\n",
    "# ------------------------------------------------------------------------------------\n",
    "\n",
    "\n",
    "# Tight layout and show the plot\n",
    "# ------------------------------------------------------------------------------------------\n",
    "# plt.tight_layout()\n",
    "plt.show()\n",
    "# ------------------------------------------------------------------------------------------"
   ]
  },
  {
   "cell_type": "code",
   "execution_count": null,
   "id": "6963436d",
   "metadata": {},
   "outputs": [],
   "source": []
  }
 ],
 "metadata": {
  "kernelspec": {
   "display_name": "Python 3 (ipykernel)",
   "language": "python",
   "name": "python3"
  },
  "language_info": {
   "codemirror_mode": {
    "name": "ipython",
    "version": 3
   },
   "file_extension": ".py",
   "mimetype": "text/x-python",
   "name": "python",
   "nbconvert_exporter": "python",
   "pygments_lexer": "ipython3",
   "version": "3.9.7"
  },
  "varInspector": {
   "cols": {
    "lenName": 16,
    "lenType": 16,
    "lenVar": 40
   },
   "kernels_config": {
    "python": {
     "delete_cmd_postfix": "",
     "delete_cmd_prefix": "del ",
     "library": "var_list.py",
     "varRefreshCmd": "print(var_dic_list())"
    },
    "r": {
     "delete_cmd_postfix": ") ",
     "delete_cmd_prefix": "rm(",
     "library": "var_list.r",
     "varRefreshCmd": "cat(var_dic_list()) "
    }
   },
   "types_to_exclude": [
    "module",
    "function",
    "builtin_function_or_method",
    "instance",
    "_Feature"
   ],
   "window_display": false
  }
 },
 "nbformat": 4,
 "nbformat_minor": 5
}
