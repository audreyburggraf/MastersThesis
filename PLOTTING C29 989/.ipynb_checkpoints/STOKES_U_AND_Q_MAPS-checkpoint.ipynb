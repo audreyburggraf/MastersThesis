{
 "cells": [
  {
   "cell_type": "markdown",
   "id": "9a1e893c",
   "metadata": {},
   "source": [
    "In this file I am trying to make maps of Stokes U and Q for 100% uniform, 100% azimuthal and then their blends"
   ]
  },
  {
   "cell_type": "markdown",
   "id": "87c47a6f",
   "metadata": {},
   "source": [
    "# Initial Stuff "
   ]
  },
  {
   "cell_type": "code",
   "execution_count": null,
   "id": "566e10bd",
   "metadata": {},
   "outputs": [],
   "source": [
    "import numpy as np\n",
    "\n",
    "# matplotlib\n",
    "import matplotlib.pyplot as plt\n",
    "import matplotlib.colors as mcolors\n",
    "import matplotlib.gridspec as gridspec\n",
    "\n",
    "import seaborn as sns\n",
    "import pandas as pd\n",
    "\n",
    "# Functions and colormap\n",
    "from PlottingWithFunction import * \n",
    "from custom_colormap import soft_colormap_v2"
   ]
  },
  {
   "cell_type": "code",
   "execution_count": null,
   "id": "63c5472b",
   "metadata": {},
   "outputs": [],
   "source": [
    "%run run_all_intro_stuff.py"
   ]
  },
  {
   "cell_type": "markdown",
   "id": "b57484f1",
   "metadata": {},
   "source": [
    "# Recovering Stokes Q and Stokes U from Polarization Angle"
   ]
  },
  {
   "cell_type": "code",
   "execution_count": null,
   "id": "1f8a1d12",
   "metadata": {},
   "outputs": [],
   "source": [
    "def recover_StokesQU(PA_grid, PolarizedIntensity_grid):\n",
    "    \"\"\"\n",
    "    Compute Stokes Q and U given a polarization angle grid \n",
    "\n",
    "    Parameters:\n",
    "    PA_grid (numpy.ndarray): 2D array of polarization angles in radians.\n",
    "\n",
    "    Returns:\n",
    "    tuple: (StokesQ_grid, StokesU_grid), both as 2D numpy arrays.\n",
    "    \"\"\"\n",
    "    \n",
    "    # Initialize empty grids for Stokes Q and U\n",
    "    StokesQ_grid = np.zeros((ny, nx))\n",
    "    StokesU_grid = np.zeros((ny, nx))\n",
    "    \n",
    "    # Compute Stokes Q and U for each pixel\n",
    "    for x in range(nx):\n",
    "        for y in range(ny):\n",
    "            angle = PA_grid[y, x]  # Polarization angle in radians\n",
    "            \n",
    "            PI = PolarizedIntensity_grid[y,x]\n",
    "            \n",
    "            StokesQ_grid[y, x] = PI * np.cos(2 * angle)\n",
    "            StokesU_grid[y, x] = PI * np.sin(2 * angle)\n",
    "            \n",
    "    \n",
    "    return StokesQ_grid, StokesU_grid\n"
   ]
  },
  {
   "cell_type": "markdown",
   "id": "9d6ebe5b",
   "metadata": {},
   "source": [
    "## Get the values of U and Q from polarization angle"
   ]
  },
  {
   "cell_type": "code",
   "execution_count": null,
   "id": "70d7e7df",
   "metadata": {},
   "outputs": [],
   "source": [
    "StokesQ_grid_100Uniform,   StokesU_grid_100Uniform   = recover_StokesQU(PA_grid_100Uniform,   StokesI_data_2d_mJy)"
   ]
  },
  {
   "cell_type": "code",
   "execution_count": null,
   "id": "f0e163c1",
   "metadata": {},
   "outputs": [],
   "source": [
    "StokesQ_grid_100Azimuthal, StokesU_grid_100Azimuthal = recover_StokesQU(PA_grid_100Azimuthal, StokesI_data_2d_mJy)"
   ]
  },
  {
   "cell_type": "markdown",
   "id": "6f527750",
   "metadata": {},
   "source": [
    "# Testing Q and U Directions"
   ]
  },
  {
   "cell_type": "markdown",
   "id": "7ef3496c",
   "metadata": {},
   "source": [
    "## Angles "
   ]
  },
  {
   "cell_type": "code",
   "execution_count": null,
   "id": "0c8ef562",
   "metadata": {},
   "outputs": [],
   "source": [
    "stop here = np.zero(2)"
   ]
  },
  {
   "cell_type": "code",
   "execution_count": null,
   "id": "f98d773b",
   "metadata": {},
   "outputs": [],
   "source": [
    "TestingQU_angles_labels = ['Minor Axis', 'Major Axis', '0 deg', '90 deg']"
   ]
  },
  {
   "cell_type": "code",
   "execution_count": null,
   "id": "7cdfd96c",
   "metadata": {},
   "outputs": [],
   "source": [
    "TestingQU_angles_deg_plot = [minor_angle_deg_plot, major_angle_deg_plot, 0, 90]"
   ]
  },
  {
   "cell_type": "code",
   "execution_count": null,
   "id": "45fcc2fa",
   "metadata": {},
   "outputs": [],
   "source": [
    "# Colors for each line \n",
    "colors = sns.color_palette(\"hls\", len(TestingQU_angles_labels)) \n",
    "\n",
    "# Length of the lines (can be adjusted as needed)\n",
    "line_length = 1\n",
    "\n",
    "# Create the plot with a larger size\n",
    "plt.figure(figsize=(10, 10))\n",
    "\n",
    "# Set axis limits to show all four quadrants\n",
    "plt.xlim(-1, 1)\n",
    "plt.ylim(-1, 1)\n",
    "\n",
    "# Plot the black axes at x=0 and y=0\n",
    "plt.axvline(x=0, color='black', linestyle='-', lw=5)\n",
    "plt.axhline(y=0, color='black', linestyle='-', lw=5)\n",
    "\n",
    "# Loop through each angle and plot the corresponding colored line\n",
    "for i, angle_deg in enumerate(TestingQU_angles_deg_plot):\n",
    "    # Convert angle from degrees to radians\n",
    "    angle_rad = np.radians(angle_deg)  # Use the angle in degrees for conversion to radians\n",
    "    \n",
    "    # Calculate the Cartesian coordinates for the line\n",
    "    x = line_length * np.cos(angle_rad)\n",
    "    y = line_length * np.sin(angle_rad)\n",
    "    \n",
    "    # Plot the line from (0,0) to (x, y) using the color from the 'colors' array\n",
    "    plt.plot([-x, x], [-y, y], color=colors[i], label=TestingQU_angles_labels[i], lw=10)\n",
    "\n",
    "# Add grid and legend to the plot\n",
    "plt.grid(True)\n",
    "plt.legend()\n",
    "\n",
    "# Show the plot\n",
    "plt.show()\n"
   ]
  },
  {
   "cell_type": "markdown",
   "id": "343d778a",
   "metadata": {},
   "source": [
    "## Get the data "
   ]
  },
  {
   "cell_type": "code",
   "execution_count": null,
   "id": "967d3457",
   "metadata": {},
   "outputs": [],
   "source": [
    "TestingQU_titles = [\n",
    "    'Minor (Q = 0)', 'Minor (Q = 0)',\n",
    "    'Major (Q = 0)', 'Major (Q = 0)',\n",
    "    '0 deg (U = 0)', '0 deg (U = 0)',\n",
    "    '90 deg (U = 0)', '90 deg (U = 0)' \n",
    "]"
   ]
  },
  {
   "cell_type": "code",
   "execution_count": null,
   "id": "f4a8b4cb",
   "metadata": {},
   "outputs": [],
   "source": [
    "TestingQU_cbar_titles = [\n",
    "    'Stokes Q', 'Stokes U', \n",
    "    'Stokes Q', 'Stokes U',\n",
    "    'Stokes Q', 'Stokes U',\n",
    "    'Stokes Q', 'Stokes U'\n",
    "]"
   ]
  },
  {
   "cell_type": "code",
   "execution_count": null,
   "id": "53ae0faf",
   "metadata": {},
   "outputs": [],
   "source": [
    "def create_uniform_PA_grid(nx, ny, angle_rad):\n",
    "    \"\"\"\n",
    "    Create a 2D grid (ny x nx) where every element is assigned the same angle value.\n",
    "\n",
    "    Parameters:\n",
    "    nx (int): Number of columns (x-dimension).\n",
    "    ny (int): Number of rows (y-dimension).\n",
    "    angle_rad (float): The uniform angle value in radians.\n",
    "\n",
    "    Returns:\n",
    "    np.ndarray: A 2D array filled with the given angle.\n",
    "    \"\"\"\n",
    "    return np.full((ny, nx), angle_rad)"
   ]
  },
  {
   "cell_type": "code",
   "execution_count": null,
   "id": "25963d60",
   "metadata": {},
   "outputs": [],
   "source": [
    "PA_grid_100Uniform_minor = create_uniform_PA_grid(nx, ny, TestingQU_angles_deg_plot[0])\n",
    "PA_grid_100Uniform_major = create_uniform_PA_grid(nx, ny, TestingQU_angles_deg_plot[1])\n",
    "PA_grid_100Uniform_0     = create_uniform_PA_grid(nx, ny, TestingQU_angles_deg_plot[2])\n",
    "PA_grid_100Uniform_90    = create_uniform_PA_grid(nx, ny, TestingQU_angles_deg_plot[3])"
   ]
  },
  {
   "cell_type": "code",
   "execution_count": null,
   "id": "a91630b7",
   "metadata": {},
   "outputs": [],
   "source": [
    "StokesQ_grid_100Uniform_minor,   StokesU_grid_100Uniform_minor   = recover_StokesQU(PA_grid_100Uniform_minor,   StokesI_data_2d_mJy)\n",
    "StokesQ_grid_100Uniform_major,   StokesU_grid_100Uniform_major   = recover_StokesQU(PA_grid_100Uniform_major,   StokesI_data_2d_mJy)\n",
    "StokesQ_grid_100Uniform_0,       StokesU_grid_100Uniform_0       = recover_StokesQU(PA_grid_100Uniform_0,       StokesI_data_2d_mJy)\n",
    "StokesQ_grid_100Uniform_90,      StokesU_grid_100Uniform_90      = recover_StokesQU(PA_grid_100Uniform_90,      StokesI_data_2d_mJy)"
   ]
  },
  {
   "cell_type": "code",
   "execution_count": null,
   "id": "56461240",
   "metadata": {},
   "outputs": [],
   "source": [
    "TestingQU_data = [\n",
    "    StokesQ_grid_100Uniform_minor, StokesU_grid_100Uniform_minor,\n",
    "    StokesQ_grid_100Uniform_major, StokesU_grid_100Uniform_major,\n",
    "    StokesQ_grid_100Uniform_0,     StokesU_grid_100Uniform_0,\n",
    "    StokesQ_grid_100Uniform_90,    StokesU_grid_100Uniform_90\n",
    "]"
   ]
  },
  {
   "cell_type": "code",
   "execution_count": null,
   "id": "36f3d3c5",
   "metadata": {},
   "outputs": [],
   "source": [
    "# Assuming the necessary variables are already defined (like TestingQU_data, etc.)\n",
    "ncols = 2\n",
    "nrows = 4\n",
    "\n",
    "fig, axes = plt.subplots(nrows, ncols, figsize=(12, 20), subplot_kw={'projection': StokesI_wcs},\n",
    "                         gridspec_kw={'hspace': 0.5, 'wspace': -0.5})  # Adjust spacing\n",
    "\n",
    "cb_cmaps = ['viridis'] * (nrows * ncols)  # Assuming the same colormap for all plots\n",
    "\n",
    "# Create colorbar padding based on ncols and nrows\n",
    "cbar_pads = []\n",
    "\n",
    "top_cb_pad = 0.1\n",
    "middle_cb_pad = 0.1\n",
    "bottom_cb_pad = 0.2\n",
    "\n",
    "for row in range(nrows):\n",
    "    if row == 0:\n",
    "        cbar_pads.extend([top_cb_pad] * ncols)  # Top padding for the first row\n",
    "    elif row == nrows - 1:\n",
    "        cbar_pads.extend([bottom_cb_pad] * ncols)  # Bottom padding for the last row\n",
    "    else:\n",
    "        cbar_pads.extend([middle_cb_pad] * ncols)  # Middle padding for all other rows\n",
    "\n",
    "for i, ax in enumerate(axes.flat):\n",
    "    if i >= len(TestingQU_data):\n",
    "        ax.axis(\"off\")  # Hide empty subplots if data_list is shorter than grid size\n",
    "        continue\n",
    "\n",
    "    im = ax.imshow(TestingQU_data[i], cmap=cb_cmaps[i])\n",
    "    row, col = divmod(i, ncols)\n",
    "\n",
    "    if row == 0 and col < len(TestingQU_titles):\n",
    "        ax.set_title(TestingQU_titles[col], fontsize=axis_label_fs)\n",
    "\n",
    "    if col == 0:\n",
    "        ax.set_ylabel('Dec', fontsize=axis_label_fs)\n",
    "        ax.tick_params(axis=\"y\", which=\"both\", left=True, labelleft=True)\n",
    "    else:\n",
    "        ax.tick_params(axis=\"y\", which=\"both\", left=True, labelleft=False)\n",
    "\n",
    "    if row == nrows - 1:\n",
    "        ax.set_xlabel('RA', fontsize=axis_label_fs)\n",
    "        ax.tick_params(axis=\"x\", which=\"both\", bottom=True, labelbottom=True)\n",
    "    else:\n",
    "        ax.tick_params(axis=\"x\", which=\"both\", bottom=True, labelbottom=False)\n",
    "\n",
    "    ax.set_xlim(xmin, xmax)\n",
    "    ax.set_ylim(ymin, ymax)\n",
    "    ax.minorticks_on()\n",
    "    ax.tick_params(axis=\"x\", which=\"major\", direction=\"in\", bottom=True, top=True, length=7, labelsize=axis_num_fs - 10)\n",
    "    ax.tick_params(axis=\"y\", which=\"major\", direction=\"in\", left=True, right=True, length=7, labelsize=axis_num_fs)\n",
    "\n",
    "    # Set individual titles for each subplot\n",
    "    if i < len(TestingQU_titles):\n",
    "        ax.set_title(TestingQU_titles[i], fontsize=axis_label_fs)\n",
    "        \n",
    "        \n",
    "    cbar = fig.colorbar(im, ax=ax, orientation='horizontal', fraction=0.04, pad=cbar_pads[i])\n",
    "    if i < len(TestingQU_cbar_titles):\n",
    "        \n",
    "        cbar.set_label(TestingQU_cbar_titles[i], fontsize=cbar_fs)\n",
    "    \n",
    "    cbar.ax.tick_params(labelsize=axis_num_fs, which='major', length=7, direction=\"in\")\n",
    "    \n",
    "    cbar.ax.tick_params(which='minor', length=4, direction=\"in\")\n",
    "\n",
    "plt.tight_layout()\n",
    "plt.show()\n"
   ]
  },
  {
   "cell_type": "markdown",
   "id": "9769be5c",
   "metadata": {},
   "source": [
    "# 50% Uniform 50% Azimuthal"
   ]
  },
  {
   "cell_type": "code",
   "execution_count": null,
   "id": "aa771ebd",
   "metadata": {},
   "outputs": [],
   "source": [
    "def mix_StokesQU_and_generate_vectors(Uniform_ratio, Azimuthal_ratio, \n",
    "                                      StokesQ_uniform, StokesU_uniform, \n",
    "                                      StokesQ_azimuthal, StokesU_azimuthal):\n",
    "    \"\"\"\n",
    "    Blend Stokes Q and U grids using specified ratios, compute polarization angle (PA), \n",
    "    and generate mixed polarization vectors based on selection criteria.\n",
    "\n",
    "    Parameters:\n",
    "    Uniform_ratio (float): Fraction of uniform component (between 0 and 1).\n",
    "    Azimuthal_ratio (float): Fraction of azimuthal component (between 0 and 1). \n",
    "                             Must satisfy Uniform_ratio + Azimuthal_ratio = 1.\n",
    "    StokesQ_uniform (numpy.ndarray): 2D array of Stokes Q values from the uniform grid.\n",
    "    StokesQ_azimuthal (numpy.ndarray): 2D array of Stokes Q values from the azimuthal grid.\n",
    "    StokesU_uniform (numpy.ndarray): 2D array of Stokes U values from the uniform grid.\n",
    "    StokesU_azimuthal (numpy.ndarray): 2D array of Stokes U values from the azimuthal grid.\n",
    "\n",
    "    Returns:\n",
    "    tuple: (PA_grid_mixed, StokesQ_grid_mixed, StokesU_grid_mixed, vector_mixed)\n",
    "    \"\"\"    \n",
    "    # Ensure the ratios sum to 1 (for safety)\n",
    "    if not np.isclose(Uniform_ratio + Azimuthal_ratio, 1.0):\n",
    "        raise ValueError(\"Uniform_ratio and Azimuthal_ratio must sum to 1.\")\n",
    "\n",
    "    # Compute weighted sum of Stokes Q and U\n",
    "    StokesQ_grid_mixed = Uniform_ratio * StokesQ_uniform + Azimuthal_ratio * StokesQ_azimuthal\n",
    "    StokesU_grid_mixed = Uniform_ratio * StokesU_uniform + Azimuthal_ratio * StokesU_azimuthal\n",
    "\n",
    "    # Compute polarization angle (theta = 1/2 * arctan(U/Q))\n",
    "    PA_grid_mixed = 0.5 * np.arctan2(StokesU_grid_mixed, StokesQ_grid_mixed)\n",
    "\n",
    "    # Generate polarization vectors based on selection criteria\n",
    "    vector_mixed = []\n",
    "    for x in range(0, nx, step):\n",
    "        for y in range(0, ny, step):\n",
    "            if (\n",
    "                StokesI_data_2d_mJy[y, x] / StokesIerr_data_2d_mJy[y, x] > 3\n",
    "                and calculated_polarized_intensity[y, x] / PolarizedIntensity_err_data_2d_mJy[y, x] > 3\n",
    "                and PolarizationAngle_err_data_2d_deg[y, x] < 10\n",
    "            ):\n",
    "                # Extract the polarization angle at this location\n",
    "                PA_angle = PA_grid_mixed[y, x]  # Ensure correct indexing\n",
    "\n",
    "                # Compute vector components\n",
    "                dx = vector_length_pix_const * np.cos(PA_angle)\n",
    "                dy = vector_length_pix_const * np.sin(PA_angle)\n",
    "\n",
    "                # Append to the list in the format [x_start, x_end, y_start, y_end]\n",
    "                vector_mixed.append([x - dx / 2, x + dx / 2, y - dy / 2, y + dy / 2])\n",
    "\n",
    "    return PA_grid_mixed, StokesQ_grid_mixed, StokesU_grid_mixed, vector_mixed"
   ]
  },
  {
   "cell_type": "code",
   "execution_count": null,
   "id": "9433a375",
   "metadata": {
    "scrolled": false
   },
   "outputs": [],
   "source": [
    "# Define the list of ratios to use\n",
    "ratios = [(1, 0), (0.9, 0.1), (0.8, 0.2), (0.7, 0.3), (0.6, 0.4), (0.5, 0.5), \n",
    "          (0.4, 0.6), (0.3, 0.7), (0.2, 0.8), (0.1, 0.9), (0, 1)]\n",
    "\n",
    "# Dictionary to store results\n",
    "results = {}\n",
    "\n",
    "# Loop through the ratios\n",
    "for ratio1, ratio2 in ratios:\n",
    "    \n",
    "    # Run the function with the current ratio\n",
    "    PA_grid, StokesQ_grid, StokesU_grid, vectors_data = mix_StokesQU_and_generate_vectors(\n",
    "        ratio1, ratio2, \n",
    "        StokesQ_grid_100Uniform, \n",
    "        StokesU_grid_100Uniform,\n",
    "        StokesQ_grid_100Azimuthal, \n",
    "        StokesU_grid_100Azimuthal\n",
    "    )\n",
    "    \n",
    "    # Create a key for the dictionary based on the ratio\n",
    "    ratio_str = f\"{int(ratio1 * 100)}{int(ratio2 * 100)}\"  # e.g., \"5050\" for (0.5, 0.5)\n",
    "    \n",
    "    \n",
    "    # Save the results in the dictionary\n",
    "    results[f\"PA_grid_{ratio_str}\"] = PA_grid\n",
    "    results[f\"StokesQ_grid_{ratio_str}\"] = StokesQ_grid\n",
    "    results[f\"StokesU_grid_{ratio_str}\"] = StokesU_grid\n",
    "    results[f\"vectors_data_{ratio_str}\"] = vectors_data"
   ]
  },
  {
   "cell_type": "code",
   "execution_count": null,
   "id": "111c8c61",
   "metadata": {},
   "outputs": [],
   "source": [
    "PA_grid_100U_0A, StokesQ_grid_100U_0A, StokesU_grid_100U0A,  vectors_data_100U_0A = (results[\"PA_grid_1000\"], results[\"StokesQ_grid_1000\"], results[\"StokesU_grid_1000\"], results[\"vectors_data_1000\"])\n",
    "PA_grid_90U_10A, StokesQ_grid_90U_10A, StokesU_grid_90U_10A, vectors_data_90U_10A = (results[\"PA_grid_9010\"], results[\"StokesQ_grid_9010\"], results[\"StokesU_grid_9010\"], results[\"vectors_data_9010\"])\n",
    "PA_grid_80U_20A, StokesQ_grid_80U_20A, StokesU_grid_80U_20A, vectors_data_80U_20A = (results[\"PA_grid_8020\"], results[\"StokesQ_grid_8020\"], results[\"StokesU_grid_8020\"], results[\"vectors_data_8020\"])\n",
    "PA_grid_70U_30A, StokesQ_grid_70U_30A, StokesU_grid_703U_0A, vectors_data_70U_30A = (results[\"PA_grid_7030\"], results[\"StokesQ_grid_7030\"], results[\"StokesU_grid_7030\"], results[\"vectors_data_7030\"])\n",
    "PA_grid_60U_40A, StokesQ_grid_60U_40A, StokesU_grid_60U_40A, vectors_data_60U_40A = (results[\"PA_grid_6040\"], results[\"StokesQ_grid_6040\"], results[\"StokesU_grid_6040\"], results[\"vectors_data_6040\"])\n",
    "PA_grid_50U_50A, StokesQ_grid_50U_50A, StokesU_grid_50U_50A, vectors_data_50U_50A = (results[\"PA_grid_5050\"], results[\"StokesQ_grid_5050\"], results[\"StokesU_grid_5050\"], results[\"vectors_data_5050\"])\n",
    "PA_grid_40U_60A, StokesQ_grid_40U_60A, StokesU_grid_40U_60A, vectors_data_40U_60A = (results[\"PA_grid_4060\"], results[\"StokesQ_grid_4060\"], results[\"StokesU_grid_4060\"], results[\"vectors_data_4060\"])\n",
    "PA_grid_30U_70A, StokesQ_grid_30U_70A, StokesU_grid_30U_70A, vectors_data_30U_70A = (results[\"PA_grid_3070\"], results[\"StokesQ_grid_3070\"], results[\"StokesU_grid_3070\"], results[\"vectors_data_3070\"])\n",
    "PA_grid_20U_80A, StokesQ_grid_20U_80A, StokesU_grid_20U_80A, vectors_data_20U_80A = (results[\"PA_grid_2080\"], results[\"StokesQ_grid_2080\"], results[\"StokesU_grid_2080\"], results[\"vectors_data_2080\"])\n",
    "PA_grid_10U_90A, StokesQ_grid_10U_90A, StokesU_grid_10U_90A, vectors_data_10U_90A = (results[\"PA_grid_1090\"], results[\"StokesQ_grid_1090\"], results[\"StokesU_grid_1090\"], results[\"vectors_data_1090\"])\n",
    "PA_grid_0U_100A, StokesQ_grid_0U_100A, StokesU_grid_0U_100A, vectors_data_0U_100A = (results[\"PA_grid_0100\"], results[\"StokesQ_grid_0100\"], results[\"StokesU_grid_0100\"], results[\"vectors_data_0100\"])"
   ]
  },
  {
   "cell_type": "markdown",
   "id": "a96b8d9b",
   "metadata": {},
   "source": [
    "# Plotting"
   ]
  },
  {
   "cell_type": "code",
   "execution_count": null,
   "id": "17ccc52a",
   "metadata": {},
   "outputs": [],
   "source": [
    "# Assign data to each subplot\n",
    "kinda_real_data_list = [\n",
    "    PolarizedIntensity_data_2d_mJy, PolarizedIntensity_data_2d_mJy, PolarizedIntensity_data_2d_mJy,  # Top row\n",
    "    StokesQ_grid_100Uniform,        StokesQ_grid_50U_50A,           StokesQ_grid_100Azimuthal,       # Middle row\n",
    "    StokesU_grid_100Uniform,        StokesU_grid_50U_50A,            StokesU_grid_100Azimuthal       # Bottom row   \n",
    "]"
   ]
  },
  {
   "cell_type": "code",
   "execution_count": null,
   "id": "f3c98abe",
   "metadata": {
    "code_folding": [
     1
    ]
   },
   "outputs": [],
   "source": [
    "# Example usage\n",
    "axes = plot_grids(kinda_real_data_list, soft_colormap_v2, StokesI_wcs, axis_label_fs, axis_num_fs, cbar_fs, \n",
    "                  xmin, xmax, ymin, ymax)  # Store returned axes\n",
    "\n",
    "# Plot vector data on the first subplot (axes[0, 0])\n",
    "for row in vector_data_uniform:\n",
    "    axes[0, 0].plot([row[0], row[1]], [row[2], row[3]], color='black')\n",
    "\n",
    "for row in vectors_data_50U_50A:\n",
    "    axes[0, 1].plot([row[0], row[1]], [row[2], row[3]], color='black')\n",
    "\n",
    "# Plot vector data on the third subplot (axes[0, 2])\n",
    "for row in vector_data_azimuthal:\n",
    "    axes[0, 2].plot([row[0], row[1]], [row[2], row[3]], color='black')\n",
    "\n"
   ]
  },
  {
   "cell_type": "code",
   "execution_count": null,
   "id": "6d94f605",
   "metadata": {},
   "outputs": [],
   "source": [
    "# Assign data to each subplot\n",
    "kinda_real_data_list_with_actual = [\n",
    "    PolarizedIntensity_data_2d_mJy, PolarizedIntensity_data_2d_mJy, PolarizedIntensity_data_2d_mJy, PolarizedIntensity_data_2d_mJy, # Top row\n",
    "    StokesQ_data_2d_mJy,            StokesQ_grid_100Uniform,        StokesQ_grid_50U_50A,           StokesQ_grid_100Azimuthal,      # Middle row\n",
    "    StokesU_data_2d_mJy,            StokesU_grid_100Uniform,        StokesU_grid_50U_50A,           StokesU_grid_100Azimuthal       # Bottom row   \n",
    "]"
   ]
  },
  {
   "cell_type": "code",
   "execution_count": null,
   "id": "3c736a2d",
   "metadata": {},
   "outputs": [],
   "source": [
    "# Example usage\n",
    "axes = plot_grids_4x3(kinda_real_data_list_with_actual, soft_colormap_v2, StokesI_wcs, axis_label_fs, axis_num_fs, cbar_fs, \n",
    "                  xmin, xmax, ymin, ymax)  # Store returned axes\n",
    "\n",
    "for row in vector_data_actual_same_length:\n",
    "    axes[0, 0].plot([row[0], row[1]], [row[2], row[3]], color='black')\n",
    "\n",
    "# Plot vector data on the first subplot (axes[0, 0])\n",
    "for row in vector_data_uniform:\n",
    "    axes[0, 1].plot([row[0], row[1]], [row[2], row[3]], color='black')\n",
    "    \n",
    "for row in vectors_data_50U_50A:\n",
    "    axes[0, 2].plot([row[0], row[1]], [row[2], row[3]], color='black')\n",
    "\n",
    "# Plot vector data on the third subplot (axes[0, 2])\n",
    "for row in vector_data_azimuthal:\n",
    "    axes[0, 3].plot([row[0], row[1]], [row[2], row[3]], color='black')\n"
   ]
  },
  {
   "cell_type": "markdown",
   "id": "0717e7a4",
   "metadata": {},
   "source": [
    "# Try all combinations"
   ]
  },
  {
   "cell_type": "code",
   "execution_count": null,
   "id": "00b448a7",
   "metadata": {
    "scrolled": false
   },
   "outputs": [],
   "source": [
    "# Set the horizontal gap between subplots\n",
    "fig, axes = plt.subplots(6, 2, figsize=(20, 38), constrained_layout=True, \n",
    "                         subplot_kw={'projection': StokesI_wcs},\n",
    "                         gridspec_kw={'wspace': -0.75})  # Adjust this value for horizontal gap\n",
    "for i in range(6):\n",
    "    for j in range(2):\n",
    "        ax = axes[i, j]  # Select the appropriate subplot\n",
    "        create_blank_grid(i, j, 0.5, ax, StokesI_wcs, StokesI_stretched, soft_colormap_v2, \n",
    "                          normalized_cbar_ticks, StokesI_unstretched_cbar_ticks, \n",
    "                          xmin, xmax, ymin, ymax, reference_length_pix, reference_length_AU,\n",
    "                          text_fs, axis_label_fs, axis_num_fs, cbar_fs,\n",
    "                          BMAJ_pix, BMIN_pix, BPA_deg_cartesian, \n",
    "                          max_length_pix, reference_fraction)\n",
    "        \n",
    "# Adding titles to each subplot\n",
    "titles = [\n",
    "    \"100% Uniform 0% Azimuthal\", \"0% Uniform 100% Azimuthal\", \n",
    "    \"90% Uniform 10% Azimuthal\", \"10% Uniform 90% Azimuthal\",\n",
    "    \"80% Uniform 20% Azimuthal\", \"20% Uniform 80% Azimuthal\",\n",
    "    \"70% Uniform 30% Azimuthal\", \"30% Uniform 70% Azimuthal\",\n",
    "    \"60% Uniform 40% Azimuthal\", \"40% Uniform 60% Azimuthal\",\n",
    "    \"50% Uniform 50% Azimuthal\", \"50% Uniform 50% Azimuthal\"\n",
    "]\n",
    "\n",
    "\n",
    "# Loop to create blank grids and plot vectors\n",
    "for i in range(6):\n",
    "    for j in range(2):\n",
    "        ax = axes[i, j]  # Select the appropriate subplot\n",
    "\n",
    "        ax.set_title(titles[i*2 + j], fontsize = 20)  # Set title for each subplot\n",
    "\n",
    "for row in vectors_data_100U_0A:\n",
    "    axes[0,0].plot([row[0], row[1]], [row[2], row[3]], color='black')\n",
    "    \n",
    "for row in vectors_data_90U_10A:\n",
    "    axes[1,0].plot([row[0], row[1]], [row[2], row[3]], color='black')\n",
    "    \n",
    "for row in vectors_data_80U_20A:\n",
    "    axes[2,0].plot([row[0], row[1]], [row[2], row[3]], color='black')\n",
    "    \n",
    "for row in vectors_data_70U_30A:\n",
    "    axes[3,0].plot([row[0], row[1]], [row[2], row[3]], color='black')\n",
    "    \n",
    "for row in vectors_data_60U_40A:\n",
    "    axes[4,0].plot([row[0], row[1]], [row[2], row[3]], color='black')\n",
    "\n",
    "for row in vectors_data_50U_50A:\n",
    "    axes[5,0].plot([row[0], row[1]], [row[2], row[3]], color='black')\n",
    "    \n",
    "    \n",
    "    \n",
    "    \n",
    "    \n",
    "for row in vectors_data_0U_100A:\n",
    "    axes[0,1].plot([row[0], row[1]], [row[2], row[3]], color='black')\n",
    "    \n",
    "for row in vectors_data_10U_90A:\n",
    "    axes[1,1].plot([row[0], row[1]], [row[2], row[3]], color='black')\n",
    "    \n",
    "for row in vectors_data_20U_80A:\n",
    "    axes[2,1].plot([row[0], row[1]], [row[2], row[3]], color='black')\n",
    "    \n",
    "for row in vectors_data_30U_70A:\n",
    "    axes[3,1].plot([row[0], row[1]], [row[2], row[3]], color='black')\n",
    "    \n",
    "for row in vectors_data_40U_60A:\n",
    "    axes[4,1].plot([row[0], row[1]], [row[2], row[3]], color='black')\n",
    "\n",
    "for row in vectors_data_50U_50A:\n",
    "    axes[5,1].plot([row[0], row[1]], [row[2], row[3]], color='black')\n",
    "\n",
    "    \n",
    "plt.show()"
   ]
  },
  {
   "cell_type": "code",
   "execution_count": null,
   "id": "656a7e60",
   "metadata": {},
   "outputs": [],
   "source": []
  }
 ],
 "metadata": {
  "kernelspec": {
   "display_name": "Python 3 (ipykernel)",
   "language": "python",
   "name": "python3"
  },
  "language_info": {
   "codemirror_mode": {
    "name": "ipython",
    "version": 3
   },
   "file_extension": ".py",
   "mimetype": "text/x-python",
   "name": "python",
   "nbconvert_exporter": "python",
   "pygments_lexer": "ipython3",
   "version": "3.9.7"
  },
  "varInspector": {
   "cols": {
    "lenName": 16,
    "lenType": 16,
    "lenVar": 40
   },
   "kernels_config": {
    "python": {
     "delete_cmd_postfix": "",
     "delete_cmd_prefix": "del ",
     "library": "var_list.py",
     "varRefreshCmd": "print(var_dic_list())"
    },
    "r": {
     "delete_cmd_postfix": ") ",
     "delete_cmd_prefix": "rm(",
     "library": "var_list.r",
     "varRefreshCmd": "cat(var_dic_list()) "
    }
   },
   "types_to_exclude": [
    "module",
    "function",
    "builtin_function_or_method",
    "instance",
    "_Feature"
   ],
   "window_display": false
  }
 },
 "nbformat": 4,
 "nbformat_minor": 5
}
