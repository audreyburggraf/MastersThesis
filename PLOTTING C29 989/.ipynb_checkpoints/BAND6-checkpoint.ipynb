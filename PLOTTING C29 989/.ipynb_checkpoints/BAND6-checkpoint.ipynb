{
 "cells": [
  {
   "cell_type": "code",
   "execution_count": null,
   "id": "958df6dd",
   "metadata": {},
   "outputs": [],
   "source": [
    "%run constants.py"
   ]
  },
  {
   "cell_type": "code",
   "execution_count": null,
   "id": "c37b2e3c",
   "metadata": {},
   "outputs": [],
   "source": [
    "%run \"/Users/audreyburggraf/Desktop/QUEEN'S/THESIS RESEARCH/PLOTTING C29 989/FUNCTIONS/load_functions\""
   ]
  },
  {
   "cell_type": "code",
   "execution_count": null,
   "id": "10bde857",
   "metadata": {},
   "outputs": [],
   "source": [
    "%run \"/Users/audreyburggraf/Desktop/QUEEN'S/THESIS RESEARCH/PLOTTING C29 989/FITS FILES/BAND6/load_band6_data.py\""
   ]
  },
  {
   "cell_type": "code",
   "execution_count": null,
   "id": "e7aefe9b",
   "metadata": {},
   "outputs": [],
   "source": [
    "%run \"/Users/audreyburggraf/Desktop/QUEEN'S/THESIS RESEARCH/PLOTTING C29 989/CARTA FILES/BAND6/load_carta_data_band6.py\""
   ]
  },
  {
   "cell_type": "markdown",
   "id": "331872be",
   "metadata": {},
   "source": [
    "# Stokes I and Polarized Intensity Plot with Vectors"
   ]
  },
  {
   "cell_type": "code",
   "execution_count": null,
   "id": "6b72962e",
   "metadata": {},
   "outputs": [],
   "source": [
    "fig, ax = create_stokes_i_plus_one_base_plot(StokesI_wcs, StokesI_stretched_mJy, \n",
    "                                             normalized_cbar_ticks, StokesI_unstretched_cbar_ticks, \n",
    "                                             POLI_mJy, 'Polarized Intensity (mJy/beam)',\n",
    "                                             soft_colormap_v2, \n",
    "                                             xmin, xmax, ymin, ymax, reference_length_pix, reference_length_AU,\n",
    "                                             BMAJ_pix, BMIN_pix, BPA_deg_cartesian, \n",
    "                                             max_length_pix, reference_fraction)\n",
    "\n",
    "for row in vector_data_actual_cartesian:\n",
    "    ax[0].plot([row[0], row[1]], [row[2], row[3]], color='black')\n",
    "    \n",
    "    \n",
    "for row in vector_data_actual_cartesian:\n",
    "    ax[1].plot([row[0], row[1]], [row[2], row[3]], color='black')"
   ]
  },
  {
   "cell_type": "markdown",
   "id": "5887c4f6",
   "metadata": {},
   "source": [
    "# Slices Along Major and Minor Axes"
   ]
  },
  {
   "cell_type": "code",
   "execution_count": null,
   "id": "d8d3b255",
   "metadata": {},
   "outputs": [],
   "source": [
    "major_data_StokesI, major_offset_arcsec_StokesI, minor_data_StokesI, minor_offset_arcsec_StokesI = run_slices(StokesI_mJy, \n",
    "                                                                                                              StokesI_header,\n",
    "                                                                                                              StokesI_wcs,\n",
    "                                                                                                              carta_major_data_mJy_StokesI, \n",
    "                                                                                                              carta_minor_data_mJy_StokesI,\n",
    "                                                                                                              carta_minor_offset_StokesI,\n",
    "                                                                                                              carta_major_offset_StokesI,\n",
    "                                                                                                              band = 6,\n",
    "                                                                                                              print_statement = True)"
   ]
  },
  {
   "cell_type": "code",
   "execution_count": null,
   "id": "796ebd6a",
   "metadata": {},
   "outputs": [],
   "source": [
    "major_data_POLI, major_offset_arcsec_POLI, minor_data_POLI, minor_offset_arcsec_POLI = run_slices(POLI_mJy, \n",
    "                                                                                                  StokesI_header,\n",
    "                                                                                                  StokesI_wcs, \n",
    "                                                                                                  carta_major_data_mJy_POLI,\n",
    "                                                                                                  carta_minor_data_mJy_POLI,\n",
    "                                                                                                  carta_minor_offset_POLI,\n",
    "                                                                                                  carta_major_offset_POLI,\n",
    "                                                                                                  band = 6)"
   ]
  },
  {
   "cell_type": "code",
   "execution_count": null,
   "id": "7410def7",
   "metadata": {},
   "outputs": [],
   "source": [
    "ax = plot_slices_along_axes(\n",
    "    major_data_StokesI,\n",
    "    minor_data_StokesI,\n",
    "    carta_major_data_mJy_StokesI,\n",
    "    carta_minor_data_mJy_StokesI,\n",
    "    major_offset_arcsec_StokesI,\n",
    "    minor_offset_arcsec_StokesI,\n",
    "    carta_major_offset_StokesI,\n",
    "    carta_minor_offset_StokesI,\n",
    "    y_label=\"Stokes I (mJy/beam)\",\n",
    "    type_of_plot=\"Line\",  # or \"Scatter\",\n",
    "    cb_friendly = False,\n",
    "    vline = True,\n",
    ")"
   ]
  },
  {
   "cell_type": "code",
   "execution_count": null,
   "id": "53bdf032",
   "metadata": {
    "code_folding": []
   },
   "outputs": [],
   "source": [
    "ax = plot_slices_along_axes(\n",
    "    major_data_POLI,\n",
    "    minor_data_POLI,\n",
    "    carta_major_data_mJy_POLI,\n",
    "    carta_minor_data_mJy_POLI,\n",
    "    major_offset_arcsec_POLI,\n",
    "    minor_offset_arcsec_POLI,\n",
    "    carta_major_offset_POLI,\n",
    "    carta_minor_offset_POLI,\n",
    "    y_label=\"Polarized Intensity (mJy/beam)\",\n",
    "    type_of_plot=\"Line\",  # or \"Scatter\"\n",
    "    cb_friendly = False,\n",
    "    vline = True\n",
    ")"
   ]
  },
  {
   "cell_type": "code",
   "execution_count": null,
   "id": "dd3a4a17",
   "metadata": {},
   "outputs": [],
   "source": [
    "major_data_POLI"
   ]
  },
  {
   "cell_type": "code",
   "execution_count": null,
   "id": "fa6d98aa",
   "metadata": {},
   "outputs": [],
   "source": [
    "carta_major_data_mJy_POLI"
   ]
  },
  {
   "cell_type": "markdown",
   "id": "c2fec8ba",
   "metadata": {},
   "source": [
    "# Ratio Models"
   ]
  },
  {
   "cell_type": "code",
   "execution_count": null,
   "id": "0aa4c307",
   "metadata": {},
   "outputs": [],
   "source": [
    "vector_data_plotting_grid, vector_data_list_100U_to_100A, testing_vector_angles = ratio_model_band6(StokesQ_grid_100Uniform, StokesU_grid_100Uniform,\n",
    "                                                                                                    StokesQ_grid_100Azimuthal, StokesU_grid_100Azimuthal,\n",
    "                                                                                                    ny, nx,\n",
    "                                                                                                    step, vector_length_pix_const,\n",
    "                                                                                                    StokesI_mJy, StokesI_err_mJy, \n",
    "                                                                                                    POLI_mJy, POLI_err_mJy, \n",
    "                                                                                                    PA_err_deg)"
   ]
  },
  {
   "cell_type": "code",
   "execution_count": null,
   "id": "762e0154",
   "metadata": {
    "scrolled": false
   },
   "outputs": [],
   "source": [
    "ax = plot_ratio_grid(POLI_mJy,\n",
    "                    StokesI_wcs, soft_colormap_v2, \n",
    "                    xmin, xmax, ymin, ymax, reference_length_pix, reference_length_AU,\n",
    "                    BMAJ_pix, BMIN_pix, BPA_deg_cartesian, \n",
    "                    max_length_pix, reference_fraction,\n",
    "                    vector_data_actual_cartesian, vector_data_plotting_grid)"
   ]
  },
  {
   "cell_type": "markdown",
   "id": "e828933d",
   "metadata": {},
   "source": [
    "## Find the best one"
   ]
  },
  {
   "cell_type": "code",
   "execution_count": null,
   "id": "b7f6fddf",
   "metadata": {},
   "outputs": [],
   "source": [
    "min_index = find_best_fit_ratio_model(vector_angle_actual_sky, testing_vector_angles)"
   ]
  },
  {
   "cell_type": "code",
   "execution_count": null,
   "id": "11fc4797",
   "metadata": {},
   "outputs": [],
   "source": [
    "fig, ax = create_base_plot(StokesI_wcs, POLI_mJy, 'Polarized Intensity (mJy/beam)' , \n",
    "                           soft_colormap_no_red, \n",
    "                           xmin, xmax, ymin, ymax, reference_length_pix, reference_length_AU,\n",
    "                           BMAJ_pix, BMIN_pix, BPA_deg_cartesian, \n",
    "                           max_length_pix, reference_fraction)\n",
    "\n",
    "# Add vector plots\n",
    "for row in vector_data_list_100U_to_100A[min_index]:\n",
    "    ax.plot([row[0], row[1]], [row[2], row[3]], color='black', lw = 5, label = 'Best Model')\n",
    "\n",
    "# Plot vector data on the first subplot (axes[0, 0])\n",
    "for row in vector_data_actual_cartesian:\n",
    "    ax.plot([row[0], row[1]], [row[2], row[3]], color='red', lw = 5, label = 'Real')"
   ]
  },
  {
   "cell_type": "markdown",
   "id": "951d17b2",
   "metadata": {},
   "source": [
    "# Gaussian Model"
   ]
  },
  {
   "cell_type": "code",
   "execution_count": null,
   "id": "bd0a913b",
   "metadata": {},
   "outputs": [],
   "source": [
    "phi_values = [2, 3, 4, 5, 6, 7]\n",
    "\n",
    "\n",
    "BMAJ_values_pix =  np.array([10, 20, 30, 40, 50]) # + np.array(BMAJ_pix, dtype=int)\n",
    "BMIN_values_pix =  np.array([10, 20, 30, 40, 50]) # + np.array(BMIN_pix, dtype=int)\n",
    "\n",
    "# Print results\n",
    "print(f'The BMAJ pix values we will test are: {BMAJ_values_pix}')\n",
    "print(f'The BMIN pix values we will test are: {BMIN_values_pix}')"
   ]
  },
  {
   "cell_type": "code",
   "execution_count": null,
   "id": "5a06516e",
   "metadata": {},
   "outputs": [],
   "source": [
    "gaussian_values, gaussian_results, vector_data_gaussian_best = run_gaussian_model_band6(major_angle_rad_cartesian_band4, phi_values, \n",
    "                                                                                        BMAJ_values_pix, BMIN_values_pix, \n",
    "                                                                                        RA_centre_pix, Dec_centre_pix, \n",
    "                                                                                        StokesQ_grid_100Uniform, StokesU_grid_100Uniform,\n",
    "                                                                                        StokesQ_grid_100Azimuthal, StokesU_grid_100Azimuthal,\n",
    "                                                                                        vector_angle_actual_sky,\n",
    "                                                                                        ny, nx, \n",
    "                                                                                        StokesI_mJy, StokesI_err_mJy,\n",
    "                                                                                        POLI_mJy, POLI_err_mJy, \n",
    "                                                                                        PA_err_deg,\n",
    "                                                                                        print_statements = True)"
   ]
  },
  {
   "cell_type": "code",
   "execution_count": null,
   "id": "e2e964cf",
   "metadata": {},
   "outputs": [],
   "source": [
    "fig, ax = create_base_plot(StokesI_wcs, \n",
    "                           POLI_mJy, 'Polarized Intensity (mJy/beam)', \n",
    "                           soft_colormap_no_red, \n",
    "                           xmin, xmax, ymin, ymax, reference_length_pix, reference_length_AU,\n",
    "                           BMAJ_pix, BMIN_pix, BPA_deg_cartesian, \n",
    "                           max_length_pix, reference_fraction)\n",
    "\n",
    "first_real = True\n",
    "for row in vector_data_actual_cartesian:\n",
    "    ax.plot([row[0], row[1]], [row[2], row[3]], color='black', lw=5, \n",
    "            label='Real' if first_real else None)\n",
    "    first_real = False\n",
    "    \n",
    "    \n",
    "# Add vector plots, ensuring the label appears only once\n",
    "first_best_model = True\n",
    "for row in vector_data_gaussian_best:\n",
    "    ax.plot([row[0], row[1]], [row[2], row[3]], color='red', lw=5, \n",
    "            label='Best Gaussian Model' if first_best_model else None)\n",
    "    first_best_model = False\n",
    "\n",
    "ax.legend(fontsize = legend_text_fs)"
   ]
  },
  {
   "cell_type": "code",
   "execution_count": null,
   "id": "939b0651",
   "metadata": {},
   "outputs": [],
   "source": [
    "analyze_gaussian_averages_vs_chi2(gaussian_values, phi_values, BMAJ_values_pix, BMIN_values_pix)"
   ]
  },
  {
   "cell_type": "code",
   "execution_count": null,
   "id": "81ad31c7",
   "metadata": {},
   "outputs": [],
   "source": [
    "plot_2d_contours_for_gaussian(gaussian_values, phi_values, BMAJ_values_pix, BMIN_values_pix, 'phi', soft_colormap_v2)"
   ]
  },
  {
   "cell_type": "code",
   "execution_count": null,
   "id": "a42e0279",
   "metadata": {},
   "outputs": [],
   "source": [
    "plot_2d_contours_for_gaussian(gaussian_values, phi_values, BMAJ_values_pix, BMIN_values_pix, 'BMIN', soft_colormap_v2)"
   ]
  },
  {
   "cell_type": "code",
   "execution_count": null,
   "id": "21e79584",
   "metadata": {},
   "outputs": [],
   "source": [
    "plot_2d_contours_for_gaussian(gaussian_values, phi_values, BMAJ_values_pix, BMIN_values_pix, 'BMAJ', soft_colormap_v2)"
   ]
  },
  {
   "cell_type": "code",
   "execution_count": null,
   "id": "d408d809",
   "metadata": {},
   "outputs": [],
   "source": []
  }
 ],
 "metadata": {
  "kernelspec": {
   "display_name": "Python 3 (ipykernel)",
   "language": "python",
   "name": "python3"
  },
  "language_info": {
   "codemirror_mode": {
    "name": "ipython",
    "version": 3
   },
   "file_extension": ".py",
   "mimetype": "text/x-python",
   "name": "python",
   "nbconvert_exporter": "python",
   "pygments_lexer": "ipython3",
   "version": "3.9.7"
  },
  "varInspector": {
   "cols": {
    "lenName": 16,
    "lenType": 16,
    "lenVar": 40
   },
   "kernels_config": {
    "python": {
     "delete_cmd_postfix": "",
     "delete_cmd_prefix": "del ",
     "library": "var_list.py",
     "varRefreshCmd": "print(var_dic_list())"
    },
    "r": {
     "delete_cmd_postfix": ") ",
     "delete_cmd_prefix": "rm(",
     "library": "var_list.r",
     "varRefreshCmd": "cat(var_dic_list()) "
    }
   },
   "types_to_exclude": [
    "module",
    "function",
    "builtin_function_or_method",
    "instance",
    "_Feature"
   ],
   "window_display": false
  }
 },
 "nbformat": 4,
 "nbformat_minor": 5
}
