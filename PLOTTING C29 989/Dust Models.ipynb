{
 "cells": [
  {
   "cell_type": "code",
   "execution_count": 1,
   "id": "fc4b158a",
   "metadata": {},
   "outputs": [],
   "source": [
    "%run constants.py"
   ]
  },
  {
   "cell_type": "code",
   "execution_count": 2,
   "id": "272769aa",
   "metadata": {},
   "outputs": [],
   "source": [
    "%run \"/Users/audreyburggraf/Desktop/QUEEN'S/THESIS RESEARCH/PLOTTING C29 989/FUNCTIONS/load_functions\""
   ]
  },
  {
   "cell_type": "code",
   "execution_count": 3,
   "id": "42f9ad26",
   "metadata": {},
   "outputs": [],
   "source": [
    "from matplotlib.ticker import ScalarFormatter\n",
    "\n",
    "from scipy.stats import powerlaw"
   ]
  },
  {
   "cell_type": "markdown",
   "id": "c08a239f",
   "metadata": {},
   "source": [
    "## Band Wavelength and Colours"
   ]
  },
  {
   "cell_type": "code",
   "execution_count": 4,
   "id": "7240864c",
   "metadata": {},
   "outputs": [],
   "source": [
    "band1_color = \"#f63fe3\"\n",
    "band3_color = \"#2321f6\"\n",
    "band7_color = \"#086608\"\n",
    "band10_color = \"#fb0d0d\"\n",
    "\n",
    "red = band10_color\n",
    "green = band7_color\n",
    "blue = band3_color\n",
    "pink = band1_color\n",
    "\n",
    "band_colors = [band1_color, band3_color, band7_color, band10_color]"
   ]
  },
  {
   "cell_type": "code",
   "execution_count": 5,
   "id": "66ab1624",
   "metadata": {},
   "outputs": [],
   "source": [
    "lambda_band1_micron  = 7.0  * 1000  # mm to microns\n",
    "lambda_band3_micron  = 3.1  * 1000  # mm to microns\n",
    "lambda_band7_micron  = 0.87 * 1000  # mm to microns\n",
    "lambda_band10_micron = 0.34 * 1000  # mm to microns"
   ]
  },
  {
   "cell_type": "markdown",
   "id": "b44fbedb",
   "metadata": {},
   "source": [
    "# Density"
   ]
  },
  {
   "cell_type": "code",
   "execution_count": 6,
   "id": "3558d6e1",
   "metadata": {},
   "outputs": [],
   "source": [
    "# density = 3\n",
    "\n",
    "# Kataoka et al, 2015 page 10 says \"The dust opacity is 1 mm silicate particles with a particle density of 3.5 g cm-3\"\n",
    "density_g_cm3 = 3.5"
   ]
  },
  {
   "cell_type": "markdown",
   "id": "dfe0b94c",
   "metadata": {},
   "source": [
    "# Refractive index, $m$"
   ]
  },
  {
   "cell_type": "code",
   "execution_count": 7,
   "id": "ab88a0af",
   "metadata": {},
   "outputs": [],
   "source": [
    "# Refractive Index, m\n",
    "# m = n + ik, where n and k are the read and imaginary parts (from Lin et al, 2023)\n",
    "\n",
    "# Lin et al, 2023 they use 1.65 10^-5\n",
    "# This is for lambda = 514 nm\n",
    "m = complex(1.65, 1e-5)"
   ]
  },
  {
   "cell_type": "markdown",
   "id": "f7f9aa92",
   "metadata": {},
   "source": [
    "In Zhang et al, 2023, they say they average the complex refractice indicies of each component with certain rules to obtain $m$\n",
    "\n",
    "They use the DSHARP composition:\n",
    "- 20% water ice\n",
    "- 33% astronomical silicates\n",
    "- 7% trotile\n",
    "- 40% refractory organics"
   ]
  },
  {
   "cell_type": "code",
   "execution_count": 8,
   "id": "adbe4c30",
   "metadata": {},
   "outputs": [],
   "source": [
    "# https://atmos.uw.edu/ice_optical_constants/ (Warren & Brandt 2008)\n",
    "\n",
    "# Band 1 is 7000 micron, the closest is 5000 micron\n",
    "m_ice_band1  = complex(1.7861, 1.337e-3)\n",
    "\n",
    "# The closest to 3100 micron is 1300 micron\n",
    "m_ice_band3  = complex(1.7868, 5.173E-003)\n",
    "\n",
    "# The closest to 870 micron is 500 micron\n",
    "m_ice_band7  = complex(1.7908, 1.405E-002)\n",
    "\n",
    "# The closest to 340 micron is 300 micron\n",
    "m_ice_band10 = complex(1.7989, 2.549E-002)"
   ]
  },
  {
   "cell_type": "markdown",
   "id": "56c5937d",
   "metadata": {},
   "source": [
    "## Grain Size Distribution"
   ]
  },
  {
   "cell_type": "markdown",
   "id": "7202d267",
   "metadata": {},
   "source": [
    "### Power Law Distrubution Function"
   ]
  },
  {
   "cell_type": "markdown",
   "id": "4ac93b53",
   "metadata": {},
   "source": [
    "From: https://docs.scipy.org/doc/scipy/reference/generated/scipy.stats.powerlaw.html\n",
    "\n",
    "\n",
    "\n",
    "The probability desnity function for powerlaw is:\n",
    "$f(x,a) = ax^{a-1}$,\n",
    "\n",
    "for $0 \\leq x \\leq 1, a>0 $.\n",
    "\n",
    "\n",
    "\n",
    "From Kataoka et al, 205, we want a size distribution of:\n",
    "\n",
    "$n(a) \\propto a^{-3.5}$\n",
    "\n",
    "This means $a-1$ = -3.5, so $a$ = -2.5"
   ]
  },
  {
   "cell_type": "code",
   "execution_count": 9,
   "id": "c4df6e4e",
   "metadata": {},
   "outputs": [],
   "source": [
    "# From Kataoka et 1l, 2015 the grain sizes they are showing are 10 micron, 100 micron, 1 mm and 1 cm\n",
    "a_max_values_micron = [10, 100, 1000, 10000]"
   ]
  },
  {
   "cell_type": "code",
   "execution_count": null,
   "id": "060c0db3",
   "metadata": {},
   "outputs": [],
   "source": [
    "# pdf_test = []\n",
    "# x_test = []\n",
    "\n",
    "# for a_max_micron in a_max_values_micron:\n",
    "#     x, pdf, _ = grain_size_distribution(0.001, a_max_micron, 100)\n",
    "    \n",
    "#     pdf_test.append(pdf)\n",
    "    \n",
    "#     x_test.append(x)\n"
   ]
  },
  {
   "cell_type": "code",
   "execution_count": null,
   "id": "9c6f9396",
   "metadata": {},
   "outputs": [],
   "source": [
    "# labels = [\n",
    "#     r'$a_{\\mathrm{max}} = 10\\ \\mu$m',\n",
    "#     r'$a_{\\mathrm{max}} = 100\\ \\mu$m',\n",
    "#     r'$a_{\\mathrm{max}} = 1$ mm',\n",
    "#     r'$a_{\\mathrm{max}} = 1$ cm'\n",
    "# ]"
   ]
  },
  {
   "cell_type": "code",
   "execution_count": null,
   "id": "532b8f3c",
   "metadata": {},
   "outputs": [],
   "source": [
    "# fig, ax = plt.subplots(2, 2, figsize=(18, 10))\n",
    "\n",
    "# ax[0, 0].plot(x_test[0], pdf_test[0], color = red,   label = 'a$_{max}$ = 10 $\\mu$m')\n",
    "# ax[0, 1].plot(x_test[1], pdf_test[1], color = green, label = 'a$_{max}$ = 100 $\\mu$m')\n",
    "# ax[1, 0].plot(x_test[2], pdf_test[2], color = blue,  label = 'a$_{max}$ = 1 mm')\n",
    "# ax[1, 1].plot(x_test[3], pdf_test[3], color = pink,  label = 'a$_{max}$ = 1 cm')\n",
    "\n",
    "\n",
    "# for i in range(2):\n",
    "#     for j in range(2):\n",
    "#         # Add axis labels\n",
    "#         ax[i, j].set_xlabel('Grain Size', fontsize=axis_label_fs)\n",
    "#         ax[i, j].set_ylabel('pdf', fontsize=axis_label_fs)\n",
    "\n",
    "\n",
    "#         # Adjust ticks\n",
    "#         ax[i, j].minorticks_on()\n",
    "#         ax[i, j].tick_params(axis=\"x\", which=\"major\", direction=\"in\", bottom=True, top=True, length=7, labelsize=axis_num_fs)\n",
    "#         ax[i, j].tick_params(axis=\"y\", which=\"major\", direction=\"in\", left=True, right=True, length=7, labelsize=axis_num_fs)\n",
    "\n",
    "#         ax[i, j].legend(loc = 'upper right', fontsize = legend_text_fs)"
   ]
  },
  {
   "cell_type": "code",
   "execution_count": null,
   "id": "0986dd8f",
   "metadata": {},
   "outputs": [],
   "source": [
    "# fig, ax = plt.subplots(2, 2, figsize=(18, 10))\n",
    "\n",
    "# ax[0, 0].plot(x_test[0], pdf_test[0], color = red,   label = 'a$_{max}$ = 10 $\\mu$m')\n",
    "# ax[0, 1].plot(x_test[1], pdf_test[1], color = green, label = 'a$_{max}$ = 100 $\\mu$m')\n",
    "# ax[1, 0].plot(x_test[2], pdf_test[2], color = blue,  label = 'a$_{max}$ = 1 mm')\n",
    "# ax[1, 1].plot(x_test[3], pdf_test[3], color = pink,  label = 'a$_{max}$ = 1 cm')\n",
    "\n",
    "\n",
    "# for i in range(2):\n",
    "#     for j in range(2):\n",
    "#         # Add axis labels\n",
    "#         ax[i, j].set_xlabel('Grain Size', fontsize=axis_label_fs)\n",
    "#         ax[i, j].set_ylabel('pdf', fontsize=axis_label_fs)\n",
    "\n",
    "\n",
    "#         # Adjust ticks\n",
    "#         ax[i, j].minorticks_on()\n",
    "#         ax[i, j].tick_params(axis=\"x\", which=\"major\", direction=\"in\", bottom=True, top=True, length=7, labelsize=axis_num_fs)\n",
    "#         ax[i, j].tick_params(axis=\"y\", which=\"major\", direction=\"in\", left=True, right=True, length=7, labelsize=axis_num_fs)\n",
    "\n",
    "#         ax[i, j].legend(loc = 'upper right', fontsize = legend_text_fs)\n",
    "        \n",
    "#         # Make axes log if needed\n",
    "#         ax[i, j].set_xscale('log')\n",
    "#         ax[i, j].set_yscale('log')\n",
    "\n",
    "#         # Remove scientific notation from x-axis\n",
    "#         ax[i, j].xaxis.set_major_formatter(ScalarFormatter(useMathText=False))\n",
    "#         ax[i, j].ticklabel_format(style='plain', axis='x')"
   ]
  },
  {
   "cell_type": "markdown",
   "id": "ca635b02",
   "metadata": {},
   "source": [
    "## Kataoka et al. 2015, Figure 1"
   ]
  },
  {
   "cell_type": "markdown",
   "id": "a293a279",
   "metadata": {},
   "source": [
    "### Sampling Wavelength"
   ]
  },
  {
   "cell_type": "code",
   "execution_count": 14,
   "id": "0b81aa24",
   "metadata": {},
   "outputs": [],
   "source": [
    "N1 = 5000"
   ]
  },
  {
   "cell_type": "code",
   "execution_count": 15,
   "id": "ebba9c52",
   "metadata": {},
   "outputs": [
    {
     "name": "stdout",
     "output_type": "stream",
     "text": [
      "My min: 1.0 microns\n",
      "My max: 10000.0 microns\n"
     ]
    }
   ],
   "source": [
    "my_wavelength_sample = np.logspace(0, 4, N1)\n",
    "\n",
    "my_min = np.min(my_wavelength_sample)\n",
    "my_max = np.max(my_wavelength_sample)\n",
    "\n",
    "print(rf\"My min: {my_min} microns\")\n",
    "print(rf\"My max: {my_max} microns\")"
   ]
  },
  {
   "cell_type": "code",
   "execution_count": 16,
   "id": "1146ab42",
   "metadata": {},
   "outputs": [
    {
     "name": "stdout",
     "output_type": "stream",
     "text": [
      "Sarah min: 1.0 microns\n",
      "Sarah max: 10000.0 microns\n"
     ]
    }
   ],
   "source": [
    "logwave_vals = np.linspace(0,4,5000)\n",
    "wave_vals = 10**logwave_vals\n",
    "\n",
    "sarah_min = np.min(wave_vals)\n",
    "sarah_max = np.max(wave_vals)\n",
    "\n",
    "print(rf\"Sarah min: {sarah_min} microns\")\n",
    "print(rf\"Sarah max: {sarah_max} microns\")"
   ]
  },
  {
   "cell_type": "code",
   "execution_count": 17,
   "id": "b5c1cf09",
   "metadata": {},
   "outputs": [],
   "source": [
    "lambda_micron_array = wave_vals"
   ]
  },
  {
   "cell_type": "code",
   "execution_count": 18,
   "id": "2023c24e",
   "metadata": {},
   "outputs": [
    {
     "data": {
      "image/png": "[encoded data removed]",
      "text/plain": [
       "<Figure size 1296x720 with 4 Axes>"
      ]
     },
     "metadata": {
      "needs_background": "light"
     },
     "output_type": "display_data"
    }
   ],
   "source": [
    "my_sample = lambda_micron_array\n",
    "sarahs_sample = wave_vals\n",
    "\n",
    "bins = 10\n",
    "\n",
    "fig, ax = plt.subplots(2, 2, figsize=(18, 10))\n",
    "\n",
    "ax[0, 0].hist(my_wavelength_sample,     bins = bins, color = blue)\n",
    "ax[0, 1].hist(my_wavelength_sample,     bins = bins, color = blue)\n",
    "ax[1, 0].hist(wave_vals,                bins = bins, color = pink)\n",
    "ax[1, 1].hist(wave_vals,                bins = bins, color = pink)\n",
    "\n",
    "\n",
    "ax[0, 0].set_title(\"My Sample Lin Space\", fontsize = title_fs)\n",
    "ax[0, 1].set_title(\"My Sample Log Space\", fontsize = title_fs)\n",
    "ax[1, 0].set_title(\"Sarah's Sample Lin Space\", fontsize = title_fs)\n",
    "ax[1, 1].set_title(\"Sarah's Sample Log Space\", fontsize = title_fs)\n",
    "\n",
    "# Make axes log if needed\n",
    "ax[0, 1].set_xscale('log')\n",
    "ax[1, 1].set_yscale('log')\n",
    "\n",
    "for i in range(2):\n",
    "    for j in range(2):\n",
    "        # Add axis labels\n",
    "        ax[i, j].set_xlabel('Wavelength', fontsize=axis_label_fs)\n",
    "        ax[i, j].set_ylabel('Count', fontsize=axis_label_fs)\n",
    "\n",
    "\n",
    "        # Adjust ticks\n",
    "        ax[i, j].minorticks_on()\n",
    "        ax[i, j].tick_params(axis=\"x\", which=\"major\", direction=\"in\", bottom=True, top=True, length=7, labelsize=axis_num_fs)\n",
    "        ax[i, j].tick_params(axis=\"y\", which=\"major\", direction=\"in\", left=True, right=True, length=7, labelsize=axis_num_fs)\n",
    "\n",
    "        # Remove scientific notation from x-axis\n",
    "        ax[i, j].xaxis.set_major_formatter(ScalarFormatter(useMathText=False))\n",
    "        ax[i, j].ticklabel_format(style='plain', axis='x')\n",
    "        \n",
    "# Add spacing between subplots\n",
    "plt.subplots_adjust(wspace=0.4)\n",
    "plt.subplots_adjust(hspace=0.4)"
   ]
  },
  {
   "cell_type": "markdown",
   "id": "8058ccc9",
   "metadata": {},
   "source": [
    "### $\\kappa$ values"
   ]
  },
  {
   "cell_type": "code",
   "execution_count": 19,
   "id": "7a1e9d00",
   "metadata": {},
   "outputs": [
    {
     "ename": "KeyboardInterrupt",
     "evalue": "",
     "output_type": "error",
     "traceback": [
      "\u001b[0;31m---------------------------------------------------------------------------\u001b[0m",
      "\u001b[0;31mKeyboardInterrupt\u001b[0m                         Traceback (most recent call last)",
      "\u001b[0;32m/var/folders/p9/hcwv87bd7lxfdw1nmx4wt8d00000gn/T/ipykernel_62978/3563276238.py\u001b[0m in \u001b[0;36m<module>\u001b[0;34m\u001b[0m\n\u001b[1;32m      1\u001b[0m \u001b[0mkappa_abs_1\u001b[0m\u001b[0;34m,\u001b[0m   \u001b[0mkappa_sca_1\u001b[0m   \u001b[0;34m=\u001b[0m \u001b[0mcalculate_kappa_wavelength\u001b[0m\u001b[0;34m(\u001b[0m\u001b[0;36m1\u001b[0m\u001b[0;34m,\u001b[0m   \u001b[0mlambda_micron_array\u001b[0m\u001b[0;34m,\u001b[0m \u001b[0mdensity_g_cm3\u001b[0m\u001b[0;34m,\u001b[0m \u001b[0mN_dustgrains\u001b[0m \u001b[0;34m=\u001b[0m \u001b[0;36m10\u001b[0m\u001b[0;34m)\u001b[0m\u001b[0;34m\u001b[0m\u001b[0;34m\u001b[0m\u001b[0m\n\u001b[0;32m----> 2\u001b[0;31m \u001b[0mkappa_abs_100\u001b[0m\u001b[0;34m,\u001b[0m \u001b[0mkappa_sca_100\u001b[0m \u001b[0;34m=\u001b[0m \u001b[0mcalculate_kappa_wavelength\u001b[0m\u001b[0;34m(\u001b[0m\u001b[0;36m100\u001b[0m\u001b[0;34m,\u001b[0m \u001b[0mlambda_micron_array\u001b[0m\u001b[0;34m,\u001b[0m \u001b[0mdensity_g_cm3\u001b[0m\u001b[0;34m,\u001b[0m \u001b[0mN_dustgrains\u001b[0m \u001b[0;34m=\u001b[0m \u001b[0;36m10\u001b[0m\u001b[0;34m)\u001b[0m\u001b[0;34m\u001b[0m\u001b[0;34m\u001b[0m\u001b[0m\n\u001b[0m",
      "\u001b[0;32m~/Desktop/QUEEN'S/THESIS RESEARCH/PLOTTING C29 989/FUNCTIONS/DustModelFunctions.py\u001b[0m in \u001b[0;36mcalculate_kappa_wavelength\u001b[0;34m(a_max_micron, lambda_micron_array, density_g_cm3, a_min_micron, N_dustgrains)\u001b[0m\n\u001b[1;32m    219\u001b[0m         \u001b[0;32mfor\u001b[0m \u001b[0ma_micron\u001b[0m\u001b[0;34m,\u001b[0m \u001b[0ma_cm\u001b[0m\u001b[0;34m,\u001b[0m \u001b[0mm_g\u001b[0m\u001b[0;34m,\u001b[0m \u001b[0mweight\u001b[0m \u001b[0;32min\u001b[0m \u001b[0mzip\u001b[0m\u001b[0;34m(\u001b[0m\u001b[0ma_grid\u001b[0m\u001b[0;34m,\u001b[0m \u001b[0ma_cm_array\u001b[0m\u001b[0;34m,\u001b[0m \u001b[0mm_g_array\u001b[0m\u001b[0;34m,\u001b[0m \u001b[0mweights\u001b[0m\u001b[0;34m)\u001b[0m\u001b[0;34m:\u001b[0m\u001b[0;34m\u001b[0m\u001b[0;34m\u001b[0m\u001b[0m\n\u001b[1;32m    220\u001b[0m             \u001b[0mx_micron\u001b[0m \u001b[0;34m=\u001b[0m \u001b[0msize_parameter\u001b[0m\u001b[0;34m(\u001b[0m\u001b[0ma_micron\u001b[0m\u001b[0;34m,\u001b[0m \u001b[0mlambda_micron\u001b[0m\u001b[0;34m)\u001b[0m\u001b[0;34m\u001b[0m\u001b[0;34m\u001b[0m\u001b[0m\n\u001b[0;32m--> 221\u001b[0;31m             \u001b[0mQ_ext\u001b[0m\u001b[0;34m,\u001b[0m \u001b[0mQ_sca\u001b[0m\u001b[0;34m,\u001b[0m \u001b[0mQ_back\u001b[0m\u001b[0;34m,\u001b[0m \u001b[0mg\u001b[0m \u001b[0;34m=\u001b[0m \u001b[0mmiepython\u001b[0m\u001b[0;34m.\u001b[0m\u001b[0mefficiencies\u001b[0m\u001b[0;34m(\u001b[0m\u001b[0mm\u001b[0m\u001b[0;34m,\u001b[0m \u001b[0mx_micron\u001b[0m\u001b[0;34m,\u001b[0m \u001b[0mlambda_micron\u001b[0m\u001b[0;34m)\u001b[0m\u001b[0;34m\u001b[0m\u001b[0;34m\u001b[0m\u001b[0m\n\u001b[0m\u001b[1;32m    222\u001b[0m             \u001b[0mQ_abs\u001b[0m \u001b[0;34m=\u001b[0m \u001b[0mQ_ext\u001b[0m \u001b[0;34m-\u001b[0m \u001b[0mQ_sca\u001b[0m\u001b[0;34m\u001b[0m\u001b[0;34m\u001b[0m\u001b[0m\n\u001b[1;32m    223\u001b[0m \u001b[0;34m\u001b[0m\u001b[0m\n",
      "\u001b[0;32m/opt/anaconda3/lib/python3.9/site-packages/miepython/core.py\u001b[0m in \u001b[0;36mefficiencies\u001b[0;34m(m, d, lambda0, n_env)\u001b[0m\n\u001b[1;32m    483\u001b[0m     \u001b[0mm_env\u001b[0m \u001b[0;34m=\u001b[0m \u001b[0mm\u001b[0m \u001b[0;34m/\u001b[0m \u001b[0mn_env\u001b[0m\u001b[0;34m\u001b[0m\u001b[0;34m\u001b[0m\u001b[0m\n\u001b[1;32m    484\u001b[0m     \u001b[0mx_env\u001b[0m \u001b[0;34m=\u001b[0m \u001b[0mnp\u001b[0m\u001b[0;34m.\u001b[0m\u001b[0mpi\u001b[0m \u001b[0;34m*\u001b[0m \u001b[0md\u001b[0m \u001b[0;34m/\u001b[0m \u001b[0;34m(\u001b[0m\u001b[0mlambda0\u001b[0m \u001b[0;34m/\u001b[0m \u001b[0mn_env\u001b[0m\u001b[0;34m)\u001b[0m\u001b[0;34m\u001b[0m\u001b[0;34m\u001b[0m\u001b[0m\n\u001b[0;32m--> 485\u001b[0;31m     \u001b[0;32mreturn\u001b[0m \u001b[0mefficiencies_mx\u001b[0m\u001b[0;34m(\u001b[0m\u001b[0mm_env\u001b[0m\u001b[0;34m,\u001b[0m \u001b[0mx_env\u001b[0m\u001b[0;34m)\u001b[0m\u001b[0;34m\u001b[0m\u001b[0;34m\u001b[0m\u001b[0m\n\u001b[0m\u001b[1;32m    486\u001b[0m \u001b[0;34m\u001b[0m\u001b[0m\n\u001b[1;32m    487\u001b[0m \u001b[0;34m\u001b[0m\u001b[0m\n",
      "\u001b[0;32m/opt/anaconda3/lib/python3.9/site-packages/miepython/core.py\u001b[0m in \u001b[0;36mefficiencies_mx\u001b[0;34m(m, x, n_pole, field)\u001b[0m\n\u001b[1;32m    211\u001b[0m \u001b[0;34m\u001b[0m\u001b[0m\n\u001b[1;32m    212\u001b[0m     \u001b[0;32mif\u001b[0m \u001b[0mmlen\u001b[0m \u001b[0;34m==\u001b[0m \u001b[0;36m0\u001b[0m \u001b[0;32mand\u001b[0m \u001b[0mxlen\u001b[0m \u001b[0;34m==\u001b[0m \u001b[0;36m0\u001b[0m\u001b[0;34m:\u001b[0m\u001b[0;34m\u001b[0m\u001b[0;34m\u001b[0m\u001b[0m\n\u001b[0;32m--> 213\u001b[0;31m         \u001b[0;32mreturn\u001b[0m \u001b[0msingle_sphere\u001b[0m\u001b[0;34m(\u001b[0m\u001b[0mm\u001b[0m\u001b[0;34m,\u001b[0m \u001b[0mx\u001b[0m\u001b[0;34m,\u001b[0m \u001b[0mn_pole\u001b[0m\u001b[0;34m)\u001b[0m\u001b[0;34m\u001b[0m\u001b[0;34m\u001b[0m\u001b[0m\n\u001b[0m\u001b[1;32m    214\u001b[0m \u001b[0;34m\u001b[0m\u001b[0m\n\u001b[1;32m    215\u001b[0m     \u001b[0;32mif\u001b[0m \u001b[0mxlen\u001b[0m \u001b[0;34m>\u001b[0m \u001b[0;36m0\u001b[0m \u001b[0;32mand\u001b[0m \u001b[0mmlen\u001b[0m \u001b[0;34m>\u001b[0m \u001b[0;36m0\u001b[0m \u001b[0;32mand\u001b[0m \u001b[0mxlen\u001b[0m \u001b[0;34m!=\u001b[0m \u001b[0mmlen\u001b[0m\u001b[0;34m:\u001b[0m\u001b[0;34m\u001b[0m\u001b[0;34m\u001b[0m\u001b[0m\n",
      "\u001b[0;32m/opt/anaconda3/lib/python3.9/site-packages/miepython/mie_nojit.py\u001b[0m in \u001b[0;36m_single_sphere_py\u001b[0;34m(m, x, n_pole)\u001b[0m\n\u001b[1;32m    447\u001b[0m         \u001b[0mm\u001b[0m \u001b[0;34m=\u001b[0m \u001b[0;36m1\u001b[0m \u001b[0;34m-\u001b[0m \u001b[0;36m10000j\u001b[0m\u001b[0;34m\u001b[0m\u001b[0;34m\u001b[0m\u001b[0m\n\u001b[1;32m    448\u001b[0m \u001b[0;34m\u001b[0m\u001b[0m\n\u001b[0;32m--> 449\u001b[0;31m     \u001b[0ma\u001b[0m\u001b[0;34m,\u001b[0m \u001b[0mb\u001b[0m \u001b[0;34m=\u001b[0m \u001b[0m_an_bn_py\u001b[0m\u001b[0;34m(\u001b[0m\u001b[0mm\u001b[0m\u001b[0;34m,\u001b[0m \u001b[0mx\u001b[0m\u001b[0;34m,\u001b[0m \u001b[0mn_pole\u001b[0m\u001b[0;34m)\u001b[0m\u001b[0;34m\u001b[0m\u001b[0;34m\u001b[0m\u001b[0m\n\u001b[0m\u001b[1;32m    450\u001b[0m \u001b[0;34m\u001b[0m\u001b[0m\n\u001b[1;32m    451\u001b[0m     \u001b[0;32mif\u001b[0m \u001b[0mn_pole\u001b[0m \u001b[0;34m==\u001b[0m \u001b[0;36m0\u001b[0m\u001b[0;34m:\u001b[0m\u001b[0;34m\u001b[0m\u001b[0;34m\u001b[0m\u001b[0m\n",
      "\u001b[0;32m/opt/anaconda3/lib/python3.9/site-packages/miepython/mie_nojit.py\u001b[0m in \u001b[0;36m_an_bn_py\u001b[0;34m(m, x, n_pole)\u001b[0m\n\u001b[1;32m    163\u001b[0m         \u001b[0;32mfor\u001b[0m \u001b[0mn\u001b[0m \u001b[0;32min\u001b[0m \u001b[0mrange\u001b[0m\u001b[0;34m(\u001b[0m\u001b[0;36m1\u001b[0m\u001b[0;34m,\u001b[0m \u001b[0mnstop\u001b[0m\u001b[0;34m)\u001b[0m\u001b[0;34m:\u001b[0m\u001b[0;34m\u001b[0m\u001b[0;34m\u001b[0m\u001b[0m\n\u001b[1;32m    164\u001b[0m             \u001b[0mtemp\u001b[0m \u001b[0;34m=\u001b[0m \u001b[0mD\u001b[0m\u001b[0;34m[\u001b[0m\u001b[0mn\u001b[0m \u001b[0;34m-\u001b[0m \u001b[0;36m1\u001b[0m\u001b[0;34m]\u001b[0m \u001b[0;34m/\u001b[0m \u001b[0mm\u001b[0m \u001b[0;34m+\u001b[0m \u001b[0mn\u001b[0m \u001b[0;34m/\u001b[0m \u001b[0mx\u001b[0m\u001b[0;34m\u001b[0m\u001b[0;34m\u001b[0m\u001b[0m\n\u001b[0;32m--> 165\u001b[0;31m             \u001b[0ma\u001b[0m\u001b[0;34m[\u001b[0m\u001b[0mn\u001b[0m \u001b[0;34m-\u001b[0m \u001b[0;36m1\u001b[0m\u001b[0;34m]\u001b[0m \u001b[0;34m=\u001b[0m \u001b[0;34m(\u001b[0m\u001b[0mtemp\u001b[0m \u001b[0;34m*\u001b[0m \u001b[0mpsi_n\u001b[0m \u001b[0;34m-\u001b[0m \u001b[0mpsi_nm1\u001b[0m\u001b[0;34m)\u001b[0m \u001b[0;34m/\u001b[0m \u001b[0;34m(\u001b[0m\u001b[0mtemp\u001b[0m \u001b[0;34m*\u001b[0m \u001b[0mxi_n\u001b[0m \u001b[0;34m-\u001b[0m \u001b[0mxi_nm1\u001b[0m\u001b[0;34m)\u001b[0m\u001b[0;34m\u001b[0m\u001b[0;34m\u001b[0m\u001b[0m\n\u001b[0m\u001b[1;32m    166\u001b[0m             \u001b[0mtemp\u001b[0m \u001b[0;34m=\u001b[0m \u001b[0mD\u001b[0m\u001b[0;34m[\u001b[0m\u001b[0mn\u001b[0m \u001b[0;34m-\u001b[0m \u001b[0;36m1\u001b[0m\u001b[0;34m]\u001b[0m \u001b[0;34m*\u001b[0m \u001b[0mm\u001b[0m \u001b[0;34m+\u001b[0m \u001b[0mn\u001b[0m \u001b[0;34m/\u001b[0m \u001b[0mx\u001b[0m\u001b[0;34m\u001b[0m\u001b[0;34m\u001b[0m\u001b[0m\n\u001b[1;32m    167\u001b[0m             \u001b[0mb\u001b[0m\u001b[0;34m[\u001b[0m\u001b[0mn\u001b[0m \u001b[0;34m-\u001b[0m \u001b[0;36m1\u001b[0m\u001b[0;34m]\u001b[0m \u001b[0;34m=\u001b[0m \u001b[0;34m(\u001b[0m\u001b[0mtemp\u001b[0m \u001b[0;34m*\u001b[0m \u001b[0mpsi_n\u001b[0m \u001b[0;34m-\u001b[0m \u001b[0mpsi_nm1\u001b[0m\u001b[0;34m)\u001b[0m \u001b[0;34m/\u001b[0m \u001b[0;34m(\u001b[0m\u001b[0mtemp\u001b[0m \u001b[0;34m*\u001b[0m \u001b[0mxi_n\u001b[0m \u001b[0;34m-\u001b[0m \u001b[0mxi_nm1\u001b[0m\u001b[0;34m)\u001b[0m\u001b[0;34m\u001b[0m\u001b[0;34m\u001b[0m\u001b[0m\n",
      "\u001b[0;31mKeyboardInterrupt\u001b[0m: "
     ]
    }
   ],
   "source": [
    "kappa_abs_1,   kappa_sca_1   = calculate_kappa_wavelength(1,   lambda_micron_array, density_g_cm3, N_dustgrains = 10)\n",
    "kappa_abs_100, kappa_sca_100 = calculate_kappa_wavelength(100, lambda_micron_array, density_g_cm3, N_dustgrains = 10)"
   ]
  },
  {
   "cell_type": "code",
   "execution_count": null,
   "id": "28028016",
   "metadata": {},
   "outputs": [],
   "source": [
    "# fig, ax = plt.subplots(2, 2, figsize=(18, 10))\n",
    "\n",
    "# ax[0, 0].plot(x_test[0], pdf_test[0], color = red,   label = 'a$_{max}$ = 10 $\\mu$m')\n",
    "# ax[0, 1].plot(x_test[1], pdf_test[1], color = green, label = 'a$_{max}$ = 100 $\\mu$m')\n",
    "# ax[1, 0].plot(x_test[2], pdf_test[2], color = blue,  label = 'a$_{max}$ = 1 mm')\n",
    "# ax[1, 1].plot(x_test[3], pdf_test[3], color = pink,  label = 'a$_{max}$ = 1 cm')\n",
    "\n",
    "\n",
    "# for i in range(2):\n",
    "#     for j in range(2):\n",
    "#         # Add axis labels\n",
    "#         ax[i, j].set_xlabel('Grain Size', fontsize=axis_label_fs)\n",
    "#         ax[i, j].set_ylabel('pdf', fontsize=axis_label_fs)\n",
    "\n",
    "\n",
    "#         # Adjust ticks\n",
    "#         ax[i, j].minorticks_on()\n",
    "#         ax[i, j].tick_params(axis=\"x\", which=\"major\", direction=\"in\", bottom=True, top=True, length=7, labelsize=axis_num_fs)\n",
    "#         ax[i, j].tick_params(axis=\"y\", which=\"major\", direction=\"in\", left=True, right=True, length=7, labelsize=axis_num_fs)\n",
    "\n",
    "#         ax[i, j].legend(loc = 'upper right', fontsize = legend_text_fs)\n",
    "        \n",
    "#         # Make axes log if needed\n",
    "#         ax[i, j].set_xscale('log')\n",
    "#         ax[i, j].set_yscale('log')\n",
    "\n",
    "#         # Remove scientific notation from x-axis\n",
    "#         ax[i, j].xaxis.set_major_formatter(ScalarFormatter(useMathText=False))\n",
    "#         ax[i, j].ticklabel_format(style='plain', axis='x')"
   ]
  },
  {
   "cell_type": "code",
   "execution_count": null,
   "id": "234092af",
   "metadata": {},
   "outputs": [],
   "source": [
    "# Create a figure with the WCS projection\n",
    "fig, ax = plt.subplots(figsize=(8, 6))\n",
    "\n",
    "ax.plot(lambda_micron_array,\n",
    "        kappa_abs_1,\n",
    "        color = 'red',\n",
    "        ls = '-',\n",
    "        label = 'a$_{max}$ = 1 $\\mu$m, $\\kappa_{abs}$')\n",
    "\n",
    "ax.plot(lambda_micron_array,\n",
    "        kappa_sca_1,\n",
    "        color = 'red',\n",
    "        ls = '--',\n",
    "        label = 'a$_{max}$ = 1 $\\mu$m, $\\kappa_{sca}$')\n",
    "\n",
    "ax.plot(lambda_micron_array,\n",
    "        kappa_abs_100,\n",
    "        color = 'blue',\n",
    "        ls = '-',\n",
    "        label = 'a$_{max}$ = 100 $\\mu$m, $\\kappa_{abs}$')\n",
    "\n",
    "ax.plot(lambda_micron_array,\n",
    "        kappa_sca_100,\n",
    "        color = 'blue',\n",
    "        ls = '--',\n",
    "        label = 'a$_{max}$ = 100 $\\mu$m, $\\kappa_{sca}$')\n",
    "\n",
    "# Add axis labels\n",
    "ax.set_xlabel('$\\lambda$ [$\\mu$m]', fontsize=axis_label_fs)\n",
    "ax.set_ylabel('$\\kappa_{abs, sca}$ [cm$^2$/g]', fontsize=axis_label_fs)\n",
    "\n",
    "\n",
    "# Adjust ticks\n",
    "ax.minorticks_on()\n",
    "ax.tick_params(axis=\"x\", which=\"major\", direction=\"in\", bottom=True, top=True, length=7, labelsize=axis_num_fs)\n",
    "ax.tick_params(axis=\"y\", which=\"major\", direction=\"in\", left=True, right=True, length=7, labelsize=axis_num_fs)\n",
    "\n",
    "ax.legend(loc = 'lower left',\n",
    "          fontsize = legend_text_fs)\n",
    "\n",
    "# Make axes log if needed\n",
    "ax.set_xscale('log')\n",
    "ax.set_yscale('log')\n",
    "\n",
    "# Set axis limits\n",
    "# ax.setxlim()\n",
    "# ax.set_ylim(10e-8, 10e4)"
   ]
  },
  {
   "cell_type": "markdown",
   "id": "d9f40012",
   "metadata": {},
   "source": [
    "## Kataoka et al. 2015, Figure 2"
   ]
  },
  {
   "cell_type": "code",
   "execution_count": null,
   "id": "fb25d21e",
   "metadata": {},
   "outputs": [],
   "source": [
    "scatt_angles_deg = np.linspace(0, 180, 30)"
   ]
  },
  {
   "cell_type": "code",
   "execution_count": null,
   "id": "6ae47147",
   "metadata": {},
   "outputs": [],
   "source": [
    "P_band3_fig2 = []\n",
    "P_band7_fig2 = []\n",
    "\n",
    "\n",
    "for a_max_micron in a_max_values_micron:\n",
    "    P_band3 =  calculate_P_scatt_angle(lambda_band3_micron, scatt_angles_deg, a_max_micron)\n",
    "    P_band7 =  calculate_P_scatt_angle(lambda_band7_micron, scatt_angles_deg, a_max_micron)\n",
    "    \n",
    "    # Store the results\n",
    "    P_band3_fig2.append(P_band3)\n",
    "    P_band7_fig2.append(P_band7)"
   ]
  },
  {
   "cell_type": "code",
   "execution_count": null,
   "id": "1604e3cd",
   "metadata": {},
   "outputs": [],
   "source": [
    "# Plotting\n",
    "fig, ax = plt.subplots(1, 2, figsize=(18, 6))\n",
    "\n",
    "# Plot on the left\n",
    "ax[0].plot(scatt_angles_deg, P_band3_fig2[0], color = red,   label = '10 $\\mu$m')\n",
    "ax[0].plot(scatt_angles_deg, P_band3_fig2[1], color = green, label = '100 $\\mu$m')\n",
    "ax[0].plot(scatt_angles_deg, P_band3_fig2[2], color = blue,  label = '1 mm')\n",
    "ax[0].plot(scatt_angles_deg, P_band3_fig2[3], color = pink,  label = '1 cm')\n",
    "\n",
    "\n",
    "# Plot on the right\n",
    "ax[1].plot(scatt_angles_deg, P_band7_fig2[0], color = red,    label = '10 $\\mu$m')\n",
    "ax[1].plot(scatt_angles_deg, P_band7_fig2[1], color = green,  label = '100 $\\mu$m')\n",
    "ax[1].plot(scatt_angles_deg, P_band7_fig2[2], color = blue,   label = '1 mm')\n",
    "ax[1].plot(scatt_angles_deg, P_band7_fig2[3], color = pink,   label = '1 cm')\n",
    "\n",
    "# Add titles\n",
    "ax[0].set_title('$\\lambda$ = 3.1mm (ALMA Band 3)', fontsize = title_fs)\n",
    "ax[1].set_title('$\\lambda$ = 870 $\\mu$m (ALMA Band 7)', fontsize = title_fs)\n",
    "\n",
    "# Set axis labels \n",
    "ax[0].set_xlabel('scattering angle [degree]', fontsize = axis_label_fs)\n",
    "ax[1].set_xlabel('scattering angle [degree]', fontsize = axis_label_fs)\n",
    "\n",
    "ax[0].set_ylabel('-Z$_{12}/Z_{11}$', fontsize = axis_label_fs)\n",
    "ax[1].set_ylabel('-Z$_{12}/Z_{11}$', fontsize = axis_label_fs)\n",
    "\n",
    "# Adjust ticks\n",
    "for i in range(2):\n",
    "    ax[i].minorticks_on()\n",
    "    ax[i].tick_params(axis=\"x\", which=\"major\", direction=\"in\", bottom=True, top=True, length=7, labelsize=axis_num_fs)\n",
    "    ax[i].tick_params(axis=\"y\", which=\"major\", direction=\"in\", left=True, right=True, length=7, labelsize=axis_num_fs)\n",
    "\n",
    "# Add a legend\n",
    "ax[0].legend(fontsize = legend_text_fs, loc = 'lower left')\n",
    "ax[1].legend(fontsize = legend_text_fs, loc = 'lower left')"
   ]
  },
  {
   "cell_type": "markdown",
   "id": "18750dbb",
   "metadata": {},
   "source": [
    "## Kataoka et al. 2015, Figure 3"
   ]
  },
  {
   "cell_type": "code",
   "execution_count": null,
   "id": "25ec9955",
   "metadata": {},
   "outputs": [],
   "source": [
    "N3 = 100"
   ]
  },
  {
   "cell_type": "code",
   "execution_count": null,
   "id": "8682335b",
   "metadata": {},
   "outputs": [],
   "source": [
    "a_max_array_fig34 = np.logspace(-3, 0, N3)"
   ]
  },
  {
   "cell_type": "code",
   "execution_count": null,
   "id": "396b926c",
   "metadata": {},
   "outputs": [],
   "source": [
    "kappa_abs_band1,  kappa_sca_band1  = calculate_kappa_grainsize(lambda_band1_micron,  a_max_array_fig34, density)\n",
    "kappa_abs_band3,  kappa_sca_band3  = calculate_kappa_grainsize(lambda_band3_micron,  a_max_array_fig34, density)\n",
    "kappa_abs_band7,  kappa_sca_band7  = calculate_kappa_grainsize(lambda_band7_micron,  a_max_array_fig34, density)\n",
    "kappa_abs_band10, kappa_sca_band10 = calculate_kappa_grainsize(lambda_band10_micron, a_max_array_fig34, density)"
   ]
  },
  {
   "cell_type": "code",
   "execution_count": null,
   "id": "7e687081",
   "metadata": {},
   "outputs": [],
   "source": [
    "P_band1_fig34  = []\n",
    "P_band3_fig34  = []\n",
    "P_band7_fig34  = []\n",
    "P_band10_fig34 = []\n",
    "\n",
    "\n",
    "# Compute P vs a_max for each band\n",
    "P_band1_fig34  = calculate_P_grainsize(lambda_band1_micron,  90, a_max_array_fig34)\n",
    "P_band3_fig34  = calculate_P_grainsize(lambda_band3_micron,  90, a_max_array_fig34)\n",
    "P_band7_fig34  = calculate_P_grainsize(lambda_band7_micron,  90, a_max_array_fig34)\n",
    "P_band10_fig34 = calculate_P_grainsize(lambda_band10_micron, 90, a_max_array_fig34)"
   ]
  },
  {
   "cell_type": "code",
   "execution_count": null,
   "id": "a670941f",
   "metadata": {},
   "outputs": [],
   "source": [
    "omega_band1  =  calculate_omega(kappa_abs_band1,  kappa_sca_band1)\n",
    "omega_band3  =  calculate_omega(kappa_abs_band3,  kappa_sca_band3)\n",
    "omega_band7  =  calculate_omega(kappa_abs_band7,  kappa_sca_band7)\n",
    "omega_band10 =  calculate_omega(kappa_abs_band10, kappa_sca_band10)"
   ]
  },
  {
   "cell_type": "code",
   "execution_count": null,
   "id": "99a24008",
   "metadata": {},
   "outputs": [],
   "source": [
    "# Plotting\n",
    "fig, ax = plt.subplots(1, 2, figsize=(20, 6))  # Wider figure for spacing\n",
    "\n",
    "# Create secondary y-axes\n",
    "ax2_0 = ax[0].twinx()\n",
    "ax2_1 = ax[1].twinx()\n",
    "\n",
    "# Plot on the left\n",
    "line_P3,     = ax[0].plot(a_max_array_fig34, P_band3_fig34, color='red', label='P')\n",
    "line_omega3, = ax2_0.plot(a_max_array_fig34, omega_band3, color='green', label=r'$\\omega$')\n",
    "\n",
    "# Plot on the right\n",
    "line_P7,     = ax[1].plot(a_max_array_fig34, P_band7_fig34, color='red', label='P')\n",
    "line_omega7, = ax2_1.plot(a_max_array_fig34, omega_band7, color='green', label=r'$\\omega$')\n",
    "\n",
    "# Titles\n",
    "ax[0].set_title(r'$\\lambda$ = 3.1mm (ALMA Band 3)', fontsize=title_fs)\n",
    "ax[1].set_title(r'$\\lambda$ = 870 $\\mu$m (ALMA Band 7)', fontsize=title_fs)\n",
    "\n",
    "# X-axis labels\n",
    "ax[0].set_xlabel('Maximum grain size [cm]', fontsize=axis_label_fs)\n",
    "ax[1].set_xlabel('Maximum grain size [cm]', fontsize=axis_label_fs)\n",
    "\n",
    "# Y-axis labels\n",
    "ax[0].set_ylabel('P', fontsize=axis_label_fs)\n",
    "ax[1].set_ylabel('P', fontsize=axis_label_fs)\n",
    "ax2_0.set_ylabel(r'$\\omega$', fontsize=axis_label_fs)\n",
    "ax2_1.set_ylabel(r'$\\omega$', fontsize=axis_label_fs)\n",
    "\n",
    "# Ticks\n",
    "for a in [ax[0], ax[1], ax2_0, ax2_1]:\n",
    "    a.minorticks_on()\n",
    "    a.tick_params(axis=\"x\", which=\"major\", direction=\"in\", bottom=True, top=True, length=7, labelsize=axis_num_fs)\n",
    "    a.tick_params(axis=\"y\", which=\"major\", direction=\"in\", left=True, right=True, length=7, labelsize=axis_num_fs)\n",
    "\n",
    "# Only lines are colored; axis ticks remain default\n",
    "# (Do NOT color ax2 ticks to green)\n",
    "\n",
    "# Single legend per subplot\n",
    "ax[0].legend(handles = [line_P3, line_omega3], fontsize=legend_text_fs, loc='upper right')\n",
    "ax[1].legend(handles = [line_P7, line_omega7], fontsize=legend_text_fs, loc='upper right')\n",
    "\n",
    "# Add spacing between subplots\n",
    "plt.subplots_adjust(wspace=0.4)\n",
    "\n",
    "for i in range(2):\n",
    "    # Make axes log if needed\n",
    "    ax[i].set_xscale('log')\n",
    "#     ax[i].set_yscale('log')\n",
    "\n",
    "    # Remove scientific notation from x-axis\n",
    "    ax[i].xaxis.set_major_formatter(ScalarFormatter(useMathText=False))\n",
    "    ax[i].ticklabel_format(style='plain', axis='x')"
   ]
  },
  {
   "cell_type": "markdown",
   "id": "217b063f",
   "metadata": {},
   "source": [
    "## Kataoka et al. 2015, Figure 4"
   ]
  },
  {
   "cell_type": "code",
   "execution_count": null,
   "id": "c837e753",
   "metadata": {},
   "outputs": [],
   "source": [
    "P_omega_band1  = P_band1_fig34  * omega_band1\n",
    "P_omega_band3  = P_band3_fig34  * omega_band3\n",
    "P_omega_band7  = P_band7_fig34  * omega_band7\n",
    "P_omega_band10 = P_band10_fig34 * omega_band10"
   ]
  },
  {
   "cell_type": "code",
   "execution_count": null,
   "id": "79bdb255",
   "metadata": {},
   "outputs": [],
   "source": [
    "# Create a figure with the WCS projection\n",
    "fig, ax = plt.subplots(figsize=(8, 6))\n",
    "\n",
    "ax.plot(a_max_array_fig34,\n",
    "        P_omega_band1,\n",
    "        color = band1_color,\n",
    "        ls = '-',\n",
    "        label = '7 mm (Band 1)')\n",
    "\n",
    "ax.plot(a_max_array_fig34,\n",
    "        P_omega_band3,\n",
    "        color = band3_color,\n",
    "        ls = '-',\n",
    "        label = '3.1 mm (Band 3)')\n",
    "\n",
    "\n",
    "ax.plot(a_max_array_fig34,\n",
    "        P_omega_band7,\n",
    "        color = band7_color,\n",
    "        ls = '-',\n",
    "        label = '0.87 mm (Band 7)')\n",
    "\n",
    "\n",
    "ax.plot(a_max_array_fig34,\n",
    "        P_omega_band10,\n",
    "        color = band10_color,\n",
    "        ls = '-',\n",
    "        label = '0.34 mm (Band 10)')\n",
    "\n",
    "\n",
    "# # Add labels to the plot\n",
    "# y_vals = [P_omega_band1, P_omega_band3, P_omega_band7, P_omega_band10]\n",
    "# top_label = ['7 mm', '3.1 mm', '0.87 mm', '0.34 mm']\n",
    "# bottom_label = ['(Band 1)', '(Band 3)'. '(Band 7)', '(Band 10)']\n",
    "# for i in range(4):\n",
    "#     ax.text[]\n",
    "\n",
    "\n",
    "# Add axis labels\n",
    "ax.set_xlabel('Maximum grain size [cm]', fontsize=axis_label_fs)\n",
    "ax.set_ylabel('P $\\omega$', fontsize=axis_label_fs)\n",
    "\n",
    "\n",
    "# Adjust ticks\n",
    "ax.minorticks_on()\n",
    "ax.tick_params(axis=\"x\", which=\"major\", direction=\"in\", bottom=True, top=True, length=7, labelsize=axis_num_fs)\n",
    "ax.tick_params(axis=\"y\", which=\"major\", direction=\"in\", left=True, right=True, length=7, labelsize=axis_num_fs)\n",
    "\n",
    "ax.legend(loc = 'upper right', fontsize = legend_text_fs)\n",
    "\n",
    "\n",
    "# Make axes log if needed\n",
    "ax.set_xscale('log')\n",
    "# ax.set_yscale('log')\n",
    "\n",
    "# Remove scientific notation from x-axis\n",
    "ax.xaxis.set_major_formatter(ScalarFormatter(useMathText=False))\n",
    "ax.ticklabel_format(style='plain', axis='x')"
   ]
  },
  {
   "cell_type": "code",
   "execution_count": null,
   "id": "e6b571ad",
   "metadata": {},
   "outputs": [],
   "source": []
  }
 ],
 "metadata": {
  "kernelspec": {
   "display_name": "Python 3 (ipykernel)",
   "language": "python",
   "name": "python3"
  },
  "language_info": {
   "codemirror_mode": {
    "name": "ipython",
    "version": 3
   },
   "file_extension": ".py",
   "mimetype": "text/x-python",
   "name": "python",
   "nbconvert_exporter": "python",
   "pygments_lexer": "ipython3",
   "version": "3.9.7"
  },
  "varInspector": {
   "cols": {
    "lenName": 16,
    "lenType": 16,
    "lenVar": 40
   },
   "kernels_config": {
    "python": {
     "delete_cmd_postfix": "",
     "delete_cmd_prefix": "del ",
     "library": "var_list.py",
     "varRefreshCmd": "print(var_dic_list())"
    },
    "r": {
     "delete_cmd_postfix": ") ",
     "delete_cmd_prefix": "rm(",
     "library": "var_list.r",
     "varRefreshCmd": "cat(var_dic_list()) "
    }
   },
   "types_to_exclude": [
    "module",
    "function",
    "builtin_function_or_method",
    "instance",
    "_Feature"
   ],
   "window_display": false
  }
 },
 "nbformat": 4,
 "nbformat_minor": 5
}
