{
 "cells": [
  {
   "cell_type": "code",
   "execution_count": 18,
   "id": "38323610",
   "metadata": {},
   "outputs": [],
   "source": [
    "import seaborn as sns\n",
    "import matplotlib.pyplot as plt"
   ]
  },
  {
   "cell_type": "code",
   "execution_count": 19,
   "id": "5d4ffb62",
   "metadata": {},
   "outputs": [],
   "source": [
    "colors = sns.color_palette(\"hls\", 10) \n",
    "line_length = 1"
   ]
  },
  {
   "cell_type": "markdown",
   "id": "9b7821af",
   "metadata": {},
   "source": [
    "## Function"
   ]
  },
  {
   "cell_type": "code",
   "execution_count": 25,
   "id": "63b3da70",
   "metadata": {},
   "outputs": [
    {
     "ename": "IndentationError",
     "evalue": "expected an indented block (2401207267.py, line 8)",
     "output_type": "error",
     "traceback": [
      "\u001b[0;36m  File \u001b[0;32m\"/var/folders/p9/hcwv87bd7lxfdw1nmx4wt8d00000gn/T/ipykernel_15683/2401207267.py\"\u001b[0;36m, line \u001b[0;32m8\u001b[0m\n\u001b[0;31m    return sky_angle_deg + 90\u001b[0m\n\u001b[0m    ^\u001b[0m\n\u001b[0;31mIndentationError\u001b[0m\u001b[0;31m:\u001b[0m expected an indented block\n"
     ]
    }
   ],
   "source": [
    "# ---------------------------------------------------------------------------------------------------------\n",
    "def sky_to_cartesian_deg(sky_angle_deg):\n",
    "    \n",
    "    \n",
    "    if sky_angle_deg < 0:\n",
    "        \n",
    "\n",
    "        \n",
    "    return sky_angle_deg + 90\n",
    "# ---------------------------------------------------------------------------------------------------------\n",
    "\n",
    "\n",
    "# # ---------------------------------------------------------------------------------------------------------\n",
    "# def sky_to_cartesian_angle_deg(sky_angle_deg):\n",
    "    \n",
    "#     cartesian_angle_deg = (90 - sky_angle_deg) % 360\n",
    "    \n",
    "#     return cartesian_angle_deg\n",
    "# # ---------------------------------------------------------------------------------------------------------\n",
    "\n"
   ]
  },
  {
   "cell_type": "markdown",
   "id": "e642d90c",
   "metadata": {},
   "source": [
    "## Testing Basic Angles"
   ]
  },
  {
   "cell_type": "code",
   "execution_count": 21,
   "id": "9e5f48d6",
   "metadata": {},
   "outputs": [],
   "source": [
    "basic_angles_sky_labels = ['0', '45', '90', '180',]\n",
    "basic_angles_sky_deg = [0, 45, 90, 180]\n",
    "\n",
    "# Convert each angle to Cartesian coordinates\n",
    "basic_angles_cartesian_deg = [sky_to_cartesian_deg(angle) for angle in basic_angles_sky_deg]"
   ]
  },
  {
   "cell_type": "code",
   "execution_count": 24,
   "id": "34795958",
   "metadata": {},
   "outputs": [
    {
     "data": {
      "image/png": "[encoded data removed]",
      "text/plain": [
       "<Figure size 720x720 with 1 Axes>"
      ]
     },
     "metadata": {
      "needs_background": "light"
     },
     "output_type": "display_data"
    }
   ],
   "source": [
    "# Create the plot with a larger size\n",
    "plt.figure(figsize=(10, 10))\n",
    "\n",
    "# Set axis limits to show all four quadrants\n",
    "plt.xlim(-1, 1)\n",
    "plt.ylim(-1, 1)\n",
    "\n",
    "# Plot the black axes at x=0 and y=0\n",
    "plt.axvline(x=0, color='black', linestyle='-', lw=5)\n",
    "plt.axhline(y=0, color='black', linestyle='-', lw=5)\n",
    "\n",
    "# Loop through each angle and plot the corresponding colored line\n",
    "for i, angle_deg in enumerate(basic_angles_cartesian_deg):\n",
    "    # Convert angle from degrees to radians\n",
    "    angle_rad = np.radians(angle_deg)  # Use the angle in degrees for conversion to radians\n",
    "    \n",
    "    # Calculate the Cartesian coordinates for the line\n",
    "    x = line_length * np.cos(angle_rad)\n",
    "    y = line_length * np.sin(angle_rad)\n",
    "    \n",
    "    # Plot the line from (0,0) to (x, y) using the color from the 'colors' array\n",
    "    plt.plot([0, x], [0, y], color=colors[i], label=basic_angles_sky_labels[i], lw=10)\n",
    "\n",
    "# Add grid and legend to the plot\n",
    "plt.grid(True)\n",
    "plt.legend()\n",
    "\n",
    "# Show the plot\n",
    "plt.show()"
   ]
  },
  {
   "cell_type": "code",
   "execution_count": null,
   "id": "98ab5527",
   "metadata": {},
   "outputs": [],
   "source": []
  }
 ],
 "metadata": {
  "kernelspec": {
   "display_name": "Python 3 (ipykernel)",
   "language": "python",
   "name": "python3"
  },
  "language_info": {
   "codemirror_mode": {
    "name": "ipython",
    "version": 3
   },
   "file_extension": ".py",
   "mimetype": "text/x-python",
   "name": "python",
   "nbconvert_exporter": "python",
   "pygments_lexer": "ipython3",
   "version": "3.9.7"
  },
  "varInspector": {
   "cols": {
    "lenName": 16,
    "lenType": 16,
    "lenVar": 40
   },
   "kernels_config": {
    "python": {
     "delete_cmd_postfix": "",
     "delete_cmd_prefix": "del ",
     "library": "var_list.py",
     "varRefreshCmd": "print(var_dic_list())"
    },
    "r": {
     "delete_cmd_postfix": ") ",
     "delete_cmd_prefix": "rm(",
     "library": "var_list.r",
     "varRefreshCmd": "cat(var_dic_list()) "
    }
   },
   "types_to_exclude": [
    "module",
    "function",
    "builtin_function_or_method",
    "instance",
    "_Feature"
   ],
   "window_display": false
  }
 },
 "nbformat": 4,
 "nbformat_minor": 5
}
