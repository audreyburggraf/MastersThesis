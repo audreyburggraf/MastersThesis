{
 "cells": [
  {
   "cell_type": "markdown",
   "id": "015fc802",
   "metadata": {},
   "source": [
    "In this file I will be applying the rotated 2D flat topped Gaussian that I worked on in the file MAKING_GAUSSIAN_MODEL.\n",
    "\n",
    "I will do it tilted and not tilted to compare the two and ensure the tilting is working!"
   ]
  },
  {
   "cell_type": "code",
   "execution_count": 1,
   "id": "c88a6967",
   "metadata": {},
   "outputs": [],
   "source": [
    "from mpl_toolkits.mplot3d import Axes3D\n",
    "\n",
    "from scipy.interpolate import griddata\n",
    "\n",
    "from collections import defaultdict\n",
    "\n",
    "import pandas as pd\n",
    "\n",
    "from sklearn.preprocessing import MinMaxScaler"
   ]
  },
  {
   "cell_type": "code",
   "execution_count": 2,
   "id": "4d82b245",
   "metadata": {},
   "outputs": [
    {
     "ename": "NameError",
     "evalue": "name 'StokesI_data_2d_mJy' is not defined",
     "output_type": "error",
     "traceback": [
      "\u001b[0;31m---------------------------------------------------------------------------\u001b[0m",
      "\u001b[0;31mNameError\u001b[0m                                 Traceback (most recent call last)",
      "\u001b[0;32m~/Desktop/QUEEN'S/THESIS RESEARCH/PLOTTING C29 989/run_all_intro_stuff.py\u001b[0m in \u001b[0;36m<module>\u001b[0;34m\u001b[0m\n\u001b[1;32m    174\u001b[0m \u001b[0;31m# max_length_pix = 400  # Maximum length of the vector in pixels for 100% polarization\u001b[0m\u001b[0;34m\u001b[0m\u001b[0;34m\u001b[0m\u001b[0m\n\u001b[1;32m    175\u001b[0m \u001b[0;31m# reference_fraction = 0.03\u001b[0m\u001b[0;34m\u001b[0m\u001b[0;34m\u001b[0m\u001b[0m\n\u001b[0;32m--> 176\u001b[0;31m \u001b[0mnx\u001b[0m\u001b[0;34m,\u001b[0m \u001b[0mny\u001b[0m \u001b[0;34m=\u001b[0m \u001b[0mStokesI_data_2d_mJy\u001b[0m\u001b[0;34m.\u001b[0m\u001b[0mshape\u001b[0m\u001b[0;34m\u001b[0m\u001b[0;34m\u001b[0m\u001b[0m\n\u001b[0m\u001b[1;32m    177\u001b[0m \u001b[0;31m# step = 7\u001b[0m\u001b[0;34m\u001b[0m\u001b[0;34m\u001b[0m\u001b[0m\n\u001b[1;32m    178\u001b[0m \u001b[0;31m# --------------------------------------------------------------------------------------------------\u001b[0m\u001b[0;34m\u001b[0m\u001b[0;34m\u001b[0m\u001b[0m\n",
      "\u001b[0;31mNameError\u001b[0m: name 'StokesI_data_2d_mJy' is not defined"
     ]
    }
   ],
   "source": [
    "%run run_all_intro_stuff.py"
   ]
  },
  {
   "cell_type": "markdown",
   "id": "041baca9",
   "metadata": {},
   "source": [
    "# Picking $\\theta$"
   ]
  },
  {
   "cell_type": "code",
   "execution_count": 3,
   "id": "82e96a74",
   "metadata": {},
   "outputs": [],
   "source": [
    "# Generate x values\n",
    "x_values_test = np.linspace(-5, 5, 100)\n",
    "\n",
    "# Generate y values\n",
    "y_values_test = np.linspace(-6, 6, 100)"
   ]
  },
  {
   "cell_type": "code",
   "execution_count": 4,
   "id": "bb03c96a",
   "metadata": {},
   "outputs": [
    {
     "ename": "NameError",
     "evalue": "name 'major_angle_deg_cartesian' is not defined",
     "output_type": "error",
     "traceback": [
      "\u001b[0;31m---------------------------------------------------------------------------\u001b[0m",
      "\u001b[0;31mNameError\u001b[0m                                 Traceback (most recent call last)",
      "\u001b[0;32m/var/folders/p9/hcwv87bd7lxfdw1nmx4wt8d00000gn/T/ipykernel_99472/1206175101.py\u001b[0m in \u001b[0;36m<module>\u001b[0;34m\u001b[0m\n\u001b[1;32m      7\u001b[0m \u001b[0;34m\u001b[0m\u001b[0m\n\u001b[1;32m      8\u001b[0m \u001b[0mphi_values\u001b[0m \u001b[0;34m=\u001b[0m \u001b[0;34m[\u001b[0m\u001b[0;36m2\u001b[0m\u001b[0;34m,\u001b[0m \u001b[0;36m2\u001b[0m\u001b[0;34m,\u001b[0m \u001b[0;36m2\u001b[0m\u001b[0;34m,\u001b[0m \u001b[0;36m2\u001b[0m\u001b[0;34m,\u001b[0m \u001b[0;36m2\u001b[0m\u001b[0;34m,\u001b[0m \u001b[0;36m2\u001b[0m\u001b[0;34m]\u001b[0m  \u001b[0;31m# Increasing phi makes it flatter\u001b[0m\u001b[0;34m\u001b[0m\u001b[0;34m\u001b[0m\u001b[0m\n\u001b[0;32m----> 9\u001b[0;31m \u001b[0mtheta_rad_values\u001b[0m \u001b[0;34m=\u001b[0m \u001b[0mnp\u001b[0m\u001b[0;34m.\u001b[0m\u001b[0mradians\u001b[0m\u001b[0;34m(\u001b[0m\u001b[0;34m[\u001b[0m\u001b[0;36m45\u001b[0m\u001b[0;34m,\u001b[0m \u001b[0;36m90\u001b[0m\u001b[0;34m,\u001b[0m \u001b[0;36m135\u001b[0m\u001b[0;34m,\u001b[0m \u001b[0;36m180\u001b[0m\u001b[0;34m,\u001b[0m \u001b[0mmajor_angle_deg_cartesian\u001b[0m\u001b[0;34m,\u001b[0m \u001b[0mminor_angle_deg_cartesian\u001b[0m\u001b[0;34m]\u001b[0m\u001b[0;34m)\u001b[0m  \u001b[0;31m# Corrected syntax\u001b[0m\u001b[0;34m\u001b[0m\u001b[0;34m\u001b[0m\u001b[0m\n\u001b[0m\u001b[1;32m     10\u001b[0m \u001b[0;34m\u001b[0m\u001b[0m\n\u001b[1;32m     11\u001b[0m \u001b[0;31m# Compute and store the data\u001b[0m\u001b[0;34m\u001b[0m\u001b[0;34m\u001b[0m\u001b[0m\n",
      "\u001b[0;31mNameError\u001b[0m: name 'major_angle_deg_cartesian' is not defined"
     ]
    }
   ],
   "source": [
    "# Store the computed values\n",
    "gaussian_2d_flat_tilted = {}\n",
    "gaussian_slices_x_tilted = {}\n",
    "gaussian_slices_y_tilted = {}\n",
    "X_rot_arr = {}\n",
    "Y_rot_arr = {}\n",
    "\n",
    "phi_values = [2, 2, 2, 2, 2, 2]  # Increasing phi makes it flatter\n",
    "theta_rad_values = np.radians([45, 90, 135, 180, major_angle_deg_cartesian, minor_angle_deg_cartesian])  # Corrected syntax\n",
    "\n",
    "# Compute and store the data\n",
    "for phi, theta_rad in zip(phi_values, theta_rad_values):\n",
    "    gaussian_2d_tilted, X_rot, Y_rot = calculate_gaussian_2d_flat_tilted(x_values_test, y_values_test, 2, 3, 0, 0, phi, theta_rad)\n",
    "\n",
    "    # Store using (phi, theta) as the key\n",
    "    gaussian_2d_flat_tilted[(phi, theta_rad)] = gaussian_2d_tilted.copy()\n",
    "    \n",
    "    X_rot_arr[(phi, theta_rad)] = X_rot.copy()\n",
    "    Y_rot_arr[(phi, theta_rad)] = Y_rot.copy()\n",
    "    \n",
    "    gaussian_slices_x_tilted[(phi, theta_rad)] = gaussian_2d_tilted[50, :].copy()\n",
    "    gaussian_slices_y_tilted[(phi, theta_rad)] = gaussian_2d_tilted[:, 50].copy()"
   ]
  },
  {
   "cell_type": "code",
   "execution_count": null,
   "id": "27614362",
   "metadata": {},
   "outputs": [],
   "source": [
    "# Create subplots: 2D Gaussian contours (2x2 grid)\n",
    "fig, ax = plt.subplots(3, 2, figsize=(18, 20))  \n",
    "ax = ax.flatten()\n",
    "\n",
    "\n",
    "i = 0 \n",
    "\n",
    "# Plot the 2D Gaussian grids\n",
    "for phi, theta_rad in zip(phi_values, theta_rad_values):\n",
    "    \n",
    "    gaussian_2d = gaussian_2d_flat_tilted[(phi, theta_rad)]\n",
    "    \n",
    "    \n",
    "    x_values_rot = X_rot_arr[(phi, theta_rad)][50, :]\n",
    "    y_values_rot = Y_rot_arr[(phi, theta_rad)][:, 50]\n",
    "    \n",
    "    contour = ax[i].contourf(x_values_test, y_values_test, gaussian_2d, 50, cmap='viridis')\n",
    "    cbar = fig.colorbar(contour, ax=ax[i], orientation='vertical', fraction=0.05, pad=0.05)\n",
    "    cbar.set_label('Gaussian Value', fontsize=cbar_fs)\n",
    "    \n",
    "    ax[i].set_title(fr'2D Gaussian Flat Tilted ($\\phi={phi}, \\theta={theta_rad * 180/np.pi:.0f}^\\circ$)', fontsize=title_fs)\n",
    "    ax[i].set_xlabel('X-axis', fontsize=axis_label_fs)\n",
    "    ax[i].set_ylabel('Y-axis', fontsize=axis_label_fs)\n",
    "    ax[i].minorticks_on()\n",
    "    ax[i].tick_params(axis=\"x\", which=\"major\", direction=\"in\", bottom=True, top=True, length=7, labelsize=axis_num_fs)\n",
    "    ax[i].tick_params(axis=\"y\", which=\"major\", direction=\"in\", left=True, right=True, length=7, labelsize=axis_num_fs)\n",
    "    \n",
    "    i = i + 1\n",
    "\n",
    "plt.tight_layout()\n",
    "plt.show()\n"
   ]
  },
  {
   "cell_type": "markdown",
   "id": "7d700457",
   "metadata": {},
   "source": [
    "# Changing $\\phi$, $\\sigma_x$ and $\\sigma_y$"
   ]
  },
  {
   "cell_type": "code",
   "execution_count": null,
   "id": "a3709093",
   "metadata": {},
   "outputs": [],
   "source": [
    "theta_rad = major_angle_rad_cartesian\n",
    "# theta_rad = minor_angle_rad_cartesian"
   ]
  },
  {
   "cell_type": "code",
   "execution_count": null,
   "id": "f268588b",
   "metadata": {},
   "outputs": [],
   "source": [
    "phi_values = [2, 3, 4, 5]\n",
    "\n",
    "chi_values = []\n",
    "vector_angles = []\n",
    "all_values = []"
   ]
  },
  {
   "cell_type": "markdown",
   "id": "bd256302",
   "metadata": {},
   "source": [
    "When I look at it on the plot the BMAJ of the disk is really the BMIN of the gaussian and the BMAJ of gaussian is reallyt th"
   ]
  },
  {
   "cell_type": "code",
   "execution_count": null,
   "id": "b7cf1a38",
   "metadata": {},
   "outputs": [],
   "source": [
    "BMAJ_pix_values = np.array([10, 20, 30, 40, 50]) # + np.array(BMAJ_pix, dtype=int) \n",
    "BMIN_pix_values = np.array([10, 20, 30, 40, 50]) # + np.array(BMIN_pix, dtype=int)\n",
    "\n",
    "# Print results\n",
    "print(f'The BMAJ pix values we will test are: {BMAJ_pix_values}')\n",
    "print(f'The BMIN pix values we will test are: {BMIN_pix_values}')"
   ]
  },
  {
   "cell_type": "code",
   "execution_count": null,
   "id": "d55fb45a",
   "metadata": {},
   "outputs": [],
   "source": [
    "# Dictionary to store results\n",
    "results = {}\n",
    "\n",
    "results_test = []\n",
    "gaussian_save = []\n",
    "\n",
    "for phi_val in phi_values: \n",
    "    for BMAJ_pix_val in BMAJ_pix_values:\n",
    "        for BMIN_pix_val in BMIN_pix_values:\n",
    "            \n",
    "            # Run the gaussian model function\n",
    "            # --------------------------------------------------------------------------------------------------------------------------------------------\n",
    "            GaussianUniformRatios, GaussianAzimuthalRatios, _, _ = gaussian_2d_flat_topped_tilted_model(nx, ny, \n",
    "                                                                                                        theta_rad, phi_val, \n",
    "                                                                                                        BMIN_pix_val, BMAJ_pix_val, \n",
    "                                                                                                        RA_centre_pix, Dec_centre_pix)\n",
    "            # --------------------------------------------------------------------------------------------------------------------------------------------\n",
    "            \n",
    "            \n",
    "\n",
    "\n",
    "            # Recovere the Q, U and vector angle\n",
    "            # --------------------------------------------------------------------------------------------------------------------------------------------\n",
    "            _, _, _, vectors_data, vectors_angle = mix_StokesQU_and_generate_vectors(GaussianUniformRatios, GaussianAzimuthalRatios, \n",
    "                                                                                     StokesQ_grid_100Uniform, \n",
    "                                                                                     StokesU_grid_100Uniform,\n",
    "                                                                                     StokesQ_grid_100Azimuthal, \n",
    "                                                                                     StokesU_grid_100Azimuthal,\n",
    "                                                                                     ny, nx, \n",
    "                                                                                     step, vector_length_pix_const, \n",
    "                                                                                     StokesI_data_2d_mJy, StokesIerr_data_2d_mJy,\n",
    "                                                                                     calculated_polarized_intensity, \n",
    "                                                                                     PolarizedIntensity_err_data_2d_mJy,\n",
    "                                                                                     PolarizationAngle_err_data_2d_deg)\n",
    "            # ------------------------------------------------------------------------------------------------------------------------------------------------------------------------------------------------------------------\n",
    "            # Create a key for the dictionary based on the values\n",
    "            value_str = f\"{int(phi_val)}_{int(BMAJ_pix_val)}_{int(BMIN_pix_val)}\"  \n",
    "    \n",
    "            # Save the results in the dictionary\n",
    "            results[f\"vectors_data_{value_str}\"] = vectors_data\n",
    "            \n",
    "            all_values.append((phi_val, BMAJ_pix_val, BMIN_pix_val))\n",
    "            # ------------------------------------------------------------------------------------------------------------------------------------------------------------------------------------------------------------------\n",
    "           \n",
    "    \n",
    "    \n",
    "            # Calculate and append chi squared \n",
    "            # --------------------------------------------------------------\n",
    "            observed = vectors_angle\n",
    "            expected = vector_angle_actual_same_length_astronomy\n",
    "\n",
    "            chi_squared = calculate_chi_squared_v2(observed, expected)\n",
    "        \n",
    "            chi_values.append(chi_squared)\n",
    "            \n",
    "            \n",
    "            results_test.append((phi_val, BMAJ_pix_val, BMIN_pix_val, chi_squared))\n",
    "            gaussian_save.append(GaussianUniformRatios)\n",
    "            # --------------------------------------------------------------\n",
    "        "
   ]
  },
  {
   "cell_type": "code",
   "execution_count": null,
   "id": "4bd6c4d5",
   "metadata": {},
   "outputs": [],
   "source": [
    "# Find the index of the minimum chi-squared value\n",
    "min_index = chi_values.index(min(chi_values))\n",
    "\n",
    "best_phi, best_BMAJ, best_BMIN = all_values[min_index]"
   ]
  },
  {
   "cell_type": "code",
   "execution_count": null,
   "id": "e71d00a5",
   "metadata": {},
   "outputs": [],
   "source": [
    "# Print the results\n",
    "print(f'The lowest chi-squared value is for phi = {best_phi:.2f}, BMAJ = {best_BMAJ:.2f}, and BMIN = {best_BMIN:.2f}: χ² = {chi_values[min_index]:.3f}')"
   ]
  },
  {
   "cell_type": "code",
   "execution_count": null,
   "id": "a8b0c132",
   "metadata": {},
   "outputs": [],
   "source": [
    "# Access the best vector data from the dictionary\n",
    "best_key = f\"vectors_data_{int(best_phi)}_{int(best_BMAJ)}_{int(best_BMIN)}\"\n",
    "vector_data_gaussian_best = results[best_key]"
   ]
  },
  {
   "cell_type": "code",
   "execution_count": null,
   "id": "8a10db18",
   "metadata": {},
   "outputs": [],
   "source": [
    "fig, ax = create_base_plot(StokesI_wcs, PolarizedIntensity_data_2d_mJy, 'PI', soft_colormap_no_red, \n",
    "                           xmin, xmax, ymin, ymax, reference_length_pix, reference_length_AU,\n",
    "                           BMAJ_pix, BMIN_pix, BPA_deg_cartesian, \n",
    "                           max_length_pix, reference_fraction)\n",
    "\n",
    "first_real = True\n",
    "for row in vector_data_actual_same_length_cartesian:\n",
    "    ax.plot([row[0], row[1]], [row[2], row[3]], color='black', lw=5, \n",
    "            label='Real' if first_real else None)\n",
    "    first_real = False\n",
    "    \n",
    "    \n",
    "# Add vector plots, ensuring the label appears only once\n",
    "first_best_model = True\n",
    "for row in vector_data_gaussian_best:\n",
    "    ax.plot([row[0], row[1]], [row[2], row[3]], color='red', lw=5, \n",
    "            label='Best Gaussian Model' if first_best_model else None)\n",
    "    first_best_model = False\n",
    "\n",
    "ax.legend(fontsize = legend_text_fs)"
   ]
  },
  {
   "cell_type": "markdown",
   "id": "5982b062",
   "metadata": {},
   "source": [
    "### Plot a Gaussian"
   ]
  },
  {
   "cell_type": "code",
   "execution_count": null,
   "id": "65a26b22",
   "metadata": {},
   "outputs": [],
   "source": [
    "print(f'We have {len(all_values)} different options/runs to choose from')"
   ]
  },
  {
   "cell_type": "code",
   "execution_count": null,
   "id": "ec4ac3e1",
   "metadata": {},
   "outputs": [],
   "source": [
    "custom_indices = [1, 20]\n",
    "custom_params = [all_values[i] for i in custom_indices]\n",
    "gaussian_data = [gaussian_save[i] for i in custom_indices]"
   ]
  },
  {
   "cell_type": "code",
   "execution_count": null,
   "id": "5798145b",
   "metadata": {},
   "outputs": [],
   "source": [
    "# # Unpack for individual reference if needed\n",
    "# (custom_phi_1, custom_BMAJ_1, custom_BMIN_1), (custom_phi_2, custom_BMAJ_2, custom_BMIN_2) = custom_params"
   ]
  },
  {
   "cell_type": "code",
   "execution_count": null,
   "id": "b5ca7133",
   "metadata": {},
   "outputs": [],
   "source": [
    "# Optional: print info for logging\n",
    "for idx, (phi, BMAJ, BMIN) in zip(custom_indices, custom_params):\n",
    "    print(f'For custom index {idx}: phi = {phi:.2f}, BMAJ = {BMAJ:.2f}, BMIN = {BMIN:.2f}')"
   ]
  },
  {
   "cell_type": "code",
   "execution_count": null,
   "id": "0fac9cfd",
   "metadata": {},
   "outputs": [],
   "source": [
    "# Generate x values\n",
    "x_values = np.linspace(0, nx, nx)\n",
    "\n",
    "# Generate y values\n",
    "y_values = np.linspace(0, ny, nx)"
   ]
  },
  {
   "cell_type": "code",
   "execution_count": null,
   "id": "2187093e",
   "metadata": {},
   "outputs": [],
   "source": [
    "# Create subplots\n",
    "fig, ax = plt.subplots(1, 2, figsize=(20, 10))\n",
    "ax = ax.flatten()\n",
    "\n",
    "# Create contour plots and add titles\n",
    "for i in range(2):\n",
    "    contour = ax[i].contourf(x_values, y_values, gaussian_data[i], 50, cmap='viridis')\n",
    "    \n",
    "    # Set title using values\n",
    "    phi, BMAJ, BMIN = custom_params[i]\n",
    "    ax[i].set_title(fr'$\\phi = {phi:.2f}$, BMAJ = {BMAJ:.2f}, BMIN = {BMIN:.2f}', fontsize=title_fs)\n",
    "    \n",
    "    # Axes and colorbar setup (same as before)\n",
    "    ax[i].set_xlim(xmin, xmax)\n",
    "    ax[i].set_ylim(ymin, ymax)\n",
    "    ax[i].set_xlabel('X-axis', fontsize=axis_label_fs)\n",
    "    ax[i].set_ylabel('Y-axis', fontsize=axis_label_fs)\n",
    "    ax[i].minorticks_on()\n",
    "    ax[i].tick_params(axis=\"x\", which=\"major\", direction=\"in\", bottom=True, top=True, length=7, labelsize=axis_num_fs)\n",
    "    ax[i].tick_params(axis=\"y\", which=\"major\", direction=\"in\", left=True, right=True, length=7, labelsize=axis_num_fs)\n",
    "    \n",
    "    cbar = fig.colorbar(contour, ax=ax[i], orientation='vertical', fraction=0.05, pad=0.05)\n",
    "    cbar.set_label('Gaussian Value', fontsize=cbar_fs)\n",
    "    cbar.ax.tick_params(labelsize=axis_num_fs, which='major', length=7, direction=\"in\")\n",
    "    cbar.ax.tick_params(which='minor', length=4, direction=\"in\")\n",
    "\n",
    "plt.tight_layout()\n",
    "plt.show()"
   ]
  },
  {
   "cell_type": "markdown",
   "id": "4b018676",
   "metadata": {},
   "source": [
    "## Look at 2D Contours"
   ]
  },
  {
   "cell_type": "code",
   "execution_count": null,
   "id": "50bf16dd",
   "metadata": {},
   "outputs": [],
   "source": [
    "# Convert results into structured 2D arrays\n",
    "phi_list, BMAJ_list, BMIN_list, chi_list = zip(*results_test)  # Unpack into separate lists\n",
    "\n",
    "# Reshape into 2D grids (len(a_values) rows, len(b_values) columns)\n",
    "# Reshape into 3D grids\n",
    "phi_grid = np.array(phi_list).reshape(len(phi_values),   len(BMAJ_pix_values), len(BMIN_pix_values))\n",
    "BMAJ_grid = np.array(BMAJ_list).reshape(len(phi_values), len(BMAJ_pix_values), len(BMIN_pix_values))\n",
    "BMIN_grid = np.array(BMIN_list).reshape(len(phi_values), len(BMAJ_pix_values), len(BMIN_pix_values))\n",
    "CHI_grid = np.array(chi_list).reshape(len(phi_values),   len(BMAJ_pix_values), len(BMIN_pix_values))"
   ]
  },
  {
   "cell_type": "code",
   "execution_count": null,
   "id": "9432a9ee",
   "metadata": {},
   "outputs": [],
   "source": [
    "# Organize data\n",
    "phi_dict = defaultdict(list)\n",
    "bmaj_dict = defaultdict(list)\n",
    "bmin_dict = defaultdict(list)\n",
    "\n",
    "for phi, BMAJ, BMIN, chi in results_test:\n",
    "    phi_dict[phi].append(chi)\n",
    "    bmaj_dict[BMAJ].append(chi)\n",
    "    bmin_dict[BMIN].append(chi)\n",
    "\n",
    "# Compute averages\n",
    "phi_avg = {phi: np.mean(chi_values) for phi, chi_values in phi_dict.items()}\n",
    "bmaj_avg = {BMAJ: np.mean(chi_values) for BMAJ, chi_values in bmaj_dict.items()}\n",
    "bmin_avg = {BMIN: np.mean(chi_values) for BMIN, chi_values in bmin_dict.items()}"
   ]
  },
  {
   "cell_type": "code",
   "execution_count": null,
   "id": "6f595a43",
   "metadata": {},
   "outputs": [],
   "source": [
    "# Create figure\n",
    "fig, axes = plt.subplots(1, 3, figsize=(18, 5))\n",
    "\n",
    "# Plot phi vs chi^2\n",
    "axes[0].plot(list(phi_avg.keys()), list(phi_avg.values()), marker='o', linestyle='-', color = 'blue', lw = 4, ms = 15)\n",
    "axes[0].set_xlabel(r'$\\phi$', fontsize = axis_label_fs)\n",
    "axes[0].set_ylabel(r'$\\chi^2$', fontsize = axis_label_fs)\n",
    "axes[0].set_title(r'$\\phi$ vs $\\chi^2$', fontsize = title_fs)\n",
    "\n",
    "# Plot BMAJ vs chi^2\n",
    "axes[1].plot(list(bmaj_avg.keys()), list(bmaj_avg.values()), marker='o', linestyle='-', color = 'red', lw = 4, ms = 15)\n",
    "axes[1].set_xlabel('BMAJ', fontsize = axis_label_fs)\n",
    "axes[1].set_ylabel(r'$\\chi^2$', fontsize = axis_label_fs)\n",
    "axes[1].set_title(r'BMAJ vs $\\chi^2$', fontsize = title_fs)\n",
    "\n",
    "# Plot BMIN vs chi^2\n",
    "axes[2].plot(list(bmin_avg.keys()), list(bmin_avg.values()), marker='o', linestyle='-', color = 'forestgreen', lw = 4, ms = 15)\n",
    "axes[2].set_xlabel('BMIN', fontsize = axis_label_fs)\n",
    "axes[2].set_ylabel(r'$\\chi^2$', fontsize = axis_label_fs)\n",
    "axes[2].set_title(r'BMIN vs $\\chi^2$', fontsize = title_fs)\n",
    "\n",
    "plt.tight_layout()\n",
    "plt.show()\n"
   ]
  },
  {
   "cell_type": "code",
   "execution_count": null,
   "id": "c710c721",
   "metadata": {},
   "outputs": [],
   "source": [
    "# breakpoint() "
   ]
  },
  {
   "cell_type": "markdown",
   "id": "acda24cf",
   "metadata": {},
   "source": [
    "### Contours of BMAJ and BMIN with constant $\\phi$"
   ]
  },
  {
   "cell_type": "code",
   "execution_count": null,
   "id": "170853c3",
   "metadata": {
    "code_folding": [
     0
    ]
   },
   "outputs": [],
   "source": [
    "# Plotting the result\n",
    "fig, ax = plt.subplots(2, 2, figsize=(20, 18))\n",
    " \n",
    "\n",
    "# Loop over the first `num_plots` values of phi\n",
    "for i, phi_fixed_index in enumerate(range(len(phi_values))):  \n",
    "\n",
    "    BMAJ = BMAJ_grid[phi_fixed_index, :, :]  # Slice at fixed phi\n",
    "    BMIN = BMIN_grid[phi_fixed_index, :, :]\n",
    "    chi = CHI_grid[phi_fixed_index, :, :]\n",
    "    \n",
    "    row = i // 2  # Row index (0 or 1)\n",
    "    col = i % 2   # Column index (0 or 1)\n",
    "    \n",
    "    # Create the contour plot\n",
    "    contour = ax[row, col].contourf(BMAJ, BMIN, chi, 50, cmap=soft_colormap_v2)\n",
    "    \n",
    "    # Add colorbar\n",
    "    cbar = fig.colorbar(contour, ax=ax[row, col], orientation='vertical')\n",
    "    cbar.set_label(r'$\\chi^2$', fontsize=cbar_fs)\n",
    "    cbar.ax.tick_params(labelsize=axis_num_fs, which='major', length=7, direction=\"in\")\n",
    "    cbar.ax.tick_params(which='minor', length=4, direction=\"in\")\n",
    "    \n",
    "    # Set title with actual c-value\n",
    "    ax[row, col].set_title(rf'$\\phi$ = {phi_values[phi_fixed_index]}', fontsize=title_fs)  \n",
    "\n",
    "    # Labels\n",
    "    ax[row, col].set_xlabel('BMAJ', fontsize=axis_label_fs)\n",
    "    ax[row, col].set_ylabel('BMIN', fontsize=axis_label_fs)\n",
    "\n",
    "    # Ticks\n",
    "    ax[row, col].minorticks_on()\n",
    "    ax[row, col].tick_params(axis=\"x\", which=\"major\", direction=\"in\", bottom=True, top=True, length=7, labelsize=axis_num_fs)\n",
    "    ax[row, col].tick_params(axis=\"y\", which=\"major\", direction=\"in\", left=True, right=True, length=7, labelsize=axis_num_fs)\n",
    "\n",
    "plt.tight_layout()\n",
    "plt.show()\n"
   ]
  },
  {
   "cell_type": "code",
   "execution_count": null,
   "id": "6ba55e6a",
   "metadata": {},
   "outputs": [],
   "source": [
    "plot_2d_contours_for_gaussian(gaussian_values, phi_values, BMAJ_values_pix, BMIN_values_pix, 'phi', soft_colormap_v2)"
   ]
  },
  {
   "cell_type": "markdown",
   "id": "b79f1e7d",
   "metadata": {},
   "source": [
    "### Contours of BMAJ and $\\phi$ with constant BMIN"
   ]
  },
  {
   "cell_type": "code",
   "execution_count": null,
   "id": "8b2e0934",
   "metadata": {
    "code_folding": [
     0
    ]
   },
   "outputs": [],
   "source": [
    "# Plotting the result\n",
    "fig, ax = plt.subplots(3, 2, figsize=(20, 18))\n",
    " \n",
    "\n",
    "# Loop over the first `num_plots` values of phi\n",
    "for i, BMIN_fixed_index in enumerate(range(len(BMIN_pix_values))):  \n",
    "\n",
    "    phi = phi_grid[:, :, BMIN_fixed_index]\n",
    "    BMAJ = BMAJ_grid[:, :, BMIN_fixed_index]  \n",
    "    chi = CHI_grid[:, :, BMIN_fixed_index]\n",
    "    \n",
    "    row = i // 2  # Row index (0 or 1)\n",
    "    col = i % 2   # Column index (0 or 1)\n",
    "    \n",
    "    # Create the contour plot\n",
    "    contour = ax[row, col].contourf(BMAJ, phi, chi, 50, cmap=soft_colormap_v2)\n",
    "    \n",
    "    # Add colorbar\n",
    "    cbar = fig.colorbar(contour, ax=ax[row, col], orientation='vertical')\n",
    "    cbar.set_label(r'$\\chi^2$', fontsize=cbar_fs)\n",
    "    cbar.ax.tick_params(labelsize=axis_num_fs, which='major', length=7, direction=\"in\")\n",
    "    cbar.ax.tick_params(which='minor', length=4, direction=\"in\")\n",
    "    \n",
    "    # Set title with actual c-value\n",
    "    ax[row, col].set_title(rf'BMIN = {BMIN_pix_values[BMIN_fixed_index]}', fontsize=title_fs)  \n",
    "\n",
    "    # Labels\n",
    "    ax[row, col].set_xlabel('BMAJ', fontsize=axis_label_fs)\n",
    "    ax[row, col].set_ylabel(r'$\\phi$', fontsize=axis_label_fs)\n",
    "\n",
    "    # Ticks\n",
    "    ax[row, col].minorticks_on()\n",
    "    ax[row, col].tick_params(axis=\"x\", which=\"major\", direction=\"in\", bottom=True, top=True, length=7, labelsize=axis_num_fs)\n",
    "    ax[row, col].tick_params(axis=\"y\", which=\"major\", direction=\"in\", left=True, right=True, length=7, labelsize=axis_num_fs)\n",
    "\n",
    "plt.tight_layout()\n",
    "plt.show()\n"
   ]
  },
  {
   "cell_type": "code",
   "execution_count": null,
   "id": "2f7cdc3e",
   "metadata": {},
   "outputs": [],
   "source": [
    "plot_2d_contours_for_gaussian(gaussian_values, phi_values, BMAJ_values_pix, BMIN_values_pix, 'BMIN', soft_colormap_v2)"
   ]
  },
  {
   "cell_type": "markdown",
   "id": "e0f28f89",
   "metadata": {},
   "source": [
    "### Contours of BMIN and $\\phi$ with constant BMAJ"
   ]
  },
  {
   "cell_type": "code",
   "execution_count": null,
   "id": "2fc9f628",
   "metadata": {
    "code_folding": [
     0
    ]
   },
   "outputs": [],
   "source": [
    "# Plotting the result\n",
    "fig, ax = plt.subplots(3, 2, figsize=(20, 18))\n",
    " \n",
    "\n",
    "# Loop over the first `num_plots` values of phi\n",
    "for i, BMAJ_fixed_index in enumerate(range(len(BMAJ_pix_values))):  \n",
    "\n",
    "    phi = phi_grid[:, BMAJ_fixed_index, :]\n",
    "    BMIN = BMIN_grid[:, BMAJ_fixed_index, :]  \n",
    "    chi = CHI_grid[:, BMAJ_fixed_index, :]\n",
    "    \n",
    "    row = i // 2  # Row index (0 or 1)\n",
    "    col = i % 2   # Column index (0 or 1)\n",
    "    \n",
    "    # Create the contour plot\n",
    "    contour = ax[row, col].contourf(BMIN, phi, chi, 50, cmap= soft_colormap_v2)\n",
    "    \n",
    "    # Add colorbar\n",
    "    cbar = fig.colorbar(contour, ax=ax[row, col], orientation='vertical')\n",
    "    cbar.set_label(r'$\\chi^2$', fontsize=cbar_fs)\n",
    "    cbar.ax.tick_params(labelsize=axis_num_fs, which='major', length=7, direction=\"in\")\n",
    "    cbar.ax.tick_params(which='minor', length=4, direction=\"in\")\n",
    "    \n",
    "    # Set title with actual c-value\n",
    "    ax[row, col].set_title(rf'BMAJ = {BMAJ_pix_values[BMAJ_fixed_index]}', fontsize=title_fs)  \n",
    "\n",
    "    # Labels\n",
    "    ax[row, col].set_xlabel('BMIN', fontsize=axis_label_fs)\n",
    "    ax[row, col].set_ylabel(r'$\\phi$', fontsize=axis_label_fs)\n",
    "\n",
    "    # Ticks\n",
    "    ax[row, col].minorticks_on()\n",
    "    ax[row, col].tick_params(axis=\"x\", which=\"major\", direction=\"in\", bottom=True, top=True, length=7, labelsize=axis_num_fs)\n",
    "    ax[row, col].tick_params(axis=\"y\", which=\"major\", direction=\"in\", left=True, right=True, length=7, labelsize=axis_num_fs)\n",
    "\n",
    "plt.tight_layout()\n",
    "plt.show()\n"
   ]
  },
  {
   "cell_type": "code",
   "execution_count": null,
   "id": "c8245880",
   "metadata": {},
   "outputs": [],
   "source": [
    "plot_2d_contours_for_gaussian(gaussian_values, phi_values, BMAJ_values_pix, BMIN_values_pix, 'BMAJ', soft_colormap_v2)"
   ]
  },
  {
   "cell_type": "markdown",
   "id": "336288b3",
   "metadata": {},
   "source": [
    "## 3D Contours"
   ]
  },
  {
   "cell_type": "markdown",
   "id": "ac8d88df",
   "metadata": {},
   "source": [
    "Start with the entire df"
   ]
  },
  {
   "cell_type": "code",
   "execution_count": null,
   "id": "7f7b5789",
   "metadata": {},
   "outputs": [],
   "source": [
    "df = pd.DataFrame(results_test, columns=[\"phi\", \"BMAJ\", \"BMIN\", \"chi_squared\"])\n",
    "\n",
    "scaler = MinMaxScaler()\n",
    "\n",
    "df[\"inv_chi_squared\"] = 1 / df[\"chi_squared\"]\n",
    "df[\"chi_squared_norm\"] = scaler.fit_transform(df[[\"chi_squared\"]])\n",
    "df[\"inv_chi_squared_norm\"] = scaler.fit_transform(df[[\"inv_chi_squared\"]])"
   ]
  },
  {
   "cell_type": "code",
   "execution_count": null,
   "id": "abcef25f",
   "metadata": {},
   "outputs": [],
   "source": [
    "df.head()"
   ]
  },
  {
   "cell_type": "markdown",
   "id": "e37e78a1",
   "metadata": {},
   "source": [
    "Now we want some subset of the df where we only have values within 10% of the minimum value of $\\chi^2$"
   ]
  },
  {
   "cell_type": "code",
   "execution_count": null,
   "id": "b844c7cc",
   "metadata": {},
   "outputs": [],
   "source": [
    "# Find the minimum chi-squared value\n",
    "min_chi2 = df[\"chi_squared\"].min()\n",
    "\n",
    "# Define threshold as threshold number % above the minimum\n",
    "threshold_number = 50\n",
    "threshold = min_chi2 * 1.50"
   ]
  },
  {
   "cell_type": "code",
   "execution_count": null,
   "id": "760206fa",
   "metadata": {},
   "outputs": [],
   "source": [
    "# Create the subset DataFrame\n",
    "df_subset = df[df[\"chi_squared\"] <= threshold]"
   ]
  },
  {
   "cell_type": "code",
   "execution_count": null,
   "id": "b6e798d9",
   "metadata": {},
   "outputs": [],
   "source": [
    "df_subset.head()"
   ]
  },
  {
   "cell_type": "markdown",
   "id": "cde84036",
   "metadata": {},
   "source": [
    "### Plot"
   ]
  },
  {
   "cell_type": "code",
   "execution_count": null,
   "id": "faadb27a",
   "metadata": {},
   "outputs": [],
   "source": [
    "plot_3d_contours(df, z_col='chi_squared')"
   ]
  },
  {
   "cell_type": "code",
   "execution_count": null,
   "id": "41060078",
   "metadata": {},
   "outputs": [],
   "source": [
    "plot_3d_contours(df, z_col='inv_chi_squared_norm')"
   ]
  },
  {
   "cell_type": "code",
   "execution_count": null,
   "id": "1d4d8eb6",
   "metadata": {},
   "outputs": [],
   "source": []
  }
 ],
 "metadata": {
  "kernelspec": {
   "display_name": "Python 3 (ipykernel)",
   "language": "python",
   "name": "python3"
  },
  "language_info": {
   "codemirror_mode": {
    "name": "ipython",
    "version": 3
   },
   "file_extension": ".py",
   "mimetype": "text/x-python",
   "name": "python",
   "nbconvert_exporter": "python",
   "pygments_lexer": "ipython3",
   "version": "3.9.7"
  },
  "varInspector": {
   "cols": {
    "lenName": 16,
    "lenType": 16,
    "lenVar": 40
   },
   "kernels_config": {
    "python": {
     "delete_cmd_postfix": "",
     "delete_cmd_prefix": "del ",
     "library": "var_list.py",
     "varRefreshCmd": "print(var_dic_list())"
    },
    "r": {
     "delete_cmd_postfix": ") ",
     "delete_cmd_prefix": "rm(",
     "library": "var_list.r",
     "varRefreshCmd": "cat(var_dic_list()) "
    }
   },
   "types_to_exclude": [
    "module",
    "function",
    "builtin_function_or_method",
    "instance",
    "_Feature"
   ],
   "window_display": false
  }
 },
 "nbformat": 4,
 "nbformat_minor": 5
}
