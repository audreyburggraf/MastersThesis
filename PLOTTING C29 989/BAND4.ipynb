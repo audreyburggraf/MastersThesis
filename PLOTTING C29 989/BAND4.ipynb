{
 "cells": [
  {
   "cell_type": "code",
   "execution_count": 1,
   "id": "958df6dd",
   "metadata": {},
   "outputs": [
    {
     "ename": "SyntaxError",
     "evalue": "invalid syntax (MakingGridFunctions.py, line 105)",
     "output_type": "error",
     "traceback": [
      "\u001b[0;36m  File \u001b[0;32m\"/Users/audreyburggraf/Desktop/QUEEN'S/THESIS RESEARCH/PLOTTING C29 989/FUNCTIONS/MakingGridFunctions.py\"\u001b[0;36m, line \u001b[0;32m105\u001b[0m\n\u001b[0;31m    step = 6):\u001b[0m\n\u001b[0m    ^\u001b[0m\n\u001b[0;31mSyntaxError\u001b[0m\u001b[0;31m:\u001b[0m invalid syntax\n"
     ]
    }
   ],
   "source": [
    "%run constants.py"
   ]
  },
  {
   "cell_type": "code",
   "execution_count": 2,
   "id": "c37b2e3c",
   "metadata": {},
   "outputs": [
    {
     "ename": "SyntaxError",
     "evalue": "invalid syntax (MakingGridFunctions.py, line 105)",
     "output_type": "error",
     "traceback": [
      "\u001b[0;36m  File \u001b[0;32m\"/Users/audreyburggraf/Desktop/QUEEN'S/THESIS RESEARCH/PLOTTING C29 989/FUNCTIONS/MakingGridFunctions.py\"\u001b[0;36m, line \u001b[0;32m105\u001b[0m\n\u001b[0;31m    step = 6):\u001b[0m\n\u001b[0m    ^\u001b[0m\n\u001b[0;31mSyntaxError\u001b[0m\u001b[0;31m:\u001b[0m invalid syntax\n"
     ]
    }
   ],
   "source": [
    "%run \"/Users/audreyburggraf/Desktop/QUEEN'S/THESIS RESEARCH/PLOTTING C29 989/FUNCTIONS/load_functions\""
   ]
  },
  {
   "cell_type": "code",
   "execution_count": 3,
   "id": "10450e28",
   "metadata": {
    "scrolled": false
   },
   "outputs": [
    {
     "ename": "SyntaxError",
     "evalue": "invalid syntax (MakingGridFunctions.py, line 105)",
     "output_type": "error",
     "traceback": [
      "\u001b[0;36m  File \u001b[0;32m\"/Users/audreyburggraf/Desktop/QUEEN'S/THESIS RESEARCH/PLOTTING C29 989/FUNCTIONS/MakingGridFunctions.py\"\u001b[0;36m, line \u001b[0;32m105\u001b[0m\n\u001b[0;31m    step = 6):\u001b[0m\n\u001b[0m    ^\u001b[0m\n\u001b[0;31mSyntaxError\u001b[0m\u001b[0;31m:\u001b[0m invalid syntax\n"
     ]
    }
   ],
   "source": [
    "%run \"/Users/audreyburggraf/Desktop/QUEEN'S/THESIS RESEARCH/PLOTTING C29 989/FITS FILES/BAND4/load_band4_data.py\""
   ]
  },
  {
   "cell_type": "code",
   "execution_count": 4,
   "id": "e7aefe9b",
   "metadata": {},
   "outputs": [],
   "source": [
    "%run \"/Users/audreyburggraf/Desktop/QUEEN'S/THESIS RESEARCH/PLOTTING C29 989/CARTA FILES/BAND4/load_carta_data_band4.py\""
   ]
  },
  {
   "cell_type": "markdown",
   "id": "331872be",
   "metadata": {
    "heading_collapsed": true
   },
   "source": [
    "# Stokes I and Polarized Intensity Plot with Vectors"
   ]
  },
  {
   "cell_type": "code",
   "execution_count": 5,
   "id": "6b72962e",
   "metadata": {
    "hidden": true
   },
   "outputs": [
    {
     "ename": "NameError",
     "evalue": "name 'create_stokes_i_plus_one_base_plot' is not defined",
     "output_type": "error",
     "traceback": [
      "\u001b[0;31m---------------------------------------------------------------------------\u001b[0m",
      "\u001b[0;31mNameError\u001b[0m                                 Traceback (most recent call last)",
      "\u001b[0;32m/var/folders/p9/hcwv87bd7lxfdw1nmx4wt8d00000gn/T/ipykernel_70017/1536244359.py\u001b[0m in \u001b[0;36m<module>\u001b[0;34m\u001b[0m\n\u001b[0;32m----> 1\u001b[0;31m fig, ax = create_stokes_i_plus_one_base_plot(StokesI_wcs, StokesI_stretched_mJy, \n\u001b[0m\u001b[1;32m      2\u001b[0m                                              \u001b[0mnormalized_cbar_ticks\u001b[0m\u001b[0;34m,\u001b[0m \u001b[0mStokesI_unstretched_cbar_ticks\u001b[0m\u001b[0;34m,\u001b[0m\u001b[0;34m\u001b[0m\u001b[0;34m\u001b[0m\u001b[0m\n\u001b[1;32m      3\u001b[0m                                              \u001b[0mPOLI_mJy\u001b[0m\u001b[0;34m,\u001b[0m \u001b[0;34m'Polarized Intensity (mJy/beam)'\u001b[0m\u001b[0;34m,\u001b[0m\u001b[0;34m\u001b[0m\u001b[0;34m\u001b[0m\u001b[0m\n\u001b[1;32m      4\u001b[0m                                              \u001b[0msoft_colormap_v2\u001b[0m\u001b[0;34m,\u001b[0m\u001b[0;34m\u001b[0m\u001b[0;34m\u001b[0m\u001b[0m\n\u001b[1;32m      5\u001b[0m                                              \u001b[0mxmin\u001b[0m\u001b[0;34m,\u001b[0m \u001b[0mxmax\u001b[0m\u001b[0;34m,\u001b[0m \u001b[0mymin\u001b[0m\u001b[0;34m,\u001b[0m \u001b[0mymax\u001b[0m\u001b[0;34m,\u001b[0m \u001b[0mreference_length_pix\u001b[0m\u001b[0;34m,\u001b[0m \u001b[0mreference_length_AU\u001b[0m\u001b[0;34m,\u001b[0m\u001b[0;34m\u001b[0m\u001b[0;34m\u001b[0m\u001b[0m\n",
      "\u001b[0;31mNameError\u001b[0m: name 'create_stokes_i_plus_one_base_plot' is not defined"
     ]
    }
   ],
   "source": [
    "fig, ax = create_stokes_i_plus_one_base_plot(StokesI_wcs, StokesI_stretched_mJy, \n",
    "                                             normalized_cbar_ticks, StokesI_unstretched_cbar_ticks, \n",
    "                                             POLI_mJy, 'Polarized Intensity (mJy/beam)',\n",
    "                                             soft_colormap_v2, \n",
    "                                             xmin, xmax, ymin, ymax, reference_length_pix, reference_length_AU,\n",
    "                                             BMAJ_pix, BMIN_pix, BPA_deg_cartesian, \n",
    "                                             max_length_pix, reference_fraction)\n",
    "\n",
    "for row in vector_data_actual_cartesian:\n",
    "    ax[0].plot([row[0], row[1]], [row[2], row[3]], color='black')\n",
    "    \n",
    "    \n",
    "for row in vector_data_actual_cartesian:\n",
    "    ax[1].plot([row[0], row[1]], [row[2], row[3]], color='black')"
   ]
  },
  {
   "cell_type": "markdown",
   "id": "5887c4f6",
   "metadata": {},
   "source": [
    "# Slices Along Major and Minor Axes"
   ]
  },
  {
   "cell_type": "code",
   "execution_count": null,
   "id": "d8d3b255",
   "metadata": {},
   "outputs": [],
   "source": [
    "major_data_StokesI, major_offset_arcsec_StokesI, minor_data_StokesI, minor_offset_arcsec_StokesI, slices_points = run_slices(StokesI_mJy, \n",
    "                                                                                                                             StokesI_header,\n",
    "                                                                                                                             StokesI_wcs,\n",
    "                                                                                                                             carta_major_data_mJy_StokesI, \n",
    "                                                                                                                             carta_minor_data_mJy_StokesI,\n",
    "                                                                                                                             carta_minor_offset_StokesI,\n",
    "                                                                                                                             carta_major_offset_StokesI,\n",
    "                                                                                                                             band = 4,\n",
    "                                                                                                                             print_statement = True)"
   ]
  },
  {
   "cell_type": "code",
   "execution_count": null,
   "id": "796ebd6a",
   "metadata": {},
   "outputs": [],
   "source": [
    "major_data_POLI, major_offset_arcsec_POLI, minor_data_POLI, minor_offset_arcsec_POLI, _ = run_slices(POLI_mJy, \n",
    "                                                                                                     StokesI_header,\n",
    "                                                                                                     StokesI_wcs, \n",
    "                                                                                                     carta_major_data_mJy_POLI,\n",
    "                                                                                                     carta_minor_data_mJy_POLI,\n",
    "                                                                                                     carta_minor_offset_POLI,\n",
    "                                                                                                     carta_major_offset_POLI,\n",
    "                                                                                                     band = 4,\n",
    "                                                                                                     print_statement = True)"
   ]
  },
  {
   "cell_type": "code",
   "execution_count": null,
   "id": "a8450278",
   "metadata": {},
   "outputs": [],
   "source": [
    "major_x, major_y, minor_x, minor_y = slices_points"
   ]
  },
  {
   "cell_type": "code",
   "execution_count": null,
   "id": "7410def7",
   "metadata": {},
   "outputs": [],
   "source": [
    "ax = plot_slices_along_axes(\n",
    "    major_data_StokesI,\n",
    "    minor_data_StokesI,\n",
    "    carta_major_data_mJy_StokesI,\n",
    "    carta_minor_data_mJy_StokesI,\n",
    "    major_offset_arcsec_StokesI,\n",
    "    minor_offset_arcsec_StokesI,\n",
    "    carta_major_offset_StokesI,\n",
    "    carta_minor_offset_StokesI,\n",
    "    BMAJ_deg, BMIN_deg, \n",
    "    y_label=\"Stokes I (mJy/beam)\",\n",
    "    type_of_plot=\"Line\",  # or \"Scatter\",\n",
    "    cb_friendly = False,\n",
    "    vline = True,\n",
    "    fit_slices = True\n",
    ")\n"
   ]
  },
  {
   "cell_type": "code",
   "execution_count": null,
   "id": "53bdf032",
   "metadata": {
    "code_folding": []
   },
   "outputs": [],
   "source": [
    "ax = plot_slices_along_axes(\n",
    "    major_data_POLI,\n",
    "    minor_data_POLI,\n",
    "    carta_major_data_mJy_POLI,\n",
    "    carta_minor_data_mJy_POLI,\n",
    "    major_offset_arcsec_POLI,\n",
    "    minor_offset_arcsec_POLI,\n",
    "    carta_major_offset_POLI,\n",
    "    carta_minor_offset_POLI,\n",
    "    BMAJ_deg, BMIN_deg, \n",
    "    y_label=\"Polarized Intensity (mJy/beam)\",\n",
    "    type_of_plot=\"Line\",  # \"Line\" or \"Scatter\",\n",
    "    cb_friendly = False,\n",
    "    vline = True,\n",
    "    fit_slices = True\n",
    ")\n"
   ]
  },
  {
   "cell_type": "markdown",
   "id": "921b0688",
   "metadata": {},
   "source": [
    "# Fitting the slices\n",
    "\n",
    "\n",
    "$I(r) \\propto r^\\alpha$\n",
    "\n",
    "Take log of both sides:\n",
    "$\\log_{10}(I(r))=\\alpha \\log_{10}(r)+C$"
   ]
  },
  {
   "cell_type": "markdown",
   "id": "ee0bdb1f",
   "metadata": {},
   "source": [
    "We need to comvert the data from mJy/beam to mJy/arcsec$^2$ (or radians will also work).\n",
    "\n",
    "We can calculate the beam area with the equation:\n",
    "$1.113 \\cdot BMAJ \\cdot BMIN$,\n",
    "where $BMAJ$ and $BMIN$"
   ]
  },
  {
   "cell_type": "markdown",
   "id": "c2fec8ba",
   "metadata": {},
   "source": [
    "# Ratio Models"
   ]
  },
  {
   "cell_type": "code",
   "execution_count": null,
   "id": "0aa4c307",
   "metadata": {},
   "outputs": [],
   "source": [
    "vector_data_plotting_grid, vector_data_list_100U_to_100A, testing_vector_angles = ratio_model_band4(StokesQ_grid_100Uniform, StokesU_grid_100Uniform,\n",
    "                                                                                           StokesQ_grid_100Azimuthal, StokesU_grid_100Azimuthal,\n",
    "                                                                                           ny, nx,\n",
    "                                                                                           step, vector_length_pix_const,\n",
    "                                                                                           POLI_mJy, POLI_err_mJy, \n",
    "                                                                                           PA_err_deg)"
   ]
  },
  {
   "cell_type": "code",
   "execution_count": null,
   "id": "3e80b244",
   "metadata": {
    "scrolled": false
   },
   "outputs": [],
   "source": [
    "ax = plot_ratio_grid(POLI_mJy,\n",
    "                    StokesI_wcs, soft_colormap_v2, \n",
    "                    xmin, xmax, ymin, ymax, reference_length_pix, reference_length_AU,\n",
    "                    BMAJ_pix, BMIN_pix, BPA_deg_cartesian, \n",
    "                    max_length_pix, reference_fraction,\n",
    "                    vector_data_actual_cartesian, vector_data_plotting_grid)"
   ]
  },
  {
   "cell_type": "markdown",
   "id": "e828933d",
   "metadata": {},
   "source": [
    "## Find the best one"
   ]
  },
  {
   "cell_type": "code",
   "execution_count": null,
   "id": "b7f6fddf",
   "metadata": {},
   "outputs": [],
   "source": [
    "min_index = find_best_fit_ratio_model(vector_angle_actual_sky, testing_vector_angles)"
   ]
  },
  {
   "cell_type": "code",
   "execution_count": null,
   "id": "1f088454",
   "metadata": {
    "scrolled": true
   },
   "outputs": [],
   "source": [
    "StokesI_header"
   ]
  },
  {
   "cell_type": "code",
   "execution_count": null,
   "id": "6fa25b3b",
   "metadata": {},
   "outputs": [],
   "source": [
    "val = -30\n",
    "fig, ax = create_base_plot(StokesI_wcs, POLI_mJy, 'Polarized Intensity (mJy/beam)' , \n",
    "                           soft_colormap_no_red, \n",
    "                           xmin - val, xmax + val, ymin - val, ymax+val, reference_length_pix, reference_length_AU,\n",
    "                           BMAJ_pix, BMIN_pix, BPA_deg_cartesian, \n",
    "                           max_length_pix * 0.1, reference_fraction)\n",
    "\n",
    "# Add vector plots\n",
    "for row in vector_data_list_100U_to_100A[min_index]:\n",
    "    ax.plot([row[0], row[1]], [row[2], row[3]], color='black', lw = 5, label = 'Best Model')\n",
    "\n",
    "# Plot vector data on the first subplot (axes[0, 0])\n",
    "for row in vector_data_actual_cartesian:\n",
    "    ax.plot([row[0], row[1]], [row[2], row[3]], color='red', lw = 5, label = 'Real')"
   ]
  },
  {
   "cell_type": "code",
   "execution_count": null,
   "id": "20ddcd19",
   "metadata": {},
   "outputs": [],
   "source": [
    "max_length_pix"
   ]
  },
  {
   "cell_type": "code",
   "execution_count": null,
   "id": "a390b04c",
   "metadata": {},
   "outputs": [],
   "source": [
    "loc_x = [-1, -1, 0, 0, 1, 1, 2, 2]\n",
    "loc_y = [-1, 1, -1, 1, -1, 1, -1, 1]\n",
    "colors = sns.color_palette(\"tab10\", 8)\n",
    "line_length = 1/2"
   ]
  },
  {
   "cell_type": "markdown",
   "id": "74a55b15",
   "metadata": {},
   "source": [
    "# Looking into best Gaussian"
   ]
  },
  {
   "cell_type": "code",
   "execution_count": null,
   "id": "51747ea2",
   "metadata": {},
   "outputs": [],
   "source": []
  },
  {
   "cell_type": "code",
   "execution_count": null,
   "id": "2ab2f615",
   "metadata": {},
   "outputs": [],
   "source": [
    "expected_rad = np.array(vector_angle_actual_sky)\n",
    "observed_rad = testing_vector_angles[min_index]\n",
    "testing_rad = testing_vector_angles[-1]\n",
    "\n",
    "\n",
    "# df = pd.DataFrame({\n",
    "#     'Expected (rad)': expected_rad ,\n",
    "#     'Observed (rad)': observed_rad,\n",
    "#     'Testing (rad)': testing_rad\n",
    "# })\n",
    "\n",
    "\n",
    "# df"
   ]
  },
  {
   "cell_type": "code",
   "execution_count": null,
   "id": "08510c87",
   "metadata": {},
   "outputs": [],
   "source": [
    "expected_rad_norm = np.array([normalize_angle(angle) for angle in expected_rad])\n",
    "observed_rad_norm = np.array([normalize_angle(angle) for angle in observed_rad])\n",
    "testing_rad_norm  = np.array([normalize_angle(angle) for angle in testing_rad])\n",
    "\n",
    "# df_normalized = pd.DataFrame({\n",
    "#                 'Expected (rad, norm)': expected_rad_norm,\n",
    "#                 'Observed (rad, norm)': observed_rad_norm,\n",
    "#                 'Testing (rad, norm)':  testing_rad_norm\n",
    "# })\n",
    "\n",
    "# df_normalized"
   ]
  },
  {
   "cell_type": "code",
   "execution_count": null,
   "id": "8cf73a38",
   "metadata": {},
   "outputs": [],
   "source": [
    "# Create the plot with a larger size\n",
    "plt.figure(figsize=(10, 10))\n",
    "\n",
    "# Set axis limits to show all four quadrants\n",
    "plt.xlim(-1.5, 2.5)\n",
    "plt.ylim(-2, 2)\n",
    "\n",
    "# Plot the black axes at x=0 and y=0\n",
    "plt.axvline(x=0, color='black', linestyle='-', lw=5)\n",
    "plt.axhline(y=0, color='black', linestyle='-', lw=5)\n",
    "\n",
    "# Loop through each angle and plot the corresponding colored line\n",
    "for i, (angle_rad, angle_rad_norm) in enumerate(zip(expected_rad, expected_rad_norm)):\n",
    "\n",
    "    x_center = loc_x[i]\n",
    "    y_center = loc_y[i]\n",
    "    \n",
    "    # Calculate vector components\n",
    "    dx = line_length * np.cos(angle_rad)\n",
    "    dy = line_length * np.sin(angle_rad)\n",
    "    \n",
    "    dx_norm = line_length * np.cos(angle_rad_norm)\n",
    "    dy_norm = line_length * np.sin(angle_rad_norm)\n",
    "    \n",
    "    # Compute endpoints centered at (x_center, y_center)\n",
    "    x_start = x_center - dx / 2\n",
    "    x_end   = x_center + dx / 2\n",
    "    y_start = y_center - dy / 2\n",
    "    y_end   = y_center + dy / 2\n",
    "    \n",
    "    \n",
    "    x_start_norm = x_center - dx_norm / 2\n",
    "    x_end_norm   = x_center + dx_norm / 2\n",
    "    y_start_norm = y_center - dy_norm / 2\n",
    "    y_end_norm   = y_center + dy_norm / 2\n",
    "\n",
    "    # Plot the centered line\n",
    "    plt.plot([x_start, x_end], [y_start, y_end], color='red', lw=10)\n",
    "    plt.plot([x_start_norm, x_end_norm], [y_start_norm, y_end_norm], color='blue', lw=5)\n",
    "    \n",
    "    # Add red text above the end of the line showing the angle in radians\n",
    "    plt.text(x_end, y_end + 0.1, f\"{np.degrees(angle_rad):.2f}\", color='red', ha='center', fontsize=12)\n",
    "    plt.text(x_end_norm, y_end_norm + 0.3, f\"{np.degrees(angle_rad_norm):.2f}\", color='blue', ha='center', fontsize=12)\n",
    "\n",
    "    \n",
    "# Add \"normal\" and \"normalized\" text labels\n",
    "plt.text(-1.4, 1.5, 'normal', color='red', fontsize=16)\n",
    "plt.text(1.1, 1.5, 'normalized', color='blue', fontsize=16)\n",
    "\n",
    "\n",
    "# Add grid and legend (optional)\n",
    "plt.grid(True)\n",
    "plt.gca().set_aspect('equal')\n",
    "plt.show()"
   ]
  },
  {
   "cell_type": "code",
   "execution_count": null,
   "id": "290fb89d",
   "metadata": {},
   "outputs": [],
   "source": [
    "# Create the plot with a larger size\n",
    "plt.figure(figsize=(10, 10))\n",
    "\n",
    "# Set axis limits to show all four quadrants\n",
    "plt.xlim(-1.5, 2.5)\n",
    "plt.ylim(-2, 2)\n",
    "\n",
    "# Plot the black axes at x=0 and y=0\n",
    "plt.axvline(x=0, color='black', linestyle='-', lw=5)\n",
    "plt.axhline(y=0, color='black', linestyle='-', lw=5)\n",
    "\n",
    "# Loop through each angle and plot the corresponding colored line\n",
    "for i, (angle_rad, angle_rad_norm) in enumerate(zip(observed_rad, observed_rad_norm)):\n",
    "\n",
    "    x_center = loc_x[i]\n",
    "    y_center = loc_y[i]\n",
    "    \n",
    "    # Calculate vector components\n",
    "    dx = line_length * np.cos(angle_rad)\n",
    "    dy = line_length * np.sin(angle_rad)\n",
    "    \n",
    "    dx_norm = line_length * np.cos(angle_rad_norm)\n",
    "    dy_norm = line_length * np.sin(angle_rad_norm)\n",
    "    \n",
    "    # Compute endpoints centered at (x_center, y_center)\n",
    "    x_start = x_center - dx / 2\n",
    "    x_end   = x_center + dx / 2\n",
    "    y_start = y_center - dy / 2\n",
    "    y_end   = y_center + dy / 2\n",
    "    \n",
    "    \n",
    "    x_start_norm = x_center - dx_norm / 2\n",
    "    x_end_norm   = x_center + dx_norm / 2\n",
    "    y_start_norm = y_center - dy_norm / 2\n",
    "    y_end_norm   = y_center + dy_norm / 2\n",
    "\n",
    "    # Plot the centered line\n",
    "    plt.plot([x_start, x_end], [y_start, y_end], color='red', lw=10)\n",
    "    plt.plot([x_start_norm, x_end_norm], [y_start_norm, y_end_norm], color='blue', lw=5)\n",
    "    \n",
    "    # Add red text above the end of the line showing the angle in radians\n",
    "    plt.text(x_end, y_end + 0.1, f\"{np.degrees(angle_rad):.2f}\", color='red', ha='center', fontsize=12)\n",
    "    plt.text(x_end_norm, y_end_norm + 0.5, f\"{np.degrees(angle_rad_norm):.2f}\", color='blue', ha='center', fontsize=12)\n",
    "\n",
    "    \n",
    "# Add \"normal\" and \"normalized\" text labels\n",
    "plt.text(-1.4, 1.5, 'normal', color='red', fontsize=16)\n",
    "plt.text(1.1, 1.5, 'normalized', color='blue', fontsize=16)\n",
    "\n",
    "\n",
    "# Add grid and legend (optional)\n",
    "plt.grid(True)\n",
    "plt.gca().set_aspect('equal')\n",
    "plt.show()"
   ]
  },
  {
   "cell_type": "code",
   "execution_count": null,
   "id": "c074d30d",
   "metadata": {},
   "outputs": [],
   "source": [
    "# Create the plot with a larger size\n",
    "plt.figure(figsize=(10, 10))\n",
    "\n",
    "# Set axis limits to show all four quadrants\n",
    "plt.xlim(-1.5, 2.5)\n",
    "plt.ylim(-2, 2)\n",
    "\n",
    "# Plot the black axes at x=0 and y=0\n",
    "plt.axvline(x=0, color='black', linestyle='-', lw=5)\n",
    "plt.axhline(y=0, color='black', linestyle='-', lw=5)\n",
    "\n",
    "# Loop through each angle and plot the corresponding colored line\n",
    "for i, (angle_rad, angle_rad_norm) in enumerate(zip(testing_rad, testing_rad_norm)):\n",
    "\n",
    "    x_center = loc_x[i]\n",
    "    y_center = loc_y[i]\n",
    "    \n",
    "    # Calculate vector components\n",
    "    dx = line_length * np.cos(angle_rad)\n",
    "    dy = line_length * np.sin(angle_rad)\n",
    "    \n",
    "    dx_norm = line_length * np.cos(angle_rad_norm)\n",
    "    dy_norm = line_length * np.sin(angle_rad_norm)\n",
    "    \n",
    "    # Compute endpoints centered at (x_center, y_center)\n",
    "    x_start = x_center - dx / 2\n",
    "    x_end   = x_center + dx / 2\n",
    "    y_start = y_center - dy / 2\n",
    "    y_end   = y_center + dy / 2\n",
    "    \n",
    "    \n",
    "    x_start_norm = x_center - dx_norm / 2\n",
    "    x_end_norm   = x_center + dx_norm / 2\n",
    "    y_start_norm = y_center - dy_norm / 2\n",
    "    y_end_norm   = y_center + dy_norm / 2\n",
    "\n",
    "    # Plot the centered line\n",
    "    plt.plot([x_start, x_end], [y_start, y_end], color='red', lw=10)\n",
    "    plt.plot([x_start_norm, x_end_norm], [y_start_norm, y_end_norm], color='blue', lw=5)\n",
    "    \n",
    "    # Add red text above the end of the line showing the angle in radians\n",
    "    plt.text(x_end, y_end + 0.1, f\"{np.degrees(angle_rad):.2f}\", color='red', ha='center', fontsize=12)\n",
    "    plt.text(x_end_norm, y_end_norm + 0.5, f\"{np.degrees(angle_rad_norm):.2f}\", color='blue', ha='center', fontsize=12)\n",
    "\n",
    "    \n",
    "# Add \"normal\" and \"normalized\" text labels\n",
    "plt.text(-1.4, 1.5, 'normal', color='red', fontsize=16)\n",
    "plt.text(1.1, 1.5, 'normalized', color='blue', fontsize=16)\n",
    "\n",
    "\n",
    "# Add grid and legend (optional)\n",
    "plt.grid(True)\n",
    "plt.gca().set_aspect('equal')\n",
    "plt.show()"
   ]
  },
  {
   "cell_type": "code",
   "execution_count": null,
   "id": "11fc4797",
   "metadata": {
    "code_folding": [],
    "scrolled": false
   },
   "outputs": [],
   "source": [
    "fig, ax = create_base_plot(StokesI_wcs, POLI_mJy, 'Polarized Intensity (mJy/beam)' , \n",
    "                           soft_colormap_no_red, \n",
    "                           xmin, xmax, ymin, ymax, reference_length_pix, reference_length_AU,\n",
    "                           BMAJ_pix, BMIN_pix, BPA_deg_cartesian, \n",
    "                           max_length_pix, reference_fraction)\n",
    "\n",
    "\n",
    "# Add vector plots\n",
    "for row in vector_data_list_100U_to_100A[min_index]:\n",
    "    ax.plot([row[0], row[1]], [row[2], row[3]], color='dodgerblue', lw = 5, label = 'Best Model')\n",
    "\n",
    "# Plot vector data on the first subplot (axes[0, 0])\n",
    "for row in vector_data_actual_cartesian:\n",
    "    ax.plot([row[0], row[1]], [row[2], row[3]], color='silver', lw = 5, label = 'Real')\n",
    "    \n",
    "\n",
    "\n",
    "# For specific custom index\n",
    "custom_index = 35  # Adjust this index\n",
    "custom_lw = 10\n",
    "\n",
    "row1 = vector_data_actual_cartesian[custom_index]\n",
    "best_vectors = vector_data_list_100U_to_100A[min_index]\n",
    "row2 = best_vectors[custom_index]\n",
    "\n",
    "\n",
    "# Now plot the specific vector at custom_index\n",
    "ax.plot([row1[0], row1[1]], [row1[2], row1[3]], color= 'magenta', lw=5)\n",
    "ax.plot([row2[0], row2[1]], [row2[2], row2[3]], color='lime', lw=5)\n",
    "\n",
    "print(rf\"observed (lime): {observed_rad[custom_index]:.0f} rad or {np.degrees(observed_rad[custom_index]):.0f} degrees\")\n",
    "print(rf\"expected (pink): {expected_rad[custom_index]:.0f} rad or {np.degrees(expected_rad[custom_index]):.0f} degrees\")\n",
    "print(rf\"difference: {diff_rad[custom_index]:.0f} rad or {np.degrees(diff_rad[custom_index]):.0f} degrees\")\n"
   ]
  },
  {
   "cell_type": "code",
   "execution_count": null,
   "id": "a235004e",
   "metadata": {},
   "outputs": [],
   "source": [
    "expected_rad = np.array(vector_angle_actual_sky)\n",
    "observed_rad = testing_vector_angles[min_index]\n",
    "testing_rad = testing_vector_angles[-1]\n",
    "\n",
    "\n",
    "df = pd.DataFrame({\n",
    "    'Expected (rad)': expected_rad ,\n",
    "    'Observed (rad)': observed_rad,\n",
    "    'Testing (rad)': testing_rad\n",
    "})\n",
    "\n",
    "\n",
    "df"
   ]
  },
  {
   "cell_type": "code",
   "execution_count": null,
   "id": "d7f84e53",
   "metadata": {},
   "outputs": [],
   "source": [
    "expected_rad_norm = np.array([normalize_angle(angle) for angle in expected_rad])\n",
    "observed_rad_norm = np.array([normalize_angle(angle) for angle in observed_rad])\n",
    "testing_rad_norm  = np.array([normalize_angle(angle) for angle in testing_rad])\n",
    "\n",
    "df_normalized = pd.DataFrame({\n",
    "                'Expected (rad, norm)': expected_rad_norm,\n",
    "                'Observed (rad, norm)': observed_rad_norm,\n",
    "                'Testing (rad, norm)':  testing_rad_norm\n",
    "})\n",
    "\n",
    "df_normalized"
   ]
  },
  {
   "cell_type": "code",
   "execution_count": null,
   "id": "0da4edab",
   "metadata": {},
   "outputs": [],
   "source": []
  },
  {
   "cell_type": "code",
   "execution_count": null,
   "id": "17207ca9",
   "metadata": {},
   "outputs": [],
   "source": [
    "observed_rad = testing_vector_angles[min_index]\n",
    "\n",
    "observed_rad"
   ]
  },
  {
   "cell_type": "code",
   "execution_count": null,
   "id": "daa52f6c",
   "metadata": {},
   "outputs": [],
   "source": [
    "observed_rad_test = testing_vector_angles[-1]\n",
    "\n",
    "observed_rad_test"
   ]
  },
  {
   "cell_type": "code",
   "execution_count": null,
   "id": "6b2fc0ef",
   "metadata": {},
   "outputs": [],
   "source": [
    "diff_rad = observed_rad - expected_rad\n",
    "diff_rad"
   ]
  },
  {
   "cell_type": "code",
   "execution_count": null,
   "id": "d3f1295f",
   "metadata": {},
   "outputs": [],
   "source": [
    "chi_func = calculate_chi_squared_v2(observed_rad, expected_rad)\n",
    "print(rf\"{chi_func:.3f}\")"
   ]
  },
  {
   "cell_type": "code",
   "execution_count": null,
   "id": "5a76fbc8",
   "metadata": {},
   "outputs": [],
   "source": [
    "# Normalize both observed and expected angles\n",
    "observed_value = np.array([normalize_angle(angle) for angle in observed_rad])\n",
    "expected_value = np.array([normalize_angle(angle) for angle in expected_rad])\n",
    "\n",
    "# Calculate the squared differences between normalized observed and expected values\n",
    "diff_sq = (observed_value - expected_value)**2 \n",
    "\n",
    "chi_calc = np.sum(diff_sq / expected_value)\n",
    "\n",
    "print(rf\"{chi_calc:.3f}\")"
   ]
  },
  {
   "cell_type": "code",
   "execution_count": null,
   "id": "06f8dc8a",
   "metadata": {},
   "outputs": [],
   "source": [
    "np.sum((observed_value - expected_value)**2)"
   ]
  },
  {
   "cell_type": "code",
   "execution_count": null,
   "id": "80357c44",
   "metadata": {},
   "outputs": [],
   "source": [
    "observed_rad_test = testing_vector_angles[-1]\n",
    "\n",
    "diff_rad_test = observed_rad_test - expected_rad\n",
    "\n",
    "\n",
    "np.sum(diff_rad_test)"
   ]
  },
  {
   "cell_type": "code",
   "execution_count": null,
   "id": "d4b376d0",
   "metadata": {},
   "outputs": [],
   "source": [
    "observed_rad_test = testing_vector_angles[-1]\n",
    "\n",
    "\n",
    "observed_rad_norm_test = np.array([normalize_angle(angle) for angle in observed_rad_test])\n",
    "expected_rad_norm = np.array([normalize_angle(angle) for angle in expected_rad])\n",
    "\n",
    "diff_rad_norm_sq_test = (observed_rad_norm_test - expected_rad_norm)**2\n",
    "\n",
    "np.sum(diff_rad_norm_sq_test)"
   ]
  },
  {
   "cell_type": "code",
   "execution_count": null,
   "id": "33628a6a",
   "metadata": {},
   "outputs": [],
   "source": [
    "observed_rad_norm = np.array([normalize_angle(angle) for angle in observed_rad])\n",
    "\n",
    "diff_rad_norm_sq = (observed_rad_norm - expected_rad_norm)**2\n",
    "\n",
    "np.sum(diff_rad_norm_sq)"
   ]
  },
  {
   "cell_type": "markdown",
   "id": "951d17b2",
   "metadata": {},
   "source": [
    "# Gaussian Model "
   ]
  },
  {
   "cell_type": "code",
   "execution_count": null,
   "id": "bd0a913b",
   "metadata": {},
   "outputs": [],
   "source": [
    "phi_values = [2, 3, 4, 5, 6, 7]\n",
    "\n",
    "\n",
    "BMAJ_values_pix =  np.array([10, 20, 30, 40, 50]) # + np.array(BMAJ_pix, dtype=int)\n",
    "BMIN_values_pix =  np.array([10, 20, 30, 40, 50]) # + np.array(BMIN_pix, dtype=int)\n",
    "\n",
    "# Print results\n",
    "print(f'The BMAJ pix values we will test are: {BMAJ_values_pix}')\n",
    "print(f'The BMIN pix values we will test are: {BMIN_values_pix}')"
   ]
  },
  {
   "cell_type": "code",
   "execution_count": null,
   "id": "d88f824e",
   "metadata": {},
   "outputs": [],
   "source": [
    "gaussian_values, gaussian_results, vector_data_gaussian_best = run_gaussian_model_band4(major_angle_rad_cartesian_band4, phi_values, \n",
    "                                                                                        BMAJ_values_pix, BMIN_values_pix, \n",
    "                                                                                        RA_centre_pix, Dec_centre_pix, \n",
    "                                                                                        StokesQ_grid_100Uniform, StokesU_grid_100Uniform,\n",
    "                                                                                        StokesQ_grid_100Azimuthal, StokesU_grid_100Azimuthal,\n",
    "                                                                                        vector_angle_actual_sky,\n",
    "                                                                                        ny, nx, \n",
    "                                                                                        POLI_mJy, POLI_err_mJy, \n",
    "                                                                                        PA_err_deg,\n",
    "                                                                                        print_statements = True)"
   ]
  },
  {
   "cell_type": "code",
   "execution_count": null,
   "id": "e2e964cf",
   "metadata": {},
   "outputs": [],
   "source": [
    "fig, ax = create_base_plot(StokesI_wcs, \n",
    "                           POLI_mJy, 'Polarized Intensity (mJy/beam)', \n",
    "                           soft_colormap_no_red, \n",
    "                           xmin, xmax, ymin, ymax, reference_length_pix, reference_length_AU,\n",
    "                           BMAJ_pix, BMIN_pix, BPA_deg_cartesian, \n",
    "                           max_length_pix, reference_fraction)\n",
    "\n",
    "first_real = True\n",
    "for row in vector_data_actual_cartesian:\n",
    "    ax.plot([row[0], row[1]], [row[2], row[3]], color='black', lw=5, \n",
    "            label='Real' if first_real else None)\n",
    "    first_real = False\n",
    "    \n",
    "    \n",
    "# Add vector plots, ensuring the label appears only once\n",
    "first_best_model = True\n",
    "for row in vector_data_gaussian_best:\n",
    "    ax.plot([row[0], row[1]], [row[2], row[3]], color='red', lw=5, \n",
    "            label='Best Gaussian Model' if first_best_model else None)\n",
    "    first_best_model = False\n",
    "\n",
    "ax.legend(fontsize = legend_text_fs)"
   ]
  },
  {
   "cell_type": "code",
   "execution_count": null,
   "id": "64d23add",
   "metadata": {},
   "outputs": [],
   "source": [
    "analyze_gaussian_averages_vs_chi2(gaussian_values, phi_values, BMAJ_values_pix, BMIN_values_pix)"
   ]
  },
  {
   "cell_type": "code",
   "execution_count": null,
   "id": "4b5aad4b",
   "metadata": {},
   "outputs": [],
   "source": [
    "plot_2d_contours_for_gaussian(gaussian_values, phi_values, BMAJ_values_pix, BMIN_values_pix, 'phi', soft_colormap_v2)"
   ]
  },
  {
   "cell_type": "code",
   "execution_count": null,
   "id": "fbfd1aff",
   "metadata": {},
   "outputs": [],
   "source": [
    "plot_2d_contours_for_gaussian(gaussian_values, phi_values, BMAJ_values_pix, BMIN_values_pix, 'BMIN', soft_colormap_v2)"
   ]
  },
  {
   "cell_type": "code",
   "execution_count": null,
   "id": "6d3a44f9",
   "metadata": {},
   "outputs": [],
   "source": [
    "plot_2d_contours_for_gaussian(gaussian_values, phi_values, BMAJ_values_pix, BMIN_values_pix, 'BMAJ', soft_colormap_v2)"
   ]
  },
  {
   "cell_type": "markdown",
   "id": "79f5aa59",
   "metadata": {},
   "source": [
    "##### "
   ]
  }
 ],
 "metadata": {
  "kernelspec": {
   "display_name": "Python 3 (ipykernel)",
   "language": "python",
   "name": "python3"
  },
  "language_info": {
   "codemirror_mode": {
    "name": "ipython",
    "version": 3
   },
   "file_extension": ".py",
   "mimetype": "text/x-python",
   "name": "python",
   "nbconvert_exporter": "python",
   "pygments_lexer": "ipython3",
   "version": "3.9.7"
  },
  "varInspector": {
   "cols": {
    "lenName": 16,
    "lenType": 16,
    "lenVar": 40
   },
   "kernels_config": {
    "python": {
     "delete_cmd_postfix": "",
     "delete_cmd_prefix": "del ",
     "library": "var_list.py",
     "varRefreshCmd": "print(var_dic_list())"
    },
    "r": {
     "delete_cmd_postfix": ") ",
     "delete_cmd_prefix": "rm(",
     "library": "var_list.r",
     "varRefreshCmd": "cat(var_dic_list()) "
    }
   },
   "types_to_exclude": [
    "module",
    "function",
    "builtin_function_or_method",
    "instance",
    "_Feature"
   ],
   "window_display": false
  }
 },
 "nbformat": 4,
 "nbformat_minor": 5
}
